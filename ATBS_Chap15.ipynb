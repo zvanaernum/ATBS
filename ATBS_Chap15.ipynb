{
 "cells": [
  {
   "cell_type": "markdown",
   "metadata": {},
   "source": [
    "# Chapter 15: Working with PDF annd Word Documents\n",
    "PDF and Word documents are binary files, which makes them much more complex than plaintext files. In addition to text, they store lots of font, color, and layout information. If you want your programs to read or write to PDFs or Word documents, you’ll need to do more than simply pass their filenames to open().\n",
    "\n",
    "Fortunately, there are Python modules that make it easy for you to interact with PDFs and Word documents. This chapter will cover two such modules: PyPDF2 and Python-Docx."
   ]
  },
  {
   "cell_type": "markdown",
   "metadata": {},
   "source": [
    "## PDF Documents\n",
    "\n",
    "PDF stands for Portable Document Format and uses the .pdf file extension. Although PDFs support many features, this chapter will focus on the two things you’ll be doing most often with them: reading text content from PDFs and crafting new PDFs from existing documents.\n",
    "\n",
    "The module you’ll use to work with PDFs is PyPDF2 version 1.26.0. It’s important that you install this version because future versions of PyPDF2 may be incompatible with the code. To install it, run pip install --user PyPDF2==1.26.0 from the command line. This module name is case sensitive, so make sure the y is lowercase and everything else is uppercase. (Check out Appendix A for full details about installing third-party modules.) If the module was installed correctly, running import PyPDF2 in the interactive shell shouldn’t display any errors."
   ]
  },
  {
   "cell_type": "code",
   "execution_count": 15,
   "metadata": {},
   "outputs": [],
   "source": [
    "import PyPDF2"
   ]
  },
  {
   "cell_type": "markdown",
   "metadata": {},
   "source": [
    "### Extracting Text from PDFs\n",
    "\n",
    "PyPDF2 does not have a way to extract images, charts, or other media from PDF documents, but it can extract text and return it as a Python string. To start learning how PyPDF2 works, we’ll use it on the example PDF shown in Figure 15-1. Download this PDF from https://nostarch.com/automatestuff2/ and enter the following into the interactive shell.\n",
    "\n",
    "First, import the PyPDF2 module. Then open meetingminutes.pdf in read binary mode and store it in pdfFileObj. To get a PdfFileReader object that represents this PDF, call PyPDF2.PdfFileReader() and pass it pdfFileObj. Store this PdfFileReader object in pdfReader.\n",
    "\n",
    "The total number of pages in the document is stored in the numPages attribute of a PdfFileReader object ➊. The example PDF has 19 pages, but let’s extract text from only the first page.\n",
    "\n",
    "To extract text from a page, you need to get a Page object, which represents a single page of a PDF, from a PdfFileReader object. You can get a Page object by calling the getPage() method ➋ on a PdfFileReader object and passing it the page number of the page you’re interested in—in our case, 0.\n",
    "\n",
    "PyPDF2 uses a zero-based index for getting pages: The first page is page 0, the second is page 1, and so on. This is always the case, even if pages are numbered differently within the document. For example, say your PDF is a three-page excerpt from a longer report, and its pages are numbered 42, 43, and 44. To get the first page of this document, you would want to call pdfReader.getPage(0), not getPage(42) or getPage(1).\n",
    "\n",
    "Once you have your Page object, call its extractText() method to return a string of the page’s text ➌. The text extraction isn’t perfect: The text Charles E. “Chas” Roemer, President from the PDF is absent from the string returned by extractText(), and the spacing is sometimes off. Still, this approximation of the PDF text content may be good enough for your program"
   ]
  },
  {
   "cell_type": "code",
   "execution_count": null,
   "metadata": {},
   "outputs": [],
   "source": [
    "import PyPDF2, os\n",
    "\n",
    "loadPath = os.path.join('automate_online-materials', 'meetingminutes.pdf')\n",
    "\n",
    "pdfFileObj = open(loadPath, 'rb') # open the file in read binary mode and store in in pdfFileObj\n",
    "pdfReader = PyPDF2.PdfFileReader(pdfFileObj) # get a PdfFileReader object that represents this PDF and store it in pdfReader\n",
    "pdfReader.numPages # the total number of pages is stored in the numPages attribute of the PdfFileReader"
   ]
  },
  {
   "cell_type": "code",
   "execution_count": null,
   "metadata": {},
   "outputs": [],
   "source": [
    "pageObj = pdfReader.getPage(0) # create a page object from the reader representing the first page\n",
    "pageObj.extractText() # call the extractText method to return a string of the page's text"
   ]
  },
  {
   "cell_type": "markdown",
   "metadata": {},
   "source": [
    "### Decrypting PDFs\n",
    "\n",
    "Some PDF documents have an encryption feature that will keep them from being read until whoever is opening the document provides a password. Enter the following into the interactive shell with the PDF you downloaded, which has been encrypted with the password rosebud:"
   ]
  },
  {
   "cell_type": "code",
   "execution_count": null,
   "metadata": {},
   "outputs": [],
   "source": [
    "import PyPDF2, os\n",
    "\n",
    "loadPath = os.path.join('automate_online-materials', 'encrypted.pdf')\n",
    "\n",
    "pdfReader = PyPDF2.PdfFileReader(open(loadPath, 'rb'))\n",
    "pdfReader.isEncrypted"
   ]
  },
  {
   "cell_type": "code",
   "execution_count": null,
   "metadata": {},
   "outputs": [],
   "source": [
    "pdfReader.getPage(0)"
   ]
  },
  {
   "cell_type": "code",
   "execution_count": null,
   "metadata": {},
   "outputs": [],
   "source": [
    "pdfReader = PyPDF2.PdfFileReader(open(loadPath, 'rb'))\n",
    "pdfReader.decrypt('rosebud')"
   ]
  },
  {
   "cell_type": "code",
   "execution_count": null,
   "metadata": {},
   "outputs": [],
   "source": [
    "pageObj = pdfReader.getPage(0)\n",
    "pageObj.extractText()"
   ]
  },
  {
   "cell_type": "markdown",
   "metadata": {},
   "source": [
    "All PdfFileReader objects have an isEncrypted attribute that is True if the PDF is encrypted and False if it isn’t ➊. Any attempt to call a function that reads the file before it has been decrypted with the correct password will result in an error ➋.\n",
    "\n",
    "NOTE\n",
    "\n",
    "Due to a bug in PyPDF2 version 1.26.0, calling getPage() on an encrypted PDF before calling decrypt() on it causes future getPage() calls to fail with the following error: IndexError: list index out of range. This is why our example reopened the file with a new PdfFileReader object.\n",
    "\n",
    "To read an encrypted PDF, call the decrypt() function and pass the password as a string ➌. After you call decrypt() with the correct password, you’ll see that calling getPage() no longer causes an error. If given the wrong password, the decrypt() function will return 0 and getPage() will continue to fail. Note that the decrypt() method decrypts only the PdfFileReader object, not the actual PDF file. After your program terminates, the file on your hard drive remains encrypted. Your program will have to call decrypt() again the next time it is run."
   ]
  },
  {
   "cell_type": "markdown",
   "metadata": {},
   "source": [
    "### Creating PDFs\n",
    "\n",
    "PyPDF2’s counterpart to PdfFileReader is PdfFileWriter, which can create new PDF files. But PyPDF2 cannot write arbitrary text to a PDF like Python can do with plaintext files. Instead, PyPDF2’s PDF-writing capabilities are limited to copying pages from other PDFs, rotating pages, overlaying pages, and encrypting files.\n",
    "\n",
    "PyPDF2 doesn’t allow you to directly edit a PDF. Instead, you have to create a new PDF and then copy content over from an existing document. The examples in this section will follow this general approach:\n",
    "\n",
    "    Open one or more existing PDFs (the source PDFs) into PdfFileReader objects.\n",
    "    Create a new PdfFileWriter object.\n",
    "    Copy pages from the PdfFileReader objects into the PdfFileWriter object.\n",
    "    Finally, use the PdfFileWriter object to write the output PDF.\n",
    "\n",
    "Creating a PdfFileWriter object creates only a value that represents a PDF document in Python. It doesn’t create the actual PDF file. For that, you must call the PdfFileWriter’s write() method.\n",
    "\n",
    "The write() method takes a regular File object that has been opened in write-binary mode. You can get such a File object by calling Python’s open() function with two arguments: the string of what you want the PDF’s filename to be and 'wb' to indicate the file should be opened in write-binary mode.\n",
    "\n",
    "If this sounds a little confusing, don’t worry—you’ll see how this works in the following code examples."
   ]
  },
  {
   "cell_type": "markdown",
   "metadata": {},
   "source": [
    "### Copying Pages\n",
    "\n",
    "You can use PyPDF2 to copy pages from one PDF document to another. This allows you to combine multiple PDF files, cut unwanted pages, or reorder pages.\n",
    "\n",
    "Download meetingminutes.pdf and meetingminutes2.pdf from https://nostarch.com/automatestuff2/ and place the PDFs in the current working directory. Enter the following into the interactive shell:"
   ]
  },
  {
   "cell_type": "code",
   "execution_count": 16,
   "metadata": {},
   "outputs": [],
   "source": [
    "import PyPDF2, os\n",
    "\n",
    "loadPath1 = os.path.join('automate_online-materials', 'meetingminutes.pdf')\n",
    "loadPath2 = os.path.join('automate_online-materials', 'meetingminutes2.pdf')\n",
    "savePath = os.path.join('Files', 'combinedminutes.pdf')\n",
    "\n",
    "pdf1File = open(loadPath1, 'rb') # open both files in read binary mode\n",
    "pdf2File = open(loadPath2, 'rb')\n",
    "pdf1Reader = PyPDF2.PdfFileReader(pdf1File) # create file reader objects for both files\n",
    "pdf2Reader = PyPDF2.PdfFileReader(pdf2File)\n",
    "pdfWriter = PyPDF2.PdfFileWriter() # Creat a file writer object which represents a blank pdf document\n",
    "\n",
    "for pageNum in range(pdf1Reader.numPages): # copy all page from file 1 and add them to the writer object\n",
    "    pageObj = pdf1Reader.getPage(pageNum)\n",
    "    pdfWriter.addPage(pageObj)\n",
    "\n",
    "for pageNum in range(pdf2Reader.numPages):\n",
    "    pageObj = pdf2Reader.getPage(pageNum)\n",
    "    pdfWriter.addPage(pageObj)\n",
    "\n",
    "pdfOutputFile = open(savePath, 'wb') # create a new pdf\n",
    "pdfWriter.write(pdfOutputFile) # write the writer object to the new file\n",
    "pdf1File.close()\n",
    "pdf2File.close()\n",
    "pdfOutputFile.close()\n"
   ]
  },
  {
   "cell_type": "markdown",
   "metadata": {},
   "source": [
    "Open both PDF files in read binary mode and store the two resulting File objects in pdf1File and pdf2File. Call PyPDF2.PdfFileReader() and pass it pdf1File to get a PdfFileReader object for meetingminutes.pdf ➊. Call it again and pass it pdf2File to get a PdfFileReader object for meetingminutes2.pdf ➋. Then create a new PdfFileWriter object, which represents a blank PDF document ➌.\n",
    "\n",
    "Next, copy all the pages from the two source PDFs and add them to the PdfFileWriter object. Get the Page object by calling getPage() on a PdfFileReader object ➍. Then pass that Page object to your PdfFileWriter’s addPage() method ➎. These steps are done first for pdf1Reader and then again for pdf2Reader. When you’re done copying pages, write a new PDF called combinedminutes.pdf by passing a File object to the PdfFileWriter’s write() method ➏.\n",
    "\n",
    "NOTE\n",
    "\n",
    "PyPDF2 cannot insert pages in the middle of a PdfFileWriter object; the addPage() method will only add pages to the end.\n",
    "\n",
    "You have now created a new PDF file that combines the pages from meetingminutes.pdf and meetingminutes2.pdf into a single document. Remember that the File object passed to PyPDF2.PdfFileReader() needs to be opened in read-binary mode by passing 'rb' as the second argument to open(). Likewise, the File object passed to PyPDF2.PdfFileWriter() needs to be opened in write-binary mode with 'wb"
   ]
  },
  {
   "cell_type": "markdown",
   "metadata": {},
   "source": [
    "### Rotating Pages\n",
    "\n",
    "The pages of a PDF can also be rotated in 90-degree increments with the rotateClockwise() and rotateCounterClockwise() methods. Pass one of the integers 90, 180, or 270 to these methods. Enter the following into the interactive shell, with the meetingminutes.pdf file in the current working directory:"
   ]
  },
  {
   "cell_type": "code",
   "execution_count": null,
   "metadata": {},
   "outputs": [],
   "source": [
    "import PyPDF2, os\n",
    "loadPath = os.path.join('automate_online-materials', 'meetingminutes.pdf')\n",
    "savePath = os.path.join('Files', 'rotatedPage.pdf')\n",
    "\n",
    "minutesFile = open(loadPath, 'rb')\n",
    "pdfReader = PyPDF2.PdfFileReader(minutesFile)\n",
    "page = pdfReader.getPage(0) # get page 1 into a page object\n",
    "page.rotateClockwise(90) # rotate page 1 90 degrees\n",
    "pdfWriter = PyPDF2.PdfFileWriter() # create a new writer object\n",
    "pdfWriter.addPage(page) # add the page object to the writer object\n",
    "resultPdfFile = open(savePath, 'wb') # create a blank pdf\n",
    "pdfWriter.write(resultPdfFile) # write the writer object to the blank pdf\n",
    "resultPdfFile.close()\n",
    "minutesFile.close()\n"
   ]
  },
  {
   "cell_type": "markdown",
   "metadata": {},
   "source": [
    "Here we use getPage(0) to select the first page of the PDF ➊, and then we call rotateClockwise(90) on that page ➋. We write a new PDF with the rotated page and save it as rotatedPage.pdf ➌.\n",
    "\n",
    "The resulting PDF will have one page, rotated 90 degrees clockwise, as shown in Figure 15-2. The return values from rotateClockwise() and rotateCounterClockwise() contain a lot of information that you can ignore."
   ]
  },
  {
   "cell_type": "markdown",
   "metadata": {},
   "source": [
    "### Overlaying Pages\n",
    "\n",
    "PyPDF2 can also overlay the contents of one page over another, which is useful for adding a logo, timestamp, or watermark to a page. With Python, it’s easy to add watermarks to multiple files and only to pages your program specifies.\n",
    "\n",
    "Download watermark.pdf from https://nostarch.com/automatestuff2/ and place the PDF in the current working directory along with meetingminutes.pdf. Then enter the following into the interactive shell:"
   ]
  },
  {
   "cell_type": "code",
   "execution_count": 19,
   "metadata": {},
   "outputs": [],
   "source": [
    "import PyPDF2, os\n",
    "loadPath1 = os.path.join('automate_online-materials', 'meetingminutes.pdf')\n",
    "loadPath2 = os.path.join('automate_online-materials', 'watermark.pdf')\n",
    "savePath = os.path.join('Files', 'watermarkedCover.pdf')\n",
    "\n",
    "minutesFile = open(loadPath1, 'rb') # open the meeting minutes file\n",
    "pdfReader = PyPDF2.PdfFileReader(minutesFile) # create a reader object from the meeting minutes file\n",
    "minutesFirstPage = pdfReader.getPage(0) # create a page object from the first page of the minutes file\n",
    "pdfWatermarkReader = PyPDF2.PdfFileReader(open(loadPath2, 'rb')) # open the watermark pdf and create a reader object from it\n",
    "\n",
    "# merge the first page of minutes with the first page of watermark. Minutesfirstpage now represents the watermarked first page\n",
    "minutesFirstPage.mergePage(pdfWatermarkReader.getPage(0)) \n",
    "\n",
    "pdfWriter = PyPDF2.PdfFileWriter() # create a new writer object\n",
    "pdfWriter.addPage(minutesFirstPage) # add the watermarked first page to the writer object\n",
    "\n",
    "for pageNum in range(1, pdfReader.numPages): # loop through the rest of the pages in meeting minutes and add each page to the writer object\n",
    "    pageObj = pdfReader.getPage(pageNum)\n",
    "    pdfWriter.addPage(pageObj)\n",
    "\n",
    "resultPdfFile = open(savePath, 'wb') # open a new pdf file\n",
    "pdfWriter.write(resultPdfFile) # write the writer object to the new file\n",
    "minutesFile.close()\n",
    "resultPdfFile.close()"
   ]
  },
  {
   "cell_type": "markdown",
   "metadata": {},
   "source": [
    "### Encrypting PDFs\n",
    "\n",
    "A PdfFileWriter object can also add encryption to a PDF document. Enter the following into the interactive shell:\n",
    "\n",
    "Before calling the write() method to save to a file, call the encrypt() method and pass it a password string ➊. PDFs can have a user password (allowing you to view the PDF) and an owner password (allowing you to set permissions for printing, commenting, extracting text, and other features). The user password and owner password are the first and second arguments to encrypt(), respectively. If only one string argument is passed to encrypt(), it will be used for both passwords.\n",
    "\n",
    "In this example, we copied the pages of meetingminutes.pdf to a PdfFileWriter object. We encrypted the PdfFileWriter with the password swordfish, opened a new PDF called encryptedminutes.pdf, and wrote the contents of the PdfFileWriter to the new PDF. Before anyone can view encryptedminutes.pdf, they’ll have to enter this password. You may want to delete the original, unencrypted meetingminutes.pdf file after ensuring its copy was correctly encrypted."
   ]
  },
  {
   "cell_type": "code",
   "execution_count": 20,
   "metadata": {},
   "outputs": [],
   "source": [
    "import PyPDF2, os\n",
    "loadPath = os.path.join('automate_online-materials', 'meetingminutes.pdf')\n",
    "savePath = os.path.join('Files', 'encryptedminutes.pdf')\n",
    "\n",
    "pdfFile = open(loadPath, 'rb')\n",
    "pdfReader = PyPDF2.PdfFileReader(pdfFile)\n",
    "pdfWriter = PyPDF2.PdfFileWriter()\n",
    "for pageNum in range(pdfReader.numPages):\n",
    "    pdfWriter.addPage(pdfReader.getPage(pageNum))\n",
    "\n",
    "pdfWriter.encrypt('swordfish') # set the password for the encrypted pdf\n",
    "resultPdf = open(savePath, 'wb')\n",
    "pdfWriter.write(resultPdf)\n",
    "resultPdf.close()"
   ]
  },
  {
   "cell_type": "markdown",
   "metadata": {},
   "source": [
    "## Project: Combining Select Pages from Many PDFs\n",
    "Say you have the boring job of merging several dozen PDF documents into a single PDF file. Each of them has a cover sheet as the first page, but you don’t want the cover sheet repeated in the final result. Even though there are lots of free programs for combining PDFs, many of them simply merge entire files together. Let’s write a Python program to customize which pages you want in the combined PDF.\n",
    "\n",
    "At a high level, here’s what the program will do:\n",
    "\n",
    "    Find all PDF files in the current working directory.\n",
    "    Sort the filenames so the PDFs are added in order.\n",
    "    Write each page, excluding the first page, of each PDF to the output file.\n",
    "\n",
    "In terms of implementation, your code will need to do the following:\n",
    "\n",
    "    Call os.listdir() to find all the files in the working directory and remove any non-PDF files.\n",
    "    Call Python’s sort() list method to alphabetize the filenames.\n",
    "    Create a PdfFileWriter object for the output PDF.\n",
    "    Loop over each PDF file, creating a PdfFileReader object for it.\n",
    "    Loop over each page (except the first) in each PDF file.\n",
    "    Add the pages to the output PDF.\n",
    "    Write the output PDF to a file named allminutes.pdf.\n",
    "\n",
    "For this project, open a new file editor tab and save it as combinePdfs.py."
   ]
  },
  {
   "cell_type": "markdown",
   "metadata": {},
   "source": [
    "### Step 1: Find All PDF Files\n",
    "\n",
    "First, your program needs to get a list of all files with the .pdf extension in the current working directory and sort them. Make your code look like the following:\n",
    "\n",
    "After the shebang line and the descriptive comment about what the program does, this code imports the os and PyPDF2 modules ➊. The os.listdir('.') call will return a list of every file in the current working directory. The code loops over this list and adds only those files with the .pdf extension to pdfFiles ➋. Afterward, this list is sorted in alphabetical order with the key = str.lower keyword argument to sort() ➌.\n",
    "\n",
    "A PdfFileWriter object is created to hold the combined PDF pages ➍. Finally, a few comments outline the rest of the program."
   ]
  },
  {
   "cell_type": "code",
   "execution_count": 9,
   "metadata": {},
   "outputs": [],
   "source": [
    "#! python 3\n",
    "# combinePdfs.py - Combines all the PDFs in the current working directory into a single PDF.\n",
    "\n",
    "import PyPDF2, os\n",
    "\n",
    "openPath = os.path.join('automate_online-materials') # set the folder to check for pdfs\n",
    "\n",
    "# Get all the PDF filenames.\n",
    "pdfFiles = []\n",
    "for filename in os.listdir(openPath): # get all of the pdf files from the 'Files' folder\n",
    "    if filename.endswith('.pdf'):\n",
    "        pdfFiles.append(filename) # add all the pdf filenames to the pdfFiles list\n",
    "\n",
    "pdfFiles.sort(key = str.lower) # sort the pdfFiles list \n",
    "\n",
    "pdfWriter = PyPDF2.PdfFileWriter() # create a new writer object\n",
    "\n",
    "# TODO: Loop through all of the pdf files\n",
    "\n",
    "\n",
    "# TODO: Loop through all of the pages (except for the first page) and add them to writer object\n",
    "\n",
    "# TODO: Save the resulting PDF to a file\n"
   ]
  },
  {
   "cell_type": "markdown",
   "metadata": {},
   "source": [
    "### Step 2: Open Each PDF\n",
    "\n",
    "Now the program must read each PDF file in pdfFiles. Add the following to your program:\n",
    "\n",
    "For each PDF, the loop opens a filename in read-binary mode by calling open() with 'rb' as the second argument. The open() call returns a File object, which gets passed to PyPDF2.PdfFileReader() to create a PdfFileReader object for that PDF file."
   ]
  },
  {
   "cell_type": "code",
   "execution_count": 14,
   "metadata": {},
   "outputs": [],
   "source": [
    "#! python 3\n",
    "# combinePdfs.py - Combines all the PDFs in the current working directory into a single PDF.\n",
    "\n",
    "import PyPDF2, os\n",
    "\n",
    "openPath = os.path.join('automate_online-materials') # set the folder to check for pdfs\n",
    "\n",
    "# Get all the PDF filenames.\n",
    "pdfFiles = []\n",
    "for filename in os.listdir(openPath): # get all of the pdf files from the 'Files' folder\n",
    "    if filename.endswith('.pdf'):\n",
    "        pdfFiles.append(filename) # add all the pdf filenames to the pdfFiles list\n",
    "\n",
    "pdfFiles.sort(key = str.lower) # sort the pdfFiles list \n",
    "\n",
    "pdfWriter = PyPDF2.PdfFileWriter() # create a new writer object\n",
    "\n",
    "# Loop through all of the pdf files\n",
    "for filename in pdfFiles:\n",
    "    pdfFileObj = open(os.path.join(openPath, filename), 'rb') # open the pdf file\n",
    "    pdfReader = PyPDF2.PdfFileReader(pdfFileObj) # create a reader object containing the file data\n",
    "\n",
    "    # TODO: Loop through all of the pages (except for the first page) and add them to writer object\n",
    "\n",
    "# TODO: Save the resulting PDF to a file\n"
   ]
  },
  {
   "cell_type": "markdown",
   "metadata": {},
   "source": [
    "### Step 3: Add Each Page\n",
    "\n",
    "For each PDF, you’ll want to loop over every page except the first. Add this code to your program:\n",
    "\n",
    "The code inside the for loop copies each Page object individually to the PdfFileWriter object. Remember, you want to skip the first page. Since PyPDF2 considers 0 to be the first page, your loop should start at 1 ➊ and then go up to, but not include, the integer in pdfReader.numPages."
   ]
  },
  {
   "cell_type": "code",
   "execution_count": null,
   "metadata": {},
   "outputs": [],
   "source": [
    "#! python 3\n",
    "# combinePdfs.py - Combines all the PDFs in the current working directory into a single PDF.\n",
    "\n",
    "import PyPDF2, os\n",
    "\n",
    "openPath = os.path.join('automate_online-materials') # set the folder to check for pdfs\n",
    "\n",
    "# Get all the PDF filenames.\n",
    "pdfFiles = []\n",
    "for filename in os.listdir(openPath): # get all of the pdf files from the 'Files' folder\n",
    "    if filename.endswith('.pdf'):\n",
    "        pdfFiles.append(filename) # add all the pdf filenames to the pdfFiles list\n",
    "\n",
    "pdfFiles.sort(key = str.lower) # sort the pdfFiles list \n",
    "\n",
    "pdfWriter = PyPDF2.PdfFileWriter() # create a new writer object\n",
    "\n",
    "# Loop through all of the pdf files\n",
    "for filename in pdfFiles:\n",
    "    pdfFileObj = open(os.path.join(openPath, filename), 'rb') # open the pdf file\n",
    "    pdfReader = PyPDF2.PdfFileReader(pdfFileObj) # create a reader object containing the file data\n",
    "\n",
    "    # Loop through all of the pages (except for the first page) and add them to writer object\n",
    "    for pageNum in range (1, pdfReader.numPages): # iterate through all pages skipping the first\n",
    "        pageObj = pdfReader.getPage(pageNum) # create a page object that contains the page\n",
    "        pdfWriter.addPage(pageObj) # add the page to the pdf writer.\n",
    "\n",
    "# TODO: Save the resulting PDF to a file\n"
   ]
  },
  {
   "cell_type": "markdown",
   "metadata": {},
   "source": [
    "### Step 4: Save the Results\n",
    "\n",
    "After these nested for loops are done looping, the pdfWriter variable will contain a PdfFileWriter object with the pages for all the PDFs combined. The last step is to write this content to a file on the hard drive. Add this code to your program:\n",
    "\n",
    "Passing 'wb' to open() opens the output PDF file, allminutes.pdf, in write-binary mode. Then, passing the resulting File object to the write() method creates the actual PDF file. A call to the close() method finishes the program."
   ]
  },
  {
   "cell_type": "code",
   "execution_count": 18,
   "metadata": {},
   "outputs": [],
   "source": [
    "#! python 3\n",
    "# combinePdfs.py - Combines all the PDFs in the current working directory into a single PDF.\n",
    "\n",
    "import PyPDF2, os\n",
    "\n",
    "openPath = os.path.join('Files') # set the folder to check for pdfs\n",
    "savePath = os.path.join('Files', 'allminutes.pdf') \n",
    "\n",
    "# Get all the PDF filenames.\n",
    "pdfFiles = []\n",
    "for filename in os.listdir(openPath): # get all of the pdf files from the 'Files' folder\n",
    "    if filename.endswith('.pdf'):\n",
    "        pdfFiles.append(filename) # add all the pdf filenames to the pdfFiles list\n",
    "\n",
    "pdfFiles.sort(key = str.lower) # sort the pdfFiles list \n",
    "\n",
    "pdfWriter = PyPDF2.PdfFileWriter() # create a new writer object\n",
    "\n",
    "# Loop through all of the pdf files\n",
    "for filename in pdfFiles:\n",
    "    pdfFileObj = open(os.path.join(openPath, filename), 'rb') # open the pdf file\n",
    "    pdfReader = PyPDF2.PdfFileReader(pdfFileObj) # create a reader object containing the file data\n",
    "\n",
    "    # Loop through all of the pages (except for the first page) and add them to writer object\n",
    "    for pageNum in range (1, pdfReader.numPages): # iterate through all pages skipping the first\n",
    "        pageObj = pdfReader.getPage(pageNum) # create a page object that contains the page\n",
    "        pdfWriter.addPage(pageObj) # add the page to the pdf writer.\n",
    "\n",
    "# Save the resulting PDF to a file\n",
    "pdfOutput = open(savePath, 'wb') # open a new pdf file in write binary mode\n",
    "pdfWriter.write(pdfOutput)\n",
    "pdfOutput.close()\n"
   ]
  },
  {
   "cell_type": "markdown",
   "metadata": {},
   "source": [
    "### Ideas for Similar Programs\n",
    "\n",
    "Being able to create PDFs from the pages of other PDFs will let you make programs that can do the following:\n",
    "\n",
    "    Cut out specific pages from PDFs.\n",
    "    Reorder pages in a PDF.\n",
    "    Create a PDF from only those pages that have some specific text, identified by extractText().\n"
   ]
  },
  {
   "cell_type": "markdown",
   "metadata": {},
   "source": [
    "## Word Documents\n",
    "\n",
    "Python can create and modify Word documents, which have the .docx file extension, with the docx module. You can install the module by running pip install --user -U python-docx==0.8.10. (Appendix A has full details on installing third-party modules.)\n",
    "\n",
    "NOTE\n",
    "\n",
    "When using pip to first install Python-Docx, be sure to install python-docx, not docx. The package name docx is for a different module that this book does not cover. However, when you are going to import the module from the python-docx package, you’ll need to run import docx, not import python-docx.\n",
    "\n",
    "If you don’t have Word, LibreOffice Writer and OpenOffice Writer are free alternative applications for Windows, macOS, and Linux that can be used to open .docx files. You can download them from https://www.libreoffice.org/ and https://openoffice.org/, respectively. The full documentation for Python-Docx is available at https://python-docx.readthedocs.io/. Although there is a version of Word for macOS, this chapter will focus on Word for Windows.\n",
    "\n",
    "Compared to plaintext, .docx files have a lot of structure. This structure is represented by three different data types in Python-Docx. At the highest level, a Document object represents the entire document. The Document object contains a list of Paragraph objects for the paragraphs in the document. (A new paragraph begins whenever the user presses ENTER or RETURN while typing in a Word document.) Each of these Paragraph objects contains a list of one or more Run objects. The single-sentence paragraph in Figure 15-4 has four runs.\n",
    "\n",
    "The text in a Word document is more than just a string. It has font, size, color, and other styling information associated with it. A style in Word is a collection of these attributes. A Run object is a contiguous run of text with the same style. A new Run object is needed whenever the text style changes."
   ]
  },
  {
   "cell_type": "markdown",
   "metadata": {},
   "source": [
    "Note: I am having to change this code to work with the updated version of the python-docx libary"
   ]
  },
  {
   "cell_type": "code",
   "execution_count": 1,
   "metadata": {},
   "outputs": [],
   "source": [
    "from docx import Document"
   ]
  },
  {
   "cell_type": "markdown",
   "metadata": {},
   "source": [
    "## Reading Word Documents\n",
    "\n",
    "Let’s experiment with the docx module. Download demo.docx from https://nostarch.com/automatestuff2/ and save the document to the working directory. Then enter the following into the interactive shell:"
   ]
  },
  {
   "cell_type": "code",
   "execution_count": null,
   "metadata": {},
   "outputs": [],
   "source": [
    "import os\n",
    "from docx import Document\n",
    "\n",
    "loadPath = os.path.join('automate_online-materials', 'demo.docx')\n",
    "\n",
    "# open a docx file in a Document object and store it in doc\n",
    "doc = Document(loadPath) # note change in syntax from the book.\n",
    "len(doc.paragraphs) # find the length of the paragraphs object in the document object (number of paragraphs)"
   ]
  },
  {
   "cell_type": "code",
   "execution_count": null,
   "metadata": {},
   "outputs": [],
   "source": [
    "# Each paragraph object has text attribute that contains a string of the text in that paragraph\n",
    "# (without style information)\n",
    "doc.paragraphs[0].text"
   ]
  },
  {
   "cell_type": "code",
   "execution_count": null,
   "metadata": {},
   "outputs": [],
   "source": [
    "doc.paragraphs[1].text # get the text from the second paragraph"
   ]
  },
  {
   "cell_type": "code",
   "execution_count": null,
   "metadata": {},
   "outputs": [],
   "source": [
    "# Each paragraph object also has a runs attribute that is a list of run objects.\n",
    "# Run objects also have a text attribute containing just the text in that particular run.\n",
    "# calling len on a paragraph will return the number of runs in the paragraph\n",
    "len(doc.paragraphs[1].runs)"
   ]
  },
  {
   "cell_type": "code",
   "execution_count": null,
   "metadata": {},
   "outputs": [],
   "source": [
    "# return the text from the first run of the second paragraph\n",
    "doc.paragraphs[1].runs[0].text"
   ]
  },
  {
   "cell_type": "code",
   "execution_count": null,
   "metadata": {},
   "outputs": [],
   "source": [
    "# use a for loop to print all of the runs in the second paragraph\n",
    "for i in range(0, len(doc.paragraphs[1].runs)):\n",
    "    print(doc.paragraphs[1].runs[i].text)"
   ]
  },
  {
   "cell_type": "markdown",
   "metadata": {},
   "source": [
    "At ➊, we open a .docx file in Python, call docx.Document(), and pass the filename demo.docx. This will return a Document object, which has a paragraphs attribute that is a list of Paragraph objects. When we call len() on doc.paragraphs, it returns 7, which tells us that there are seven Paragraph objects in this document ➋. Each of these Paragraph objects has a text attribute that contains a string of the text in that paragraph (without the style information). Here, the first text attribute contains 'DocumentTitle' ➌, and the second contains 'A plain paragraph with some bold and some italic' ➍.\n",
    "\n",
    "Each Paragraph object also has a runs attribute that is a list of Run objects. Run objects also have a text attribute, containing just the text in that particular run. Let’s look at the text attributes in the second Paragraph object, 'A plain paragraph with some bold and some italic'. Calling len() on this Paragraph object tells us that there are four Run objects ➎. The first run object contains 'A plain paragraph with some ' ➏. Then, the text changes to a bold style, so 'bold' starts a new Run object ➐. The text returns to an unbolded style after that, which results in a third Run object, ' and some ' ➑. Finally, the fourth and last Run object contains 'italic' in an italic style ➒.\n",
    "\n",
    "With Python-Docx, your Python programs will now be able to read the text from a .docx file and use it just like any other string value."
   ]
  },
  {
   "cell_type": "markdown",
   "metadata": {},
   "source": [
    "### Getting the Full Text from a .docx File\n",
    "\n",
    "If you care only about the text, not the styling information, in the Word document, you can use the getText() function. It accepts a filename of a .docx file and returns a single string value of its text. Open a new file editor tab and enter the following code, saving it as readDocx.py:"
   ]
  },
  {
   "cell_type": "code",
   "execution_count": null,
   "metadata": {},
   "outputs": [],
   "source": [
    "#! python3\n",
    "# readDpcx.py -creating a function to get plaintext from a word document\n",
    "from docx import Document\n",
    "\n",
    "def getText(filename):\n",
    "    doc = Document(filename) # open the document\n",
    "    fullText = [] # open a blank list\n",
    "    for paragraph in doc.paragraphs: # iterate over each paragraph\n",
    "        fullText.append(paragraph.text) # append the paragraph text to the list\n",
    "    return '\\n'.join(fullText)# return the list"
   ]
  },
  {
   "cell_type": "markdown",
   "metadata": {},
   "source": [
    "The getText() function opens the Word document, loops over all the Paragraph objects in the paragraphs list, and then appends their text to the list in fullText. After the loop, the strings in fullText are joined together with newline characters.\n",
    "\n",
    "The readDocx.py program can be imported like any other module. Now if you just need the text from a Word document, you can enter the following:"
   ]
  },
  {
   "cell_type": "code",
   "execution_count": null,
   "metadata": {},
   "outputs": [],
   "source": [
    "import sys, os\n",
    "sys.path.append('./Files') # append the Files subdirectory to path so Python can find the readDocx module\n",
    "import readDocx\n",
    "\n",
    "loadPath = os.path.join('automate_online-materials', 'demo.docx')\n",
    "\n",
    "print(readDocx.getText(loadPath))\n"
   ]
  },
  {
   "cell_type": "markdown",
   "metadata": {},
   "source": [
    "You can also adjust getText() to modify the string before returning it. For example, to indent each paragraph, replace the append() call in readDocx.py with this:\n",
    "\n",
    "fullText.append('  ' + para.text)\n",
    "\n",
    "To add a double space between paragraphs, change the join() call code to this:\n",
    "\n",
    "return '\\n\\n'.join(fullText)\n",
    "\n",
    "As you can see, it takes only a few lines of code to write functions that will read a .docx file and return a string of its content to your liking."
   ]
  },
  {
   "cell_type": "markdown",
   "metadata": {},
   "source": [
    "### Styling Paragraph and Run Objects\n",
    "\n",
    "In Word for Windows, you can see the styles by pressing CTRL-ALT-SHIFT-S to display the Styles pane, which looks like Figure 15-5. On macOS, you can view the Styles pane by clicking the View ▸ Styles menu item.\n",
    "\n",
    "Word and other word processors use styles to keep the visual presentation of similar types of text consistent and easy to change. For example, perhaps you want to set body paragraphs in 11-point, Times New Roman, left-justified, ragged-right text. You can create a style with these settings and assign it to all body paragraphs. Then, if you later want to change the presentation of all body paragraphs in the document, you can just change the style, and all those paragraphs will be automatically updated.\n",
    "\n",
    "For Word documents, there are three types of styles: paragraph styles can be applied to Paragraph objects, character styles can be applied to Run objects, and linked styles can be applied to both kinds of objects. You can give both Paragraph and Run objects styles by setting their style attribute to a string. This string should be the name of a style. If style is set to None, then there will be no style associated with the Paragraph or Run object.\n",
    "\n",
    "The string values for the default Word styles are as follows:\n",
    "\n",
    "'Normal'\n",
    "\n",
    "'Body Text'\n",
    "\n",
    "'Body Text 2'\n",
    "\n",
    "'Body Text 3'\n",
    "\n",
    "'Caption'\n",
    "\n",
    "'Heading 1'\n",
    "\n",
    "'Heading 2'\n",
    "\n",
    "'Heading 3'\n",
    "\n",
    "'Heading 4'\n",
    "\t\n",
    "\n",
    "'Heading 5'\n",
    "\n",
    "'Heading 6'\n",
    "\n",
    "'Heading 7'\n",
    "\n",
    "'Heading 8'\n",
    "\n",
    "'Heading 9'\n",
    "\n",
    "'Intense Quote'\n",
    "\n",
    "'List'\n",
    "\n",
    "'List 2'\n",
    "\n",
    "'List 3'\n",
    "\t\n",
    "\n",
    "'List Bullet'\n",
    "\n",
    "'List Bullet 2'\n",
    "\n",
    "'List Bullet 3'\n",
    "\n",
    "'List Continue'\n",
    "\n",
    "'List Continue 2'\n",
    "\n",
    "'List Continue 3'\n",
    "\n",
    "'List Number '\n",
    "\n",
    "'List Number 2'\n",
    "\n",
    "'List Number 3'\n",
    "\t\n",
    "\n",
    "'List Paragraph'\n",
    "\n",
    "'MacroText'\n",
    "\n",
    "'No Spacing'\n",
    "\n",
    "'Quote'\n",
    "\n",
    "'Subtitle'\n",
    "\n",
    "'TOC Heading'\n",
    "\n",
    "'Title'\n",
    "\n",
    "When using a linked style for a Run object, you will need to add ' Char' to the end of its name. For example, to set the Quote linked style for a Paragraph object, you would use paragraphObj.style = 'Quote', but for a Run object, you would use runObj.style = 'Quote Char'.\n",
    "\n",
    "In the current version of Python-Docx (0.8.10), the only styles that can be used are the default Word styles and the styles in the opened .docx. New styles cannot be created—though this may change in future versions of Python-Docx."
   ]
  },
  {
   "cell_type": "markdown",
   "metadata": {},
   "source": [
    "### Creating Word Documents with Nondefault Styles\n",
    "\n",
    "If you want to create Word documents that use styles beyond the default ones, you will need to open Word to a blank Word document and create the styles yourself by clicking the New Style button at the bottom of the Styles pane (Figure 15-6 shows this on Windows).\n",
    "\n",
    "This will open the Create New Style from Formatting dialog, where you can enter the new style. Then, go back into the interactive shell and open this blank Word document with docx.Document(), using it as the base for your Word document. The name you gave this style will now be available to use with Python-Docx."
   ]
  },
  {
   "cell_type": "markdown",
   "metadata": {},
   "source": [
    "### Run Attributes\n",
    "\n",
    "Runs can be further styled using text attributes. Each attribute can be set to one of three values: True (the attribute is always enabled, no matter what other styles are applied to the run), False (the attribute is always disabled), or None (defaults to whatever the run’s style is set to).\n",
    "\n",
    "Table 15-1 lists the text attributes that can be set on Run objects.\n",
    "\n",
    "Table 15-1: Run Object text Attributes\n",
    "\n",
    "Attribute\n",
    "\t\n",
    "\n",
    "Description\n",
    "\n",
    "bold\n",
    "\t\n",
    "\n",
    "The text appears in bold.\n",
    "\n",
    "italic\n",
    "\t\n",
    "\n",
    "The text appears in italic.\n",
    "\n",
    "underline\n",
    "\t\n",
    "\n",
    "The text is underlined.\n",
    "\n",
    "strike\n",
    "\t\n",
    "\n",
    "The text appears with strikethrough.\n",
    "\n",
    "double_strike\n",
    "\t\n",
    "\n",
    "The text appears with double strikethrough.\n",
    "\n",
    "all_caps\n",
    "\t\n",
    "\n",
    "The text appears in capital letters.\n",
    "\n",
    "small_caps\n",
    "\t\n",
    "\n",
    "The text appears in capital letters, with lowercase letters two points smaller.\n",
    "\n",
    "shadow\n",
    "\t\n",
    "\n",
    "The text appears with a shadow.\n",
    "\n",
    "outline\n",
    "\t\n",
    "\n",
    "The text appears outlined rather than solid.\n",
    "\n",
    "rtl\n",
    "\t\n",
    "\n",
    "The text is written right-to-left.\n",
    "\n",
    "imprint\n",
    "\t\n",
    "\n",
    "The text appears pressed into the page.\n",
    "\n",
    "emboss\n",
    "\t\n",
    "\n",
    "The text appears raised off the page in relief.\n",
    "\n",
    "For example, to change the styles of demo.docx, enter the following into the interactive shell:"
   ]
  },
  {
   "cell_type": "code",
   "execution_count": null,
   "metadata": {},
   "outputs": [],
   "source": [
    "import os\n",
    "from docx import Document\n",
    "\n",
    "loadPath = os.path.join('automate_online-materials', 'demo.docx')\n",
    "savePath = os.path.join('Files', 'restyled.docx')\n",
    "\n",
    "# open a docx file in a Document object and store it in doc\n",
    "doc = Document(loadPath) # note change in syntax from the book.\n",
    "doc.paragraphs[0].text"
   ]
  },
  {
   "cell_type": "code",
   "execution_count": null,
   "metadata": {},
   "outputs": [],
   "source": [
    "doc.paragraphs[0].style"
   ]
  },
  {
   "cell_type": "code",
   "execution_count": null,
   "metadata": {},
   "outputs": [],
   "source": [
    "doc.paragraphs[0].style = 'Normal' # apply the normal style to the first paragraph\n",
    "doc.paragraphs[1].text"
   ]
  },
  {
   "cell_type": "code",
   "execution_count": null,
   "metadata": {},
   "outputs": [],
   "source": [
    "# get all of the runs in the second paragrph\n",
    "(doc.paragraphs[1].runs[0].text, doc.paragraphs[1].runs[1].text, doc.\n",
    "paragraphs[1].runs[2].text, doc.paragraphs[1].runs[3].text, doc.paragraphs[1].runs[4].text)"
   ]
  },
  {
   "cell_type": "code",
   "execution_count": 20,
   "metadata": {},
   "outputs": [],
   "source": [
    "# apply different styles to the different runs in the second paragraph\n",
    "doc.paragraphs[1].runs[0].style = 'QuoteChar'\n",
    "doc.paragraphs[1].runs[1].underline = True\n",
    "doc.paragraphs[1].runs[3].underline = True\n",
    "doc.save(savePath)"
   ]
  },
  {
   "cell_type": "markdown",
   "metadata": {},
   "source": [
    "Here, we use the text and style attributes to easily see what’s in the paragraphs in our document. We can see that it’s simple to divide a paragraph into runs and access each run individually. So we get the first, second, and fourth runs in the second paragraph; style each run; and save the results to a new document.\n",
    "\n",
    "The words Document Title at the top of restyled.docx will have the Normal style instead of the Title style, the Run object for the text A plain paragraph with some will have the QuoteChar style, and the two Run objects for the words bold and italic will have their underline attributes set to True. Figure 15-7 shows how the styles of paragraphs and runs look in restyled.docx.\n",
    "\n",
    "You can find more complete documentation on Python-Docx’s use of styles at https://python-docx.readthedocs.io/en/latest/user/styles.html."
   ]
  },
  {
   "cell_type": "markdown",
   "metadata": {},
   "source": [
    "## Writing Word Documents\n",
    "\n",
    "Enter the following into the interactive shell:\n",
    "\n",
    "To create your own .docx file, call docx.Document() to return a new, blank Word Document object. The add_paragraph() document method adds a new paragraph of text to the document and returns a reference to the Paragraph object that was added. When you’re done adding text, pass a filename string to the save() document method to save the Document object to a file.\n",
    "\n",
    "This will create a file named helloworld.docx in the current working directory that, when opened, looks like Figure 15-8."
   ]
  },
  {
   "cell_type": "code",
   "execution_count": 3,
   "metadata": {},
   "outputs": [],
   "source": [
    "import os\n",
    "from docx import Document\n",
    "\n",
    "savePath = os.path.join('Files', 'helloworld.docx')\n",
    "\n",
    "\n",
    "doc = Document() # Open a blank docx and store it in doc\n",
    "doc.add_paragraph('Hello World!')\n",
    "doc.save(savePath)"
   ]
  },
  {
   "cell_type": "markdown",
   "metadata": {},
   "source": [
    "You can add paragraphs by calling the add_paragraph() method again with the new paragraph’s text. Or to add text to the end of an existing paragraph, you can call the paragraph’s add_run() method and pass it a string. Enter the following into the interactive shell:"
   ]
  },
  {
   "cell_type": "code",
   "execution_count": 6,
   "metadata": {},
   "outputs": [],
   "source": [
    "import os\n",
    "from docx import Document\n",
    "\n",
    "savePath = os.path.join('Files', 'multipleParagraphs.docx')\n",
    "\n",
    "\n",
    "doc = Document() # Open a blank docx and store it in doc\n",
    "doc.add_paragraph('Hello World!', 'Title') # use words 'Title' style\n",
    "\n",
    "paraObj1 = doc.add_paragraph('This is the second paragraph.')\n",
    "paraObj2 = doc.add_paragraph('This is the yet another paragraph.')\n",
    "paraObj1.add_run(' This text is being added to the second pareagraph.')\n",
    "\n",
    "doc.save(savePath)"
   ]
  },
  {
   "cell_type": "markdown",
   "metadata": {},
   "source": [
    "The resulting document will look like Figure 15-9. Note that the text This text is being added to the second paragraph. was added to the Paragraph object in paraObj1, which was the second paragraph added to doc. The add_paragraph() and add_run() functions return paragraph and Run objects, respectively, to save you the trouble of extracting them as a separate step.\n",
    "\n",
    "Keep in mind that as of Python-Docx version 0.8.10, new Paragraph objects can be added only to the end of the document, and new Run objects can be added only to the end of a Paragraph object.\n",
    "\n",
    "The save() method can be called again to save the additional changes you’ve made."
   ]
  },
  {
   "cell_type": "markdown",
   "metadata": {},
   "source": [
    "Both add_paragraph() and add_run() accept an optional second argument that is a string of the Paragraph or Run object’s style. Here’s an example:\n",
    "\n",
    ">>> doc.add_paragraph('Hello, world!', 'Title')\n",
    "\n",
    "This line adds a paragraph with the text Hello, world! in the Title style."
   ]
  },
  {
   "cell_type": "markdown",
   "metadata": {},
   "source": [
    "### Adding Headings\n",
    "\n",
    "Calling add_heading() adds a paragraph with one of the heading styles. Enter the following into the interactive shell:\n",
    "\n",
    "The arguments to add_heading() are a string of the heading text and an integer from 0 to 4. The integer 0 makes the heading the Title style, which is used for the top of the document. Integers 1 to 4 are for various heading levels, with 1 being the main heading and 4 the lowest subheading. The add_heading() function returns a Paragraph object to save you the step of extracting it from the Document object as a separate step.\n",
    "\n",
    "The resulting headings.docx file will look like Figure 15-10."
   ]
  },
  {
   "cell_type": "code",
   "execution_count": 7,
   "metadata": {},
   "outputs": [],
   "source": [
    "import os\n",
    "from docx import Document\n",
    "\n",
    "savePath = os.path.join('Files', 'headings.docx')\n",
    "\n",
    "\n",
    "doc = Document() # Open a blank docx and store it in doc\n",
    "\n",
    "doc.add_heading('Text', 0) # add text as a heading with a heading level of 0\n",
    "doc.add_heading('Text', 1)\n",
    "doc.add_heading('Text', 2)\n",
    "doc.add_heading('Text', 3)\n",
    "doc.add_heading('Text', 4)\n",
    "\n",
    "doc.save(savePath)"
   ]
  },
  {
   "cell_type": "markdown",
   "metadata": {},
   "source": [
    "### Adding Line and Page Breaks\n",
    "\n",
    "To add a line break (rather than starting a whole new paragraph), you can call the add_break() method on the Run object you want to have the break appear after. If you want to add a page break instead, you need to pass the value docx.enum.text.WD_BREAK.PAGE as a lone argument to add_break(), as is done in the middle of the following example:\n",
    "\n",
    "This creates a two-page Word document with This is on the first page! on the first page and This is on the second page! on the second. Even though there was still plenty of space on the first page after the text This is on the first page!, we forced the next paragraph to begin on a new page by inserting a page break after the first run of the first paragraph ➊."
   ]
  },
  {
   "cell_type": "code",
   "execution_count": null,
   "metadata": {},
   "outputs": [],
   "source": [
    "import os\n",
    "from docx import Document\n",
    "# need to import the WD_Break enumeration from enum.text module from the python-docx library (different than book)\n",
    "# the WD_BREAK enumaration contains constants for different types of breaks that can be added to the document\n",
    "# Note that an enumeration here is a data type consisting of a set of named values called elements or members. These\n",
    "# elements are constants (not variables). Enumerations are used to create variables that can hold only one value from a \n",
    "# pre-defined set of values. Here, WD_BREAK is an enumeration that groups together types of break constants\n",
    "from docx.enum.text import WD_BREAK \n",
    "\n",
    "savePath = os.path.join('Files', 'twoPage.docx')\n",
    "\n",
    "\n",
    "doc = Document() # Open a blank docx and store it in doc\n",
    "doc.add_paragraph('This is on the first page!')\n",
    "doc.paragraphs[0].runs[0].add_break(WD_BREAK.PAGE) # Note different syntax than book\n",
    "doc.add_paragraph('This is on the second page!')\n",
    "doc.save(savePath)"
   ]
  },
  {
   "cell_type": "markdown",
   "metadata": {},
   "source": [
    "### Adding Pictures\n",
    "\n",
    "Document objects have an add_picture() method that will let you add an image to the end of the document. Say you have a file zophie.png in the current working directory. You can add zophie.png to the end of your document with a width of 1 inch and height of 4 centimeters (Word can use both imperial and metric units) by entering the following:"
   ]
  },
  {
   "cell_type": "code",
   "execution_count": 27,
   "metadata": {},
   "outputs": [],
   "source": [
    "import os\n",
    "from docx import Document\n",
    "from docx.shared import Inches # need to import the inches class in order to set a width or height\n",
    "\n",
    "savePath = os.path.join('Files', 'picture.docx')\n",
    "picturePath = os.path.join('automate_online-materials', 'zophie.png')\n",
    "\n",
    "doc = Document() # Open a blank docx and store it in doc\n",
    "\n",
    "doc.add_picture(picturePath, width=Inches(3)) # note that if you only set width or height, it will scale appropriately the other dimension\n",
    "doc.save(savePath)\n"
   ]
  },
  {
   "cell_type": "markdown",
   "metadata": {},
   "source": [
    "The first argument is a string of the image’s filename. The optional width and height keyword arguments will set the width and height of the image in the document. If left out, the width and height will default to the normal size of the image.\n",
    "\n",
    "You’ll probably prefer to specify an image’s height and width in familiar units such as inches and centimeters, so you can use the docx.shared.Inches() and docx.shared.Cm() functions when you’re specifying the width and height keyword arguments."
   ]
  },
  {
   "cell_type": "markdown",
   "metadata": {},
   "source": [
    "## Creating PDFs from Word Documents\n",
    "\n",
    "The PyPDF2 module doesn’t allow you to create PDF documents directly, but there’s a way to generate PDF files with Python if you’re on Windows and have Microsoft Word installed. You’ll need to install the Pywin32 package by running pip install --user -U pywin32==224. With this and the docx module, you can create Word documents and then convert them to PDFs with the following script.\n",
    "\n",
    "Open a new file editor tab, enter the following code, and save it as convertWordToPDF.py:\n",
    "\n",
    "To write a program that produces PDFs with your own content, you must use the docx module to create a Word document, then use the Pywin32 package’s win32com.client module to convert it to a PDF. Replace the # Code to create Word document goes here. comment with docx function calls to create your own content for the PDF in a Word document.\n",
    "\n",
    "This may seem like a convoluted way to produce PDFs, but as it turns out, professional software solutions are often just as complicated."
   ]
  },
  {
   "cell_type": "code",
   "execution_count": null,
   "metadata": {},
   "outputs": [],
   "source": [
    "# This script runs on Windows only, and you must have Word installed.\n",
    "import win32com.client # install with \"pip install pywin32==224\"\n",
    "import docx\n",
    "wordFilename = os.path.join(r'C:\\Users\\Zac\\OneDrive\\Python\\Practice\\ATBS\\Files\\multipleParagraphs.docx')\n",
    "pdfFilename = os.path.join(r'C:\\Users\\Zac\\OneDrive\\Python\\Practice\\ATBS\\Files\\testPDF.pdf')\n",
    "\n",
    "# Ensure the output directory exists\n",
    "outputDir = os.path.dirname(pdfFilename)\n",
    "if not os.path.exists(outputDir):\n",
    "    os.makedirs(outputDir)\n",
    "\n",
    "\n",
    "# if you want to create a new word document, you can do it here\n",
    "# doc = docx.Document()\n",
    "# Code to create Word document goes here.\n",
    "# doc.save(wordFilename)\n",
    "\n",
    "wdFormatPDF = 17 # Word's numeric code for PDFs.\n",
    "wordObj = win32com.client.Dispatch('Word.Application')\n",
    "\n",
    "docObj = wordObj.Documents.Open(wordFilename)\n",
    "docObj.SaveAs(pdfFilename, FileFormat=wdFormatPDF)\n",
    "docObj.Close()\n",
    "wordObj.Quit()"
   ]
  },
  {
   "cell_type": "markdown",
   "metadata": {},
   "source": [
    "# Practice Project: Custom Invitations as Word Documents\n",
    "\n",
    "Write a program that would generate a Word document with custom invitations that look like Figure 15-11.\n",
    "\n",
    "Since Python-Docx can use only those styles that already exist in the Word document, you will have to first add these styles to a blank Word file and then open that file with Python-Docx. There should be one invitation per page in the resulting Word document, so call add_break() to add a page break after the last paragraph of each invitation. This way, you will need to open only one Word document to print all of the invitations at once."
   ]
  },
  {
   "cell_type": "code",
   "execution_count": 14,
   "metadata": {},
   "outputs": [],
   "source": [
    "import os\n",
    "from docx import Document\n",
    "\n",
    "loadPath = os.path.join('Files', 'Invitations', 'InvitationTemplate.docx')\n",
    "savePath = os.path.join('Files', 'Invitations\\\\')\n",
    "\n",
    "names = ['Prof. Plum', 'Miss Scarlet', 'Col. Mustard', 'Al Sweigert', 'RoboCop']\n",
    "\n",
    "for name in names:\n",
    "    doc = Document(loadPath)\n",
    "    doc.add_heading('It would be a pleasure to have the company of', 1)\n",
    "    doc.add_heading(name, 2)\n",
    "    doc.add_heading('at 11010 Memory Lane on the Evening of', 1)\n",
    "    doc.add_heading('April 1st', 3)\n",
    "    doc.add_heading('at 7 o\\'clock', 1)\n",
    "    doc.save(savePath + 'Invitation_' + name + '.docx')"
   ]
  },
  {
   "cell_type": "markdown",
   "metadata": {},
   "source": [
    "# Practice Project: Brute-Force PDF Password Breaker\n",
    "\n",
    "Say you have an encrypted PDF that you have forgotten the password to, but you remember it was a single English word. Trying to guess your forgotten password is quite a boring task. Instead you can write a program that will decrypt the PDF by trying every possible English word until it finds one that works. This is called a brute-force password attack. Download the text file dictionary.txt from https://nostarch.com/automatestuff2/. This dictionary file contains over 44,000 English words with one word per line.\n",
    "\n",
    "Using the file-reading skills you learned in Chapter 9, create a list of word strings by reading this file. Then loop over each word in this list, passing it to the decrypt() method. If this method returns the integer 0, the password was wrong and your program should continue to the next password. If decrypt() returns 1, then your program should break out of the loop and print the hacked password. You should try both the uppercase and lowercase form of each word. (On my laptop, going through all 88,000 uppercase and lowercase words from the dictionary file takes a couple of minutes. This is why you shouldn’t use a simple English word for your passwords.)"
   ]
  },
  {
   "cell_type": "code",
   "execution_count": 1,
   "metadata": {},
   "outputs": [
    {
     "name": "stdout",
     "output_type": "stream",
     "text": [
      "The password is: rosebud\n"
     ]
    }
   ],
   "source": [
    "# import the neccessary libraries and file paths\n",
    "import os, PyPDF2\n",
    "\n",
    "loadPath = os.path.join('automate_online-materials', 'encrypted.pdf')\n",
    "dicPath = os.path.join('automate_online-materials', 'dictionary.txt')\n",
    "\n",
    "# create a list of english words from the dictionary.txt file in both upper and lowercase\n",
    "dicFile = open(dicPath) # open the file\n",
    "dic = dicFile.read() # read the file (will return a single string)\n",
    "words = dic.split() # split the string into words\n",
    "# words = ['try', 'test', 'rosebud']\n",
    "upperWords = []\n",
    "for word in words:\n",
    "    upperWords.append(word.upper()) # create a new list of all upper case words\n",
    "\n",
    "lowerWords = []\n",
    "for word in words:\n",
    "    lowerWords.append(word.lower()) # create a new list of all lowercase words\n",
    "\n",
    "allWords = upperWords + lowerWords # combine the upper and lowercase word lists\n",
    "allWords = sorted(allWords, key=lambda word: word.lower()) # sort all of the words with a lambda function in lowercase\n",
    "# Loop over each word in the dictionary and attempt to decrypt with try/else and return the correct password\n",
    "pdfReader = PyPDF2.PdfFileReader(open(loadPath, 'rb'))\n",
    "i = 0\n",
    "while i < len(allWords):\n",
    "    word = allWords[i]\n",
    "    # print(word)\n",
    "    result = pdfReader.decrypt(word)\n",
    "    if result == 1:\n",
    "        print(f'The password is: {word}')\n",
    "        break\n",
    "    i += 1\n",
    "else:\n",
    "    print('No password was found')"
   ]
  },
  {
   "cell_type": "markdown",
   "metadata": {},
   "source": [
    "Additional project: I should try updating the program to use multiprocessing and test multiple passwords at a time. I may be able to divide the dictionary up into n number of parts where n is the number of processes I want to run. "
   ]
  }
 ],
 "metadata": {
  "kernelspec": {
   "display_name": "Python 3",
   "language": "python",
   "name": "python3"
  },
  "language_info": {
   "codemirror_mode": {
    "name": "ipython",
    "version": 3
   },
   "file_extension": ".py",
   "mimetype": "text/x-python",
   "name": "python",
   "nbconvert_exporter": "python",
   "pygments_lexer": "ipython3",
   "version": "3.13.1"
  }
 },
 "nbformat": 4,
 "nbformat_minor": 2
}
