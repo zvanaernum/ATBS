{
 "cells": [
  {
   "cell_type": "markdown",
   "metadata": {},
   "source": [
    "## Chapter 4: Lists\n",
    "Lists and Tuples are data types that can contain multiple values. Lists can also contain other lists so they can be used to arrange data into hierachichal structures."
   ]
  },
  {
   "cell_type": "markdown",
   "metadata": {},
   "source": [
    "### The List Data Type\n",
    "A list is a value that contains multiple values in an ordered sequence. The term list value refers to the list itself (which is a value that can be stored in a variable or passed to a function like any other value), not the values inside the list value. A list value looks like this: ['cat', 'bat', 'rat', 'elephant']. Just as string values are typed with quote characters to mark where the string begins and ends, a list begins with an opening square bracket and ends with a closing square bracket, []. Values inside the list are also called items. Items are separated with commas (that is, they are comma-delimited)."
   ]
  },
  {
   "cell_type": "code",
   "execution_count": null,
   "metadata": {},
   "outputs": [],
   "source": [
    "spam = ['hello', 3.1415, True, None, 42]\n",
    "spam"
   ]
  },
  {
   "cell_type": "markdown",
   "metadata": {},
   "source": [
    "The spam variable is still only assigned one value: the list value. But the list value itself contains other values."
   ]
  },
  {
   "cell_type": "markdown",
   "metadata": {},
   "source": [
    "#### Getting Individual Values in a List with Indexes\n",
    "Say you have the list ['cat', 'bat', 'rat', 'elephant'] stored in a variable named spam. The Python code spam[0] would evaluate to 'cat', and spam[1] would evaluate to 'bat', and so on. The integer inside the square brackets that follows the list is called an index. Note that indexes can only be integer values."
   ]
  },
  {
   "cell_type": "code",
   "execution_count": null,
   "metadata": {},
   "outputs": [],
   "source": [
    "spam = ['cat', 'bat', 'rat', 'elephant']\n",
    "print(spam[0])\n",
    "print(spam[3])\n",
    "\n",
    "print('Hello, ' +spam[1])"
   ]
  },
  {
   "cell_type": "markdown",
   "metadata": {},
   "source": [
    "Lists can also contain other list values. The values in these lists of lists can be accessed using multiple indexes. The first index dictates which list value to use, and the second indicates the value within the list value. For example, spam[0][1] prints 'bat', the second value in the first list. If you only use one index, the program will print the full list value at that index."
   ]
  },
  {
   "cell_type": "code",
   "execution_count": null,
   "metadata": {},
   "outputs": [],
   "source": [
    "spam = [['cat', 'bat'], [10, 20, 30, 40, 50]]\n",
    "\n",
    "print(spam[0])\n",
    "\n",
    "print(spam[0][1])\n",
    "\n",
    "print(spam[1][4])"
   ]
  },
  {
   "cell_type": "markdown",
   "metadata": {},
   "source": [
    "#### Negative Indexes\n",
    "While indexes start at 0 and go up, you can also use negative integers for the index. The integer value -1 refers to the last index in a list, the value -2 refers to the second-to-last index in a list, and so on."
   ]
  },
  {
   "cell_type": "code",
   "execution_count": null,
   "metadata": {},
   "outputs": [],
   "source": [
    "spam = ['cat', 'bat', 'rat', 'elephant']\n",
    "\n",
    "print(spam[-1])\n",
    "\n",
    "print(spam[-3])"
   ]
  },
  {
   "cell_type": "markdown",
   "metadata": {},
   "source": [
    "#### Getting a list from another list with slices\n",
    "Just as an index can get a single value from a list, a slice can get several values from a list, in the form of a new list. A slice is typed between square brackets, like an index, but it has two integers separated by a colon. Notice the difference between indexes and slices. In a slice, the first integer is the index where the slice starts. The second integer is the index where the slice ends. A slice goes up to, but will not include, the value at the second index. A slice evaluates to a new list value."
   ]
  },
  {
   "cell_type": "code",
   "execution_count": null,
   "metadata": {},
   "outputs": [],
   "source": [
    "spam = ['cat', 'bat', 'rat', 'elephant']\n",
    "\n",
    "print(spam[0:4])\n",
    "\n",
    "print(spam[1:3])\n",
    "\n",
    "print(spam[0:-1]) # 0 up to the last index in the list."
   ]
  },
  {
   "cell_type": "markdown",
   "metadata": {},
   "source": [
    "As a shortcut, you can leave out one or both of the indexes on either side of the colon in the slice. Leaving out the first index is the same as using 0, or the beginning of the list. Leaving out the second index is the same as using the length of the list, which will slice to the end of the list."
   ]
  },
  {
   "cell_type": "code",
   "execution_count": null,
   "metadata": {},
   "outputs": [],
   "source": [
    "spam = ['cat', 'bat', 'rat', 'elephant']\n",
    "\n",
    "print(spam[:2])\n",
    "\n",
    "print(spam[1:])"
   ]
  },
  {
   "cell_type": "markdown",
   "metadata": {},
   "source": [
    "#### Getting a list's length witht he len() function\n",
    "The len() function will return the number of values that are in a list value passed to it, just like it can count the number of characters in a string value. "
   ]
  },
  {
   "cell_type": "code",
   "execution_count": null,
   "metadata": {},
   "outputs": [],
   "source": [
    "spam = ['cat', 'dog', 'moose']\n",
    "len(spam)"
   ]
  },
  {
   "cell_type": "markdown",
   "metadata": {},
   "source": [
    "#### changing the values in a list with indexes\n",
    "Normally, a variable name goes on the left side of an assignment statement, like spam = 42. However, you can also use an index of a list to change the value at that index. For example, spam[1] = 'aardvark' means “Assign the value at index 1 in the list spam to the string 'aardvark'.”"
   ]
  },
  {
   "cell_type": "code",
   "execution_count": null,
   "metadata": {},
   "outputs": [],
   "source": [
    "spam = ['cat', 'bat', 'rat', 'elephant']\n",
    "spam[1] = 'aardvark'\n",
    "\n",
    "print(spam)\n",
    "\n",
    "spam[2] = spam[1]\n",
    "print(spam)\n",
    "\n",
    "spam[-1] = 12345\n",
    "print(spam)"
   ]
  },
  {
   "cell_type": "markdown",
   "metadata": {},
   "source": [
    "#### List concatenation and list replication\n",
    "Lists can be concatenated and replicated just like strings. The + operator combines two lists to create a new list value and the * operator can be used with a list and an integer value to replicate the list."
   ]
  },
  {
   "cell_type": "code",
   "execution_count": null,
   "metadata": {},
   "outputs": [],
   "source": [
    "spam = [1, 2, 3] + ['A', 'B', 'C']\n",
    "print(spam)\n",
    "\n",
    "spam = ['X', 'Y', 'Z'] * 3\n",
    "print(spam)\n",
    "\n",
    "spam = [1, 2, 3]\n",
    "spam = spam + ['A', 'B', 'C']\n",
    "print(spam)"
   ]
  },
  {
   "cell_type": "markdown",
   "metadata": {},
   "source": [
    "#### Removing Values from lists with del statements\n",
    "The del statement will delete values at an index in a list. All of the values in the list after the deleted value will be moved up one index."
   ]
  },
  {
   "cell_type": "code",
   "execution_count": null,
   "metadata": {},
   "outputs": [],
   "source": [
    "spam = ['cat', 'bat', 'rat', 'elephant']\n",
    "del spam[2]\n",
    "print(spam)\n",
    "\n",
    "del spam[2]\n",
    "print(spam)\n"
   ]
  },
  {
   "cell_type": "markdown",
   "metadata": {},
   "source": [
    "### Working with Lists\n",
    "When you first begin writing programs, it’s tempting to create many individual variables to store a group of similar values. For example, if I wanted to store the names of my cats, I might be tempted to write code like this:"
   ]
  },
  {
   "cell_type": "code",
   "execution_count": null,
   "metadata": {},
   "outputs": [],
   "source": [
    "catName1 = 'Zophie'\n",
    "catName2 = 'Pooka'\n",
    "catName3 = 'Simon'\n",
    "catName4 = 'Lady Macbeth'\n",
    "catName5 = 'Fat-tail'\n",
    "catName6 = 'Miss Cleo'"
   ]
  },
  {
   "cell_type": "markdown",
   "metadata": {},
   "source": [
    "Instead of using multiple, repetitive variables, you can use a single variable that contains a list value. For example, this new version uses a single list and can store any number of cats that the user types in."
   ]
  },
  {
   "cell_type": "code",
   "execution_count": null,
   "metadata": {},
   "outputs": [],
   "source": [
    "catNames = []\n",
    "while True:\n",
    "    print('Enter the name of cat ' + str(len(catNames) + 1) +\n",
    "      ' (Or enter nothing to stop.):')\n",
    "    name = input()\n",
    "    if name == '':\n",
    "        break\n",
    "    catNames = catNames + [name]  # list concatenation\n",
    "print('The cat names are:')\n",
    "for name in catNames:\n",
    "    print('  ' + name)"
   ]
  },
  {
   "cell_type": "markdown",
   "metadata": {},
   "source": [
    "#### using for loops with Lists\n",
    "In Chapter 2, you learned about using for loops to execute a block of code a certain number of times. Technically, a for loop repeats the code block once for each item in a list value. This is beasue the return value from the range() function is a sequence value that Python considers similar to [0, 1, 2, 3]."
   ]
  },
  {
   "cell_type": "code",
   "execution_count": null,
   "metadata": {},
   "outputs": [],
   "source": [
    "for i in range(4):\n",
    "    print(i)"
   ]
  },
  {
   "cell_type": "markdown",
   "metadata": {},
   "source": [
    "The previous for loop actually loops through its clause with the variable i set to a successive value in the [0, 1, 2, 3] list in each iteration."
   ]
  },
  {
   "cell_type": "markdown",
   "metadata": {},
   "source": [
    "A common Python technique is to use range(len(someList)) with a for loop to iterate over the indexes of a list. Using range(len(supplies)) in the belowloop is handy because the code in the loop can access the index (as the variable i) and the value at that index (as supplies[i]). Best of all, range(len(supplies)) will iterate through all the indexes of supplies, no matter how many items it contains."
   ]
  },
  {
   "cell_type": "code",
   "execution_count": null,
   "metadata": {},
   "outputs": [],
   "source": [
    "supplies = ['pens', 'staplers', 'flamethrowers', 'binders']\n",
    "\n",
    "for i in range(len(supplies)):\n",
    "     print('Index ' + str(i) + ' in supplies is: ' + supplies[i])"
   ]
  },
  {
   "cell_type": "markdown",
   "metadata": {},
   "source": [
    "#### The in and not in Operators\n",
    "You can determine whether a value is or isn’t in a list with the in and not in operators. Like other operators, in and not in are used in expressions and connect two values: a value to look for in a list and the list where it may be found. These expressions will evaluate to a Boolean value."
   ]
  },
  {
   "cell_type": "code",
   "execution_count": null,
   "metadata": {},
   "outputs": [],
   "source": [
    "print('howdy' in ['hello', 'hi', 'howdy', 'heyas'])\n",
    "\n",
    "spam = ['hello', 'hi', 'howdy', 'heyas']\n",
    "print('cat' in spam)\n",
    "\n",
    "print('howdy' not in spam)\n",
    "\n",
    "print('cat' not in spam)"
   ]
  },
  {
   "cell_type": "markdown",
   "metadata": {},
   "source": [
    "For example, the following program lets the user type in a pet name and then checks to see whether the name is in a list of pets."
   ]
  },
  {
   "cell_type": "code",
   "execution_count": null,
   "metadata": {},
   "outputs": [],
   "source": [
    "myPets = ['Zophie', 'Pooka', 'Fat-tail']\n",
    "print('Enter a pet name:')\n",
    "name = input()\n",
    "if name not in myPets:\n",
    "    print('I do not have a pet named ' + name)\n",
    "else:\n",
    "    print(name + ' is my pet.')"
   ]
  },
  {
   "cell_type": "markdown",
   "metadata": {},
   "source": [
    "#### The multiple assignment trick\n",
    "The multiple assignment trick (technically called tuple unpacking) is a shortcut that lets you assign multiple variables with the values in a list in one line of code. So instead of doing this:"
   ]
  },
  {
   "cell_type": "code",
   "execution_count": 1,
   "metadata": {},
   "outputs": [],
   "source": [
    "cat = ['fat', 'gray', 'loud']\n",
    "size = cat[0]\n",
    "color = cat[1]\n",
    "disposition = cat[2]"
   ]
  },
  {
   "cell_type": "markdown",
   "metadata": {},
   "source": [
    "You could do this: (note that the number of variables and the length of the list must be exactly equal or you will get an error.)"
   ]
  },
  {
   "cell_type": "code",
   "execution_count": null,
   "metadata": {},
   "outputs": [],
   "source": [
    "cat = ['fat', 'gray', 'loud']\n",
    "size, color, disposition = cat"
   ]
  },
  {
   "cell_type": "markdown",
   "metadata": {},
   "source": [
    "#### Using the enumerate() Function with Lists\n",
    "Instead of using the range(len(someList)) technique with a for loop to obtain the integer index of the items in the list, you can call the enumerate() function instead. On each iteration of the loop, enumerate() will return two values: the index of the item in the list, and the item in the list itself."
   ]
  },
  {
   "cell_type": "code",
   "execution_count": null,
   "metadata": {},
   "outputs": [],
   "source": [
    "supplies = ['pens', 'staplers', 'flamethrowers', 'binders']\n",
    "for i, item in enumerate(supplies):\n",
    "    print('Index ' + str(i) + ' in supplies is: ' + item)"
   ]
  },
  {
   "cell_type": "markdown",
   "metadata": {},
   "source": [
    "#### Using the random.choice() and random.shuffle() Functions with Lists\n",
    "The random module has a couple functions that accept lists for arguments. The random.choice() function will return a randomly selected item from the list. You can think of the random.choice function to be a shorter way of generating a random number and reading the index of the random number from the list."
   ]
  },
  {
   "cell_type": "code",
   "execution_count": null,
   "metadata": {},
   "outputs": [],
   "source": [
    "import random\n",
    "pets = ['Dog', 'Cat', 'Moose']\n",
    "print(random.choice(pets))\n",
    "\n",
    "\n",
    "## The above function is a shorter way of doing this:\n",
    "randomIndex = random.randint(0, len(pets)-1)\n",
    "print(pets[randomIndex])\n",
    "\n",
    "\n"
   ]
  },
  {
   "cell_type": "markdown",
   "metadata": {},
   "source": [
    "The random.shuffle() function will reorder the items in a list. This function modifies the list in place, rather than returning a new list."
   ]
  },
  {
   "cell_type": "code",
   "execution_count": null,
   "metadata": {},
   "outputs": [],
   "source": [
    "import random\n",
    "\n",
    "people = ['Alice', 'David', 'Carol', 'Bob']\n",
    "print(people)\n",
    "\n",
    "random.shuffle(people)\n",
    "print(people)\n",
    "\n",
    "random.shuffle(people)\n",
    "print(people)"
   ]
  },
  {
   "cell_type": "markdown",
   "metadata": {},
   "source": [
    "### Augmented Assignment Operators\n",
    "Augmented assignment operators can be used change the value of a variable in a single line."
   ]
  },
  {
   "cell_type": "code",
   "execution_count": null,
   "metadata": {},
   "outputs": [],
   "source": [
    "spam = 42\n",
    "spam += 1\n",
    "print(spam)\n",
    "\n",
    "foo = 20\n",
    "foo -=1\n",
    "print(foo)\n",
    "\n",
    "bar = 50\n",
    "bar *= 2\n",
    "print(bar)\n",
    "\n",
    "blah = 10\n",
    "blah /= 2\n",
    "print(blah)"
   ]
  },
  {
   "cell_type": "markdown",
   "metadata": {},
   "source": [
    "The += operator can also do string and list concatenation, and the *= operator can do string and list replication."
   ]
  },
  {
   "cell_type": "code",
   "execution_count": null,
   "metadata": {},
   "outputs": [],
   "source": [
    "spam = 'Hello,'\n",
    "spam += ' world!'\n",
    "print(spam)\n",
    "\n",
    "bacon = ['Zophie']\n",
    "bacon *= 3\n",
    "print(bacon)\n"
   ]
  },
  {
   "cell_type": "markdown",
   "metadata": {},
   "source": [
    "### Methods\n",
    "A method is the same thing as a function, except it is 'called on' a value. For example, if a list value were stored in spam, you would call the index() list method (which I’ll explain shortly) on that list like so: spam.index('hello'). The method part comes after the value, separated by a period.\n",
    "\n",
    "Each data type has its own set of methods. The list data type, for example, has several useful methods for finding, adding, removing, and otherwise manipulating values in a list."
   ]
  },
  {
   "cell_type": "markdown",
   "metadata": {},
   "source": [
    "#### Finding a Value in a List with the index() Method\n",
    "List values have an index() method that can be passed a value, and if that value exists in the list, the index of the value is returned. If the value isn’t in the list, then Python produces a ValueError error. "
   ]
  },
  {
   "cell_type": "code",
   "execution_count": null,
   "metadata": {},
   "outputs": [],
   "source": [
    "spam = ['hello', 'hi', 'howdy', 'heyas']\n",
    "print(spam.index('hello'))\n",
    "\n",
    "print(spam.index('howdy hodwy'))"
   ]
  },
  {
   "cell_type": "markdown",
   "metadata": {},
   "source": [
    "When there are duplicates of the value in the lsit, the index of its first appearancce is returned."
   ]
  },
  {
   "cell_type": "code",
   "execution_count": null,
   "metadata": {},
   "outputs": [],
   "source": [
    "spam = ['Zophie', 'Pooka', 'Fat-tail', 'Pooka']\n",
    "spam.index('Pooka')"
   ]
  },
  {
   "cell_type": "markdown",
   "metadata": {},
   "source": [
    "#### Adding values to Lists with the append() and insert() Methods\n",
    "To add new values to a list, use the append() and insert() methods. "
   ]
  },
  {
   "cell_type": "code",
   "execution_count": null,
   "metadata": {},
   "outputs": [],
   "source": [
    "spam = ['cat', 'dog', 'bat']\n",
    "spam.append('moose') # append adds to the end of the list.\n",
    "print(spam)\n",
    "\n",
    "spam.insert(1, 'chicken')\n",
    "print(spam)\n"
   ]
  },
  {
   "cell_type": "markdown",
   "metadata": {},
   "source": [
    "Notice that the code is spam.append('moose') and spam.insert(1, 'chicken'), not spam = spam.append('moose') and spam = spam.insert(1, 'chicken'). Neither append() nor insert() gives the new value of spam as its return value. (In fact, the return value of append() and insert() is None, so you definitely wouldn’t want to store this as the new variable value.) Rather, the list is modified in place.\n",
    "\n",
    "Methods belong to a single data type. The append() and insert() methods are list methods and can be called only on list values, not on other values such as strings or integers."
   ]
  },
  {
   "cell_type": "markdown",
   "metadata": {},
   "source": [
    "#### Removing Values from Lists with the remove() Method\n",
    "The remove() method is passed the value to be removed from the list it is called on."
   ]
  },
  {
   "cell_type": "code",
   "execution_count": null,
   "metadata": {},
   "outputs": [],
   "source": [
    "spam = ['cat', 'bat', 'rat', 'elephant']\n",
    "spam.remove('bat')\n",
    "print(spam)"
   ]
  },
  {
   "cell_type": "markdown",
   "metadata": {},
   "source": [
    "Just like the index() method, trying to delete a value that does not exist with the remove() method will return an error.\n",
    "\n",
    "If a value appears multiple times in a list, only the first instance of the value will be removed."
   ]
  },
  {
   "cell_type": "code",
   "execution_count": null,
   "metadata": {},
   "outputs": [],
   "source": [
    "spam = ['cat', 'bat', 'rat', 'cat', 'hat', 'cat']\n",
    "spam.remove('cat')\n",
    "print(spam)"
   ]
  },
  {
   "cell_type": "markdown",
   "metadata": {},
   "source": [
    "Overall, the remove() method is good to use when you know the value that you want to remove from a list, and the del() statement is good to use when you know the index of the value you want to delete from the list."
   ]
  },
  {
   "cell_type": "markdown",
   "metadata": {},
   "source": [
    "#### Sorting the Values in a List with the sort() Method\n",
    "Lists of number values or lists of strings can be sorted with the sort() method."
   ]
  },
  {
   "cell_type": "code",
   "execution_count": null,
   "metadata": {},
   "outputs": [],
   "source": [
    "spam = [2, 5, 3.14, 1, -7]\n",
    "spam.sort()\n",
    "print(spam)\n",
    "\n",
    "spam = ['ants', 'cats', 'dogs', 'badgers', 'elephants']\n",
    "spam.sort()\n",
    "print(spam)\n"
   ]
  },
  {
   "cell_type": "markdown",
   "metadata": {},
   "source": [
    "You can also pass True for the reverse keyword argument to have sort() sort the values in reverse order."
   ]
  },
  {
   "cell_type": "code",
   "execution_count": null,
   "metadata": {},
   "outputs": [],
   "source": [
    "spam.sort(reverse=True)\n",
    "print(spam)"
   ]
  },
  {
   "cell_type": "markdown",
   "metadata": {},
   "source": [
    "Three things to know about the sort() method:\n",
    "1) the sort() method sorts lists in place, don't try to capture the return value.\n",
    "2) You cannot sort lists that contain both number values and string values (will give type error).\n",
    "3) sort() uses “ASCIIbetical order” rather than actual alphabetical order for sorting strings. This means uppercase letters come before lowercase letters. Therefore, the lowercase a is sorted so that it comes after the uppercase Z (see below)"
   ]
  },
  {
   "cell_type": "code",
   "execution_count": null,
   "metadata": {},
   "outputs": [],
   "source": [
    "spam = ['Alice', 'ants', 'Bob', 'badgers', 'Carol', 'cats']\n",
    "spam.sort()\n",
    "print(spam)"
   ]
  },
  {
   "cell_type": "markdown",
   "metadata": {},
   "source": [
    "If you need to sort the values in regular alphabetical order, pass the str.lower for the key keyword arcument in the sort() method call. Thie causes the sort() method to treat all items in the list as if they were lowercase without actually changing the values in the list."
   ]
  },
  {
   "cell_type": "code",
   "execution_count": null,
   "metadata": {},
   "outputs": [],
   "source": [
    "spam = ['a', 'z', 'A', 'Z']\n",
    "spam.sort(key=str.lower)\n",
    "print(spam)"
   ]
  },
  {
   "cell_type": "markdown",
   "metadata": {},
   "source": [
    "#### Reversing the Values in a List witht he reverse() Method\n",
    "If you need to quickly reverse the order of the items in a list, you can call the reverse() list method."
   ]
  },
  {
   "cell_type": "code",
   "execution_count": null,
   "metadata": {},
   "outputs": [],
   "source": [
    "spam = ['cat', 'dog', 'moose']\n",
    "spam.reverse()\n",
    "print(spam)"
   ]
  },
  {
   "cell_type": "markdown",
   "metadata": {},
   "source": [
    "### Exceptions to indentation rules in Python\n",
    "In most cases, the amount of indentation for a line of code tells Python what block it is in. There are some exceptions to this rule, however. For example, lists can actually span several lines in the source code file. The indentation of these lines does not matter; Python knows that the list is not finished until it sees the ending square bracket."
   ]
  },
  {
   "cell_type": "code",
   "execution_count": null,
   "metadata": {},
   "outputs": [],
   "source": [
    "spam = ['apples',\n",
    "    'oranges',\n",
    "                    'bananas',\n",
    "'cats']\n",
    "print(spam)"
   ]
  },
  {
   "cell_type": "markdown",
   "metadata": {},
   "source": [
    "You can also split up a single instruction across multiple lines using the \\ line continuation character at the end. Think of \\ as saying, “This instruction continues on the next line.” The indentation on the line after a \\ line continuation is not significant. For example, the following is valid Python code:"
   ]
  },
  {
   "cell_type": "code",
   "execution_count": null,
   "metadata": {},
   "outputs": [],
   "source": [
    "print('Four score and seven ' + \\\n",
    "      'years ago...')"
   ]
  },
  {
   "cell_type": "markdown",
   "metadata": {},
   "source": [
    "### Example program: magic 8 Ball with a List\n",
    "Using lists, you can write a much more elegant version of the previous chapter’s Magic 8 Ball program. Instead of several lines of nearly identical elif statements, you can create a single list that the code works with."
   ]
  },
  {
   "cell_type": "code",
   "execution_count": null,
   "metadata": {},
   "outputs": [],
   "source": [
    "import random\n",
    "\n",
    "messages = ['It is certain',\n",
    "    'It is decidedly so',\n",
    "    'Yes definitely',\n",
    "    'Reply hazy try again',\n",
    "    'Ask again later',\n",
    "    'Concentrate and ask again',\n",
    "    'My reply is no',\n",
    "    'Outlook not so good',\n",
    "    'Very doubtful']\n",
    "\n",
    "print(messages[random.randint(0, len(messages) - 1)]) # calling a random index of messages\n",
    "\n",
    "print(random.choice(messages)) # you can also use this"
   ]
  },
  {
   "cell_type": "markdown",
   "metadata": {},
   "source": [
    "### Sequence Data Types\n",
    "Lists aren’t the only data types that represent ordered sequences of values. For example, strings and lists are actually similar if you consider a string to be a “list” of single text characters. The Python sequence data types include lists, strings, range objects returned by range(), and tuples (explained in the “The Tuple Data Type” on page 96). Many of the things you can do with lists can also be done with strings and other values of sequence types: indexing; slicing; and using them with for loops, with len(), and with the in and not in operators. "
   ]
  },
  {
   "cell_type": "code",
   "execution_count": null,
   "metadata": {},
   "outputs": [],
   "source": [
    "name = 'Zophie'\n",
    "print(name[0])\n",
    "\n",
    "print(name[2])\n",
    "\n",
    "print(name[-2])\n",
    "\n",
    "print(name[0:4])\n",
    "\n",
    "print( 'Zo' in name)\n",
    "\n",
    "print( 'z' in name)\n",
    "\n",
    "for i in name:\n",
    "    print('***' + i + '***')"
   ]
  },
  {
   "cell_type": "markdown",
   "metadata": {},
   "source": [
    "#### Mutable and Immutable Data Types\n",
    "But lists and strings are different in an important way. A list value is a mutable data type: it can have values added, removed, or changed. However, a string is immutable: it cannot be changed. Trying to reassign a single character in a string results in a TypeError error,"
   ]
  },
  {
   "cell_type": "code",
   "execution_count": null,
   "metadata": {},
   "outputs": [],
   "source": [
    "name = 'Zophie a cat'\n",
    "name[7] = 'the'"
   ]
  },
  {
   "cell_type": "markdown",
   "metadata": {},
   "source": [
    "The proper way to “mutate” a string is to use slicing and concatenation to build a new string by copying from parts of the old string."
   ]
  },
  {
   "cell_type": "code",
   "execution_count": null,
   "metadata": {},
   "outputs": [],
   "source": [
    "name = 'Zophie a cat'\n",
    "newName = name[0:7] + 'the' + name[8:12]\n",
    "print(name)"
   ]
  },
  {
   "cell_type": "markdown",
   "metadata": {},
   "source": [
    "Although a list value is mutable, the second line in the following code does not modify the list eggs but instead overwrites it."
   ]
  },
  {
   "cell_type": "code",
   "execution_count": null,
   "metadata": {},
   "outputs": [],
   "source": [
    "eggs = [1, 2, 3]\n",
    "eggs = [4, 5, 6]\n",
    "print(eggs)"
   ]
  },
  {
   "cell_type": "markdown",
   "metadata": {},
   "source": [
    "If you wanted to actually modify the original list in eggs to contain 4, 5, 6, you would have to do something like this."
   ]
  },
  {
   "cell_type": "code",
   "execution_count": null,
   "metadata": {},
   "outputs": [],
   "source": [
    "eggs = [1, 2, 3]\n",
    "print(eggs)\n",
    "\n",
    "del eggs[0:3]\n",
    "print(eggs)\n",
    "\n",
    "i = 4\n",
    "while i < 7:\n",
    "    eggs.append(i)\n",
    "    i += 1\n",
    "\n",
    "print(eggs)"
   ]
  },
  {
   "cell_type": "markdown",
   "metadata": {},
   "source": [
    "Changing a value of a mutable data type (like what the del statement and append() method do in the previous example) changes the value in place, since the variable’s value is not replaced with a new list value.\n",
    "\n",
    "Mutable versus immutable types may seem like a meaningless distinction, but “Passing References” on page 100 will explain the different behavior when calling functions with mutable arguments versus immutable arguments. But first, let’s find out about the tuple data type, which is an immutable form of the list data type."
   ]
  },
  {
   "cell_type": "markdown",
   "metadata": {},
   "source": [
    "#### The Tuple Data Type\n",
    "The tuple data type is almost identical to the list data type, except in two ways. First, tuples are typed with parentheses, ( and ), instead of square brackets, [ and ]."
   ]
  },
  {
   "cell_type": "code",
   "execution_count": null,
   "metadata": {},
   "outputs": [],
   "source": [
    "eggs = ('hello', 42, 0.5)\n",
    "print(eggs[0])\n",
    "print(eggs[1:3])"
   ]
  },
  {
   "cell_type": "markdown",
   "metadata": {},
   "source": [
    "But the main way that tuples are different from lists is that tuples, like strings, are immutable. Tuples cannot have their values modified, appended, or removed. Enter the following into the interactive shell, and look at the TypeError error message:"
   ]
  },
  {
   "cell_type": "code",
   "execution_count": null,
   "metadata": {},
   "outputs": [],
   "source": [
    "eggs = ('hello', 42, 0.5)\n",
    "eggs[1] = 99"
   ]
  },
  {
   "cell_type": "markdown",
   "metadata": {},
   "source": [
    "If you have only one value in your tuple, you can indicate this by placing a trailing comma after the value inside the parentheses. Otherwise, Python will think you’ve just typed a value inside regular parentheses. The comma is what lets Python know this is a tuple value. (Unlike some other programming languages, it’s fine to have a trailing comma after the last item in a list or tuple in Python.) Enter the following type()"
   ]
  },
  {
   "cell_type": "code",
   "execution_count": null,
   "metadata": {},
   "outputs": [],
   "source": [
    "print(type(('Hello')))\n",
    "print(type(('Hello',)))"
   ]
  },
  {
   "cell_type": "markdown",
   "metadata": {},
   "source": [
    "You can use tuples to convey to anyone reading your code that you don’t intend for that sequence of values to change. If you need an ordered sequence of values that never changes, use a tuple. A second benefit of using tuples instead of lists is that, because they are immutable and their contents don’t change, Python can implement some optimizations that make code using tuples slightly faster than code using lists."
   ]
  },
  {
   "cell_type": "markdown",
   "metadata": {},
   "source": [
    "#### Converting Types with the list() and tuple() functions\n",
    "Just like how str(42) will return '42', the string representation of the integer 42, the functions list() and tuple() will return list and tuple versions of the values passed to them."
   ]
  },
  {
   "cell_type": "code",
   "execution_count": null,
   "metadata": {},
   "outputs": [],
   "source": [
    "print(tuple(['cat', 'dog', 5]))\n",
    "\n",
    "print(list(('cat', 'dog', 5)))\n",
    "\n",
    "print(list('hello'))"
   ]
  },
  {
   "cell_type": "markdown",
   "metadata": {},
   "source": [
    "### References\n",
    "As you’ve seen, variables “store” strings and integer values. However, this explanation is a simplification of what Python is actually doing. Technically, variables are storing references to the computer memory locations where the values are stored."
   ]
  },
  {
   "cell_type": "code",
   "execution_count": null,
   "metadata": {},
   "outputs": [],
   "source": [
    "spam = 42\n",
    "cheese = spam\n",
    "spam = 100\n",
    "print(spam)\n",
    "print(cheese)"
   ]
  },
  {
   "cell_type": "markdown",
   "metadata": {},
   "source": [
    "When you assign 42 to the spam variable, you are actually creating the 42 value in the computer’s memory and storing a reference to it in the spam variable. When you copy the value in spam and assign it to the variable cheese, you are actually copying the reference. Both the spam and cheese variables refer to the 42 value in the computer’s memory. When you later change the value in spam to 100, you’re creating a new 100 value and storing a reference to it in spam. This doesn’t affect the value in cheese. Integers are immutable values that don’t change; changing the spam variable is actually making it refer to a completely different value in memory.\n",
    "\n",
    "But lists don’t work this way, because list values can change; that is, lists are mutable. Here is some code that will make this distinction easier to understand. Enter this into the interactive shell:"
   ]
  },
  {
   "cell_type": "code",
   "execution_count": null,
   "metadata": {},
   "outputs": [],
   "source": [
    "spam = [0, 1, 2, 3, 4, 5]\n",
    "cheese = spam # The reference is being copied, not the list.\n",
    "cheese[1] = 'Hello!' # This changes the list value.\n",
    "print(spam)"
   ]
  },
  {
   "cell_type": "markdown",
   "metadata": {},
   "source": [
    "When you create the list ➊, you assign a reference to it in the spam variable. But the next line ➋ copies only the list reference in spam to cheese, not the list value itself. This means the values stored in spam and cheese now both refer to the same list. There is only one underlying list because the list itself was never actually copied. So when you modify the first element of cheese ➌, you are modifying the same list that spam refers to.\n",
    "\n"
   ]
  },
  {
   "cell_type": "markdown",
   "metadata": {},
   "source": [
    "#### Identity and the id() Function\n",
    "You may be wondering why the weird behavior with mutable lists in the previous section doesn’t happen with immutable values like integers or strings. We can use Python’s id() function to understand this. All values in Python have a unique identity that can be obtained with the id() function. Enter the following into the interactive shell:"
   ]
  },
  {
   "cell_type": "code",
   "execution_count": null,
   "metadata": {},
   "outputs": [],
   "source": [
    "id('Howdy')"
   ]
  },
  {
   "cell_type": "markdown",
   "metadata": {},
   "source": [
    "When Python runs id('Howdy'), it creates the 'Howdy' string in the computer’s memory. The numeric memory address where the string is stored is returned by the id() function. Python picks this address based on which memory bytes happen to be free on your computer at the time, so it’ll be different each time you run this code.\n",
    "\n",
    "Like all strings, 'Howdy' is immutable and cannot be changed. If you “change” the string in a variable, a new string object is being made at a different place in memory, and the variable refers to this new string. For example, enter the following into the interactive shell and see how the identity of the string referred to by bacon changes:"
   ]
  },
  {
   "cell_type": "code",
   "execution_count": null,
   "metadata": {},
   "outputs": [],
   "source": [
    "bacon = 'Hello'\n",
    "print(id(bacon))\n",
    "\n",
    "bacon += ' world!' # A new string is made from 'Hello' and ' world!'. \n",
    "print(id(bacon))"
   ]
  },
  {
   "cell_type": "markdown",
   "metadata": {},
   "source": [
    "However, lists can be modified because they are mutable objects. The append() method doesn’t create a new list object; it changes the existing list object. We call this “modifying the object in-place.”"
   ]
  },
  {
   "cell_type": "code",
   "execution_count": null,
   "metadata": {},
   "outputs": [],
   "source": [
    "eggs = ['cat', 'dog'] # This creates a new list.\n",
    "print(id(eggs))\n",
    "\n",
    "eggs.append('moose') # append() modifies the list \"in place\".\n",
    "print(id(eggs)) # eggs still refers to the same list as before.\n",
    "\n",
    "eggs = ['bat', 'rat', 'cow'] # This creates a new list, which has a new identity\n",
    "print(id(eggs)) # eggs now refers to a completely different list."
   ]
  },
  {
   "cell_type": "markdown",
   "metadata": {},
   "source": [
    "Python’s automatic garbage collector deletes any values not being referred to by any variables to free up memory. You don’t need to worry about how the garbage collector works, which is a good thing: manual memory management in other programming languages is a common source of bugs."
   ]
  },
  {
   "cell_type": "markdown",
   "metadata": {},
   "source": [
    "#### Passing references\n",
    "References are particularly important for understanding how arguments get passed to functions. When a function is called, the values of the arguments are copied to the parameter variables. For lists (and dictionaries, which I’ll describe in the next chapter), this means a copy of the reference is used for the parameter."
   ]
  },
  {
   "cell_type": "code",
   "execution_count": null,
   "metadata": {},
   "outputs": [],
   "source": [
    "def eggs(someParameter):\n",
    "    someParameter.append('Hello')\n",
    "\n",
    "spam = [1, 2, 3]\n",
    "eggs(spam)\n",
    "print(spam)"
   ]
  },
  {
   "cell_type": "markdown",
   "metadata": {},
   "source": [
    "Notice that when eggs() is called, a return value is not used to assign a new value to spam. Instead, it modifies the list in place, directly. Even though spam and someParameter contain separate references, they both refer to the same list. This is why the append('Hello') method call inside the function affects the list even after the function call has returned."
   ]
  },
  {
   "cell_type": "markdown",
   "metadata": {},
   "source": [
    "#### The copy Module's copy() and deepcopy() Functions\n",
    "Although passing around references is often the handiest way to deal with lists and dictionaries, if the function modifies the list or dictionary that is passed, you may not want these changes in the original list or dictionary value. For this, Python provides a module named copy that provides both the copy() and deepcopy() functions. The first of these, copy.copy(), can be used to make a duplicate copy of a mutable value like a list or dictionary, not just a copy of a reference. "
   ]
  },
  {
   "cell_type": "code",
   "execution_count": null,
   "metadata": {},
   "outputs": [],
   "source": [
    "import copy\n",
    "spam = ['A', 'B', 'C', 'D']\n",
    "print(id(spam))\n",
    "\n",
    "cheese = copy.copy(spam)\n",
    "print(id(cheese)) # cheese is a different list with different identity.\n",
    "\n",
    "cheese[1] = 42\n",
    "\n",
    "\n",
    "print(spam)\n",
    "print(cheese)"
   ]
  },
  {
   "cell_type": "markdown",
   "metadata": {},
   "source": [
    "Now the spam and cheese variables refer to separate lists, which is why only the list in cheese is modified when you assign 42 at index 1. "
   ]
  },
  {
   "cell_type": "markdown",
   "metadata": {},
   "source": [
    "If the list you need to copy contains lists, then use the copy.deepcopy() function instead of copy.copy(). The deepcopy() function will copy these inner lists as well."
   ]
  },
  {
   "cell_type": "markdown",
   "metadata": {},
   "source": [
    "### A Short Program: Conway's Game of Life\n",
    "Conway’s Game of Life is an example of cellular automata: a set of rules governing the behavior of a field made up of discrete cells. In practice, it creates a pretty animation to look at. You can draw out each step on graph paper, using the squares as cells. A filled-in square will be “alive” and an empty square will be “dead.” If a living square has two or three living neighbors, it continues to live on the next step. If a dead square has exactly three living neighbors, it comes alive on the next step. Every other square dies or remains dead on the next step.\n",
    "\n",
    "Even though the rules are simple, there are many surprising behaviors that emerge. Patterns in Conway’s Game of Life can move, self-replicate, or even mimic CPUs. But at the foundation of all of this complex, advanced behavior is a rather simple program.\n",
    "\n",
    "We can use a list of lists to represent the two-dimensional field. The inner list represents each column of squares and stores a '#' hash string for living squares and a ' ' space string for dead squares."
   ]
  },
  {
   "cell_type": "code",
   "execution_count": null,
   "metadata": {},
   "outputs": [],
   "source": [
    "# Conway's Game of Life\n",
    "import random, time, copy\n",
    "WIDTH = 60\n",
    "HEIGHT = 20\n",
    "\n",
    "# Create a list of list for the cells:\n",
    "nextCells = []\n",
    "for x in range(WIDTH):\n",
    "    column = [] # Create a new column.\n",
    "    for y in range(HEIGHT):\n",
    "        if random.randint(0, 1) == 0:\n",
    "            column.append('#') # Add a living cell.\n",
    "        else:\n",
    "            column.append(' ') # Add a dead cell.\n",
    "    nextCells.append(column) # nextCells is a list of column lists.\n",
    "\n",
    "while True: # Main program loop.\n",
    "    print('\\n\\n\\n\\n\\n') # Separate each step with newlines.\n",
    "    currentCells = copy.deepcopy(nextCells)\n",
    "\n",
    "    # Print currentCells on the screen:\n",
    "    for y in range(HEIGHT):\n",
    "        for x in range(WIDTH):\n",
    "            print(currentCells[x][y], end='') # Print the # or space.\n",
    "        print() # Print a newline at the end of the row.\n",
    "\n",
    "    # Calculate the next step's cells based on current step's cells:\n",
    "    for x in range(WIDTH):\n",
    "        for y in range(HEIGHT):\n",
    "            # Get neighboring coordinates:\n",
    "            # `% WIDTH` ensures leftCoord is always between 0 and WIDTH - 1\n",
    "            leftCoord  = (x - 1) % WIDTH\n",
    "            rightCoord = (x + 1) % WIDTH\n",
    "            aboveCoord = (y - 1) % HEIGHT\n",
    "            belowCoord = (y + 1) % HEIGHT\n",
    "\n",
    "            # Count number of living neighbors:\n",
    "            numNeighbors = 0\n",
    "            if currentCells[leftCoord][aboveCoord] == '#':\n",
    "                numNeighbors += 1 # Top-left neighbor is alive.\n",
    "            if currentCells[x][aboveCoord] == '#':\n",
    "                numNeighbors += 1 # Top neighbor is alive.\n",
    "            if currentCells[rightCoord][aboveCoord] == '#':\n",
    "                numNeighbors += 1 # Top-right neighbor is alive.\n",
    "            if currentCells[leftCoord][y] == '#':\n",
    "                numNeighbors += 1 # Left neighbor is alive.\n",
    "            if currentCells[rightCoord][y] == '#':\n",
    "                numNeighbors += 1 # Right neighbor is alive.\n",
    "            if currentCells[leftCoord][belowCoord] == '#':\n",
    "                numNeighbors += 1 # Bottom-left neighbor is alive.\n",
    "            if currentCells[x][belowCoord] == '#':\n",
    "                numNeighbors += 1 # Bottom neighbor is alive.\n",
    "            if currentCells[rightCoord][belowCoord] == '#':\n",
    "                numNeighbors += 1 # Bottom-right neighbor is alive.\n",
    "\n",
    "            # Set cell based on Conway's Game of Life rules:\n",
    "            if currentCells[x][y] == '#' and (numNeighbors == 2 or\n",
    "numNeighbors == 3):\n",
    "                # Living cells with 2 or 3 neighbors stay alive:\n",
    "                nextCells[x][y] = '#'\n",
    "            elif currentCells[x][y] == ' ' and numNeighbors == 3:\n",
    "                # Dead cells with 3 neighbors become alive:\n",
    "                nextCells[x][y] = '#'\n",
    "            else:\n",
    "                # Everything else dies or stays dead:\n",
    "                nextCells[x][y] = ' '\n",
    "    time.sleep(1) # Add a 1-second pause to reduce flickering."
   ]
  },
  {
   "cell_type": "markdown",
   "metadata": {},
   "source": [
    "### Practice Project: Comma Code\n",
    "Write a function that takes a list value as an argument and returns a string with all the items separated by a comma and a space, with and inserted before the last item. For example, passing the previous spam list to the function would return 'apples, bananas, tofu, and cats'. But your function should be able to work with any list value passed to it. Be sure to test the case where an empty list [] is passed to your function."
   ]
  },
  {
   "cell_type": "code",
   "execution_count": null,
   "metadata": {},
   "outputs": [],
   "source": [
    "\n",
    "def commaCode(lst):\n",
    "    if len(lst) == 0:\n",
    "        return 'The list is empty.'\n",
    "    elif len(lst) == 1:\n",
    "        return lst[0]\n",
    "    elif len(lst) == 2:\n",
    "        return lst[0] + ' and ' + lst[1]\n",
    "    elif len(lst) > 2:\n",
    "        items_except_last = ', '.join(lst[:-1])\n",
    "        final_string = items_except_last + ', and ' + lst[-1]\n",
    "        return final_string\n",
    "\n",
    "empty = []\n",
    "one = ['apples']\n",
    "two = ['apples', 'bananas']\n",
    "three = ['apples', 'bananas', 'tofu']\n",
    "four = ['apples', 'bananas', 'tofu', 'cats']\n",
    "\n",
    "\n",
    "print(commaCode(empty))\n",
    "print(commaCode(one))\n",
    "print(commaCode(two))\n",
    "print(commaCode(three))\n",
    "print(commaCode(four))"
   ]
  },
  {
   "cell_type": "markdown",
   "metadata": {},
   "source": [
    "### Practice Projects: Coin Flip Streaks\n",
    "For this exercise, we’ll try doing an experiment. If you flip a coin 100 times and write down an “H” for each heads and “T” for each tails, you’ll create a list that looks like “T T T T H H H H T T.” If you ask a human to make up 100 random coin flips, you’ll probably end up with alternating head-tail results like “H T H T H H T H T T,” which looks random (to humans), but isn’t mathematically random. A human will almost never write down a streak of six heads or six tails in a row, even though it is highly likely to happen in truly random coin flips. Humans are predictably bad at being random.\n",
    "\n",
    "Write a program to find out how often a streak of six heads or a streak of six tails comes up in a randomly generated list of heads and tails. Your program breaks up the experiment into two parts: the first part generates a list of randomly selected 'heads' and 'tails' values, and the second part checks if there is a streak in it. Put all of this code in a loop that repeats the experiment 10,000 times so we can find out what percentage of the coin flips contains a streak of six heads or tails in a row. As a hint, the function call random.randint(0, 1) will return a 0 value 50% of the time and a 1 value the other 50% of the time."
   ]
  },
  {
   "cell_type": "code",
   "execution_count": null,
   "metadata": {},
   "outputs": [
    {
     "name": "stdout",
     "output_type": "stream",
     "text": [
      "Number of streaks of 6 in 10000 experiements: 8112\n",
      "Percentage of experiments with at least one streak: 81.12\n"
     ]
    }
   ],
   "source": [
    "import random\n",
    "\n",
    "numberOfStreaks = 0\n",
    "numExperiments = 10000\n",
    "numFlips = 100\n",
    "\n",
    "# Function that creates a list of 100 'heads' or 'tails' values.\n",
    "def generateFlips(numFlips):\n",
    "    result = []\n",
    "    for _ in range(numFlips):\n",
    "        if random.randint(0, 1) == 0:\n",
    "            result.append('H')\n",
    "        else:\n",
    "            result.append('T')\n",
    "    return result\n",
    "    \n",
    "# Function that checks if there is a streak of 6 heads or tails in a row.\n",
    "def checkStreaks(flipList):\n",
    "    streakCount = 0\n",
    "    currentStreak = 1\n",
    "\n",
    "    for i in range(1, len(flipList)):\n",
    "        if flipList[i] == flipList[i-1]:\n",
    "            currentStreak += 1\n",
    "        else:\n",
    "            currentStreak = 1\n",
    "\n",
    "        if currentStreak == 6:\n",
    "            streakCount += 1\n",
    "            currentStreak = 0\n",
    "\n",
    "    return streakCount\n",
    "\n",
    "for experimentNumber in range(numExperiments):\n",
    "    flips = generateFlips(numFlips)\n",
    "    if checkStreaks(flips): # will evaluate to False if 0 streaks or True if 1 or more streaks\n",
    "        numberOfStreaks += 1 # Count only if there's at least one streak\n",
    "\n",
    "\n",
    "percentOneStreak = (numberOfStreaks / numExperiments) * 100\n",
    "print('Number of streaks of 6 in ' + str(numExperiments) + ' experiements: ' + str(numberOfStreaks))\n",
    "print('Percentage of experiments with at least one streak: ' + str(percentOneStreak))"
   ]
  }
 ],
 "metadata": {
  "kernelspec": {
   "display_name": "Python 3",
   "language": "python",
   "name": "python3"
  },
  "language_info": {
   "codemirror_mode": {
    "name": "ipython",
    "version": 3
   },
   "file_extension": ".py",
   "mimetype": "text/x-python",
   "name": "python",
   "nbconvert_exporter": "python",
   "pygments_lexer": "ipython3",
   "version": "3.13.1"
  }
 },
 "nbformat": 4,
 "nbformat_minor": 2
}
