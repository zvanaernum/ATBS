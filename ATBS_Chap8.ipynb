{
 "cells": [
  {
   "cell_type": "markdown",
   "metadata": {},
   "source": [
    "# Chapter 8: Input Validation\n",
    "Input validation code checks that values entered by the user, such as text from the input() function, are formatted correctly. For example, if you want users to enter their ages, your code shouldn’t accept nonsensical answers such as negative numbers (which are outside the range of acceptable integers) or words (which are the wrong data type). Input validation can also prevent bugs or security vulnerabilities. If you implement a withdrawFromAccount() function that takes an argument for the amount to subtract from an account, you need to ensure the amount is a positive number. If the withdrawFromAccount() function subtracts a negative number from the account, the “withdrawal” will end up adding money!"
   ]
  },
  {
   "cell_type": "markdown",
   "metadata": {},
   "source": [
    "Typically, we perform input validation by repeatedly asking the user for input until they enter valid text, as in the following example:"
   ]
  },
  {
   "cell_type": "code",
   "execution_count": null,
   "metadata": {},
   "outputs": [],
   "source": [
    "while True: # stay in the while loop until a valid age is inputed.\n",
    "    print('Enter your age:')\n",
    "    age = input()\n",
    "    try:\n",
    "        age = int(age)\n",
    "    except: # if int(age) returns an exception, do this\n",
    "        print('Please use numeric digits.')\n",
    "        continue\n",
    "    if age < 1:\n",
    "        print('Please enter a positive number.')\n",
    "        continue\n",
    "    break\n",
    "\n",
    "print(f'Your age is {age}.')"
   ]
  },
  {
   "cell_type": "markdown",
   "metadata": {},
   "source": [
    "When you run this code, you’ll be prompted for your age until you enter a valid one. This ensures that by the time the execution leaves the while loop, the age variable will contain a valid value that won’t crash the program later on.\n",
    "\n",
    "However, writing input validation code for every input() call in your program quickly becomes tedious. Also, you may miss certain cases and allow invalid input to pass through your checks. In this chapter, you’ll learn how to use the third-party PyInputPlus module for input validation."
   ]
  },
  {
   "cell_type": "markdown",
   "metadata": {},
   "source": [
    "The PyInputPlus Module\n",
    "\n",
    "PyInputPlus contains functions similar to input() for several kinds of data: numbers, dates, email addresses, and more. If the user ever enters invalid input, such as a badly formatted date or a number that is outside of an intended range, PyInputPlus will reprompt them for input just like our code in the previous section did. PyInputPlus also has other useful features like a limit for the number of times it reprompts users and a timeout if users are required to respond within a time limit.\n",
    "\n",
    "PyInputPlus is not a part of the Python Standard Library, so you must install it separately using Pip. To install PyInputPlus, run pip install --user pyinputplus from the command line."
   ]
  },
  {
   "cell_type": "markdown",
   "metadata": {},
   "source": [
    "## The PyInputPlus Module\n",
    "\n",
    "PyInputPlus contains functions similar to input() for several kinds of data: numbers, dates, email addresses, and more. If the user ever enters invalid input, such as a badly formatted date or a number that is outside of an intended range, PyInputPlus will reprompt them for input just like our code in the previous section did. PyInputPlus also has other useful features like a limit for the number of times it reprompts users and a timeout if users are required to respond within a time limit.\n",
    "\n",
    "PyInputPlus is not a part of the Python Standard Library, so you must install it separately using Pip. To install PyInputPlus, run pip install --user pyinputplus from the command line."
   ]
  },
  {
   "cell_type": "code",
   "execution_count": null,
   "metadata": {},
   "outputs": [],
   "source": [
    "import pyinputplus"
   ]
  },
  {
   "cell_type": "markdown",
   "metadata": {},
   "source": [
    "PyInputPlus has several functions for different kinds of input:\n",
    "\n",
    "inputStr() Is like the built-in input() function but has the general PyInputPlus features. You can also pass a custom validation function to it\n",
    "\n",
    "inputNum() Ensures the user enters a number and returns an int or float, depending on if the number has a decimal point in it\n",
    "\n",
    "inputChoice() Ensures the user enters one of the provided choices\n",
    "\n",
    "inputMenu() Is similar to inputChoice(), but provides a menu with numbered or lettered options\n",
    "\n",
    "inputDatetime() Ensures the user enters a date and time\n",
    "\n",
    "inputYesNo() Ensures the user enters a “yes” or “no” response\n",
    "\n",
    "inputBool() Is similar to inputYesNo(), but takes a “True” or “False” response and returns a Boolean value\n",
    "\n",
    "inputEmail() Ensures the user enters a valid email address\n",
    "\n",
    "inputFilepath() Ensures the user enters a valid file path and filename, and can optionally check that a file with that name exists\n",
    "\n",
    "inputPassword() Is like the built-in input(), but displays * characters as the user types so that passwords, or other sensitive information, aren’t displayed on the screen\n",
    "\n",
    "These functions will automatically reprompt the user for as long as they enter invalid input:"
   ]
  },
  {
   "cell_type": "code",
   "execution_count": null,
   "metadata": {},
   "outputs": [],
   "source": [
    "import pyinputplus as pyip\n",
    "response = pyip.inputNum()"
   ]
  },
  {
   "cell_type": "markdown",
   "metadata": {},
   "source": [
    "The as pyip code in the import statement saves us from typing pyinputplus each time we want to call a PyInputPlus function. Instead we can use the shorter pyip name. If you take a look at the example, you see that unlike input(), these functions return an int or float value: 42 and 3.14 instead of the strings '42' and '3.14'."
   ]
  },
  {
   "cell_type": "markdown",
   "metadata": {},
   "source": [
    "Just as you can pass a string to input() to provide a prompt, you can pass a string to a PyInputPlus function’s prompt keyword argument to display a prompt:"
   ]
  },
  {
   "cell_type": "code",
   "execution_count": null,
   "metadata": {},
   "outputs": [],
   "source": [
    "response = input('Enter a number: ')\n",
    "\n",
    "import pyinputplus as pyip\n",
    "response = pyip.inputInt(prompt='Enter a number: ')"
   ]
  },
  {
   "cell_type": "markdown",
   "metadata": {},
   "source": [
    "Use Python’s help() function to find out more about each of these functions. For example, help(pyip.inputChoice) displays help information for the inputChoice() function. Complete documentation can be found at https://pyinputplus.readthedocs.io/.\n",
    "\n",
    "Unlike Python’s built-in input(), PyInputPlus functions have several additional features for input validation, as shown in the next section."
   ]
  },
  {
   "cell_type": "markdown",
   "metadata": {},
   "source": [
    "### The min, max, greaterThan, and lessThan Keyword Arguments\n",
    "\n",
    "The inputNum(), inputInt(), and inputFloat() functions, which accept int and float numbers, also have min, max, greaterThan, and lessThan keyword arguments for specifying a range of valid values. "
   ]
  },
  {
   "cell_type": "code",
   "execution_count": null,
   "metadata": {},
   "outputs": [],
   "source": [
    "import pyinputplus as pyip\n",
    "response = pyip.inputNum('Enter num: ', min=4)"
   ]
  },
  {
   "cell_type": "code",
   "execution_count": null,
   "metadata": {},
   "outputs": [],
   "source": [
    "response = pyip.inputNum('Enter num: ', greaterThan=4)"
   ]
  },
  {
   "cell_type": "code",
   "execution_count": null,
   "metadata": {},
   "outputs": [],
   "source": [
    "response = pyip.inputNum('>', min=4, lessThan=6)"
   ]
  },
  {
   "cell_type": "markdown",
   "metadata": {},
   "source": [
    "These keyword arguments are optional, but if supplied, the input cannot be less than the min argument or greater than the max argument (though the input can be equal to them). Also, the input must be greater than the greaterThan and less than the lessThan arguments (that is, the input cannot be equal to them)."
   ]
  },
  {
   "cell_type": "markdown",
   "metadata": {},
   "source": [
    "### The blank Keyword Argument\n",
    "\n",
    "By default, blank input isn’t allowed unless the blank keyword argument is set to True:"
   ]
  },
  {
   "cell_type": "code",
   "execution_count": null,
   "metadata": {},
   "outputs": [],
   "source": [
    "import pyinputplus as pyip\n",
    "response = pyip.inputNum('Enter num: ') # blank input will not be allowed\n",
    "\n"
   ]
  },
  {
   "cell_type": "markdown",
   "metadata": {},
   "source": [
    "Use blank=True if you’d like to make input optional so that the user doesn’t need to enter anything."
   ]
  },
  {
   "cell_type": "code",
   "execution_count": null,
   "metadata": {},
   "outputs": [],
   "source": [
    "import pyinputplus as pyip\n",
    "response = pyip.inputNum('Enter num: ', blank=True) # blank input allowed"
   ]
  },
  {
   "cell_type": "markdown",
   "metadata": {},
   "source": [
    "### The limit, timeout, and default Keyword Arguments\n",
    "\n",
    "By default, the PyInputPlus functions will continue to ask the user for valid input forever (or for as long as the program runs). If you’d like a function to stop asking the user for input after a certain number of tries or a certain amount of time, you can use the limit and timeout keyword arguments. Pass an integer for the limit keyword argument to determine how many attempts a PyInputPlus function will make to receive valid input before giving up, and pass an integer for the timeout keyword argument to determine how many seconds the user has to enter valid input before the PyInputPlus function gives up.\n",
    "\n",
    "If the user fails to enter valid input, these keyword arguments will cause the function to raise a RetryLimitException or TimeoutException, respectively."
   ]
  },
  {
   "cell_type": "code",
   "execution_count": null,
   "metadata": {},
   "outputs": [],
   "source": [
    "response = pyip.inputNum(limit=2) # limit input to two tries"
   ]
  },
  {
   "cell_type": "code",
   "execution_count": null,
   "metadata": {},
   "outputs": [],
   "source": [
    "response = pyip.inputNum(timeout=5) # will timeout after 5 seconds"
   ]
  },
  {
   "cell_type": "markdown",
   "metadata": {},
   "source": [
    "When you use these keyword arguments and also pass a default keyword argument, the function returns the default value instead of raising an exception. "
   ]
  },
  {
   "cell_type": "code",
   "execution_count": null,
   "metadata": {},
   "outputs": [],
   "source": [
    "response = pyip.inputNum(limit=2, default='N/A') # will default to N/A if tries are exhausted"
   ]
  },
  {
   "cell_type": "markdown",
   "metadata": {},
   "source": [
    "### The allowRegexes and blockRegexes Keyword Arguments\n",
    "\n",
    "You can also use regular expressions to specify whether an input is allowed or not. The allowRegexes and blockRegexes keyword arguments take a list of regular expression strings to determine what the PyInputPlus function will accept or reject as valid input. For example, enter the following code into the interactive shell so that inputNum() will accept Roman numerals in addition to the usual numbers:"
   ]
  },
  {
   "cell_type": "code",
   "execution_count": 5,
   "metadata": {},
   "outputs": [
    {
     "name": "stdout",
     "output_type": "stream",
     "text": [
      "'Z' is not a number.\n"
     ]
    }
   ],
   "source": [
    "import pyinputplus as pyip\n",
    "\n",
    "# allow input that matches the specififed reGex ()\n",
    "response = pyip.inputNum(allowRegexes=[r'(I|V|X|L|C|D|M)+', r'zero'])"
   ]
  },
  {
   "cell_type": "markdown",
   "metadata": {},
   "source": [
    "Of course, this regex affects only what letters the inputNum() function will accept from the user; the function will still accept Roman numerals with invalid ordering such as 'XVX' or 'MILLI' because the r'(I|V|X|L|C|D|M)+' regular expression accepts those strings.\n",
    "\n",
    "You can also specify a list of regular expression strings that a PyInputPlus function won’t accept by using the blockRegexes keyword argument."
   ]
  },
  {
   "cell_type": "code",
   "execution_count": 6,
   "metadata": {},
   "outputs": [
    {
     "name": "stdout",
     "output_type": "stream",
     "text": [
      "This response is invalid.\n"
     ]
    }
   ],
   "source": [
    "response = pyip.inputNum(blockRegexes=[r'[02468]$'])"
   ]
  },
  {
   "cell_type": "markdown",
   "metadata": {},
   "source": [
    "If you specify both an allowRegexes and blockRegexes argument, the allow list overrides the block list. For example, enter the following into the interactive shell, which allows 'caterpillar' and 'category' but blocks anything else that has the word 'cat' in it:"
   ]
  },
  {
   "cell_type": "code",
   "execution_count": 7,
   "metadata": {},
   "outputs": [
    {
     "name": "stdout",
     "output_type": "stream",
     "text": [
      "This response is invalid.\n",
      "This response is invalid.\n",
      "Blank values are not allowed.\n"
     ]
    }
   ],
   "source": [
    "response = pyip.inputStr(allowRegexes=[r'caterpillar', 'category'], blockRegexes=[r'cat'])"
   ]
  },
  {
   "cell_type": "markdown",
   "metadata": {},
   "source": [
    "The PyInputPlus module’s functions can save you from writing tedious input validation code yourself. But there’s more to the PyInputPlus module than what has been detailed here. You can examine its full documentation online at https://pyinputplus.readthedocs.io/."
   ]
  },
  {
   "cell_type": "markdown",
   "metadata": {},
   "source": [
    "### Passing a Custom Validation Function to inputCustom()\n",
    "\n",
    "You can write a function to perform your own custom validation logic by passing the function to inputCustom(). For example, say you want the user to enter a series of digits that adds up to 10. There is no pyinputplus.inputAddsUpToTen() function, but you can create your own function that:\n",
    "\n",
    "    Accepts a single string argument of what the user entered\n",
    "    Raises an exception if the string fails validation\n",
    "    Returns None (or has no return statement) if inputCustom() should return the string unchanged\n",
    "    Returns a non-None value if inputCustom() should return a different string from the one the user entered\n",
    "    Is passed as the first argument to inputCustom()\n",
    "\n",
    "For example, we can create our own addsUpToTen() function, and then pass it to inputCustom(). Note that the function call looks like inputCustom(addsUpToTen) and not inputCustom(addsUpToTen()) because we are passing the addsUpToTen() function itself to inputCustom(), not calling addsUpToTen() and passing its return value."
   ]
  },
  {
   "cell_type": "code",
   "execution_count": null,
   "metadata": {},
   "outputs": [
    {
     "name": "stdout",
     "output_type": "stream",
     "text": [
      "[5, 5]\n"
     ]
    }
   ],
   "source": [
    "# lets write out own \"adds to ten\" validation function and pass it to inputCustom\n",
    "\n",
    "import pyinputplus as pyip\n",
    "\n",
    "def addsUpToTen(numbers):\n",
    "    numbersList = list(numbers)\n",
    "    for i, digit in enumerate(numbersList):\n",
    "        numbersList[i] = int(digit)\n",
    "    if sum(numbersList) != 10:\n",
    "        raise Exception('The digits must add up to 10, not %s.' % (sum(numbersList)))\n",
    "    return int(numbers) # Return an int form of numbers.\n",
    "\n",
    "response = pyip.inputCustom(addsUpToTen) # No parenthesis after the validation function here"
   ]
  },
  {
   "cell_type": "markdown",
   "metadata": {},
   "source": [
    "The inputCustom() function also supports the general PyInputPlus features, such as the blank, limit, timeout, default, allowRegexes, and blockRegexes keyword arguments. Writing your own custom validation function is useful when it’s otherwise difficult or impossible to write a regular expression for valid input, as in the “adds up to 10” example."
   ]
  },
  {
   "cell_type": "markdown",
   "metadata": {},
   "source": [
    "## Project: How to Keep an Idiot Busy for Hours\n",
    "\n",
    "Let’s use PyInputPlus to create a simple program that does the following:\n",
    "\n",
    "    Ask the user if they’d like to know how to keep an idiot busy for hours.\n",
    "    If the user answers no, quit.\n",
    "    If the user answers yes, go to Step 1.\n",
    "\n",
    "Of course, we don’t know if the user will enter something besides “yes” or “no,” so we need to perform input validation. It would also be convenient for the user to be able to enter “y” or “n” instead of the full words. PyInputPlus’s inputYesNo() function will handle this for us and, no matter what case the user enters, return a lowercase 'yes' or 'no' string value."
   ]
  },
  {
   "cell_type": "code",
   "execution_count": 4,
   "metadata": {},
   "outputs": [
    {
     "name": "stdout",
     "output_type": "stream",
     "text": [
      "Want to know how to keep an idiot busy for hours?\n",
      "Thank you. Have a nice day. \n"
     ]
    }
   ],
   "source": [
    "import pyinputplus as pyip\n",
    "\n",
    "while True:\n",
    "    prompt = 'Want to know how to keep an idiot busy for hours?\\n'\n",
    "    response = pyip.inputYesNo(prompt)\n",
    "    \n",
    "    if response == 'no':\n",
    "        break\n",
    "\n",
    "print('Thank you. Have a nice day. ')"
   ]
  },
  {
   "cell_type": "markdown",
   "metadata": {},
   "source": [
    "## Project: Multiplication Quiz\n",
    "\n",
    "PyInputPlus’s features can be useful for creating a timed multiplication quiz. By setting the allowRegexes, blockRegexes, timeout, and limit keyword argument to pyip.inputStr(), you can leave most of the implementation to PyInputPlus. The less code you need to write, the faster you can write your programs. Let’s create a program that poses 10 multiplication problems to the user, where the valid input is the problem’s correct answer. Open a new file editor tab and save the file as multiplicationQuiz.py.\n",
    "\n",
    "First, we’ll import pyinputplus, random, and time. We’ll keep track of how many questions the program asks and how many correct answers the user gives with the variables numberOfQuestions and correctAnswers. A for loop will repeatedly pose a random multiplication problem 10 times:\n",
    "\n",
    "The pyip.inputStr() function will handle most of the features of this quiz program. The argument we pass for allowRegexes is a list with the regex string '^%s$', where %s is replaced with the correct answer. The ^ and % characters ensure that the answer begins and ends with the correct number, though PyInputPlus trims any whitespace from the start and end of the user’s response first just in case they inadvertently pressed the spacebar before or after their answer. The argument we pass for blocklistRegexes is a list with ('.*', 'Incorrect!'). The first string in the tuple is a regex that matches every possible string. Therefore, if the user response doesn’t match the correct answer, the program will reject any other answer they provide. In that case, the 'Incorrect!' string is displayed and the user is prompted to answer again. Additionally, passing 8 for timeout and 3 for limit will ensure that the user only has 8 seconds and 3 tries to provide a correct answer:\n",
    "\n",
    "If the user answers after the 8-second timeout has expired, even if they answer correctly, pyip.inputStr() raises a TimeoutException exception. If the user answers incorrectly more than 3 times, it raises a RetryLimitException exception. Both of these exception types are in the PyInputPlus module, so pyip. needs to prepend them:\n",
    "\n",
    "Remember that, just like how else blocks can follow an if or elif block, they can optionally follow the last except block. The code inside the following else block will run if no exception was raised in the try block. In our case, that means the code runs if the user entered the correct answer:\n",
    "\n",
    "No matter which of the three messages, “Out of time!”, “Out of tries!”, or “Correct!”, displays, let’s place a 1-second pause at the end of the for loop to give the user time to read it. After the program has asked 10 questions and the for loop continues, let’s show the user how many correct answers they made:\n",
    "\n",
    "PyInputPlus is flexible enough that you can use it in a wide variety of programs that take keyboard input from the user, as demonstrated by the programs in this chapter."
   ]
  },
  {
   "cell_type": "code",
   "execution_count": 4,
   "metadata": {},
   "outputs": [
    {
     "name": "stdout",
     "output_type": "stream",
     "text": [
      "#1: 7 x 7 = Correct!\n",
      "#2: 3 x 9 = Correct!\n",
      "#3: 2 x 1 = Correct!\n",
      "#4: 9 x 8 = Correct!\n",
      "#5: 3 x 8 = Correct!\n",
      "#6: 9 x 4 = Correct!\n",
      "#7: 1 x 9 = Correct!\n",
      "#8: 7 x 0 = Correct!\n",
      "#9: 7 x 3 = Correct!\n",
      "#10: 0 x 4 = Correct!\n",
      "Score: 10 / 10\n"
     ]
    }
   ],
   "source": [
    "import pyinputplus as pyip\n",
    "import random, time\n",
    "\n",
    "numberOfQuestions = 10\n",
    "correctAnswers = 0\n",
    "\n",
    "for questionNumber in range (numberOfQuestions):\n",
    "    # Pick two random answers\n",
    "    num1 = random.randint(0, 9)\n",
    "    num2 = random.randint(0, 9)\n",
    "    prompt = '#%s: %s x %s = ' % (questionNumber + 1, num1, num2)\n",
    "\n",
    "    try:\n",
    "        # Right answers are handled by allowRegexes.\n",
    "        # Wrong answers are handled by blockRegexes, with a custom message.\n",
    "        pyip.inputStr(prompt, allowRegexes=['^%s$' % (num1 * num2)], blockRegexes=[('.*', 'Incorrect!')], timeout=8, limit=3)\n",
    "        \n",
    "    except pyip.TimeoutException:\n",
    "        print('Out of time!')\n",
    "    except pyip.RetryLimitException:\n",
    "        print('Out of tries!')\n",
    "    \n",
    "    else:\n",
    "        # This block executes if no exceptions were raised in the try block\n",
    "        print('Correct!')\n",
    "        correctAnswers +=1\n",
    "    time.sleep(1) # Brief pause to let user see the result\n",
    "\n",
    "print('Score: %s / %s' % (correctAnswers, numberOfQuestions))"
   ]
  }
 ],
 "metadata": {
  "kernelspec": {
   "display_name": "Python 3",
   "language": "python",
   "name": "python3"
  },
  "language_info": {
   "codemirror_mode": {
    "name": "ipython",
    "version": 3
   },
   "file_extension": ".py",
   "mimetype": "text/x-python",
   "name": "python",
   "nbconvert_exporter": "python",
   "pygments_lexer": "ipython3",
   "version": "3.13.1"
  }
 },
 "nbformat": 4,
 "nbformat_minor": 2
}
