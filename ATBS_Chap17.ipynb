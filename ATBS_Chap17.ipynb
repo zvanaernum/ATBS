{
 "cells": [
  {
   "cell_type": "markdown",
   "metadata": {},
   "source": [
    "# Chapter 17: Keeping Time, Scheduling Tasks, and Launching Programs\n",
    "Running programs while you’re sitting at your computer is fine, but it’s also useful to have programs run without your direct supervision. Your computer’s clock can schedule programs to run code at some specified time and date or at regular intervals. For example, your program could scrape a website every hour to check for changes or do a CPU-intensive task at 4 AM while you sleep. Python’s time and datetime modules provide these functions.\n",
    "\n",
    "You can also write programs that launch other programs on a schedule by using the subprocess and threading modules. Often, the fastest way to program is to take advantage of applications that other people have already written."
   ]
  },
  {
   "cell_type": "markdown",
   "metadata": {},
   "source": [
    "### The time Module\n",
    "\n",
    "Your computer’s system clock is set to a specific date, time, and time zone. The built-in time module allows your Python programs to read the system clock for the current time. The time.time() and time.sleep() functions are the most useful in the time module."
   ]
  },
  {
   "cell_type": "markdown",
   "metadata": {},
   "source": [
    "### The time.time() Function\n",
    "\n",
    "The Unix epoch is a time reference commonly used in programming: 12 AM on January 1, 1970, Coordinated Universal Time (UTC). The time.time() function returns the number of seconds since that moment as a float value. (Recall that a float is just a number with a decimal point.) This number is called an epoch timestamp. For example, enter the following into the interactive shell:"
   ]
  },
  {
   "cell_type": "code",
   "execution_count": 1,
   "metadata": {},
   "outputs": [
    {
     "data": {
      "text/plain": [
       "1737413966.3996685"
      ]
     },
     "execution_count": 1,
     "metadata": {},
     "output_type": "execute_result"
    }
   ],
   "source": [
    "import time\n",
    "epochTimeStamp = time.time()\n",
    "epochTimeStamp"
   ]
  },
  {
   "cell_type": "markdown",
   "metadata": {},
   "source": [
    "The following code is not in the book, but I wanted to try to convert back to calendar time using the datetime library"
   ]
  },
  {
   "cell_type": "code",
   "execution_count": 3,
   "metadata": {},
   "outputs": [
    {
     "name": "stdout",
     "output_type": "stream",
     "text": [
      "2018-12-03 00:11:15\n"
     ]
    }
   ],
   "source": [
    "import datetime\n",
    "\n",
    "# Example Unix timestamp\n",
    "epochTimeStamp = 1543813875.3518236\n",
    "\n",
    "# Convert to datetime object\n",
    "datetime_obj = datetime.datetime.fromtimestamp(epochTimeStamp)\n",
    "\n",
    "# Print the formatted date and time\n",
    "print(datetime_obj.strftime('%Y-%m-%d %H:%M:%S'))\n"
   ]
  },
  {
   "cell_type": "markdown",
   "metadata": {},
   "source": [
    "Here I’m calling time.time() on December 2, 2018, at 9:11 PM Pacific Standard Time. The return value is how many seconds have passed between the Unix epoch and the moment time.time() was called.\n",
    "\n",
    "Epoch timestamps can be used to profile code, that is, measure how long a piece of code takes to run. If you call time.time() at the beginning of the code block you want to measure and again at the end, you can subtract the first timestamp from the second to find the elapsed time between those two calls. For example, open a new file editor tab and enter the following program:"
   ]
  },
  {
   "cell_type": "code",
   "execution_count": 40,
   "metadata": {},
   "outputs": [
    {
     "name": "stdout",
     "output_type": "stream",
     "text": [
      "The result is 456569 digits long.\n",
      "Took 2.4745500087738037 seconds to calculate.\n"
     ]
    }
   ],
   "source": [
    "import time, sys\n",
    "\n",
    "# By default the intefer str conversion limit seems to be limited to 4300 digits. Use the following to change the limit\n",
    "sys.set_int_max_str_digits(1000000)\n",
    "\n",
    "\n",
    "def calcProd(num):\n",
    "    # Look through num integers and return their product\n",
    "    product = 1\n",
    "    for i in range (1, num):\n",
    "        product = product * i\n",
    "\n",
    "    return product\n",
    "\n",
    "startTime = time.time()\n",
    "prod = calcProd(100000)\n",
    "endTime = time.time()\n",
    "print('The result is %s digits long.' % (len(str(prod))))\n",
    "print('Took %s seconds to calculate.' % (endTime - startTime))"
   ]
  },
  {
   "cell_type": "markdown",
   "metadata": {},
   "source": [
    "NOTE\n",
    "\n",
    "Another way to profile your code is to use the cProfile.run() function, which provides a much more informative level of detail than the simple time.time() technique. The cProfile.run() function is explained at https://docs.python.org/3/library/profile.html.\n"
   ]
  },
  {
   "cell_type": "markdown",
   "metadata": {},
   "source": [
    "The return value from time.time() is useful, but not human-readable. The time.ctime() function returns a string description of the current time. You can also optionally pass the number of seconds since the Unix epoch, as returned by time.time(), to get a string value of that time. Enter the following into the interactive shell:"
   ]
  },
  {
   "cell_type": "code",
   "execution_count": 41,
   "metadata": {},
   "outputs": [
    {
     "data": {
      "text/plain": [
       "'Mon Jan 20 18:29:15 2025'"
      ]
     },
     "execution_count": 41,
     "metadata": {},
     "output_type": "execute_result"
    }
   ],
   "source": [
    "import time\n",
    "time.ctime()"
   ]
  },
  {
   "cell_type": "code",
   "execution_count": 42,
   "metadata": {},
   "outputs": [
    {
     "data": {
      "text/plain": [
       "'Mon Jan 20 18:29:47 2025'"
      ]
     },
     "execution_count": 42,
     "metadata": {},
     "output_type": "execute_result"
    }
   ],
   "source": [
    "import time\n",
    "thisMoment = time.time()\n",
    "time.ctime(thisMoment)"
   ]
  },
  {
   "cell_type": "markdown",
   "metadata": {},
   "source": [
    "### The time.sleep() Function\n",
    "\n",
    "If you need to pause your program for a while, call the time.sleep() function and pass it the number of seconds you want your program to stay paused. Enter the following into the interactive shell:"
   ]
  },
  {
   "cell_type": "code",
   "execution_count": 46,
   "metadata": {},
   "outputs": [
    {
     "name": "stdout",
     "output_type": "stream",
     "text": [
      "Tick\n",
      "Tock\n",
      "Tick\n",
      "Tock\n",
      "Tick\n",
      "Tock\n"
     ]
    }
   ],
   "source": [
    "import time\n",
    "for i in range(3):\n",
    "    print('Tick')\n",
    "    time.sleep(1)\n",
    "    print('Tock')\n",
    "    time.sleep(1)\n",
    "time.sleep(5) # blocks for 5 seconds until the program releases the console.    "
   ]
  },
  {
   "cell_type": "markdown",
   "metadata": {},
   "source": [
    "## Rounding Numbers\n",
    "\n",
    "When working with times, you’ll often encounter float values with many digits after the decimal. To make these values easier to work with, you can shorten them with Python’s built-in round() function, which rounds a float to the precision you specify. Just pass in the number you want to round, plus an optional second argument representing how many digits after the decimal point you want to round it to. If you omit the second argument, round() rounds your number to the nearest whole integer. Enter the following into the interactive shell:"
   ]
  },
  {
   "cell_type": "code",
   "execution_count": 47,
   "metadata": {},
   "outputs": [
    {
     "data": {
      "text/plain": [
       "1737416039.5278842"
      ]
     },
     "execution_count": 47,
     "metadata": {},
     "output_type": "execute_result"
    }
   ],
   "source": [
    "import time\n",
    "now = time.time()\n",
    "now"
   ]
  },
  {
   "cell_type": "code",
   "execution_count": 48,
   "metadata": {},
   "outputs": [
    {
     "data": {
      "text/plain": [
       "1737416039.53"
      ]
     },
     "execution_count": 48,
     "metadata": {},
     "output_type": "execute_result"
    }
   ],
   "source": [
    "round(now, 2)"
   ]
  },
  {
   "cell_type": "code",
   "execution_count": 49,
   "metadata": {},
   "outputs": [
    {
     "data": {
      "text/plain": [
       "1737416039.5279"
      ]
     },
     "execution_count": 49,
     "metadata": {},
     "output_type": "execute_result"
    }
   ],
   "source": [
    "round(now, 4)"
   ]
  },
  {
   "cell_type": "code",
   "execution_count": 50,
   "metadata": {},
   "outputs": [
    {
     "data": {
      "text/plain": [
       "1737416040"
      ]
     },
     "execution_count": 50,
     "metadata": {},
     "output_type": "execute_result"
    }
   ],
   "source": [
    "round(now) # rounds to the nearest integer"
   ]
  },
  {
   "cell_type": "markdown",
   "metadata": {},
   "source": [
    "## Project: Super Stopwatch\n",
    "\n",
    "Say you want to track how much time you spend on boring tasks you haven’t automated yet. You don’t have a physical stopwatch, and it’s surprisingly difficult to find a free stopwatch app for your laptop or smartphone that isn’t covered in ads and doesn’t send a copy of your browser history to marketers. (It says it can do this in the license agreement you agreed to. You did read the license agreement, didn’t you?) You can write a simple stopwatch program yourself in Python.\n",
    "\n",
    "At a high level, here’s what your program will do:\n",
    "\n",
    "    Track the amount of time elapsed between presses of the ENTER key, with each key press starting a new “lap” on the timer.\n",
    "    Print the lap number, total time, and lap time.\n",
    "\n",
    "This means your code will need to do the following:\n",
    "\n",
    "    Find the current time by calling time.time() and store it as a timestamp at the start of the program, as well as at the start of each lap.\n",
    "    Keep a lap counter and increment it every time the user presses ENTER.\n",
    "    Calculate the elapsed time by subtracting timestamps.\n",
    "    Handle the KeyboardInterrupt exception so the user can press CTRL-C to quit.\n",
    "\n",
    "Open a new file editor tab and save it as stopwatch.py."
   ]
  },
  {
   "cell_type": "markdown",
   "metadata": {},
   "source": [
    "### Step 1: Set Up the Program to Track Times\n",
    "\n",
    "The stopwatch program will need to use the current time, so you’ll want to import the time module. Your program should also print some brief instructions to the user before calling input(), so the timer can begin after the user presses ENTER. Then the code will start tracking lap times.\n",
    "\n",
    "Enter the following code into the file editor, writing a TODO comment as a placeholder for the rest of the code:"
   ]
  },
  {
   "cell_type": "code",
   "execution_count": null,
   "metadata": {},
   "outputs": [],
   "source": [
    "#! python3\n",
    "# stopwatch.py - A simple stopwatch program.\n",
    "\n",
    "import time\n",
    "\n",
    "# Display the program's instructions.\n",
    "print('Press ENTER to begin. Afterward, press ENTER to \"click\" the stopwatch. Press Ctrl-C to quit.')\n",
    "input()                    # press Enter to begin\n",
    "print('Started.')\n",
    "startTime = time.time()    # get the first lap's start time\n",
    "lastTime = startTime\n",
    "lapNum = 1\n",
    "\n",
    "# TODO: Start tracking the lap times."
   ]
  },
  {
   "cell_type": "markdown",
   "metadata": {},
   "source": [
    "### Step 2: Track and Print Lap Times\n",
    "\n",
    "Now let’s write the code to start each new lap, calculate how long the previous lap took, and calculate the total time elapsed since starting the stopwatch. We’ll display the lap time and total time and increase the lap count for each new lap. Add the following code to your program:"
   ]
  },
  {
   "cell_type": "code",
   "execution_count": 1,
   "metadata": {},
   "outputs": [
    {
     "name": "stdout",
     "output_type": "stream",
     "text": [
      "Press ENTER to begin. Afterward, press ENTER to \"click\" the stopwatch. Press Ctrl-C to quit.\n",
      "Started.\n",
      "Lap #1: Total Time: 2.93, Lap Tme: 2.93\n",
      "Lap #2: Total Time: 4.54, Lap Tme: 1.61\n",
      "Lap #3: Total Time: 8.11, Lap Tme: 3.57\n",
      "Lap #4: Total Time: 9.9, Lap Tme: 1.79\n",
      "Lap #5: Total Time: 11.53, Lap Tme: 1.63\n",
      "Lap #6: Total Time: 12.79, Lap Tme: 1.26\n",
      "Lap #7: Total Time: 13.92, Lap Tme: 1.13\n"
     ]
    }
   ],
   "source": [
    "#! python3\n",
    "# stopwatch.py - A simple stopwatch program.\n",
    "\n",
    "import time\n",
    "\n",
    "# Display the program's instructions.\n",
    "print('Press ENTER to begin. Afterward, press ENTER to \"click\" the stopwatch. Press Ctrl-C to quit.')\n",
    "input()                    # press Enter to begin\n",
    "print('Started.')\n",
    "startTime = time.time()    # get the first lap's start time\n",
    "lastTime = startTime\n",
    "lapNum = 1\n",
    "\n",
    "# Start tracking the lap times.\n",
    "try:\n",
    "    while True: # create an infinite loop that calls input and waits for user to press enter to end lap\n",
    "        input()\n",
    "        lapTime = round(time.time() - lastTime, 2)\n",
    "        totalTime = round(time.time() - startTime, 2)\n",
    "        print('Lap #%s: Total Time: %s, Lap Tme: %s\\n' % (lapNum, totalTime, lapTime), end='')\n",
    "        lapNum += 1\n",
    "        lastTime = time.time() # reset the last lap time\n",
    "except KeyboardInterrupt:\n",
    "    # Handle the Ctrl-C exception to keep its error messafe from displaying.\n",
    "    print('\\n Done.')"
   ]
  },
  {
   "cell_type": "markdown",
   "metadata": {},
   "source": [
    "If the user presses CTRL-C to stop the stopwatch, the KeyboardInterrupt exception will be raised, and the program will crash if its execution is not a try statement. To prevent crashing, we wrap this part of the program in a try statement ➊. We’ll handle the exception in the except clause ➏, so when CTRL-C is pressed and the exception is raised, the program execution moves to the except clause to print Done, instead of the KeyboardInterrupt error message. Until this happens, the execution is inside an infinite loop ➋ that calls input() and waits until the user presses ENTER to end a lap. When a lap ends, we calculate how long the lap took by subtracting the start time of the lap, lastTime, from the current time, time.time() ➌. We calculate the total time elapsed by subtracting the overall start time of the stopwatch, startTime, from the current time ➍.\n",
    "\n",
    "Since the results of these time calculations will have many digits after the decimal point (such as 4.766272783279419), we use the round() function to round the float value to two digits at ➌ and ➍.\n",
    "\n",
    "At ➎, we print the lap number, total time elapsed, and the lap time. Since the user pressing ENTER for the input() call will print a newline to the screen, pass end='' to the print() function to avoid double-spacing the output. After printing the lap information, we get ready for the next lap by adding 1 to the count lapNum and setting lastTime to the current time, which is the start time of the next lap."
   ]
  },
  {
   "cell_type": "markdown",
   "metadata": {},
   "source": [
    "Ideas for Similar Programs\n",
    "\n",
    "Time tracking opens up several possibilities for your programs. Although you can download apps to do some of these things, the benefit of writing programs yourself is that they will be free and not bloated with ads and useless features. You could write similar programs to do the following:\n",
    "\n",
    "    Create a simple timesheet app that records when you type a person’s name and uses the current time to clock them in or out.\n",
    "    Add a feature to your program to display the elapsed time since a process started, such as a download that uses the requests module. (See Chapter 12.)\n",
    "    Intermittently check how long a program has been running and offer the user a chance to cancel tasks that are taking too long.\n"
   ]
  },
  {
   "cell_type": "markdown",
   "metadata": {},
   "source": [
    "## The datetime Module\n",
    "\n",
    "The time module is useful for getting a Unix epoch timestamp to work with. But if you want to display a date in a more convenient format, or do arithmetic with dates (for example, figuring out what date was 205 days ago or what date is 123 days from now), you should use the datetime module.\n",
    "\n",
    "The datetime module has its own datetime data type. datetime values represent a specific moment in time. Enter the following into the interactive shell:"
   ]
  },
  {
   "cell_type": "code",
   "execution_count": 1,
   "metadata": {},
   "outputs": [
    {
     "data": {
      "text/plain": [
       "datetime.datetime(2025, 2, 1, 10, 23, 3, 190649)"
      ]
     },
     "execution_count": 1,
     "metadata": {},
     "output_type": "execute_result"
    }
   ],
   "source": [
    "import datetime\n",
    "datetime.datetime.now() # returns a datetime object for a current date and time"
   ]
  },
  {
   "cell_type": "code",
   "execution_count": 2,
   "metadata": {},
   "outputs": [
    {
     "data": {
      "text/plain": [
       "(2019, 10, 21)"
      ]
     },
     "execution_count": 2,
     "metadata": {},
     "output_type": "execute_result"
    }
   ],
   "source": [
    "dt = datetime.datetime(2019, 10, 21, 16, 29, 0) # create a datetime object for specified time\n",
    "dt.year, dt.month, dt.day"
   ]
  },
  {
   "cell_type": "code",
   "execution_count": 3,
   "metadata": {},
   "outputs": [
    {
     "data": {
      "text/plain": [
       "(16, 29, 0)"
      ]
     },
     "execution_count": 3,
     "metadata": {},
     "output_type": "execute_result"
    }
   ],
   "source": [
    "dt.hour, dt.minute, dt.second"
   ]
  },
  {
   "cell_type": "markdown",
   "metadata": {},
   "source": [
    "Calling datetime.datetime.now() ➊ returns a datetime object ➋ for the current date and time, according to your computer’s clock. This object includes the year, month, day, hour, minute, second, and microsecond of the current moment. You can also retrieve a datetime object for a specific moment by using the datetime.datetime() function ➌, passing it integers representing the year, month, day, hour, and second of the moment you want. These integers will be stored in the datetime object’s year, month, day ➍, hour, minute, and second ➎ attributes.\n",
    "\n",
    "A Unix epoch timestamp can be converted to a datetime object with the datetime.datetime.fromtimestamp() function. The date and time of the datetime object will be converted for the local time zone. Enter the following into the interactive shell:"
   ]
  },
  {
   "cell_type": "code",
   "execution_count": 4,
   "metadata": {},
   "outputs": [
    {
     "data": {
      "text/plain": [
       "datetime.datetime(1970, 1, 12, 8, 46, 40)"
      ]
     },
     "execution_count": 4,
     "metadata": {},
     "output_type": "execute_result"
    }
   ],
   "source": [
    "import datetime, time\n",
    "datetime.datetime.fromtimestamp(1000000) # 1 million seconds after the Unix epoch"
   ]
  },
  {
   "cell_type": "code",
   "execution_count": 5,
   "metadata": {},
   "outputs": [
    {
     "data": {
      "text/plain": [
       "datetime.datetime(2025, 2, 1, 10, 36, 24, 470117)"
      ]
     },
     "execution_count": 5,
     "metadata": {},
     "output_type": "execute_result"
    }
   ],
   "source": [
    "datetime.datetime.fromtimestamp(time.time()) # pass the current Unix time to datetime"
   ]
  },
  {
   "cell_type": "markdown",
   "metadata": {},
   "source": [
    "Calling datetime.datetime.fromtimestamp() and passing it 1000000 returns a datetime object for the moment 1,000,000 seconds after the Unix epoch. Passing time.time(), the Unix epoch timestamp for the current moment, returns a datetime object for the current moment. So the expressions datetime.datetime.now() and datetime.datetime.fromtimestamp(time.time()) do the same thing; they both give you a datetime object for the present moment.\n",
    "\n",
    "You can compare datetime objects with each other using comparison operators to find out which one precedes the other. The later datetime object is the “greater” value. Enter the following into the interactive shell:"
   ]
  },
  {
   "cell_type": "code",
   "execution_count": 6,
   "metadata": {},
   "outputs": [
    {
     "data": {
      "text/plain": [
       "True"
      ]
     },
     "execution_count": 6,
     "metadata": {},
     "output_type": "execute_result"
    }
   ],
   "source": [
    "halloween2019 = datetime.datetime(2019, 10, 31, 0, 0, 0)\n",
    "newyears2020 = datetime.datetime(2020, 1, 1, 0, 0, 0)\n",
    "oct31_2019 = datetime.datetime(2019, 10, 31, 0, 0, 0)\n",
    "halloween2019 == oct31_2019"
   ]
  },
  {
   "cell_type": "code",
   "execution_count": 7,
   "metadata": {},
   "outputs": [
    {
     "data": {
      "text/plain": [
       "False"
      ]
     },
     "execution_count": 7,
     "metadata": {},
     "output_type": "execute_result"
    }
   ],
   "source": [
    "halloween2019 > newyears2020"
   ]
  },
  {
   "cell_type": "code",
   "execution_count": 8,
   "metadata": {},
   "outputs": [
    {
     "data": {
      "text/plain": [
       "True"
      ]
     },
     "execution_count": 8,
     "metadata": {},
     "output_type": "execute_result"
    }
   ],
   "source": [
    "newyears2020 > halloween2019"
   ]
  },
  {
   "cell_type": "code",
   "execution_count": 9,
   "metadata": {},
   "outputs": [
    {
     "data": {
      "text/plain": [
       "True"
      ]
     },
     "execution_count": 9,
     "metadata": {},
     "output_type": "execute_result"
    }
   ],
   "source": [
    "newyears2020 != halloween2019"
   ]
  },
  {
   "cell_type": "markdown",
   "metadata": {},
   "source": [
    "Make a datetime object for the first moment (midnight) of October 31, 2019, and store it in halloween2019 ➊. Make a datetime object for the first moment of January 1, 2020, and store it in newyears2020 ➋. Then make another object for midnight on October 31, 2019, and store it in oct31_2019. Comparing halloween2019 and oct31_2019 shows that they’re equal ➌. Comparing newyears2020 and halloween2019 shows that newyears2020 is greater (later) than halloween2019 ➍ ➎."
   ]
  },
  {
   "cell_type": "markdown",
   "metadata": {},
   "source": [
    "### The timedelta Data Type\n",
    "\n",
    "The datetime module also provides a timedelta data type, which represents a duration of time rather than a moment in time. Enter the following into the interactive shell:"
   ]
  },
  {
   "cell_type": "code",
   "execution_count": 10,
   "metadata": {},
   "outputs": [
    {
     "data": {
      "text/plain": [
       "(11, 36548, 0)"
      ]
     },
     "execution_count": 10,
     "metadata": {},
     "output_type": "execute_result"
    }
   ],
   "source": [
    "delta = datetime.timedelta(days=11, hours=10, minutes=9, seconds=8) # create a timedelta object\n",
    "# will return 11 days and the number of seconds that equal 10 hours, 9 min and 8 secodns\n",
    "delta.days, delta.seconds, delta.microseconds"
   ]
  },
  {
   "cell_type": "code",
   "execution_count": 12,
   "metadata": {},
   "outputs": [
    {
     "data": {
      "text/plain": [
       "986948.0"
      ]
     },
     "execution_count": 12,
     "metadata": {},
     "output_type": "execute_result"
    }
   ],
   "source": [
    "delta.total_seconds() # total time delta expresed as seconds"
   ]
  },
  {
   "cell_type": "code",
   "execution_count": 13,
   "metadata": {},
   "outputs": [
    {
     "data": {
      "text/plain": [
       "'11 days, 10:09:08'"
      ]
     },
     "execution_count": 13,
     "metadata": {},
     "output_type": "execute_result"
    }
   ],
   "source": [
    "str(delta)"
   ]
  },
  {
   "cell_type": "markdown",
   "metadata": {},
   "source": [
    "To create a timedelta object, use the datetime.timedelta() function. The datetime.timedelta() function takes keyword arguments weeks, days, hours, minutes, seconds, milliseconds, and microseconds. There is no month or year keyword argument, because “a month” or “a year” is a variable amount of time depending on the particular month or year. A timedelta object has the total duration represented in days, seconds, and microseconds. These numbers are stored in the days, seconds, and microseconds attributes, respectively. The total_seconds() method will return the duration in number of seconds alone. Passing a timedelta object to str() will return a nicely formatted, human-readable string representation of the object.\n",
    "\n",
    "In this example, we pass keyword arguments to datetime.delta() to specify a duration of 11 days, 10 hours, 9 minutes, and 8 seconds, and store the returned timedelta object in delta ➊. This timedelta object’s days attributes stores 11, and its seconds attribute stores 36548 (10 hours, 9 minutes, and 8 seconds, expressed in seconds) ➋. Calling total_seconds() tells us that 11 days, 10 hours, 9 minutes, and 8 seconds is 986,948 seconds. Finally, passing the timedelta object to str() returns a string that plainly describes the duration.\n",
    "\n",
    "The arithmetic operators can be used to perform date arithmetic on datetime values. For example, to calculate the date 1,000 days from now, enter the following into the interactive shell:"
   ]
  },
  {
   "cell_type": "code",
   "execution_count": 14,
   "metadata": {},
   "outputs": [
    {
     "data": {
      "text/plain": [
       "datetime.datetime(2025, 2, 1, 10, 55, 30, 497389)"
      ]
     },
     "execution_count": 14,
     "metadata": {},
     "output_type": "execute_result"
    }
   ],
   "source": [
    "dt = datetime.datetime.now()\n",
    "dt"
   ]
  },
  {
   "cell_type": "code",
   "execution_count": 15,
   "metadata": {},
   "outputs": [
    {
     "data": {
      "text/plain": [
       "datetime.datetime(2027, 10, 29, 10, 55, 30, 497389)"
      ]
     },
     "execution_count": 15,
     "metadata": {},
     "output_type": "execute_result"
    }
   ],
   "source": [
    "thousandDays = datetime.timedelta(days=1000)\n",
    "dt + thousandDays"
   ]
  },
  {
   "cell_type": "markdown",
   "metadata": {},
   "source": [
    "First, make a datetime object for the current moment and store it in dt. Then make a timedelta object for a duration of 1,000 days and store it in thousandDays. Add dt and thousandDays together to get a datetime object for the date 1,000 days from now. Python will do the date arithmetic to figure out that 1,000 days after December 2, 2018, will be August 18, 2021. This is useful because when you calculate 1,000 days from a given date, you have to remember how many days are in each month and factor in leap years and other tricky details. The datetime module handles all of this for you.\n",
    "\n",
    "timedelta objects can be added or subtracted with datetime objects or other timedelta objects using the + and - operators. A timedelta object can be multiplied or divided by integer or float values with the * and / operators. Enter the following into the interactive shell:"
   ]
  },
  {
   "cell_type": "code",
   "execution_count": 17,
   "metadata": {},
   "outputs": [
    {
     "data": {
      "text/plain": [
       "datetime.datetime(2019, 10, 21, 16, 29)"
      ]
     },
     "execution_count": 17,
     "metadata": {},
     "output_type": "execute_result"
    }
   ],
   "source": [
    "oct21st = datetime.datetime(2019, 10, 21, 16, 29, 0)\n",
    "aboutThirtyYears = datetime.timedelta(days=365 * 30)\n",
    "oct21st"
   ]
  },
  {
   "cell_type": "code",
   "execution_count": 18,
   "metadata": {},
   "outputs": [
    {
     "data": {
      "text/plain": [
       "datetime.datetime(1989, 10, 28, 16, 29)"
      ]
     },
     "execution_count": 18,
     "metadata": {},
     "output_type": "execute_result"
    }
   ],
   "source": [
    "oct21st - aboutThirtyYears"
   ]
  },
  {
   "cell_type": "code",
   "execution_count": 19,
   "metadata": {},
   "outputs": [
    {
     "data": {
      "text/plain": [
       "datetime.datetime(1959, 11, 5, 16, 29)"
      ]
     },
     "execution_count": 19,
     "metadata": {},
     "output_type": "execute_result"
    }
   ],
   "source": [
    "oct21st - (2 * aboutThirtyYears)"
   ]
  },
  {
   "cell_type": "markdown",
   "metadata": {},
   "source": [
    "Here we make a datetime object for October 21, 2019, ➊ and a timedelta object for a duration of about 30 years (we’re assuming 365 days for each of those years) ➋. Subtracting aboutThirtyYears from oct21st gives us a datetime object for the date 30 years before October 21, 2019. Subtracting 2 * aboutThirtyYears from oct21st returns a datetime object for the date 60 years before October 21, 2019."
   ]
  },
  {
   "cell_type": "markdown",
   "metadata": {},
   "source": [
    "### Pausing Until a Specific Date\n",
    "\n",
    "The time.sleep() method lets you pause a program for a certain number of seconds. By using a while loop, you can pause your programs until a specific date. For example, the following code will continue to loop until Halloween 2016:"
   ]
  },
  {
   "cell_type": "code",
   "execution_count": 20,
   "metadata": {},
   "outputs": [],
   "source": [
    "import datetime\n",
    "import time\n",
    "haloween2016 = datetime.datetime(2016, 10, 31, 0, 0, 0)\n",
    "while datetime.datetime.now() < haloween2016:\n",
    "    time.sleep(1)"
   ]
  },
  {
   "cell_type": "markdown",
   "metadata": {},
   "source": [
    "The time.sleep(1) call will pause your Python program so that the computer doesn’t waste CPU processing cycles simply checking the time over and over. Rather, the while loop will just check the condition once per second and continue with the rest of the program after Halloween 2016 (or whenever you program it to stop)."
   ]
  },
  {
   "cell_type": "markdown",
   "metadata": {},
   "source": [
    "### Converting datetime Objects into Strings\n",
    "\n",
    "Epoch timestamps and datetime objects aren’t very friendly to the human eye. Use the strftime() method to display a datetime object as a string. (The f in the name of the strftime() function stands for format.)\n",
    "\n",
    "The strftime() method uses directives similar to Python’s string formatting. Table 17-1 has a full list of strftime() directives.\n",
    "\n",
    "strftime() directive\n",
    "\t\n",
    "\n",
    "Meaning\n",
    "\n",
    "%Y\n",
    "\t\n",
    "\n",
    "Year with century, as in '2014'\n",
    "\n",
    "%y\n",
    "\t\n",
    "\n",
    "Year without century, '00' to '99' (1970 to 2069)\n",
    "\n",
    "%m\n",
    "\t\n",
    "\n",
    "Month as a decimal number, '01' to '12'\n",
    "\n",
    "%B\n",
    "\t\n",
    "\n",
    "Full month name, as in 'November'\n",
    "\n",
    "%b\n",
    "\t\n",
    "\n",
    "Abbreviated month name, as in 'Nov'\n",
    "\n",
    "%d\n",
    "\t\n",
    "\n",
    "Day of the month, '01' to '31'\n",
    "\n",
    "%j\n",
    "\t\n",
    "\n",
    "Day of the year, '001' to '366'\n",
    "\n",
    "%w\n",
    "\t\n",
    "\n",
    "Day of the week, '0' (Sunday) to '6' (Saturday)\n",
    "\n",
    "%A\n",
    "\t\n",
    "\n",
    "Full weekday name, as in 'Monday'\n",
    "\n",
    "%a\n",
    "\t\n",
    "\n",
    "Abbreviated weekday name, as in 'Mon'\n",
    "\n",
    "%H\n",
    "\t\n",
    "\n",
    "Hour (24-hour clock), '00' to '23'\n",
    "\n",
    "%I\n",
    "\t\n",
    "\n",
    "Hour (12-hour clock), '01' to '12'\n",
    "\n",
    "%M\n",
    "\t\n",
    "\n",
    "Minute, '00' to '59'\n",
    "\n",
    "%S\n",
    "\t\n",
    "\n",
    "Second, '00' to '59'\n",
    "\n",
    "%p\n",
    "\t\n",
    "\n",
    "'AM' or 'PM'\n",
    "\n",
    "%%\n",
    "\t\n",
    "\n",
    "Literal '%' character"
   ]
  },
  {
   "cell_type": "markdown",
   "metadata": {},
   "source": [
    "Pass strftime() a custom format string containing formatting directives (along with any desired slashes, colons, and so on), and strftime() will return the datetime object’s information as a formatted string. Enter the following into the interactive shell:"
   ]
  },
  {
   "cell_type": "code",
   "execution_count": 22,
   "metadata": {},
   "outputs": [
    {
     "data": {
      "text/plain": [
       "'2019/10/21 16:29:00'"
      ]
     },
     "execution_count": 22,
     "metadata": {},
     "output_type": "execute_result"
    }
   ],
   "source": [
    "oct21st = datetime.datetime(2019, 10, 21, 16, 29, 0)\n",
    "oct21st.strftime('%Y/%m/%d %H:%M:%S')"
   ]
  },
  {
   "cell_type": "code",
   "execution_count": 23,
   "metadata": {},
   "outputs": [
    {
     "data": {
      "text/plain": [
       "'04:29 PM'"
      ]
     },
     "execution_count": 23,
     "metadata": {},
     "output_type": "execute_result"
    }
   ],
   "source": [
    "oct21st.strftime('%I:%M %p')"
   ]
  },
  {
   "cell_type": "code",
   "execution_count": 24,
   "metadata": {},
   "outputs": [
    {
     "data": {
      "text/plain": [
       "'October of 19'"
      ]
     },
     "execution_count": 24,
     "metadata": {},
     "output_type": "execute_result"
    }
   ],
   "source": [
    "oct21st.strftime('%B of %y')"
   ]
  },
  {
   "cell_type": "markdown",
   "metadata": {},
   "source": [
    "Here we have a datetime object for October 21, 2019, at 4:29 PM, stored in oct21st. Passing strftime() the custom format string '%Y/%m/%d %H:%M:%S' returns a string containing 2019, 10, and 21 separated by slashes and 16, 29, and 00 separated by colons. Passing '%I:%M% p' returns '04:29 PM', and passing \"%B of '%y\" returns \"October of '19\". Note that strftime() doesn’t begin with datetime.datetime."
   ]
  },
  {
   "cell_type": "markdown",
   "metadata": {},
   "source": [
    "### Converting Strings into datetime Objects\n",
    "\n",
    "If you have a string of date information, such as '2019/10/21 16:29:00' or 'October 21, 2019', and need to convert it to a datetime object, use the datetime.datetime.strptime() function. The strptime() function is the inverse of the strftime() method. A custom format string using the same directives as strftime() must be passed so that strptime() knows how to parse and understand the string. (The p in the name of the strptime() function stands for parse.)\n",
    "\n",
    "Enter the following into the interactive shell:"
   ]
  },
  {
   "cell_type": "code",
   "execution_count": 25,
   "metadata": {},
   "outputs": [
    {
     "data": {
      "text/plain": [
       "datetime.datetime(2019, 10, 21, 0, 0)"
      ]
     },
     "execution_count": 25,
     "metadata": {},
     "output_type": "execute_result"
    }
   ],
   "source": [
    "datetime.datetime.strptime('October 21, 2019', '%B %d, %Y')"
   ]
  },
  {
   "cell_type": "code",
   "execution_count": 26,
   "metadata": {},
   "outputs": [
    {
     "data": {
      "text/plain": [
       "datetime.datetime(2019, 10, 21, 16, 29)"
      ]
     },
     "execution_count": 26,
     "metadata": {},
     "output_type": "execute_result"
    }
   ],
   "source": [
    "datetime.datetime.strptime('2019/10/21 16:29:00', '%Y/%m/%d %H:%M:%S')"
   ]
  },
  {
   "cell_type": "code",
   "execution_count": 27,
   "metadata": {},
   "outputs": [
    {
     "data": {
      "text/plain": [
       "datetime.datetime(2019, 10, 1, 0, 0)"
      ]
     },
     "execution_count": 27,
     "metadata": {},
     "output_type": "execute_result"
    }
   ],
   "source": [
    "datetime.datetime.strptime(\"October of '19\", \"%B of '%y\")"
   ]
  },
  {
   "cell_type": "code",
   "execution_count": 28,
   "metadata": {},
   "outputs": [
    {
     "data": {
      "text/plain": [
       "datetime.datetime(2063, 11, 1, 0, 0)"
      ]
     },
     "execution_count": 28,
     "metadata": {},
     "output_type": "execute_result"
    }
   ],
   "source": [
    "datetime.datetime.strptime(\"November of '63\", \"%B of '%y\")"
   ]
  },
  {
   "cell_type": "markdown",
   "metadata": {},
   "source": [
    "To get a datetime object from the string 'October 21, 2019', pass that string as the first argument to strptime() and the custom format string that corresponds to 'October 21, 2019' as the second argument ➊. The string with the date information must match the custom format string exactly, or Python will raise a ValueError exception."
   ]
  }
 ],
 "metadata": {
  "kernelspec": {
   "display_name": "Python 3",
   "language": "python",
   "name": "python3"
  },
  "language_info": {
   "codemirror_mode": {
    "name": "ipython",
    "version": 3
   },
   "file_extension": ".py",
   "mimetype": "text/x-python",
   "name": "python",
   "nbconvert_exporter": "python",
   "pygments_lexer": "ipython3",
   "version": "3.13.1"
  }
 },
 "nbformat": 4,
 "nbformat_minor": 2
}
