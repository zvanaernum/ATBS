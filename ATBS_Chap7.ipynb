{
 "cells": [
  {
   "cell_type": "markdown",
   "metadata": {},
   "source": [
    "# Pattern Matching with regular Expressions\n",
    "\n",
    "You may be familiar with searching for text by pressing CTRL-F and entering the words you’re looking for. Regular expressions go one step further: they allow you to specify a pattern of text to search for. You may not know a business’s exact phone number, but if you live in the United States or Canada, you know it will be three digits, followed by a hyphen, and then four more digits (and optionally, a three-digit area code at the start). This is how you, as a human, know a phone number when you see it: 415-555-1234 is a phone number, but 4,155,551,234 is not.\n",
    "\n",
    "We also recognize all sorts of other text patterns every day: email addresses have @ symbols in the middle, US social security numbers have nine digits and two hyphens, website URLs often have periods and forward slashes, news headlines use title case, social media hashtags begin with # and contain no spaces, and more.\n",
    "\n",
    "Regular expressions are helpful, but few non-programmers know about them even though most modern text editors and word processors, such as Microsoft Word or OpenOffice, have find and find-and-replace features that can search based on regular expressions. Regular expressions are huge time-savers, not just for software users but also for programmers. In fact, tech writer Cory Doctorow argues that we should be teaching regular expressions even before programming:\n",
    "\n",
    "Knowing [regular expressions] can mean the difference between solving a problem in 3 steps and solving it in 3,000 steps. When you’re a nerd, you forget that the problems you solve with a couple keystrokes can take other people days of tedious, error-prone work to slog through.1\n",
    "\n",
    "In this chapter, you’ll start by writing a program to find text patterns without using regular expressions and then see how to use regular expressions to make the code much less bloated. I’ll show you basic matching with regular expressions and then move on to some more powerful features, such as string substitution and creating your own character classes. Finally, at the end of the chapter, you’ll write a program that can automatically extract phone numbers and email addresses from a block of text."
   ]
  },
  {
   "cell_type": "markdown",
   "metadata": {},
   "source": [
    "## Finding Patterns of Text Without Regular Expressions\n",
    "\n",
    "Say you want to find an American phone number in a string. You know the pattern if you’re American: three numbers, a hyphen, three numbers, a hyphen, and four numbers. Here’s an example: 415-555-4242.\n",
    "\n",
    "Let’s use a function named isPhoneNumber() to check whether a string matches this pattern, returning either True or False. "
   ]
  },
  {
   "cell_type": "code",
   "execution_count": 1,
   "metadata": {},
   "outputs": [
    {
     "name": "stdout",
     "output_type": "stream",
     "text": [
      "True\n",
      "False\n"
     ]
    }
   ],
   "source": [
    "def isPhoneNumber(text):\n",
    "    if len(text) != 12:\n",
    "        return False\n",
    "    for i in range(0, 3):\n",
    "        if not text[i].isdecimal():\n",
    "            return False\n",
    "    if text[3] != '-':\n",
    "        return False\n",
    "    for i in range(4, 7):\n",
    "        if not text[i].isdecimal():\n",
    "            return False\n",
    "    if text[7] != '-':\n",
    "        return False\n",
    "    for i in range(8, 12):\n",
    "        if not text[i].isdecimal():\n",
    "            return False\n",
    "    return True\n",
    "\n",
    "print(isPhoneNumber('415-555-4242'))\n",
    "print(isPhoneNumber('Moshi Moshi'))\n",
    "        "
   ]
  },
  {
   "cell_type": "markdown",
   "metadata": {},
   "source": [
    "The isPhoneNumber() function has code that does several checks to see whether the string in text is a valid phone number. If any of these checks fail, the function returns False. First the code checks that the string is exactly 12 characters ➊. Then it checks that the area code (that is, the first three characters in text) consists of only numeric characters ➋. The rest of the function checks that the string follows the pattern of a phone number: the number must have the first hyphen after the area code ➌, three more numeric characters ➍, then another hyphen ➎, and finally four more numbers ➏. If the program execution manages to get past all the checks, it returns True ➐.\n",
    "\n",
    "Calling isPhoneNumber() with the argument '415-555-4242' will return True. Calling isPhoneNumber() with 'Moshi moshi' will return False; the first test fails because 'Moshi moshi' is not 12 characters long.\n",
    "\n",
    "If you wanted to find a phone number within a larger string, you would have to add even more code to find the phone number pattern. Replace the last four print() function calls in isPhoneNumber.py with the following:"
   ]
  },
  {
   "cell_type": "code",
   "execution_count": 4,
   "metadata": {},
   "outputs": [
    {
     "name": "stdout",
     "output_type": "stream",
     "text": [
      "Phone number found: 415-555-1011\n",
      "Phone number found: 415-555-9999\n",
      "Done\n"
     ]
    }
   ],
   "source": [
    "message = 'Call me at 415-555-1011 tomorrow. 415-555-9999 is my office.'\n",
    "for i in range(len(message)):\n",
    "    chunk = message[i:i+12] # iterate through chunks of 12 (sliding window)\n",
    "    if isPhoneNumber(chunk):\n",
    "        print('Phone number found: ' +chunk)\n",
    "print('Done')"
   ]
  },
  {
   "cell_type": "markdown",
   "metadata": {},
   "source": [
    "On each iteration of the for loop, a new chunk of 12 characters from message is assigned to the variable chunk ➊. For example, on the first iteration, i is 0, and chunk is assigned message[0:12] (that is, the string 'Call me at 4'). On the next iteration, i is 1, and chunk is assigned message[1:13] (the string 'all me at 41'). In other words, on each iteration of the for loop, chunk takes on the following values:\n",
    "\n",
    "    'Call me at 4'\n",
    "    'all me at 41'\n",
    "    'll me at 415'\n",
    "    'l me at 415-'\n",
    "    . . . and so on.\n",
    "\n",
    "You pass chunk to isPhoneNumber() to see whether it matches the phone number pattern ➋, and if so, you print the chunk.\n",
    "\n",
    "Continue to loop through message, and eventually the 12 characters in chunk will be a phone number. The loop goes through the entire string, testing each 12-character piece and printing any chunk it finds that satisfies isPhoneNumber(). Once we’re done going through message, we print Done.\n",
    "\n",
    "While the string in message is short in this example, it could be millions of characters long and the program would still run in less than a second. A similar program that finds phone numbers using regular expressions would also run in less than a second, but regular expressions make it quicker to write these programs."
   ]
  },
  {
   "cell_type": "markdown",
   "metadata": {},
   "source": [
    "## Finding Patterns of Text with Regular Expressions\n",
    "\n",
    "The previous phone number–finding program works, but it uses a lot of code to do something limited: the isPhoneNumber() function is 17 lines but can find only one pattern of phone numbers. What about a phone number formatted like 415.555.4242 or (415) 555-4242? What if the phone number had an extension, like 415-555-4242 x99? The isPhoneNumber() function would fail to validate them. You could add yet more code for these additional patterns, but there is an easier way.\n",
    "\n",
    "Regular expressions, called regexes for short, are descriptions for a pattern of text. For example, a \\d in a regex stands for a digit character—that is, any single numeral from 0 to 9. The regex \\d\\d\\d-\\d\\d\\d-\\d\\d\\d\\d is used by Python to match the same text pattern the previous isPhoneNumber() function did: a string of three numbers, a hyphen, three more numbers, another hyphen, and four numbers. Any other string would not match the \\d\\d\\d-\\d\\d\\d-\\d\\d\\d\\d regex.\n",
    "\n",
    "But regular expressions can be much more sophisticated. For example, adding a 3 in braces ({3}) after a pattern is like saying, “Match this pattern three times.” So the slightly shorter regex \\d{3}-\\d{3}-\\d{4} also matches the correct phone number format."
   ]
  },
  {
   "cell_type": "markdown",
   "metadata": {},
   "source": [
    "### Creating Regex Objects\n",
    "\n",
    "All the regex functions in Python are in the re module. Enter the following into the interactive shell to import this module:\n",
    "\n",
    "import re\n",
    "\n",
    "Passing a string value representing your regular expression to re.compile() returns a Regex pattern object (or simply, a Regex object).\n",
    "\n",
    "To create a Regex object that matches the phone number pattern, enter the following into the interactive shell. (Remember that \\d means “a digit character” and \\d\\d\\d-\\d\\d\\d-\\d\\d\\d\\d is the regular expression for a phone number pattern"
   ]
  },
  {
   "cell_type": "code",
   "execution_count": 7,
   "metadata": {},
   "outputs": [],
   "source": [
    "import re\n",
    "\n",
    "phoneNumRegex = re.compile(r'\\d\\d\\d-\\d\\d\\d-\\d\\d\\d\\d')"
   ]
  },
  {
   "cell_type": "markdown",
   "metadata": {},
   "source": [
    "### Matching Regex Objects\n",
    "\n",
    "A Regex object’s search() method searches the string it is passed for any matches to the regex. The search() method will return None if the regex pattern is not found in the string. If the pattern is found, the search() method returns a Match object, which have a group() method that will return the actual matched text from the searched string. (I’ll explain groups shortly.)"
   ]
  },
  {
   "cell_type": "code",
   "execution_count": null,
   "metadata": {},
   "outputs": [
    {
     "name": "stdout",
     "output_type": "stream",
     "text": [
      "Phone number found: 415-555-4242\n",
      "<re.Match object; span=(13, 25), match='415-555-4242'>\n"
     ]
    }
   ],
   "source": [
    "phoneNumRegex = re.compile(r'\\d\\d\\d-\\d\\d\\d-\\d\\d\\d\\d')\n",
    "mo = phoneNumRegex.search('My number is 415-555-4242.')\n",
    "print('Phone number found: ' + mo.group()) # group method returns the actual matched text\n"
   ]
  },
  {
   "cell_type": "markdown",
   "metadata": {},
   "source": [
    "The mo variable name is just a generic name to use for Match objects. This example might seem complicated at first, but it is much shorter than the earlier isPhoneNumber.py program and does the same thing.\n",
    "\n",
    "Here, we pass our desired pattern to re.compile() and store the resulting Regex object in phoneNumRegex. Then we call search() on phoneNumRegex and pass search() the string we want to match for during the search. The result of the search gets stored in the variable mo. In this example, we know that our pattern will be found in the string, so we know that a Match object will be returned. Knowing that mo contains a Match object and not the null value None, we can call group() on mo to return the match. Writing mo.group() inside our print() function call displays the whole match, 415-555-4242."
   ]
  },
  {
   "cell_type": "markdown",
   "metadata": {},
   "source": [
    "### Review of Regular Expression Matching\n",
    "\n",
    "While there are several steps to using regular expressions in Python, each step is fairly simple.\n",
    "\n",
    "    Import the regex module with import re.\n",
    "    Create a Regex object with the re.compile() function. (Remember to use a raw string.)\n",
    "    Pass the string you want to search into the Regex object’s search() method. This returns a Match object.\n",
    "    Call the Match object’s group() method to return a string of the actual matched text.\n"
   ]
  },
  {
   "cell_type": "markdown",
   "metadata": {},
   "source": [
    "## More Pattern Matching with Regular Expressions\n",
    "\n",
    "Now that you know the basic steps for creating and finding regular expression objects using Python, you’re ready to try some of their more powerful pattern-matching capabilities."
   ]
  },
  {
   "cell_type": "markdown",
   "metadata": {},
   "source": [
    "### Grouping with Parentheses\n",
    "\n",
    "Say you want to separate the area code from the rest of the phone number. Adding parentheses will create groups in the regex: (\\d\\d\\d)-(\\d\\d\\d-\\d\\d\\d\\d). Then you can use the group() match object method to grab the matching text from just one group.\n",
    "\n",
    "The first set of parentheses in a regex string will be group 1. The second set will be group 2. By passing the integer 1 or 2 to the group() match object method, you can grab different parts of the matched text. Passing 0 or nothing to the group() method will return the entire matched text."
   ]
  },
  {
   "cell_type": "code",
   "execution_count": 16,
   "metadata": {},
   "outputs": [
    {
     "name": "stdout",
     "output_type": "stream",
     "text": [
      "<re.Match object; span=(13, 25), match='415-555-4242'>\n",
      "415-555-4242\n",
      "415\n",
      "555-4242\n"
     ]
    }
   ],
   "source": [
    "phoneNumRegex = re.compile(r'(\\d\\d\\d)-(\\d\\d\\d-\\d\\d\\d\\d)')\n",
    "mo = phoneNumRegex.search('My number is 415-555-4242.')\n",
    "mo.group(1)\n",
    "print(mo)\n",
    "print(mo.group()) # group the entire text\n",
    "print(mo.group(1)) # pass the first group\n",
    "print(mo.group(2)) # pass the second group"
   ]
  },
  {
   "cell_type": "markdown",
   "metadata": {},
   "source": [
    "If you would like to retrieve all the groups at once, use the groups() method—note the plural form for the name."
   ]
  },
  {
   "cell_type": "code",
   "execution_count": null,
   "metadata": {},
   "outputs": [
    {
     "name": "stdout",
     "output_type": "stream",
     "text": [
      "('415', '555-4242')\n"
     ]
    }
   ],
   "source": [
    "print(mo.groups()) # note plural groups"
   ]
  },
  {
   "cell_type": "markdown",
   "metadata": {},
   "source": [
    "Since mo.groups() returns a tuple of multiple values, you can use the multiple-assignment trick to assign each value to a separate variable, as in the previous areaCode, mainNumber = mo.groups() line."
   ]
  },
  {
   "cell_type": "code",
   "execution_count": 18,
   "metadata": {},
   "outputs": [
    {
     "name": "stdout",
     "output_type": "stream",
     "text": [
      "415\n",
      "555-4242\n"
     ]
    }
   ],
   "source": [
    "# use multiple assignment to assign a variable to each part of the tuple returned from mo.groups()\n",
    "\n",
    "areaCode, mainNumber = mo.groups()\n",
    "print(areaCode)\n",
    "print(mainNumber)"
   ]
  },
  {
   "cell_type": "markdown",
   "metadata": {},
   "source": [
    "Parentheses have a special meaning in regular expressions, but what do you do if you need to match a parenthesis in your text? For instance, maybe the phone numbers you are trying to match have the area code set in parentheses. In this case, you need to escape the ( and ) characters with a backslash."
   ]
  },
  {
   "cell_type": "code",
   "execution_count": 19,
   "metadata": {},
   "outputs": [
    {
     "name": "stdout",
     "output_type": "stream",
     "text": [
      "(415)\n",
      "555-4242\n"
     ]
    }
   ],
   "source": [
    "# use the escape character \\ if you need to use parenthesis in the regular expression\n",
    "phoneNumRegex = re.compile(r'(\\(\\d\\d\\d\\)) (\\d\\d\\d-\\d\\d\\d\\d)')\n",
    "mo = phoneNumRegex.search('My phone number is (415) 555-4242.')\n",
    "print(mo.group(1))\n",
    "print(mo.group(2))"
   ]
  },
  {
   "cell_type": "markdown",
   "metadata": {},
   "source": [
    "The \\( and \\) escape characters in the raw string passed to re.compile() will match actual parenthesis characters. In regular expressions, the following characters have special meanings:"
   ]
  },
  {
   "cell_type": "markdown",
   "metadata": {},
   "source": [
    ".  ^  $  *  +  ?  {  }  [  ]  \\  |  (  )"
   ]
  },
  {
   "cell_type": "markdown",
   "metadata": {},
   "source": [
    "If you want to detect these characters as part of your text pattern, you need to escape them with a backslash:"
   ]
  },
  {
   "cell_type": "code",
   "execution_count": null,
   "metadata": {},
   "outputs": [],
   "source": [
    "# \\.  \\^  \\$  \\*  \\+  \\?  \\{  \\}  \\[  \\]  \\\\  \\|  \\(  \\)"
   ]
  },
  {
   "cell_type": "markdown",
   "metadata": {},
   "source": [
    "### Matching Multiple Groups with the Pipe\n",
    "\n",
    "The | character is called a pipe. You can use it anywhere you want to match one of many expressions. For example, the regular expression r'Batman|Tina Fey' will match either 'Batman' or 'Tina Fey'.\n",
    "\n",
    "When both Batman and Tina Fey occur in the searched string, the first occurrence of matching text will be returned as the Match object. Enter the following into the interactive shell:"
   ]
  },
  {
   "cell_type": "code",
   "execution_count": 24,
   "metadata": {},
   "outputs": [
    {
     "name": "stdout",
     "output_type": "stream",
     "text": [
      "Batman\n",
      "Tina Fey\n"
     ]
    }
   ],
   "source": [
    "heroRegex = re.compile (r'Batman|Tina Fey') # create a regex object to match either Batman or Tina Fey\n",
    "mo1 = heroRegex.search('Batman and Tina Fey') # assigns the first occurance to mo1\n",
    "print(mo1.group())\n",
    "mo2 = heroRegex.search('Tina Fey and Batman')\n",
    "print(mo2.group())"
   ]
  },
  {
   "cell_type": "markdown",
   "metadata": {},
   "source": [
    "You can also use the pipe to match one of several patterns as part of your regex. For example, say you wanted to match any of the strings 'Batman', 'Batmobile', 'Batcopter', and 'Batbat'. Since all these strings start with Bat, it would be nice if you could specify that prefix only once. This can be done with parentheses."
   ]
  },
  {
   "cell_type": "code",
   "execution_count": 25,
   "metadata": {},
   "outputs": [
    {
     "name": "stdout",
     "output_type": "stream",
     "text": [
      "Batmobile\n",
      "mobile\n"
     ]
    }
   ],
   "source": [
    "# specify the bat as a prefix in the regex with a list of suffixes\n",
    "\n",
    "batRegex = re.compile(r'Bat(man|mobile|copter|bat)')\n",
    "mo = batRegex.search('Batmobile lost a wheel')\n",
    "print(mo.group()) # returns the full matched text\n",
    "print(mo.group(1)) # returns just the part of the text inside the first parenthesis group"
   ]
  },
  {
   "cell_type": "markdown",
   "metadata": {},
   "source": [
    "The method call mo.group() returns the full matched text 'Batmobile', while mo.group(1) returns just the part of the matched text inside the first parentheses group, 'mobile'. By using the pipe character and grouping parentheses, you can specify several alternative patterns you would like your regex to match.\n",
    "\n",
    "If you need to match an actual pipe character, escape it with a backslash."
   ]
  },
  {
   "cell_type": "markdown",
   "metadata": {},
   "source": [
    "### Optional Matching with the Question Mark\n",
    "\n",
    "Sometimes there is a pattern that you want to match only optionally. That is, the regex should find a match regardless of whether that bit of text is there. The ? character flags the group that precedes it as an optional part of the pattern."
   ]
  },
  {
   "cell_type": "code",
   "execution_count": 27,
   "metadata": {},
   "outputs": [
    {
     "name": "stdout",
     "output_type": "stream",
     "text": [
      "Batman\n",
      "Batwoman\n"
     ]
    }
   ],
   "source": [
    "batRegex = re.compile(r'Bat(wo)?man') #optional matching of wo with question mark\n",
    "mo1 = batRegex.search('The Adventures of Batman')\n",
    "print(mo1.group())\n",
    "\n",
    "mo2 = batRegex.search('The Adventures of Batwoman')\n",
    "print(mo2.group())"
   ]
  },
  {
   "cell_type": "markdown",
   "metadata": {},
   "source": [
    "The (wo)? part of the regular expression means that the pattern wo is an optional group. The regex will match text that has zero instances or one instance of wo in it. This is why the regex matches both 'Batwoman' and 'Batman'."
   ]
  },
  {
   "cell_type": "markdown",
   "metadata": {},
   "source": [
    "Using the earlier phone number example, you can make the regex look for phone numbers that do or do not have an area code."
   ]
  },
  {
   "cell_type": "code",
   "execution_count": 28,
   "metadata": {},
   "outputs": [
    {
     "name": "stdout",
     "output_type": "stream",
     "text": [
      "415-555-4242\n",
      "555-4242\n"
     ]
    }
   ],
   "source": [
    "phoneRegex = re.compile(r'(\\d\\d\\d-)?\\d\\d\\d-\\d\\d\\d\\d') # area code match optional\n",
    "mo1 = phoneRegex.search('My number is 415-555-4242')\n",
    "print(mo1.group())\n",
    "\n",
    "mo2 = phoneRegex.search('My number is 555-4242')\n",
    "print(mo2.group())"
   ]
  },
  {
   "cell_type": "markdown",
   "metadata": {},
   "source": [
    "You can think of the ? as saying, “Match zero or one of the group preceding this question mark.”\n",
    "\n",
    "If you need to match an actual question mark character, escape it with a backslash"
   ]
  },
  {
   "cell_type": "markdown",
   "metadata": {},
   "source": [
    "### Matching Zero or More with the Star\n",
    "\n",
    "The * (called the star or asterisk) means “match zero or more”—the group that precedes the star can occur any number of times in the text. It can be completely absent or repeated over and over again. Let’s look at the Batman example again."
   ]
  },
  {
   "cell_type": "code",
   "execution_count": 29,
   "metadata": {},
   "outputs": [
    {
     "name": "stdout",
     "output_type": "stream",
     "text": [
      "Batman\n",
      "Batwoman\n",
      "Batwowowowoman\n"
     ]
    }
   ],
   "source": [
    "batRegex = re.compile(r'Bat(wo)*man') # match 0 or many of the \"wo\" prefixes\n",
    "mo1 = batRegex.search('The Adventures of Batman')\n",
    "print(mo1.group())\n",
    "\n",
    "mo2 = batRegex.search('The Adventures of Batwoman')\n",
    "print(mo2.group())\n",
    "\n",
    "mo3 = batRegex.search('The Adventures of Batwowowowoman')\n",
    "print(mo3.group())"
   ]
  },
  {
   "cell_type": "markdown",
   "metadata": {},
   "source": [
    "For 'Batman', the (wo)* part of the regex matches zero instances of wo in the string; for 'Batwoman', the (wo)* matches one instance of wo; and for 'Batwowowowoman', (wo)* matches four instances of wo.\n",
    "\n",
    "If you need to match an actual star character, prefix the star in the regular expression with a backslash."
   ]
  },
  {
   "cell_type": "markdown",
   "metadata": {},
   "source": [
    "### Matching One or More with the Plus\n",
    "\n",
    "While * means “match zero or more,” the + (or plus) means “match one or more.” Unlike the star, which does not require its group to appear in the matched string, the group preceding a plus must appear at least once. It is not optional."
   ]
  },
  {
   "cell_type": "code",
   "execution_count": null,
   "metadata": {},
   "outputs": [
    {
     "name": "stdout",
     "output_type": "stream",
     "text": [
      "Batwoman\n",
      "Batwowowowoman\n",
      "True\n"
     ]
    }
   ],
   "source": [
    "batRegex = re.compile(r'Bat(wo)+man')\n",
    "mo1 = batRegex.search('The Adventures of Batwoman')\n",
    "print(mo1.group())\n",
    "\n",
    "mo2 = batRegex.search('The Adventures of Batwowowowoman')\n",
    "print(mo2.group())\n",
    "\n",
    "mo3 = batRegex.search('The Adventures of Batman') # will not match (at least one \"wo\" is required)\n",
    "print(mo3 == None)"
   ]
  },
  {
   "cell_type": "markdown",
   "metadata": {},
   "source": [
    "The regex Bat(wo)+man will not match the string 'The Adventures of Batman', because at least one wo is required by the plus sign.\n",
    "\n",
    "If you need to match an actual plus sign character, prefix the plus sign with a backslash."
   ]
  },
  {
   "cell_type": "markdown",
   "metadata": {},
   "source": [
    "### Matching Specific Repetitions with Braces\n",
    "\n",
    "If you have a group that you want to repeat a specific number of times, follow the group in your regex with a number in braces. For example, the regex (Ha){3} will match the string 'HaHaHa', but it will not match 'HaHa', since the latter has only two repeats of the (Ha) group.\n",
    "\n",
    "Instead of one number, you can specify a range by writing a minimum, a comma, and a maximum in between the braces. For example, the regex (Ha){3,5} will match 'HaHaHa', 'HaHaHaHa', and 'HaHaHaHaHa'.\n",
    "\n",
    "You can also leave out the first or second number in the braces to leave the minimum or maximum unbounded. For example, (Ha){3,} will match three or more instances of the (Ha) group, while (Ha){,5} will match zero to five instances. Braces can help make your regular expressions shorter. These two regular expressions match identical patterns:\n",
    "\n",
    "(Ha){3}\n",
    "(Ha)(Ha)(Ha)\n",
    "\n",
    "And these two regular expressions also match identical patterns:\n",
    "\n",
    "(Ha){3,5}\n",
    "((Ha)(Ha)(Ha))|((Ha)(Ha)(Ha)(Ha))|((Ha)(Ha)(Ha)(Ha)(Ha))"
   ]
  },
  {
   "cell_type": "code",
   "execution_count": 33,
   "metadata": {},
   "outputs": [
    {
     "name": "stdout",
     "output_type": "stream",
     "text": [
      "HaHaHa\n",
      "True\n"
     ]
    }
   ],
   "source": [
    "haRegex = re.compile(r'(Ha){3}') # match exactly 3 \"ha\"s\n",
    "mo1 = haRegex.search('HaHaHa')\n",
    "print(mo1.group())\n",
    "\n",
    "mo2 = haRegex.search('Ha')\n",
    "print(mo2 == None)"
   ]
  },
  {
   "cell_type": "markdown",
   "metadata": {},
   "source": [
    "## Greedy and Non-greedy Matching\n",
    "\n",
    "Since (Ha){3,5} can match three, four, or five instances of Ha in the string 'HaHaHaHaHa', you may wonder why the Match object’s call to group() in the previous brace example returns 'HaHaHaHaHa' instead of the shorter possibilities. After all, 'HaHaHa' and 'HaHaHaHa' are also valid matches of the regular expression (Ha){3,5}.\n",
    "\n",
    "Python’s regular expressions are greedy by default, which means that in ambiguous situations they will match the longest string possible. The non-greedy (also called lazy) version of the braces, which matches the shortest string possible, has the closing brace followed by a question mark.\n",
    "\n",
    "Enter the following into the interactive shell, and notice the difference between the greedy and non-greedy forms of the braces searching the same string:"
   ]
  },
  {
   "cell_type": "code",
   "execution_count": 35,
   "metadata": {},
   "outputs": [
    {
     "name": "stdout",
     "output_type": "stream",
     "text": [
      "HaHaHaHaHa\n",
      "HaHaHa\n"
     ]
    }
   ],
   "source": [
    "greedyHaRegex = re.compile(r'(Ha){3,5}') # default greedy will match 5\n",
    "mo1 = greedyHaRegex.search('HaHaHaHaHa')\n",
    "print(mo1.group())\n",
    "\n",
    "nongreedyHaRegex = re.compile(r'(Ha){3,5}?') #? makes it non-greedy (lazy) and will match the shortest possible (3)\n",
    "mo2 = nongreedyHaRegex.search('HaHaHaHaHa')\n",
    "print(mo2.group())\n"
   ]
  },
  {
   "cell_type": "markdown",
   "metadata": {},
   "source": [
    "## The findall() Method\n",
    "\n",
    "In addition to the search() method, Regex objects also have a findall() method. While search() will return a Match object of the first matched text in the searched string, the findall() method will return the strings of every match in the searched string."
   ]
  },
  {
   "cell_type": "code",
   "execution_count": 36,
   "metadata": {},
   "outputs": [
    {
     "name": "stdout",
     "output_type": "stream",
     "text": [
      "415-555-9999\n"
     ]
    }
   ],
   "source": [
    "phoneNumRegex = re.compile(r'\\d\\d\\d-\\d\\d\\d-\\d\\d\\d\\d')\n",
    "mo = phoneNumRegex.search('Cell: 415-555-9999 Work: 212-555-0000') # will match the first instance\n",
    "print(mo.group())"
   ]
  },
  {
   "cell_type": "markdown",
   "metadata": {},
   "source": [
    "On the other hand, findall() will not return a Match object but a list of strings—as long as there are no groups in the regular expression. Each string in the list is a piece of the searched text that matched the regular expression."
   ]
  },
  {
   "cell_type": "code",
   "execution_count": 39,
   "metadata": {},
   "outputs": [
    {
     "name": "stdout",
     "output_type": "stream",
     "text": [
      "['415-555-9999', '212-555-0000']\n"
     ]
    }
   ],
   "source": [
    "phoneNumRegex = re.compile(r'\\d\\d\\d-\\d\\d\\d-\\d\\d\\d\\d') # has no groups\n",
    "list = phoneNumRegex.findall('Cell: 415-555-9999 Work: 212-555-0000') # returns list of strings\n",
    "print(list)"
   ]
  },
  {
   "cell_type": "markdown",
   "metadata": {},
   "source": [
    "If there are groups in the regular expression, then findall() will return a list of tuples. Each tuple represents a found match, and its items are the matched strings for each group in the regex."
   ]
  },
  {
   "cell_type": "code",
   "execution_count": 40,
   "metadata": {},
   "outputs": [
    {
     "name": "stdout",
     "output_type": "stream",
     "text": [
      "[('415', '555', '9999'), ('212', '555', '0000')]\n"
     ]
    }
   ],
   "source": [
    "phoneNumRegex = re.compile(r'(\\d\\d\\d)-(\\d\\d\\d)-(\\d\\d\\d\\d)') # has groups\n",
    "listOfTuples = phoneNumRegex.findall('Cell: 415-555-9999 Work: 212-555-0000') # returns list of tuples\n",
    "print(listOfTuples)"
   ]
  },
  {
   "cell_type": "markdown",
   "metadata": {},
   "source": [
    "To summarize what the findall() method returns, remember the following:\n",
    "\n",
    "    When called on a regex with no groups, such as \\d\\d\\d-\\d\\d\\d-\\d\\d\\d\\d, the method findall() returns a list of string matches, such as ['415-555-9999', '212-555-0000'].\n",
    "    When called on a regex that has groups, such as (\\d\\d\\d)-(\\d\\d\\d)-(\\d\\d\\d\\d), the method findall() returns a list of tuples of strings (one string for each group), such as [('415', '555', '9999'), ('212', '555', '0000')].\n"
   ]
  },
  {
   "cell_type": "markdown",
   "metadata": {},
   "source": [
    "Character Classes\n",
    "\n",
    "In the earlier phone number regex example, you learned that \\d could stand for any numeric digit. That is, \\d is shorthand for the regular expression (0|1|2|3|4|5|6|7|8|9). There are many such shorthand character classes, as shown in Table 7-1."
   ]
  },
  {
   "cell_type": "code",
   "execution_count": null,
   "metadata": {},
   "outputs": [],
   "source": [
    "# \\d Any numeric digit from 0 to 9\n",
    "# \\D Any character that is not a numeric digit from 0 to 9\n",
    "# \\w Any letter, numeric digit, or the underscore character (think of this as matching \"word\" characters)\n",
    "# \\W Any character that is not a letter, numeric digit, or the underscore character.\n",
    "# \\s Any space, tab, or new line character. (think of this as matching a space or whitespace character)\n",
    "# \\S Any character that is not a space, tab or newline.\n"
   ]
  },
  {
   "cell_type": "markdown",
   "metadata": {},
   "source": [
    "Character classes are nice for shortening regular expressions. The character class [0-5] will match only the numbers 0 to 5; this is much shorter than typing (0|1|2|3|4|5). Note that while \\d matches digits and \\w matches digits, letters, and the underscore, there is no shorthand character class that matches only letters. (Though you can use the [a-zA-Z] character class, as explained next.)\n",
    "\n",
    "The regular expression \\d+\\s\\w+ will match text that has one or more numeric digits (\\d+), followed by a whitespace character (\\s), followed by one or more letter/digit/underscore characters (\\w+). The findall() method returns all matching strings of the regex pattern in a list."
   ]
  },
  {
   "cell_type": "code",
   "execution_count": 46,
   "metadata": {},
   "outputs": [
    {
     "name": "stdout",
     "output_type": "stream",
     "text": [
      "['12 drummers', '11 pipers', '10 lords', '9 ladies', '8 maids', '7 swans', '6 geese', '5 rings', '4 birds', '3 hens', '2 doves', '1 partridge']\n"
     ]
    }
   ],
   "source": [
    "xmasRegex = re.compile(r'\\d+\\s\\w+')\n",
    "list = xmasRegex.findall('12 drummers, 11 pipers, 10 lords, 9 ladies, 8 maids, 7 swans, 6 geese, 5 rings, 4 birds, 3 hens, 2 doves, 1 partridge')\n",
    "print(list)\n"
   ]
  },
  {
   "cell_type": "markdown",
   "metadata": {},
   "source": [
    "## Making Your Own Character Classes\n",
    "\n",
    "There are times when you want to match a set of characters but the shorthand character classes (\\d, \\w, \\s, and so on) are too broad. You can define your own character class using square brackets. For example, the character class [aeiouAEIOU] will match any vowel, both lowercase and uppercase."
   ]
  },
  {
   "cell_type": "code",
   "execution_count": null,
   "metadata": {},
   "outputs": [
    {
     "name": "stdout",
     "output_type": "stream",
     "text": [
      "['o', 'o', 'o', 'e', 'a', 'a', 'o', 'o', 'A', 'O', 'O']\n"
     ]
    }
   ],
   "source": [
    "vowelRegex = re.compile(r'[aeiouAEIOU]') # define a vowel character class\n",
    "vowels = vowelRegex.findall('RoboCop eats baby food. BABY FOOD.')\n",
    "print(vowels)"
   ]
  },
  {
   "cell_type": "markdown",
   "metadata": {},
   "source": [
    "You can also include ranges of letters or numbers by using a hyphen. For example, the character class [a-zA-Z0-9] will match all lowercase letters, uppercase letters, and numbers.\n",
    "\n",
    "Note that inside the square brackets, the normal regular expression symbols are not interpreted as such. This means you do not need to escape the ., *, ?, or () characters with a preceding backslash. For example, the character class [0-5.] will match digits 0 to 5 and a period. You do not need to write it as [0-5\\.].\n",
    "\n",
    "By placing a caret character (^) just after the character class’s opening bracket, you can make a negative character class. A negative character class will match all the characters that are not in the character class."
   ]
  },
  {
   "cell_type": "code",
   "execution_count": null,
   "metadata": {},
   "outputs": [
    {
     "name": "stdout",
     "output_type": "stream",
     "text": [
      "['R', 'b', 'C', 'p', ' ', 't', 's', ' ', 'b', 'b', 'y', ' ', 'f', 'd', '.', ' ', 'B', 'B', 'Y', ' ', 'F', 'D', '.']\n"
     ]
    }
   ],
   "source": [
    "consonantRegex = re.compile(r'[^aeiouAEIOU]') # (^) makes a negative character class (match all characters that are not vowels)\n",
    "list = consonantRegex.findall('RoboCop eats baby food. BABY FOOD.')\n",
    "print(list)"
   ]
  },
  {
   "cell_type": "markdown",
   "metadata": {},
   "source": [
    "## The Caret and Dollar Sign Characters\n",
    "\n",
    "You can also use the caret symbol (^) at the start of a regex to indicate that a match must occur at the beginning of the searched text. Likewise, you can put a dollar sign \\$ at the end of the regex to indicate the string must end with this regex pattern. And you can use the ^ and $ together to indicate that the entire string must match the regex—that is, it’s not enough for a match to be made on some subset of the string.\n",
    "\n",
    "For example, the r'^Hello' regular expression string matches strings that begin with 'Hello'."
   ]
  },
  {
   "cell_type": "code",
   "execution_count": 65,
   "metadata": {},
   "outputs": [
    {
     "data": {
      "text/plain": [
       "<re.Match object; span=(0, 5), match='Hello'>"
      ]
     },
     "execution_count": 65,
     "metadata": {},
     "output_type": "execute_result"
    }
   ],
   "source": [
    "beginsWithHello = re.compile(r'^Hello') # match to Hello only at the beginning of the searched text (Note lack of brackets)\n",
    "beginsWithHello.search('Hello, world!')"
   ]
  },
  {
   "cell_type": "code",
   "execution_count": 66,
   "metadata": {},
   "outputs": [
    {
     "data": {
      "text/plain": [
       "True"
      ]
     },
     "execution_count": 66,
     "metadata": {},
     "output_type": "execute_result"
    }
   ],
   "source": [
    "beginsWithHello.search('He said hello.') == None # does not begin with Hello"
   ]
  },
  {
   "cell_type": "markdown",
   "metadata": {},
   "source": [
    "The r'\\d$' regular expression string matches strings that end with a numeric character from 0 to 9."
   ]
  },
  {
   "cell_type": "code",
   "execution_count": 68,
   "metadata": {},
   "outputs": [
    {
     "data": {
      "text/plain": [
       "<re.Match object; span=(16, 17), match='2'>"
      ]
     },
     "execution_count": 68,
     "metadata": {},
     "output_type": "execute_result"
    }
   ],
   "source": [
    "endsWithNumber = re.compile(r'\\d$')\n",
    "endsWithNumber.search('Your number is 42') # should match to 2"
   ]
  },
  {
   "cell_type": "code",
   "execution_count": 69,
   "metadata": {},
   "outputs": [
    {
     "data": {
      "text/plain": [
       "True"
      ]
     },
     "execution_count": 69,
     "metadata": {},
     "output_type": "execute_result"
    }
   ],
   "source": [
    "endsWithNumber.search('Your number is forty two.') == None # will not match"
   ]
  },
  {
   "cell_type": "markdown",
   "metadata": {},
   "source": [
    "The r'^\\d+$' regular expression string matches strings that both begin and end with one or more numeric characters."
   ]
  },
  {
   "cell_type": "code",
   "execution_count": 32,
   "metadata": {},
   "outputs": [
    {
     "data": {
      "text/plain": [
       "<re.Match object; span=(0, 10), match='1234567890'>"
      ]
     },
     "execution_count": 32,
     "metadata": {},
     "output_type": "execute_result"
    }
   ],
   "source": [
    "wholeStringIsNum = re.compile(r'^\\d+$')\n",
    "wholeStringIsNum.search('1234567890') # match"
   ]
  },
  {
   "cell_type": "code",
   "execution_count": 71,
   "metadata": {},
   "outputs": [
    {
     "data": {
      "text/plain": [
       "True"
      ]
     },
     "execution_count": 71,
     "metadata": {},
     "output_type": "execute_result"
    }
   ],
   "source": [
    "wholeStringIsNum.search('12345xyz67890') == None"
   ]
  },
  {
   "cell_type": "code",
   "execution_count": 72,
   "metadata": {},
   "outputs": [
    {
     "data": {
      "text/plain": [
       "True"
      ]
     },
     "execution_count": 72,
     "metadata": {},
     "output_type": "execute_result"
    }
   ],
   "source": [
    "wholeStringIsNum.search('12  34567890') == None"
   ]
  },
  {
   "cell_type": "markdown",
   "metadata": {},
   "source": [
    "The last two search() calls in the previous interactive shell example demonstrate how the entire string must match the regex if ^ and $ are used.\n",
    "\n",
    "I always confuse the meanings of these two symbols, so I use the mnemonic “Carrots cost dollars” to remind myself that the caret comes first and the dollar sign comes last."
   ]
  },
  {
   "cell_type": "markdown",
   "metadata": {},
   "source": [
    "## The Wildcard Character\n",
    "\n",
    "The . (or dot) character in a regular expression is called a wildcard and will match any character except for a newline."
   ]
  },
  {
   "cell_type": "code",
   "execution_count": null,
   "metadata": {},
   "outputs": [
    {
     "name": "stdout",
     "output_type": "stream",
     "text": [
      "['cat', 'hat', 'sat', 'lat', 'mat', 'pat']\n"
     ]
    }
   ],
   "source": [
    "atRegex = re.compile(r'.at') # match with at with a whild card on the front\n",
    "list = atRegex.findall('The cat in the hat sat on the flat mat and spat.') # note will not match flat or spat, but instead lat and pat\n",
    "print(list)"
   ]
  },
  {
   "cell_type": "markdown",
   "metadata": {},
   "source": [
    "Remember that the dot character will match just one character, which is why the match for the text flat in the previous example matched only lat. To match an actual dot, escape the dot with a backslash: \\\\."
   ]
  },
  {
   "cell_type": "markdown",
   "metadata": {},
   "source": [
    "### Matching Everything with Dot-Star\n",
    "\n",
    "Sometimes you will want to match everything and anything. For example, say you want to match the string 'First Name:', followed by any and all text, followed by 'Last Name:', and then followed by anything again. You can use the dot-star (.*) to stand in for that “anything.” Remember that the dot character means “any single character except the newline,” and the star character means “zero or more of the preceding character.”"
   ]
  },
  {
   "cell_type": "code",
   "execution_count": 77,
   "metadata": {},
   "outputs": [
    {
     "name": "stdout",
     "output_type": "stream",
     "text": [
      "Al\n",
      "Sweigart\n"
     ]
    }
   ],
   "source": [
    "nameRegex = re.compile(r'First Name: (.*) Last Name: (.*)')\n",
    "mo = nameRegex.search('First Name: Al Last Name: Sweigart')\n",
    "print(mo.group(1))\n",
    "print(mo.group(2))"
   ]
  },
  {
   "cell_type": "markdown",
   "metadata": {},
   "source": [
    "The dot-star uses greedy mode: It will always try to match as much text as possible. To match any and all text in a non-greedy fashion, use the dot, star, and question mark (.*?). Like with braces, the question mark tells Python to match in a non-greedy way."
   ]
  },
  {
   "cell_type": "code",
   "execution_count": null,
   "metadata": {},
   "outputs": [
    {
     "name": "stdout",
     "output_type": "stream",
     "text": [
      "<To serve man>\n",
      "<To serve man> for dinner.>\n"
     ]
    }
   ],
   "source": [
    "nongreedyRegex = re.compile(r'<.*?>') # Not greedy\n",
    "mo = nongreedyRegex.search('<To serve man> for dinner.>')\n",
    "print(mo.group())\n",
    "\n",
    "greedyRegex = re.compile(r'<.*>') # Greedy\n",
    "mo = greedyRegex.search('<To serve man> for dinner.>')\n",
    "print(mo.group())"
   ]
  },
  {
   "cell_type": "markdown",
   "metadata": {},
   "source": [
    "Both regexes roughly translate to “Match an opening angle bracket, followed by anything, followed by a closing angle bracket.” But the string '<To serve man> for dinner.>' has two possible matches for the closing angle bracket. In the non-greedy version of the regex, Python matches the shortest possible string: '<To serve man>'. In the greedy version, Python matches the longest possible string: '<To serve man> for dinner.>'."
   ]
  },
  {
   "cell_type": "markdown",
   "metadata": {},
   "source": [
    "### Matching Newlines with the Dot Character\n",
    "\n",
    "The dot-star will match everything except a newline. By passing re.DOTALL as the second argument to re.compile(), you can make the dot character match all characters, including the newline character."
   ]
  },
  {
   "cell_type": "code",
   "execution_count": 88,
   "metadata": {},
   "outputs": [
    {
     "name": "stdout",
     "output_type": "stream",
     "text": [
      "Serve the public trust.\n",
      "Serve the public trust.\n",
      "Protect the innocent.\n",
      "Uphold the law.\n"
     ]
    }
   ],
   "source": [
    "noNewlineRegex = re.compile('.*')\n",
    "mo1 = noNewlineRegex.search('Serve the public trust.\\nProtect the innocent.\\nUphold the law.')\n",
    "print(mo1.group())\n",
    "\n",
    "newlineRegex = re.compile('.*', re.DOTALL) # re.DOTALL second acrument makes the dot character match all including new line\n",
    "mo2 = newlineRegex.search('Serve the public trust.\\nProtect the innocent.\\nUphold the law.')\n",
    "print(mo2.group())\n"
   ]
  },
  {
   "cell_type": "markdown",
   "metadata": {},
   "source": [
    "The regex noNewlineRegex, which did not have re.DOTALL passed to the re.compile() call that created it, will match everything only up to the first newline character, whereas newlineRegex, which did have re.DOTALL passed to re.compile(), matches everything. This is why the newlineRegex.search() call matches the full string, including its newline characters."
   ]
  },
  {
   "cell_type": "markdown",
   "metadata": {},
   "source": [
    "Review of Regex Symbols\n",
    "\n",
    "This chapter covered a lot of notation, so here’s a quick review of what you learned about basic regular expression syntax:\n",
    "\n",
    "    The ? matches zero or one of the preceding group.\n",
    "    The * matches zero or more of the preceding group.\n",
    "    The + matches one or more of the preceding group.\n",
    "    The {n} matches exactly n of the preceding group.\n",
    "    The {n,} matches n or more of the preceding group.\n",
    "    The {,m} matches 0 to m of the preceding group.\n",
    "    The {n,m} matches at least n and at most m of the preceding group.\n",
    "    {n,m}? or *? or +? performs a non-greedy match of the preceding group.\n",
    "    ^spam means the string must begin with spam.\n",
    "    spam$ means the string must end with spam.\n",
    "    The . matches any character, except newline characters.\n",
    "    \\d, \\w, and \\s match a digit, word, or space character, respectively.\n",
    "    \\D, \\W, and \\S match anything except a digit, word, or space character, respectively.\n",
    "    [abc] matches any character between the brackets (such as a, b, or c).\n",
    "    [^abc] matches any character that isn’t between the brackets.\n"
   ]
  },
  {
   "cell_type": "markdown",
   "metadata": {},
   "source": [
    "## Case-Insensitive Matching\n",
    "\n",
    "Normally, regular expressions match text with the exact casing you specify. For example, the following regexes match completely different strings:"
   ]
  },
  {
   "cell_type": "code",
   "execution_count": null,
   "metadata": {},
   "outputs": [],
   "source": [
    "regex1 = re.compile('RoboCop')\n",
    "regex2 = re.compile('ROBOCOP')\n",
    "regex3 = re.compile('robOcop')\n",
    "regex4 = re.compile('RobocOp')"
   ]
  },
  {
   "cell_type": "markdown",
   "metadata": {},
   "source": [
    "But sometimes you care only about matching the letters without worrying whether they’re uppercase or lowercase. To make your regex case-insensitive, you can pass re.IGNORECASE or re.I as a second argument to re.compile()."
   ]
  },
  {
   "cell_type": "code",
   "execution_count": 91,
   "metadata": {},
   "outputs": [
    {
     "name": "stdout",
     "output_type": "stream",
     "text": [
      "RoboCop\n",
      "ROBOCOP\n",
      "robocop\n"
     ]
    }
   ],
   "source": [
    "robocop = re.compile(r'robocop', re.I) # second argument makes the match insensitive to case\n",
    "mo1 = robocop.search('RoboCop is part man, part machine, all cop.').group()\n",
    "print(mo1)\n",
    "\n",
    "mo2 = robocop.search('ROBOCOP protects the innocent.').group()\n",
    "print(mo2)\n",
    "\n",
    "mo3 = robocop.search('Al, why does your programming book talk about robocop so much?').group()\n",
    "print(mo3)"
   ]
  },
  {
   "cell_type": "markdown",
   "metadata": {},
   "source": [
    "## Substituting Strings with the sub() Method\n",
    "\n",
    "Regular expressions can not only find text patterns but can also substitute new text in place of those patterns. The sub() method for Regex objects is passed two arguments. The first argument is a string to replace any matches. The second is the string for the regular expression. The sub() method returns a string with the substitutions applied."
   ]
  },
  {
   "cell_type": "code",
   "execution_count": 94,
   "metadata": {},
   "outputs": [
    {
     "name": "stdout",
     "output_type": "stream",
     "text": [
      "CENSORED gave the secret documents to CENSORED.\n"
     ]
    }
   ],
   "source": [
    "namesRegex = re.compile(r'Agent \\w+')\n",
    "string = namesRegex.sub('CENSORED', 'Agent Alice gave the secret documents to Agent Bob.')\n",
    "print(string)"
   ]
  },
  {
   "cell_type": "markdown",
   "metadata": {},
   "source": [
    "Sometimes you may need to use the matched text itself as part of the substitution. In the first argument to sub(), you can type \\1, \\2, \\3, and so on, to mean “Enter the text of group 1, 2, 3, and so on, in the substitution.”\n",
    "\n",
    "For example, say you want to censor the names of the secret agents by showing just the first letters of their names. To do this, you could use the regex Agent (\\w)\\w* and pass r'\\1****' as the first argument to sub(). The \\1 in that string will be replaced by whatever text was matched by group 1—that is, the (\\w) group of the regular expression."
   ]
  },
  {
   "cell_type": "code",
   "execution_count": 102,
   "metadata": {},
   "outputs": [
    {
     "name": "stdout",
     "output_type": "stream",
     "text": [
      "A**** told C**** that E**** knew B**** was a double agent.\n"
     ]
    }
   ],
   "source": [
    "agentNamesRegex = re.compile(r'Agent (\\w)\\w*')\n",
    "string = agentNamesRegex.sub(r'\\1****', 'Agent Alice told Agent Carol that Agent Eve knew Agent Bob was a double agent.')\n",
    "print(string)"
   ]
  },
  {
   "cell_type": "markdown",
   "metadata": {},
   "source": [
    "## Managing Complex Regexes\n",
    "\n",
    "Regular expressions are fine if the text pattern you need to match is simple. But matching complicated text patterns might require long, convoluted regular expressions. You can mitigate this by telling the re.compile() function to ignore whitespace and comments inside the regular expression string. This “verbose mode” can be enabled by passing the variable re.VERBOSE as the second argument to re.compile().\n",
    "\n",
    "Now instead of a hard-to-read regular expression like this:"
   ]
  },
  {
   "cell_type": "code",
   "execution_count": null,
   "metadata": {},
   "outputs": [],
   "source": [
    "phoneRegex = re.compile(r'((\\d{3}|\\(\\d{3}\\))?(\\s|-|\\.)?\\d{3}(\\s|-|\\.)\\d{4}(\\s*(ext|x|ext.)\\s*\\d{2,5})?)')"
   ]
  },
  {
   "cell_type": "markdown",
   "metadata": {},
   "source": [
    "you can spread the regular expression over multiple lines with comments like this:"
   ]
  },
  {
   "cell_type": "code",
   "execution_count": null,
   "metadata": {},
   "outputs": [],
   "source": [
    "phoneRegex = re.compile(r'''(\n",
    "    (\\d{3}|\\(\\d{3}\\))?            # area code w/ or w/o parenthesis\n",
    "    (\\s|-|\\.)?                    # separator hyphen or dot\n",
    "    \\d{3}                         # first 3 digits\n",
    "    (\\s|-|\\.)                     # separator hyphen or dot\n",
    "    \\d{4}                         # last 4 digits\n",
    "    (\\s*(ext|x|ext.)\\s*\\d{2,5})?  # extension optional\n",
    "    )''', re.VERBOSE)"
   ]
  },
  {
   "cell_type": "markdown",
   "metadata": {},
   "source": [
    "Note how the previous example uses the triple-quote syntax (''') to create a multiline string so that you can spread the regular expression definition over many lines, making it much more legible.\n",
    "\n",
    "The comment rules inside the regular expression string are the same as regular Python code: the # symbol and everything after it to the end of the line are ignored. Also, the extra spaces inside the multiline string for the regular expression are not considered part of the text pattern to be matched. This lets you organize the regular expression so it’s easier to read."
   ]
  },
  {
   "cell_type": "markdown",
   "metadata": {},
   "source": [
    "## Combining re.IGNORECASE, re.DOTALL, and re.VERBOSE\n",
    "\n",
    "What if you want to use re.VERBOSE to write comments in your regular expression but also want to use re.IGNORECASE to ignore capitalization? Unfortunately, the re.compile() function takes only a single value as its second argument. You can get around this limitation by combining the re.IGNORECASE, re.DOTALL, and re.VERBOSE variables using the pipe character (|), which in this context is known as the bitwise or operator.\n",
    "\n",
    "So if you want a regular expression that’s case-insensitive and includes newlines to match the dot character, you would form your re.compile() call like this:"
   ]
  },
  {
   "cell_type": "code",
   "execution_count": null,
   "metadata": {},
   "outputs": [],
   "source": [
    "someRegexValue = re.compile('foo', re.IGNORECASE | re.DOTALL)"
   ]
  },
  {
   "cell_type": "markdown",
   "metadata": {},
   "source": [
    "Including all three options in the second argument will look like this:"
   ]
  },
  {
   "cell_type": "code",
   "execution_count": null,
   "metadata": {},
   "outputs": [],
   "source": [
    "someRegexValue = re.compile('foo', re.IGNORECASE | re.DOTALL | re.VERBOSE)"
   ]
  },
  {
   "cell_type": "markdown",
   "metadata": {},
   "source": [
    "# Project: Phone Number and Email Address Extractor\n",
    "Say you have the boring task of finding every phone number and email address in a long web page or document. If you manually scroll through the page, you might end up searching for a long time. But if you had a program that could search the text in your clipboard for phone numbers and email addresses, you could simply press CTRL-A to select all the text, press CTRL-C to copy it to the clipboard, and then run your program. It could replace the text on the clipboard with just the phone numbers and email addresses it finds.\n",
    "\n",
    "Whenever you’re tackling a new project, it can be tempting to dive right into writing code. But more often than not, it’s best to take a step back and consider the bigger picture. I recommend first drawing up a high-level plan for what your program needs to do. Don’t think about the actual code yet—you can worry about that later. Right now, stick to broad strokes.\n",
    "\n",
    "For example, your phone and email address extractor will need to do the following:\n",
    "\n",
    "    Get the text off the clipboard.\n",
    "    Find all phone numbers and email addresses in the text.\n",
    "    Paste them onto the clipboard.\n",
    "\n",
    "Now you can start thinking about how this might work in code. The code will need to do the following:\n",
    "\n",
    "    Use the pyperclip module to copy and paste strings.\n",
    "    Create two regexes, one for matching phone numbers and the other for matching email addresses.\n",
    "    Find all matches, not just the first match, of both regexes.\n",
    "    Neatly format the matched strings into a single string to paste.\n",
    "    Display some kind of message if no matches were found in the text.\n",
    "\n",
    "This list is like a road map for the project. As you write the code, you can focus on each of these steps separately. Each step is fairly manageable and expressed in terms of things you already know how to do in Python"
   ]
  },
  {
   "cell_type": "markdown",
   "metadata": {},
   "source": [
    "## Step 1: Create a Regex for Phone Numbers\n",
    "\n",
    "First, you have to create a regular expression to search for phone numbers. Create a new file, enter the following, and save it as phoneAndEmail.py:"
   ]
  },
  {
   "cell_type": "code",
   "execution_count": null,
   "metadata": {},
   "outputs": [],
   "source": [
    "#! python3\n",
    "# phoneAndEmail.py - Finds phone numbers and email addresses on the clipboard.\n",
    "\n",
    "import pyperclip, re\n",
    "\n",
    "phoneRegex = re.compile(r'''(\n",
    "    (\\d{3}|\\(\\d{3}\\))?                # area code with or without parenthesis\n",
    "    (\\s|-|\\.)?                        # separator space hyphen or dot\n",
    "    (\\d{3})                           # first 3 digits\n",
    "    (\\s|-|\\.)                         # separator space hyphen or dot\n",
    "    (\\d{4})                           # last 4 digits\n",
    "    (\\s*(ext|x|ext.)\\s*(\\d{2,5}))?    # extension optional\n",
    "    )''', re.VERBOSE)\n",
    "\n",
    "# TODO: Create email regex.\n",
    "\n",
    "# TODO: Find matches in clipboard text.\n",
    "\n",
    "# TODO: Copy results to the clipboard."
   ]
  },
  {
   "cell_type": "markdown",
   "metadata": {},
   "source": [
    "The TODO comments are just a skeleton for the program. They’ll be replaced as you write the actual code.\n",
    "\n",
    "The phone number begins with an optional area code, so the area code group is followed with a question mark. Since the area code can be just three digits (that is, \\d{3}) or three digits within parentheses (that is, \\(\\d{3}\\)), you should have a pipe joining those parts. You can add the regex comment # Area code to this part of the multiline string to help you remember what (\\d{3}|\\(\\d{3}\\))? is supposed to match.\n",
    "\n",
    "The phone number separator character can be a space (\\s), hyphen (-), or period (.), so these parts should also be joined by pipes. The next few parts of the regular expression are straightforward: three digits, followed by another separator, followed by four digits. The last part is an optional extension made up of any number of spaces followed by ext, x, or ext., followed by two to five digits."
   ]
  },
  {
   "cell_type": "markdown",
   "metadata": {},
   "source": [
    "## Step 2: Create a Regex for Email Addresses\n",
    "\n",
    "You will also need a regular expression that can match email addresses. Make your program look like the following:"
   ]
  },
  {
   "cell_type": "code",
   "execution_count": null,
   "metadata": {},
   "outputs": [],
   "source": [
    "#! python3\n",
    "# phoneAndEmail.py - Finds phone numbers and email addresses on the clipboard.\n",
    "\n",
    "import pyperclip, re\n",
    "\n",
    "phoneRegex = re.compile(r'''(\n",
    "    (\\d{3}|\\(\\d{3}\\))?                # area code with or without parenthesis\n",
    "    (\\s|-|\\.)?                        # separator space hyphen or dot\n",
    "    (\\d{3})                           # first 3 digits\n",
    "    (\\s|-|\\.)                         # separator space hyphen or dot\n",
    "    (\\d{4})                           # last 4 digits\n",
    "    (\\s*(ext|x|ext.)\\s*(\\d{2,5}))?    # extension optional\n",
    "    )''', re.VERBOSE)\n",
    "\n",
    "emailRegex = re.compile(r'''(\n",
    "    [a-zA-Z0-9._%+-]+       # username                    \n",
    "    @                       # @ symbol\n",
    "    [a-zA-Z0-9.-]+          # domain name        \n",
    "    (\\.a-zA-Z{2,4})         # .something between 2-4 characters\n",
    "    )''', re.VERBOSE)"
   ]
  },
  {
   "cell_type": "markdown",
   "metadata": {},
   "source": [
    "The username part of the email address ➊ is one or more characters that can be any of the following: lowercase and uppercase letters, numbers, a dot, an underscore, a percent sign, a plus sign, or a hyphen. You can put all of these into a character class: [a-zA-Z0-9._%+-].\n",
    "\n",
    "The domain and username are separated by an @ symbol ➋. The domain name ➌ has a slightly less permissive character class with only letters, numbers, periods, and hyphens: [a-zA-Z0-9.-]. And last will be the “dot-com” part (technically known as the top-level domain), which can really be dot-anything. This is between two and four characters.\n",
    "\n",
    "The format for email addresses has a lot of weird rules. This regular expression won’t match every possible valid email address, but it’ll match almost any typical email address you’ll encounter."
   ]
  },
  {
   "cell_type": "markdown",
   "metadata": {},
   "source": [
    "## Step 3: Find All Matches in the Clipboard Text\n",
    "\n",
    "Now that you have specified the regular expressions for phone numbers and email addresses, you can let Python’s re module do the hard work of finding all the matches on the clipboard. The pyperclip.paste() function will get a string value of the text on the clipboard, and the findall() regex method will return a list of tuples.\n",
    "\n",
    "Make your program look like the following:"
   ]
  },
  {
   "cell_type": "code",
   "execution_count": null,
   "metadata": {},
   "outputs": [],
   "source": [
    "#! python3\n",
    "# phoneAndEmail.py - Finds phone numbers and email addresses on the clipboard.\n",
    "\n",
    "import pyperclip, re\n",
    "\n",
    "phoneRegex = re.compile(r'''(\n",
    "    (\\d{3}|\\(\\d{3}\\))?                # area code with or without parenthesis\n",
    "    (\\s|-|\\.)?                        # separator space hyphen or dot\n",
    "    (\\d{3})                           # first 3 digits\n",
    "    (\\s|-|\\.)                         # separator space hyphen or dot\n",
    "    (\\d{4})                           # last 4 digits\n",
    "    (\\s*(ext|x|ext.)\\s*(\\d{2,5}))?    # extension optional\n",
    "    )''', re.VERBOSE)\n",
    "\n",
    "emailRegex = re.compile(r'''(\n",
    "    [a-zA-Z0-9._%+-]+       # username                    \n",
    "    @                       # @ symbol\n",
    "    [a-zA-Z0-9.-]+          # domain name        \n",
    "    (\\.a-zA-Z{2,4})         # .something between 2-4 characters\n",
    "    )''', re.VERBOSE)\n",
    "\n",
    "# Find matches in clipboard text.\n",
    "text = str(pyperclip.paste())\n",
    "\n",
    "matches = []\n",
    "for groups in phoneRegex.findall(text):\n",
    "       phoneNum = '-'.join([groups[1], groups[3], groups[5]]) # jpin the numbers with hyphens\n",
    "       if groups[8] != '':\n",
    "           phoneNum += ' x' + groups[8] # if extension is found, append extension\n",
    "       matches.append(phoneNum)\n",
    "for groups in emailRegex.findall(text):\n",
    "       matches.append(groups[0]) # append th enetire emaiil tuple (group index 0)\n",
    "\n",
    "   # TODO: Copy results to the clipboard."
   ]
  },
  {
   "cell_type": "markdown",
   "metadata": {},
   "source": [
    "There is one tuple for each match, and each tuple contains strings for each group in the regular expression. Remember that group 0 matches the entire regular expression, so the group at index 0 of the tuple is the one you are interested in.\n",
    "\n",
    "As you can see at ➊, you’ll store the matches in a list variable named matches. It starts off as an empty list, and a couple for loops. For the email addresses, you append group 0 of each match ➌. For the matched phone numbers, you don’t want to just append group 0. While the program detects phone numbers in several formats, you want the phone number appended to be in a single, standard format. The phoneNum variable contains a string built from groups 1, 3, 5, and 8 of the matched text ➋. (These groups are the area code, first three digits, last four digits, and extension.)"
   ]
  },
  {
   "cell_type": "markdown",
   "metadata": {},
   "source": [
    "## Step 4: Join the Matches into a String for the Clipboard\n",
    "\n",
    "Now that you have the email addresses and phone numbers as a list of strings in matches, you want to put them on the clipboard. The pyperclip.copy() function takes only a single string value, not a list of strings, so you call the join() method on matches.\n",
    "\n",
    "To make it easier to see that the program is working, let’s print any matches you find to the terminal. If no phone numbers or email addresses were found, the program should tell the user this.\n",
    "\n",
    "Make your program look like the following:"
   ]
  },
  {
   "cell_type": "code",
   "execution_count": 109,
   "metadata": {},
   "outputs": [
    {
     "name": "stdout",
     "output_type": "stream",
     "text": [
      "Copied to clipboard:\n",
      "617-555-4321\n",
      "202-555-7890\n",
      "855-555-9876\n",
      "555-123-4567\n",
      "408-555-6789\n",
      "510-555-2345\n",
      "mike.jones@example.com\n",
      "sarah_lee@example.net\n",
      "support_team@example.org\n",
      "info@mybusiness.com\n",
      "contact@services.io\n"
     ]
    }
   ],
   "source": [
    "#! python3\n",
    "# phoneAndEmail.py - Finds phone numbers and email addresses on the clipboard.\n",
    "\n",
    "import pyperclip, re\n",
    "\n",
    "phoneRegex = re.compile(r'''(\n",
    "    (\\d{3}|\\(\\d{3}\\))?                # area code with or without parenthesis\n",
    "    (\\s|-|\\.)?                        # separator space hyphen or dot\n",
    "    (\\d{3})                           # first 3 digits\n",
    "    (\\s|-|\\.)                         # separator space hyphen or dot\n",
    "    (\\d{4})                           # last 4 digits\n",
    "    (\\s*(ext|x|ext.)\\s*(\\d{2,5}))?    # extension optional\n",
    "    )''', re.VERBOSE)\n",
    "\n",
    "emailRegex = re.compile(r'''(\n",
    "    [a-zA-Z0-9._%+-]+      # username\n",
    "    @                      # @ symbol\n",
    "    [a-zA-Z0-9.-]+         # domain name\n",
    "    (\\.[a-zA-Z]{2,4})       # dot-something\n",
    "    )''', re.VERBOSE)\n",
    "\n",
    "# Find matches in clipboard text.\n",
    "text = str(pyperclip.paste())\n",
    "\n",
    "matches = []\n",
    "for groups in phoneRegex.findall(text):\n",
    "       areaCode = groups[1] if groups[1] else \"\" # assign group 1 to areaCode. If empty, assign blank string\n",
    "       areaCode = areaCode.replace('(', '').replace(')', '') # if area code has parenthesis, remove them replace with empty string\n",
    "       phoneNum = '-'.join([areaCode, groups[3], groups[5]]) # jpin the numbers with hyphens\n",
    "       if groups[8] != '':\n",
    "           phoneNum += ' x' + groups[8] # if extension is found, append extension\n",
    "       matches.append(phoneNum)\n",
    "for groups in emailRegex.findall(text):\n",
    "       matches.append(groups[0]) # append the enetire email tuple (group index 0)\n",
    "\n",
    "# Copy results to the clipboard:\n",
    "if len(matches) > 0:\n",
    "    pyperclip.copy('\\n'.join(matches))\n",
    "    print('Copied to clipboard:')\n",
    "    print('\\n'.join(matches))\n",
    "else:\n",
    "      print('No phone numbers or email addresses found')"
   ]
  },
  {
   "cell_type": "markdown",
   "metadata": {},
   "source": [
    "# Practice Project: Extract URLs\n",
    "Making a script that can extract URLs from a copied block of text."
   ]
  },
  {
   "cell_type": "code",
   "execution_count": null,
   "metadata": {},
   "outputs": [
    {
     "name": "stdout",
     "output_type": "stream",
     "text": [
      "Copied to clipboard:\n",
      "https://www.example.com\n",
      "https://www.example.com\n",
      "https://support.example.com\n",
      "https://support.example.com\n",
      "https://blog.example.com\n",
      "https://blog.example.com\n",
      "https://www.example.com/contact\n",
      "https://www.example.com/contact\n",
      "https://products.example.com\n",
      "https://products.example.com\n",
      "https://www.newswebsite.com\n",
      "https://www.newswebsite.com\n",
      "https://www.techupdates.com\n",
      "https://www.techupdates.com\n",
      "https://www.researchportal.org\n",
      "https://www.researchportal.org\n",
      "https://www.knowledgebase.net\n",
      "https://www.knowledgebase.net\n",
      "https://www.socialmedia.io\n",
      "https://www.socialmedia.io\n"
     ]
    }
   ],
   "source": [
    "import pyperclip, re\n",
    "\n",
    "urlRegex = re.compile(r'''(\n",
    "    http[s]?://                 # HTTP or HTTPS\n",
    "    (www\\.)?                    # optional www.\n",
    "    [a-zA-Z0-9.-]+              # domain name\n",
    "    (\\.[a-zA-Z]{2,4})           # dot-something\n",
    "    (/[a-zA-Z0-9._%+-]*)*       # optional path or multiple paths\n",
    "    )''', re.VERBOSE)\n",
    "\n",
    "text = str(pyperclip.paste())\n",
    "\n",
    "matches = []\n",
    "\n",
    "for groups in urlRegex.findall(text):\n",
    "    matches.append(groups[0])  # append the entire URL\n",
    "\n",
    "# Copy results to the clipboard and print them:\n",
    "if len(matches) > 0:\n",
    "    pyperclip.copy('\\n'.join(matches))\n",
    "    print('Copied to clipboard:')\n",
    "    print('\\n'.join(matches))\n",
    "else:\n",
    "    print('No URLs found')\n"
   ]
  },
  {
   "cell_type": "markdown",
   "metadata": {},
   "source": [
    "# Practice Project: clean up date formats\n",
    "The goal of this project is to detect different date formats in a block of text and replace them with dates in a single, standard format.\n",
    "\n",
    "Different date formats to identify:\n",
    "- MM/DD/YYY\n",
    "- MM-DD-YYYY\n",
    "- YYYY/MM/DD"
   ]
  },
  {
   "cell_type": "code",
   "execution_count": 17,
   "metadata": {},
   "outputs": [
    {
     "name": "stdout",
     "output_type": "stream",
     "text": [
      "I have several important events coming up. First, there's a meeting scheduled on 2025-03-14 that I cannot miss. Then, I have a doctor's appointment on 2025-03-14 to check up on my health. Furthermore, I need to submit my project report by 2025-03-19. My friend's wedding is happening on 2025-05-10, and I have a flight to catch on 2025-05-10. Lastly, there's an important conference on 2025-05-12 that I am really looking forward to attending.\n"
     ]
    }
   ],
   "source": [
    "import pyperclip\n",
    "import re\n",
    "\n",
    "\n",
    "# Copy text from clipboard\n",
    "text = str(pyperclip.paste())\n",
    "\n",
    "# Make Regex Patterns for each date format\n",
    "dateRegex1 = re.compile(r'(\\d{1,2})/(\\d{1,2})/(\\d{4})')  # MM/DD/YYYY\n",
    "dateRegex2 = re.compile(r'(\\d{1,2})-(\\d{1,2})-(\\d{4})')  # MM-DD-YYYY\n",
    "dateRegex3 = re.compile(r'(\\d{4})/(\\d{1,2})/(\\d{1,2})')  # YYYY/MM/DD\n",
    "\n",
    "patterns = [dateRegex1, dateRegex2, dateRegex3] # store each regex in a list for eash iteration\n",
    "\n",
    "# Function to standardize date format into YYYY-MM-DD\n",
    "def standardizeDate(match, pattern):\n",
    "    if pattern == dateRegex1 or pattern == dateRegex2:\n",
    "        month, day, year = match.groups()  # Multiple assignment of month, day, year to the matched groups\n",
    "    elif pattern == dateRegex3:\n",
    "        year, month, day = match.groups()\n",
    "\n",
    "    # Convert month and day to integers and format with leading zeros\n",
    "    formattedMonth = f\"{int(month):02d}\"  # Pad the number with zeros if it has fewer than 2 digits adn assign\n",
    "    formattedDay = f\"{int(day):02d}\"\n",
    "\n",
    "    # Create the standardized date string in 'YYYY-MM-DD' format\n",
    "    standardizedDate = f\"{year}-{formattedMonth}-{formattedDay}\"\n",
    "\n",
    "    return standardizedDate\n",
    "\n",
    "# Function to find and replace dates\n",
    "def replaceDates(text, patterns):\n",
    "    for pattern in patterns: # iterate through the list of patterns\n",
    "        matches = pattern.finditer(text)  # Iterate through the text and find matches to the patterns, return match object\n",
    "        for match in matches:\n",
    "            standardizedDate = standardizeDate(match, pattern)\n",
    "            originalDate = match.group(0)  # Get the entire matched string from the match object\n",
    "            text = text.replace(originalDate, standardizedDate)\n",
    "    return text\n",
    "\n",
    "# Example usage with clipboard text\n",
    "standardized_text = replaceDates(text, patterns)\n",
    "print(standardized_text)\n"
   ]
  },
  {
   "cell_type": "markdown",
   "metadata": {},
   "source": [
    "# Practice Project: Credit Card Number Redacter\n",
    "The goal of this short project is to search for credit card numbers in a chunk of text, redact the numbers and reprint the text."
   ]
  },
  {
   "cell_type": "code",
   "execution_count": 21,
   "metadata": {},
   "outputs": [
    {
     "name": "stdout",
     "output_type": "stream",
     "text": [
      "['1234-5678-9012-3456', '9876543210987654', '4321 8765 2109 6543', '1111-2222-3333-4444', '5678567890123456', '6666 7777 8888 9999']\n",
      "When Alice received her new credit card, she was surprised by its unique format: **** **** **** ****. Meanwhile, Bob's card arrived as a simple string of digits: **** **** **** ****. Clara, on the other hand, found that her card number was spaced out: **** **** **** ****, which made it easier to read. Dave noted his card number, **** **** **** ****, and made sure to keep it safe. As each of them activated their cards, they marveled at how something so essential could come in so many different formats, like **** **** **** **** or even **** **** **** ****. In the end, they all agreed that the format didn’t matter as much as the security the card provided.\n",
      "\n"
     ]
    }
   ],
   "source": [
    "import pyperclip\n",
    "import re\n",
    "\n",
    "\n",
    "# Copy text from clipboard\n",
    "text = str(pyperclip.paste())\n",
    "\n",
    "# Make a Regex to match credit cards\n",
    "ccRegex = re.compile(r'''(\n",
    "    \\d{16} |                       # 16 numbers no spaces\n",
    "    \\d{4}\\s\\d{4}\\s\\d{4}\\s\\d{4} |   # space every 4 numbers\n",
    "    \\d{4}-\\d{4}-\\d{4}-\\d{4}      # dash every 4 numbers\n",
    "    )''', re.VERBOSE)\n",
    "\n",
    "# Test that the numbers are being identified\n",
    "matches = ccRegex.findall(text)\n",
    "print(matches)\n",
    "\n",
    "# Redact the credit card numbers in the input text\n",
    "text = ccRegex.sub('**** **** **** ****', text)\n",
    "print(text)"
   ]
  },
  {
   "cell_type": "markdown",
   "metadata": {},
   "source": [
    "# Practice Project: Fix double spaces\n",
    "This script will detect double spaces in text and replace them with a single space."
   ]
  },
  {
   "cell_type": "code",
   "execution_count": 30,
   "metadata": {},
   "outputs": [
    {
     "name": "stdout",
     "output_type": "stream",
     "text": [
      "9 double spaces found\n",
      "Apologies for that. Here is the paragraph with double spaces between each sentence:  In the quiet town of Willowbrook, the leaves rustled gently in the breeze. Children played happily in the parks, their laughter echoing through the streets. The smell of freshly baked bread wafted from the local bakery, inviting passersby to stop for a treat. As the sun set, casting a warm golden glow, families gathered on their porches to share stories and dreams. Life in Willowbrook was simple, yet filled with moments of pure joy and contentment.  Hope this is what you were looking for! \n"
     ]
    }
   ],
   "source": [
    "import pyperclip\n",
    "import re\n",
    "\n",
    "\n",
    "# Copy text from clipboard\n",
    "text = str(pyperclip.paste())\n",
    "\n",
    "dblSpaceRegex = re.compile(r'\\s{2}')\n",
    "\n",
    "# detect if any double spaces were found:\n",
    "matches = dblSpaceRegex.findall(text)\n",
    "print(str(len(matches)) + ' double spaces found')\n",
    "\n",
    "# Sub any double spaces with a single space:\n",
    "text = dblSpaceRegex.sub(r' ', text)\n",
    "\n",
    "print(text)"
   ]
  },
  {
   "cell_type": "markdown",
   "metadata": {},
   "source": [
    "# Practice Project: Correct Date Detection\n",
    "Write a regular expression that can detect dates in the DD/MM/YYYY format. Assume that the days range from 01 to 31, the months range from 01 to 12, and the years range from 1000 to 2999. Note that if the day or month is a single digit, it’ll have a leading zero.\n",
    "\n",
    "The regular expression doesn’t have to detect correct days for each month or for leap years; it will accept nonexistent dates like 31/02/2020 or 31/04/2021. Then store these strings into variables named month, day, and year, and write additional code that can detect if it is a valid date. April, June, September, and November have 30 days, February has 28 days, and the rest of the months have 31 days. February has 29 days in leap years. Leap years are every year evenly divisible by 4, except for years evenly divisible by 100, unless the year is also evenly divisible by 400. Note how this calculation makes it impossible to make a reasonably sized regular expression that can detect a valid date."
   ]
  },
  {
   "cell_type": "code",
   "execution_count": 9,
   "metadata": {},
   "outputs": [
    {
     "name": "stdout",
     "output_type": "stream",
     "text": [
      "4 12 2004\n",
      "04/12/2004: (True, 'Date is Valid')\n",
      "29 2 2020\n",
      "29/02/2020: (True, 'Date is Valid')\n",
      "31 1 2019\n",
      "31/01/2019: (True, 'Date is Valid')\n",
      "30 4 2018\n",
      "30/04/2018: (True, 'Date is Valid')\n",
      "28 2 2021\n",
      "28/02/2021: (True, 'Date is Valid')\n",
      "32 1 2000\n",
      "32/01/2000: (False, 'Invalid Day')\n",
      "31 4 2020\n",
      "31/04/2020: (False, 'Invalid Day')\n",
      "29 2 2021\n",
      "29/02/2021: (False, 'Invalid Day')\n",
      "31 2 2020\n",
      "31/02/2020: (False, 'Invalid Day')\n",
      "0 12 2000\n",
      "00/12/2000: (False, 'Invalid Day')\n",
      "1 13 2000\n",
      "01/13/2000: (False, 'Invalid Month')\n",
      "1 0 2000\n",
      "01/00/2000: (False, 'Invalid Month')\n",
      "01/01/999: (False, 'Part of the date is missing')\n",
      "1 1 3000\n",
      "01/01/3000: (False, 'Invalid year')\n"
     ]
    }
   ],
   "source": [
    "# import the necessary libaries and inputs\n",
    "import re\n",
    "\n",
    "# Dates to test the function\n",
    "\n",
    "valid_date1 = '04/12/2004' # Regular date\n",
    "\n",
    "valid_date2 = '29/02/2020' # Leap year\n",
    "\n",
    "valid_date3 = '31/01/2019' # End of January\n",
    "\n",
    "valid_date4 = '30/04/2018' # End of April\n",
    "\n",
    "valid_date5 = '28/02/2021' # Non-leap year\n",
    "\n",
    "invalid_month1 = '32/01/2000' # Invalid day\n",
    "\n",
    "invalid_month2 = '31/04/2020' # April has only 30 days\n",
    "\n",
    "invalid_day1 = '29/02/2021' # February has only 28 days in a non-leap year\n",
    "\n",
    "invalid_day2 = '31/02/2020' # February never has 31 days\n",
    "\n",
    "invalid_day3 = '00/12/2000' # Day cannot be zero\n",
    "\n",
    "invalid_month3 = '01/13/2000' # Invalid month\n",
    "\n",
    "invalid_month4 = '01/00/2000' # Month cannot be zero\n",
    "\n",
    "invalid_year1 = '01/01/999' # Invalid year (less than 1000)\n",
    "\n",
    "invalid_year2 = '01/01/3000' # Invalid year (greater than 2999)\n",
    "\n",
    "# Define a regex to detect a date in the DD/MM/YYYY format and store  M, D, Y in variables\n",
    "dateRegex = re.compile(r'(\\d{2})/(\\d{2})/(\\d{4})')  # DD/MM/YYYY\n",
    " \n",
    "def dateMatch(input):\n",
    "\tmo = dateRegex.search(input)\n",
    "\tif mo:\n",
    "\t\tday, month, year = map(int, mo.groups())\n",
    "\t\tprint(day, month, year)\n",
    "\t\treturn day, month, year\n",
    "\telse:\n",
    "\t\treturn None, None, None\n",
    "\n",
    "\n",
    "# Sub function to determine if year is valid\n",
    "def validYear(year):\n",
    "\tif 1000 <= year <= 2999:\n",
    "\t\treturn True\n",
    "\telse:\n",
    "\t\treturn False\n",
    "\n",
    "# Sub function to determine if it is a leap year\n",
    "def isLeapYear(year):\n",
    "\tif (year % 4 == 0):\n",
    "\t\tif (year % 100 == 0):\n",
    "\t\t\tif (year % 400 == 0):\n",
    "\t\t\t\treturn True\n",
    "\t\t\telse:\n",
    "\t\t\t\treturn False\n",
    "\t\telse:\n",
    "\t\t\treturn True\n",
    "\telse:\n",
    "\t\treturn False\n",
    "# Sub function to determine if the month is valid\n",
    "def validMonth(month):\n",
    "\tif 1 <= month <= 12:\n",
    "\t\treturn True\n",
    "\telse:\n",
    "\t\treturn False\n",
    "\n",
    "# Sub function to determine if the day is valid\n",
    "def validDay(year, month, day):\n",
    "    if month in [4, 6, 9, 11] and 1 <= day <= 30:\n",
    "        return True\n",
    "    elif month == 2:\n",
    "        if isLeapYear(year) and 1 <= day <= 29:\n",
    "            return True\n",
    "        elif not isLeapYear(year) and 1 <= day <= 28:\n",
    "            return True\n",
    "    elif month in [1, 3, 5, 7, 8, 10, 12] and 1 <= day <= 31:\n",
    "        return True\n",
    "    else:\n",
    "        return False\n",
    "\n",
    "\n",
    "# Main function to determine if the date is valid\n",
    "def isValidDate(input):\n",
    "\tday, month, year = dateMatch(input)\n",
    "\t\n",
    "\tif day is None or month is None or year is None:\n",
    "\t\treturn False, 'Part of the date is missing'\n",
    "\t\n",
    "\tif not validYear(year):\n",
    "\t\treturn False, 'Invalid year'\n",
    "\t\n",
    "\tif not validMonth(month):\n",
    "\t\treturn False, 'Invalid Month'\n",
    "\t\n",
    "\tif not validDay(year, month, day):\n",
    "\t\treturn False,'Invalid Day'\n",
    "\t\n",
    "\treturn True, 'Date is Valid'\n",
    "\n",
    "\n",
    "\n",
    "# Example usage with both the input date and the result\n",
    "print(f\"{valid_date1}: {isValidDate(valid_date1)}\")  # Should return '04/12/2004: True'\n",
    "print(f\"{valid_date2}: {isValidDate(valid_date2)}\")  # Should return '29/02/2020: True'\n",
    "print(f\"{valid_date3}: {isValidDate(valid_date3)}\")  # Should return '31/01/2019: True'\n",
    "print(f\"{valid_date4}: {isValidDate(valid_date4)}\")  # Should return '30/04/2018: True'\n",
    "print(f\"{valid_date5}: {isValidDate(valid_date5)}\")  # Should return '28/02/2021: True'\n",
    "\n",
    "print(f\"{invalid_month1}: {isValidDate(invalid_month1)}\")  # Should return '32/01/2000: False'\n",
    "print(f\"{invalid_month2}: {isValidDate(invalid_month2)}\")  # Should return '31/04/2020: False'\n",
    "print(f\"{invalid_day1}: {isValidDate(invalid_day1)}\")  # Should return '29/02/2021: False'\n",
    "print(f\"{invalid_day2}: {isValidDate(invalid_day2)}\")  # Should return '31/02/2020: False'\n",
    "print(f\"{invalid_day3}: {isValidDate(invalid_day3)}\")  # Should return '00/12/2000: False'\n",
    "print(f\"{invalid_month3}: {isValidDate(invalid_month3)}\")  # Should return '01/13/2000: False'\n",
    "print(f\"{invalid_month4}: {isValidDate(invalid_month4)}\")  # Should return '01/00/2000: False'\n",
    "print(f\"{invalid_year1}: {isValidDate(invalid_year1)}\")  # Should return '01/01/999: False'\n",
    "print(f\"{invalid_year2}: {isValidDate(invalid_year2)}\")  # Should return '01/01/3000: False'\n",
    "\n"
   ]
  },
  {
   "cell_type": "markdown",
   "metadata": {},
   "source": [
    "# Practice Project: Strong Password Protection\n",
    "Write a function that uses regular expressions to make sure the password string it is passed is strong. A strong password is defined as one that is at least eight characters long, contains both uppercase and lowercase characters, and has at least one digit. You may need to test the string against multiple regex patterns to validate its strength."
   ]
  },
  {
   "cell_type": "code",
   "execution_count": 12,
   "metadata": {},
   "outputs": [
    {
     "name": "stdout",
     "output_type": "stream",
     "text": [
      "(True, 'Valid Password')\n",
      "(False, 'Password too short')\n",
      "(False, 'Password does not include at least one lowercase letter')\n",
      "(False, 'Password does not include at least one uppercase letter')\n",
      "(False, 'Password too short')\n"
     ]
    }
   ],
   "source": [
    "import re\n",
    "\n",
    "def is_strong_password(password):\n",
    "    # Checking if password length is at least 8 characters\n",
    "    if len(password) < 8:\n",
    "        return False, 'Password too short'\n",
    "    \n",
    "\n",
    "    # Checking for at least one digit\n",
    "    if not re.search(r'\\d', password):\n",
    "        return False, 'Password does not include at least one number'\n",
    "\n",
    "    # Checking for at least one uppercase letter\n",
    "    if not re.search(r'[A-Z]', password):\n",
    "        return False, 'Password does not include at least one uppercase letter'\n",
    "    \n",
    "    # Check for at least one lowercase letter\n",
    "    if not re.search(r'[a-z]', password):\n",
    "        return False, 'Password does not include at least one lowercase letter'\n",
    "    \n",
    "    return True, 'Valid Password'\n",
    "\n",
    "# Testing the function\n",
    "print(is_strong_password(\"Password123\")) # Expected output: True\n",
    "print(is_strong_password(\"pass\")) # Expected output: False\n",
    "print(is_strong_password(\"PASSWORD123\")) # Expected output: False\n",
    "print(is_strong_password(\"password123\")) # Expected output: False\n",
    "print(is_strong_password(\"Pass123\")) # Expected output: False\n"
   ]
  },
  {
   "cell_type": "markdown",
   "metadata": {},
   "source": [
    "# Practice Project: Recreating the strip() funciton\n",
    "Regex Version of the strip() Method\n",
    "\n",
    "Write a function that takes a string and does the same thing as the strip() string method. If no other arguments are passed other than the string to strip, then whitespace characters will be removed from the beginning and end of the string. Otherwise, the characters specified in the second argument to the function will be removed from the string."
   ]
  },
  {
   "cell_type": "code",
   "execution_count": null,
   "metadata": {},
   "outputs": [
    {
     "name": "stdout",
     "output_type": "stream",
     "text": [
      "Hello, World!\n",
      "Hello, World!\n",
      "Hello, World!\n"
     ]
    }
   ],
   "source": [
    "import re\n",
    "\n",
    "def regex_strip(text, chars=None):\n",
    "    if chars is None:\n",
    "        # Default behavior to strip whitespace from both ends\n",
    "        return re.sub(r'^\\s+|\\s+$', '', text)\n",
    "    else:\n",
    "        # Create a regex pattern from the specified characters\n",
    "        # re.escape(chars) takes the chars string and adds an escape character so the char is treated as literal. i.a. '.' becomes '\\.'\n",
    "        pattern = f'^[{re.escape(chars)}]+|[{re.escape(chars)}]+$' # matches one or more (+) of the characters ar the beginning and end of the string\n",
    "        return re.sub(pattern, '', text) #substitute the pattern with an empty string\n",
    "\n",
    "# Testing the function\n",
    "print(regex_strip(\"   Hello, World!   \")) # Expected output: \"Hello, World!\"\n",
    "print(regex_strip(\"...Hello, World!...\", \".\")) # Expected output: \"Hello, World!\"\n",
    "print(regex_strip(\"##Hello, World!##\", \"#\")) # Expected output: \"Hello, World!\"\n"
   ]
  }
 ],
 "metadata": {
  "kernelspec": {
   "display_name": "Python 3",
   "language": "python",
   "name": "python3"
  },
  "language_info": {
   "codemirror_mode": {
    "name": "ipython",
    "version": 3
   },
   "file_extension": ".py",
   "mimetype": "text/x-python",
   "name": "python",
   "nbconvert_exporter": "python",
   "pygments_lexer": "ipython3",
   "version": "3.13.1"
  }
 },
 "nbformat": 4,
 "nbformat_minor": 2
}
