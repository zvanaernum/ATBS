{
 "cells": [
  {
   "cell_type": "markdown",
   "metadata": {},
   "source": [
    "# Chapter 10: Organizing Files\n",
    "\n",
    "In the previous chapter, you learned how to create and write to new files in Python. Your programs can also organize preexisting files on the hard drive. Maybe you’ve had the experience of going through a folder full of dozens, hundreds, or even thousands of files and copying, renaming, moving, or compressing them all by hand. Or consider tasks such as these:\n",
    "\n",
    "    Making copies of all PDF files (and only the PDF files) in every subfolder of a folder\n",
    "    Removing the leading zeros in the filenames for every file in a folder of hundreds of files named spam001.txt, spam002.txt, spam003.txt, and so on\n",
    "    Compressing the contents of several folders into one ZIP file (which could be a simple backup system)\n",
    "\n",
    "All this boring stuff is just begging to be automated in Python. By programming your computer to do these tasks, you can transform it into a quick-working file clerk who never makes mistakes.\n",
    "\n",
    "As you begin working with files, you may find it helpful to be able to quickly see what the extension (.txt, .pdf, .jpg, and so on) of a file is. With macOS and Linux, your file browser most likely shows extensions automatically. With Windows, file extensions may be hidden by default. To show extensions, go to Start ▸ Control Panel ▸ Appearance and Personalization ▸ Folder Options. On the View tab, under Advanced Settings, uncheck the Hide extensions for known file types checkbox."
   ]
  },
  {
   "cell_type": "markdown",
   "metadata": {},
   "source": [
    "## The shutil Module\n",
    "\n",
    "The shutil (or shell utilities) module has functions to let you copy, move, rename, and delete files in your Python programs. To use the shutil functions, you will first need to use import shutil."
   ]
  },
  {
   "cell_type": "markdown",
   "metadata": {},
   "source": [
    "### Copying Files and Folders\n",
    "\n",
    "The shutil module provides functions for copying files, as well as entire folders.\n",
    "\n",
    "Calling shutil.copy(source, destination) will copy the file at the path source to the folder at the path destination. (Both source and destination can be strings or Path objects.) If destination is a filename, it will be used as the new name of the copied file. This function returns a string or Path object of the copied file."
   ]
  },
  {
   "cell_type": "code",
   "execution_count": null,
   "metadata": {},
   "outputs": [],
   "source": [
    "import shutil, os\n",
    "\n",
    "from pathlib import Path # import the Path class from the pathlib module\n",
    "p = Path.home()\n",
    "shutil.copy(p / 'spam.txt', p / 'some_folder') # copy the spam.txt file in the home directory to a folder called some_folder (note folder must already exist)\n",
    "\n",
    "shutil.copy(p / 'eggs.txt', p / 'some_folder/eggs2.txt') # make a copy of eggs.text into some_folder with a new file name eggs2\n"
   ]
  },
  {
   "cell_type": "markdown",
   "metadata": {},
   "source": [
    "The first shutil.copy() call copies the file at C:\\Users\\Al\\spam.txt to the folder C:\\Users\\Al\\some_folder. The return value is the path of the newly copied file. Note that since a folder was specified as the destination ➊, the original spam.txt filename is used for the new, copied file’s filename. The second shutil.copy() call ➋ also copies the file at C:\\Users\\Al\\eggs.txt to the folder C:\\Users\\Al\\some_folder but gives the copied file the name eggs2.txt.\n",
    "\n",
    "While shutil.copy() will copy a single file, shutil.copytree() will copy an entire folder and every folder and file contained in it. Calling shutil.copytree(source, destination) will copy the folder at the path source, along with all of its files and subfolders, to the folder at the path destination. The source and destination parameters are both strings. The function returns a string of the path of the copied folder."
   ]
  },
  {
   "cell_type": "code",
   "execution_count": null,
   "metadata": {},
   "outputs": [],
   "source": [
    "import shutil, os\n",
    "\n",
    "from pathlib import Path\n",
    "\n",
    "p = Path.home()\n",
    "\n",
    "shutil.copytree(p / 'some_folder', p / 'some_folder_backup') # copy the some_folder including all contents to a new folder called some_folder_backup"
   ]
  },
  {
   "cell_type": "markdown",
   "metadata": {},
   "source": [
    "### Moving and renaming Files and Folders\n",
    "Calling shutil.move(source, destination) will move the file or folder at the path source to the path destination and will return a string of the absolute path of the new location.\n",
    "\n",
    "If destination points to a folder, the source file gets moved into destination and keeps its current filename."
   ]
  },
  {
   "cell_type": "code",
   "execution_count": null,
   "metadata": {},
   "outputs": [],
   "source": [
    "import shutil\n",
    "p = Path(r'C:\\Users\\Zac\\OneDrive\\Python\\Practice\\ATBS\\Files\\Test Files')\n",
    "shutil.move(p / 'bacon.txt', p / 'eggs') # move file to the 'eggs' folder. Note eggs folder must already exist"
   ]
  },
  {
   "cell_type": "markdown",
   "metadata": {},
   "source": [
    "Assuming a folder named eggs already exists in the C:\\ directory, this shutil.move() call says, “Move C:\\bacon.txt into the folder C:\\eggs.”\n",
    "\n",
    "If there had been a bacon.txt file already in C:\\eggs, it would have been overwritten. Since it’s easy to accidentally overwrite files in this way, you should take some care when using move().\n",
    "\n",
    "The destination path can also specify a filename. In the following example, the source file is moved and renamed."
   ]
  },
  {
   "cell_type": "code",
   "execution_count": null,
   "metadata": {},
   "outputs": [],
   "source": [
    "p = Path(r'C:\\Users\\Zac\\OneDrive\\Python\\Practice\\ATBS\\Files\\Test Files')\n",
    "shutil.move(p / 'bacon.txt', p / 'eggs\\\\new_bacon.txt') # move file to the 'eggs' folder and rename. Note eggs folder must already exist"
   ]
  },
  {
   "cell_type": "markdown",
   "metadata": {},
   "source": [
    "This line says, “Move C:\\bacon.txt into the folder C:\\eggs, and while you’re at it, rename that bacon.txt file to new_bacon.txt.”\n",
    "\n",
    "Both of the previous examples worked under the assumption that there was a folder eggs in the C:\\ directory. But if there is no eggs folder, then move() will rename bacon.txt to a file named eggs."
   ]
  },
  {
   "cell_type": "code",
   "execution_count": null,
   "metadata": {},
   "outputs": [],
   "source": [
    "p = Path(r'C:\\Users\\Zac\\OneDrive\\Python\\Practice\\ATBS\\Files\\Test Files')\n",
    "shutil.move(p / 'bacon.txt', p / 'ham') # ham folder doesnt exist, so it will move the bacon.txt to a file named egs."
   ]
  },
  {
   "cell_type": "markdown",
   "metadata": {},
   "source": [
    "Here, move() can’t find a folder named ham in the directory and so assumes that destination must be specifying a filename, not a folder. So the bacon.txt text file is renamed to eggs (a text file without the .txt file extension)—probably not what you wanted! This can be a tough-to-spot bug in your programs since the move() call can happily do something that might be quite different from what you were expecting. This is yet another reason to be careful when using move().\n",
    "\n",
    "Finally, the folders that make up the destination must already exist, or else Python will throw an exception. Enter the following into the interactive shell:"
   ]
  },
  {
   "cell_type": "code",
   "execution_count": null,
   "metadata": {},
   "outputs": [],
   "source": [
    "# this will throw an exception because the destination does not exist\n",
    "shutil.move('spam.txt', 'c:\\\\does_not_exist\\\\eggs\\\\ham')"
   ]
  },
  {
   "cell_type": "markdown",
   "metadata": {},
   "source": [
    "Python looks for eggs and ham inside the directory does_not_exist. It doesn’t find the nonexistent directory, so it can’t move spam.txt to the path you specified."
   ]
  },
  {
   "cell_type": "markdown",
   "metadata": {},
   "source": [
    "### Permanently Deleting Files and Folders\n",
    "You can delete a single file or a single empty folder with functions in the os module, whereas to delete a folder and all of its contents, you use the shutil module.\n",
    "\n",
    "    Calling os.unlink(path) will delete the file at path.\n",
    "    Calling os.rmdir(path) will delete the folder at path. This folder must be empty of any files or folders.\n",
    "    Calling shutil.rmtree(path) will remove the folder at path, and all files and folders it contains will also be deleted.\n",
    "\n",
    "Be careful when using these functions in your programs! It’s often a good idea to first run your program with these calls commented out and with print() calls added to show the files that would be deleted. Here is a Python program that was intended to delete files that have the .txt file extension but has a typo (highlighted in bold) that causes it to delete .rxt files instead:"
   ]
  },
  {
   "cell_type": "code",
   "execution_count": null,
   "metadata": {},
   "outputs": [],
   "source": [
    "# The following would delete all files ending in rtx\n",
    "import os\n",
    "from pathlib import Path\n",
    "for filename in Path.home().glob('*.rxt'):\n",
    "    os.unlink(filename)"
   ]
  },
  {
   "cell_type": "markdown",
   "metadata": {},
   "source": [
    "If you had any important files ending with .rxt, they would have been accidentally, permanently deleted. Instead, you should have first run the program like this:"
   ]
  },
  {
   "cell_type": "code",
   "execution_count": null,
   "metadata": {},
   "outputs": [],
   "source": [
    "# Use comment and print to print the files to be deleted before delting them\n",
    "import os\n",
    "from pathlib import Path\n",
    "for filename in Path.home().glob('*.txt'):\n",
    "    #os.unlink(filename)\n",
    "    print(filename)"
   ]
  },
  {
   "cell_type": "markdown",
   "metadata": {},
   "source": [
    "Now the os.unlink() call is commented, so Python ignores it. Instead, you will print the filename of the file that would have been deleted. Running this version of the program first will show you that you’ve accidentally told the program to delete .rxt files instead of .txt files.\n",
    "\n",
    "Once you are certain the program works as intended, delete the print(filename) line and uncomment the os.unlink(filename) line. Then run the program again to actually delete the files."
   ]
  },
  {
   "cell_type": "markdown",
   "metadata": {},
   "source": [
    "### Safe Deletes with the send2trash Module\n",
    "\n",
    "Since Python’s built-in shutil.rmtree() function irreversibly deletes files and folders, it can be dangerous to use. A much better way to delete files and folders is with the third-party send2trash module. You can install this module by running pip install --user send2trash from a Terminal window. (See Appendix A for a more in-depth explanation of how to install third-party modules.)\n",
    "\n",
    "Using send2trash is much safer than Python’s regular delete functions, because it will send folders and files to your computer’s trash or recycle bin instead of permanently deleting them. If a bug in your program deletes something with send2trash you didn’t intend to delete, you can later restore it from the recycle bin.\n",
    "\n",
    "After you have installed send2trash, enter the following into the interactive shell:"
   ]
  },
  {
   "cell_type": "code",
   "execution_count": null,
   "metadata": {},
   "outputs": [],
   "source": [
    "import send2trash\n",
    "p = Path(r'C:\\Users\\Zac\\OneDrive\\Python\\Practice\\ATBS\\Files\\Test Files')\n",
    "\n",
    "baconFile = open(p / 'bacon.txt', 'a') # creates a file called bacon\n",
    "baconFile.write('Bacon is not a vegetable\\n') # writes text to the bacon file\n",
    "\n",
    "baconFile.close()\n",
    "\n",
    "send2trash.send2trash(r'C:\\Users\\Zac\\OneDrive\\Python\\Practice\\ATBS\\Files\\Test Files\\bacon.txt') # doesnt seem to work with path objects\n"
   ]
  },
  {
   "cell_type": "markdown",
   "metadata": {},
   "source": [
    "In general, you should always use the send2trash.send2trash() function to delete files and folders. But while sending files to the recycle bin lets you recover them later, it will not free up disk space like permanently deleting them does. If you want your program to free up disk space, use the os and shutil functions for deleting files and folders. Note that the send2trash() function can only send files to the recycle bin; it cannot pull files out of it."
   ]
  },
  {
   "cell_type": "markdown",
   "metadata": {},
   "source": [
    "## Walking a Directory tree\n",
    "Say you want to rename every file in some folder and also every file in every subfolder of that folder. That is, you want to walk through the directory tree, touching each file as you go. Writing a program to do this could get tricky; fortunately, Python provides a function to handle this process for you."
   ]
  },
  {
   "cell_type": "code",
   "execution_count": null,
   "metadata": {},
   "outputs": [],
   "source": [
    "# Example program that walks an example file tree\n",
    "import os\n",
    "\n",
    "for folderName, subfolders, filenames in os.walk('C:\\\\delicious'):\n",
    "    print('The current folder is ' + folderName)\n",
    "\n",
    "    for subfolder in subfolders:\n",
    "        print('SUBFOLDER OF ' + folderName + ': ' + subfolder)\n",
    "\n",
    "    for filename in filenames:\n",
    "        print('FILE INSIDE ' + folderName + ': '+ filename)\n",
    "\n",
    "    print('')"
   ]
  },
  {
   "cell_type": "markdown",
   "metadata": {},
   "source": [
    "The os.walk() function is passed a single string value: the path of a folder. You can use os.walk() in a for loop statement to walk a directory tree, much like how you can use the range() function to walk over a range of numbers. Unlike range(), the os.walk() function will return three values on each iteration through the loop:\n",
    "\n",
    "    A string of the current folder’s name\n",
    "    A list of strings of the folders in the current folder\n",
    "    A list of strings of the files in the current folder\n",
    "\n",
    "(By current folder, I mean the folder for the current iteration of the for loop. The current working directory of the program is not changed by os.walk().)\n",
    "\n",
    "Just like you can choose the variable name i in the code for i in range(10):, you can also choose the variable names for the three values listed earlier. I usually use the names foldername, subfolders, and filenames."
   ]
  },
  {
   "cell_type": "markdown",
   "metadata": {},
   "source": [
    "Since os.walk() returns lists of strings for the subfolder and filename variables, you can use these lists in their own for loops. Replace the print() function calls with your own custom code. (Or if you don’t need one or both of them, remove the for loops.)"
   ]
  },
  {
   "cell_type": "code",
   "execution_count": null,
   "metadata": {},
   "outputs": [],
   "source": [
    "# lets try this with my python folder\n",
    "import os\n",
    "\n",
    "for folderName, subfolders, filenames in os.walk(r'C:\\Users\\Zac\\OneDrive\\Python'):\n",
    "    print('The current folder is ' + folderName)\n",
    "\n",
    "    for subfolder in subfolders:\n",
    "        print('SUBFOLDER OF ' + folderName + ': ' + subfolder)\n",
    "\n",
    "    for filename in filenames:\n",
    "        print('FILE INSIDE ' + folderName + ': '+ filename)\n",
    "\n",
    "    print('')"
   ]
  },
  {
   "cell_type": "markdown",
   "metadata": {},
   "source": [
    "## Compressing Files with the zipfile Module\n",
    "\n",
    "You may be familiar with ZIP files (with the .zip file extension), which can hold the compressed contents of many other files. Compressing a file reduces its size, which is useful when transferring it over the internet. And since a ZIP file can also contain multiple files and subfolders, it’s a handy way to package several files into one. This single file, called an archive file, can then be, say, attached to an email.\n",
    "\n",
    "Your Python programs can create and open (or extract) ZIP files using functions in the zipfile module. \n",
    "\n",
    "Lets use the example.zip file to try it out."
   ]
  },
  {
   "cell_type": "markdown",
   "metadata": {},
   "source": [
    "### Reading ZIP Files\n",
    "\n",
    "To read the contents of a ZIP file, first you must create a ZipFile object (note the capital letters Z and F). ZipFile objects are conceptually similar to the File objects you saw returned by the open() function in the previous chapter: they are values through which the program interacts with the file. To create a ZipFile object, call the zipfile.ZipFile() function, passing it a string of the .ZIP file’s filename. Note that zipfile is the name of the Python module, and ZipFile() is the name of the function."
   ]
  },
  {
   "cell_type": "code",
   "execution_count": 35,
   "metadata": {},
   "outputs": [
    {
     "data": {
      "text/plain": [
       "['spam.txt', 'cats/', 'cats/catnames.txt', 'cats/zophie.jpg']"
      ]
     },
     "execution_count": 35,
     "metadata": {},
     "output_type": "execute_result"
    }
   ],
   "source": [
    "import zipfile, os\n",
    "\n",
    "from pathlib import Path\n",
    "\n",
    "p = Path(r\"C:\\Users\\Zac\\OneDrive\\Python\\Practice\\ATBS\")\n",
    "\n",
    "exampleZip = zipfile.ZipFile(p / 'automate_online-materials/example.zip')\n",
    "exampleZip.namelist() # return a list of strings for all the files and folders in the zip"
   ]
  },
  {
   "cell_type": "code",
   "execution_count": 36,
   "metadata": {},
   "outputs": [
    {
     "data": {
      "text/plain": [
       "13908"
      ]
     },
     "execution_count": 36,
     "metadata": {},
     "output_type": "execute_result"
    }
   ],
   "source": [
    "spamInfo = exampleZip.getinfo('spam.txt') # pass the spam.txt file to getinfo method to return a zipinfo object about this file\n",
    "spamInfo.file_size # get the file size from the zipinfo object"
   ]
  },
  {
   "cell_type": "code",
   "execution_count": 37,
   "metadata": {},
   "outputs": [
    {
     "data": {
      "text/plain": [
       "3828"
      ]
     },
     "execution_count": 37,
     "metadata": {},
     "output_type": "execute_result"
    }
   ],
   "source": [
    "spamInfo.compress_size # get the compressed file size from the zipinfo object"
   ]
  },
  {
   "cell_type": "code",
   "execution_count": 38,
   "metadata": {},
   "outputs": [
    {
     "data": {
      "text/plain": [
       "'Compressed file is 3.63x smaller!'"
      ]
     },
     "execution_count": 38,
     "metadata": {},
     "output_type": "execute_result"
    }
   ],
   "source": [
    "#print a statement of compression ratio rounded to 2 decimals\n",
    "f'Compressed file is {round(spamInfo.file_size / spamInfo.compress_size, 2)}x smaller!'"
   ]
  },
  {
   "cell_type": "markdown",
   "metadata": {},
   "source": [
    "A ZipFile object has a namelist() method that returns a list of strings for all the files and folders contained in the ZIP file. These strings can be passed to the getinfo() ZipFile method to return a ZipInfo object about that particular file. ZipInfo objects have their own attributes, such as file_size and compress_size in bytes, which hold integers of the original file size and compressed file size, respectively. While a ZipFile object represents an entire archive file, a ZipInfo object holds useful information about a single file in the archive.\n",
    "\n",
    "The command at ➊ calculates how efficiently example.zip is compressed by dividing the original file size by the compressed file size and prints this information."
   ]
  },
  {
   "cell_type": "markdown",
   "metadata": {},
   "source": [
    "### Extracting from ZIP Files\n",
    "\n",
    "The extractall() method for ZipFile objects extracts all the files and folders from a ZIP file into the current working directory."
   ]
  },
  {
   "cell_type": "code",
   "execution_count": 45,
   "metadata": {},
   "outputs": [],
   "source": [
    "import zipfile, os\n",
    "\n",
    "from pathlib import Path\n",
    "\n",
    "p = Path(r\"C:\\Users\\Zac\\OneDrive\\Python\\Practice\\ATBS\")\n",
    "\n",
    "exampleZip = zipfile.ZipFile(p / 'automate_online-materials/example.zip')\n",
    "exampleZip.extractall() # extracts to current working directory by default\n",
    "exampleZip.close()"
   ]
  },
  {
   "cell_type": "code",
   "execution_count": 41,
   "metadata": {},
   "outputs": [],
   "source": [
    "import zipfile, os\n",
    "\n",
    "from pathlib import Path\n",
    "\n",
    "p = Path(r\"C:\\Users\\Zac\\OneDrive\\Python\\Practice\\ATBS\")\n",
    "\n",
    "exampleZip = zipfile.ZipFile(p / 'automate_online-materials/example.zip')\n",
    "exampleZip.extractall(r'C:\\delicious') # extracts to a new folder named delicious\n",
    "exampleZip.close()"
   ]
  },
  {
   "cell_type": "markdown",
   "metadata": {},
   "source": [
    "After running this code, the contents of example.zip will be extracted to C:\\. Optionally, you can pass a folder name to extractall() to have it extract the files into a folder other than the current working directory. If the folder passed to the extractall() method does not exist, it will be created. For instance, if you replaced the call at ➊ with exampleZip.extractall('C:\\\\delicious'), the code would extract the files from example.zip into a newly created C:\\delicious folder.\n",
    "\n",
    "The extract() method for ZipFile objects will extract a single file from the ZIP file. Continue the interactive shell example:"
   ]
  },
  {
   "cell_type": "code",
   "execution_count": 42,
   "metadata": {},
   "outputs": [],
   "source": [
    "import zipfile, os\n",
    "\n",
    "from pathlib import Path\n",
    "\n",
    "p = Path(r\"C:\\Users\\Zac\\OneDrive\\Python\\Practice\\ATBS\")\n",
    "\n",
    "exampleZip = zipfile.ZipFile(p / 'automate_online-materials/example.zip')\n",
    "exampleZip.extract('spam.txt', 'C:\\\\some\\\\new\\\\folders') # extracts just the spam file to this new directory\n",
    "exampleZip.close()"
   ]
  },
  {
   "cell_type": "markdown",
   "metadata": {},
   "source": [
    "The string you pass to extract() must match one of the strings in the list returned by namelist(). Optionally, you can pass a second argument to extract() to extract the file into a folder other than the current working directory. If this second argument is a folder that doesn’t yet exist, Python will create the folder. The value that extract() returns is the absolute path to which the file was extracted."
   ]
  },
  {
   "cell_type": "markdown",
   "metadata": {},
   "source": [
    "### Creating and Adding to ZIP Files\n",
    "\n",
    "To create your own compressed ZIP files, you must open the ZipFile object in write mode by passing 'w' as the second argument. (This is similar to opening a text file in write mode by passing 'w' to the open() function.)\n",
    "\n",
    "When you pass a path to the write() method of a ZipFile object, Python will compress the file at that path and add it into the ZIP file. The write() method’s first argument is a string of the filename to add. The second argument is the compression type parameter, which tells the computer what algorithm it should use to compress the files; you can always just set this value to zipfile.ZIP_DEFLATED. (This specifies the deflate compression algorithm, which works well on all types of data.) Enter the following into the interactive shell:"
   ]
  },
  {
   "cell_type": "code",
   "execution_count": null,
   "metadata": {},
   "outputs": [],
   "source": [
    "import zipfile\n",
    "newZip = zipfile.ZipFile('new.zip', 'w') # note 'w' will overwrite an existing file 'a' will append\n",
    "newZip.write('spam.txt', compress_type=zipfile.ZIP_DEFLATED) # note the specified file must already exist\n",
    "newZip.close()"
   ]
  },
  {
   "cell_type": "markdown",
   "metadata": {},
   "source": [
    "This code will create a new ZIP file named new.zip that has the compressed contents of spam.txt.\n",
    "\n",
    "Keep in mind that, just as with writing to files, write mode will erase all existing contents of a ZIP file. If you want to simply add files to an existing ZIP file, pass 'a' as the second argument to zipfile.ZipFile() to open the ZIP file in append mode."
   ]
  },
  {
   "cell_type": "markdown",
   "metadata": {},
   "source": [
    "## Project: Renaming Files with American-Style Dates to European-Style Dates\n",
    "\n",
    "Say your boss emails you thousands of files with American-style dates (MM-DD-YYYY) in their names and needs them renamed to European-style dates (DD-MM-YYYY). This boring task could take all day to do by hand! Let’s write a program to do it instead.\n",
    "\n",
    "Here’s what the program does:\n",
    "\n",
    "    It searches all the filenames in the current working directory for American-style dates.\n",
    "    When one is found, it renames the file with the month and day swapped to make it European-style.\n",
    "\n",
    "This means the code will need to do the following:\n",
    "\n",
    "    Create a regex that can identify the text pattern of American-style dates.\n",
    "    Call os.listdir() to find all the files in the working directory.\n",
    "    Loop over each filename, using the regex to check whether it has a date.\n",
    "    If it has a date, rename the file with shutil.move().\n",
    "\n",
    "For this project, open a new file editor window and save your code as renameDates.py."
   ]
  },
  {
   "cell_type": "markdown",
   "metadata": {},
   "source": [
    "### Step 1: Create a Regex for American-Style Dates\n",
    "\n",
    "The first part of the program will need to import the necessary modules and create a regex that can identify MM-DD-YYYY dates. The to-do comments will remind you what’s left to write in this program. Typing them as TODO makes them easy to find using Mu editor’s CTRL-F find feature."
   ]
  },
  {
   "cell_type": "code",
   "execution_count": 1,
   "metadata": {},
   "outputs": [],
   "source": [
    "#! python3\n",
    "# renameDates.py - Renames filenames with the American date format to European date format DD-MM-YYYY\n",
    "\n",
    "import shutil, os, re\n",
    "\n",
    "# create a regex to match file nanmes with American stype date formats \n",
    "datePattern = re.compile(r\"\"\"^(.*?) # all text before the date\n",
    "    ((0|1)?\\d)-                     # one or two digits for the month                      \n",
    "    ((0|1|2|3)?\\d)-                 # one or two digits for the day   \n",
    "    ((19|20)\\d\\d)                   # four digits for the year \n",
    "    (.*?)$                          # all text after the date                      \n",
    "        \"\"\", re.VERBOSE)\n",
    "\n",
    "# TODO: Loop over the files in the working directory.\n",
    "\n",
    "# TODO: Skip files without a date.\n",
    "\n",
    "# TODO: Get the different parts of the filename.\n",
    "\n",
    "# TODO: Form the European-style filename.\n",
    "\n",
    "# TODO: Get the full, absolute file paths.\n",
    "\n",
    "# TODO: Rename the files."
   ]
  },
  {
   "cell_type": "markdown",
   "metadata": {},
   "source": [
    "From this chapter, you know the shutil.move() function can be used to rename files: its arguments are the name of the file to rename and the new filename. Because this function exists in the shutil module, you must import that module ➊.\n",
    "\n",
    "But before renaming the files, you need to identify which files you want to rename. Filenames with dates such as spam4-4-1984.txt and 01-03-2014eggs.zip should be renamed, while filenames without dates such as littlebrother.epub can be ignored.\n",
    "\n",
    "You can use a regular expression to identify this pattern. After importing the re module at the top, call re.compile() to create a Regex object ➋. Passing re.VERBOSE for the second argument ➌ will allow whitespace and comments in the regex string to make it more readable.\n",
    "\n",
    "The regular expression string begins with ^(.*?) to match any text at the beginning of the filename that might come before the date. The ((0|1)?\\d) group matches the month. The first digit can be either 0 or 1, so the regex matches 12 for December but also 02 for February. This digit is also optional so that the month can be 04 or 4 for April. The group for the day is ((0|1|2|3)?\\d) and follows similar logic; 3, 03, and 31 are all valid numbers for days. (Yes, this regex will accept some invalid dates such as 4-31-2014, 2-29-2013, and 0-15-2014. Dates have a lot of thorny special cases that can be easy to miss. But for simplicity, the regex in this program works well enough.)\n",
    "\n",
    "While 1885 is a valid year, you can just look for years in the 20th or 21st century. This will keep your program from accidentally matching nondate filenames with a date-like format, such as 10-10-1000.txt.\n",
    "\n",
    "The (.*?)$ part of the regex will match any text that comes after the date."
   ]
  },
  {
   "cell_type": "markdown",
   "metadata": {},
   "source": [
    "### Step 2: Identify the Date Parts from the Filenames\n",
    "\n",
    "Next, the program will have to loop over the list of filename strings returned from os.listdir() and match them against the regex. Any files that do not have a date in them should be skipped. For filenames that have a date, the matched text will be stored in several variables. "
   ]
  },
  {
   "cell_type": "code",
   "execution_count": null,
   "metadata": {},
   "outputs": [],
   "source": [
    "#! python3\n",
    "# renameDates.py - Renames filenames with the American date format to European date format DD-MM-YYYY\n",
    "\n",
    "import shutil, os, re\n",
    "\n",
    "# create a regex to match file nanmes with American stype date formats \n",
    "datePattern = re.compile(r\"\"\"^(.*?) # all text before the date\n",
    "    ((0|1)?\\d)-                     # one or two digits for the month                      \n",
    "    ((0|1|2|3)?\\d)-                 # one or two digits for the day   \n",
    "    ((19|20)\\d\\d)                   # four digits for the year \n",
    "    (.*?)$                          # all text after the date                      \n",
    "        \"\"\", re.VERBOSE)\n",
    "\n",
    "# Loop over the files in the working directory.\n",
    "for amerFilename in os.listdir('.'):\n",
    "    mo = datePattern.search(amerFilename)\n",
    "    # Skip files without a date\n",
    "    if mo == None:\n",
    "        continue\n",
    "    # Get the different parts of the file name\n",
    "    beforePart = mo.group(1)\n",
    "    monthPath = mo.group(2)\n",
    "    dayPart = mo.group(3)\n",
    "    yearPart = mo.group(4)\n",
    "    afterPart = mo.group(5)\n",
    "\n",
    "# TODO: Skip files without a date.\n",
    "\n",
    "# TODO: Get the different parts of the filename.\n",
    "\n",
    "# TODO: Form the European-style filename.\n",
    "\n",
    "# TODO: Get the full, absolute file paths.\n",
    "\n",
    "# TODO: Rename the files."
   ]
  },
  {
   "cell_type": "markdown",
   "metadata": {},
   "source": [
    "If the Match object returned from the search() method is None ➊, then the filename in amerFilename does not match the regular expression. The continue statement ➋ will skip the rest of the loop and move on to the next filename.\n",
    "\n",
    "Otherwise, the various strings matched in the regular expression groups are stored in variables named beforePart, monthPart, dayPart, yearPart, and afterPart ➌. The strings in these variables will be used to form the European-style filename in the next step.\n",
    "\n",
    "To keep the group numbers straight, try reading the regex from the beginning, and count up each time you encounter an opening parenthesis. Without thinking about the code, just write an outline of the regular expression. This can help you visualize the groups. Here’s an example:\n",
    "\n",
    "datePattern = re.compile(r\"\"\"^(1) # all text before the date\n",
    "    (2 (3) )-                     # one or two digits for the month\n",
    "    (4 (5) )-                     # one or two digits for the day\n",
    "    (6 (7) )                      # four digits for the year\n",
    "    (8)$                          # all text after the date\n",
    "    \"\"\", re.VERBOSE)\n",
    "\n",
    "Here, the numbers 1 through 8 represent the groups in the regular expression you wrote. Making an outline of the regular expression, with just the parentheses and group numbers, can give you a clearer understanding of your regex before you move on with the rest of the program."
   ]
  },
  {
   "cell_type": "markdown",
   "metadata": {},
   "source": [
    "### Step 3: Form the New Filename and Rename the Files\n",
    "\n",
    "As the final step, concatenate the strings in the variables made in the previous step with the European-style date: the date comes before the month."
   ]
  },
  {
   "cell_type": "code",
   "execution_count": 5,
   "metadata": {},
   "outputs": [
    {
     "name": "stdout",
     "output_type": "stream",
     "text": [
      "Renaming \"C:\\Users\\Zac\\OneDrive\\Python\\Practice\\ATBS\\Files\\Test Files\\Testfile_03-12-2023.txt\" to \"C:\\Users\\Zac\\OneDrive\\Python\\Practice\\ATBS\\Files\\Test Files\\Testfile_12-03-2023.txt\"...\n",
      "Renaming \"C:\\Users\\Zac\\OneDrive\\Python\\Practice\\ATBS\\Files\\Test Files\\Testfile_03-24-1984 - Copy.txt\" to \"C:\\Users\\Zac\\OneDrive\\Python\\Practice\\ATBS\\Files\\Test Files\\Testfile_24-03-1984 - Copy.txt\"...\n"
     ]
    }
   ],
   "source": [
    "#! python3\n",
    "# renameDates.py - Renames filenames with the American date format to European date format DD-MM-YYYY\n",
    "\n",
    "import shutil, os, re\n",
    "\n",
    "# create a regex to match file nanmes with American stype date formats \n",
    "datePattern = re.compile(r\"\"\"^(.*?) # all text before the date\n",
    "    ((0|1)?\\d)-                     # one or two digits for the month                      \n",
    "    ((0|1|2|3)?\\d)-                 # one or two digits for the day   \n",
    "    ((19|20)\\d\\d)                   # four digits for the year \n",
    "    (.*?)$                          # all text after the date                      \n",
    "        \"\"\", re.VERBOSE)\n",
    "\n",
    "# directory containing files:\n",
    "p = r\"C:\\Users\\Zac\\OneDrive\\Python\\Practice\\ATBS\\Files\\Test Files\"\n",
    "\n",
    "# Loop over the files in the working directory.\n",
    "for amerFilename in os.listdir(p):\n",
    "    mo = datePattern.search(amerFilename)\n",
    "    # Skip files without a date\n",
    "    if mo == None:\n",
    "        continue\n",
    "    # Get the different parts of the file name\n",
    "    beforePart = mo.group(1)\n",
    "    monthPath = mo.group(2)\n",
    "    dayPart = mo.group(4)\n",
    "    yearPart = mo.group(6)\n",
    "    afterPart = mo.group(8)\n",
    "\n",
    "    # Form the European-style filename.\n",
    "    euroFilename = beforePart + dayPart + '-' + monthPath + '-' + yearPart + afterPart\n",
    "\n",
    "    # Get the full, absolute file paths.\n",
    "    absWorkingDir = os.path.abspath(p)\n",
    "    amerFilename = os.path.join(absWorkingDir, amerFilename)\n",
    "    euroFilename = os.path.join(absWorkingDir, euroFilename)\n",
    "\n",
    "    # Rename the files.\n",
    "    print(f'Renaming \"{amerFilename}\" to \"{euroFilename}\"...')\n",
    "    #shutil.move(amerFilename, euroFilename) # uncomment after testing"
   ]
  },
  {
   "cell_type": "markdown",
   "metadata": {},
   "source": [
    "Store the concatenated string in a variable named euroFilename ➊. Then, pass the original filename in amerFilename and the new euroFilename variable to the shutil.move() function to rename the file ➌.\n",
    "\n",
    "This program has the shutil.move() call commented out and instead prints the filenames that will be renamed ➋. Running the program like this first can let you double-check that the files are renamed correctly. Then you can uncomment the shutil.move() call and run the program again to actually rename the files."
   ]
  },
  {
   "cell_type": "markdown",
   "metadata": {},
   "source": [
    "## Project: Backing Up a Folder into a ZIP File\n",
    "\n",
    "Say you’re working on a project whose files you keep in a folder named C:\\AlsPythonBook. You’re worried about losing your work, so you’d like to create ZIP file “snapshots” of the entire folder. You’d like to keep different versions, so you want the ZIP file’s filename to increment each time it is made; for example, AlsPythonBook_1.zip, AlsPythonBook_2.zip, AlsPythonBook_3.zip, and so on. You could do this by hand, but it is rather annoying, and you might accidentally misnumber the ZIP files’ names. It would be much simpler to run a program that does this boring task for you.\n",
    "\n",
    "For this project, open a new file editor window and save it as backupToZip.py."
   ]
  },
  {
   "cell_type": "markdown",
   "metadata": {},
   "source": [
    "### Step 1: Figure Out the ZIP File’s Name\n",
    "\n",
    "The code for this program will be placed into a function named backupToZip(). This will make it easy to copy and paste the function into other Python programs that need this functionality. At the end of the program, the function will be called to perform the backup."
   ]
  },
  {
   "cell_type": "code",
   "execution_count": null,
   "metadata": {},
   "outputs": [],
   "source": [
    "#! python 3\n",
    "# backupToZip.py - Copies an entire folder and its contents into a ZIP file whose filename increments\n",
    "\n",
    "import zipfile, os\n",
    "\n",
    "def backupToZip(folder):\n",
    "    # Backup the entire contents of \"folder\" into a ZIP file.\n",
    "    folder = os.path.abspath(folder) # make sure folder is absolute\n",
    "\n",
    "    # Figure out the filename this code should be use based on what files already exist.\n",
    "    number = 1\n",
    "    while True:\n",
    "        zipFilename = os.path.basename(folder) + '_' + str(number) + '.zip'\n",
    "        if not os.path.exists(zipFilename): # the first non-existent filenam to be found causes the loop to break out\n",
    "            break\n",
    "        number = number + 1\n",
    "\n",
    "    # TODO: Create the zip file.\n",
    "    # TODO: walk the entire folder tree and compress the files in each folder.\n",
    "    print('Done.')\n",
    "\n",
    "backupToZip('.')\n"
   ]
  },
  {
   "cell_type": "markdown",
   "metadata": {},
   "source": [
    "Do the basics first: add the shebang (#!) line, describe what the program does, and import the zipfile and os modules ➊.\n",
    "\n",
    "Define a backupToZip() function that takes just one parameter, folder. This parameter is a string path to the folder whose contents should be backed up. The function will determine what filename to use for the ZIP file it will create; then the function will create the file, walk the folder folder, and add each of the subfolders and files to the ZIP file. Write TODO comments for these steps in the source code to remind yourself to do them later ➍.\n",
    "\n",
    "The first part, naming the ZIP file, uses the base name of the absolute path of folder. If the folder being backed up is C:\\delicious, the ZIP file’s name should be delicious_N.zip, where N = 1 is the first time you run the program, N = 2 is the second time, and so on.\n",
    "\n",
    "You can determine what N should be by checking whether delicious_1.zip already exists, then checking whether delicious_2.zip already exists, and so on. Use a variable named number for N ➋, and keep incrementing it inside the loop that calls os.path.exists() to check whether the file exists ➌. The first nonexistent filename found will cause the loop to break, since it will have found the filename of the new zip."
   ]
  },
  {
   "cell_type": "markdown",
   "metadata": {},
   "source": [
    "### Step 2: Create the New ZIP File\n",
    "\n",
    "Next let’s create the ZIP file."
   ]
  },
  {
   "cell_type": "code",
   "execution_count": null,
   "metadata": {},
   "outputs": [],
   "source": [
    "#! python 3\n",
    "# backupToZip.py - Copies an entire folder and its contents into a ZIP file whose filename increments\n",
    "\n",
    "import zipfile, os\n",
    "\n",
    "def backupToZip(folder):\n",
    "    # Backup the entire contents of \"folder\" into a ZIP file.\n",
    "    folder = os.path.abspath(folder) # make sure folder is absolute\n",
    "\n",
    "    # Figure out the filename this code should be use based on what files already exist.\n",
    "    number = 1\n",
    "    while True:\n",
    "        zipFilename = os.path.basename(folder) + '_' + str(number) + '.zip'\n",
    "        if not os.path.exists(zipFilename): # the first non-existent filenam to be found causes the loop to break out\n",
    "            break\n",
    "        number = number + 1\n",
    "\n",
    "    # Create the zip file.\n",
    "    print(f'Creating {zipFilename}...')\n",
    "    backupToZip = zipfile.ZipFile(zipFilename, 'w')\n",
    "\n",
    "    # TODO: walk the entire folder tree and compress the files in each folder.\n",
    "    print('Done.')\n",
    "\n",
    "backupToZip('.')\n"
   ]
  },
  {
   "cell_type": "markdown",
   "metadata": {},
   "source": [
    "Now that the new ZIP file’s name is stored in the zipFilename variable, you can call zipfile.ZipFile() to actually create the ZIP file ➊. Be sure to pass 'w' as the second argument so that the ZIP file is opened in write mode."
   ]
  },
  {
   "cell_type": "markdown",
   "metadata": {},
   "source": [
    "### Step 3: Walk the Directory Tree and Add to the ZIP File\n",
    "\n",
    "Now you need to use the os.walk() function to do the work of listing every file in the folder and its subfolders."
   ]
  },
  {
   "cell_type": "code",
   "execution_count": 7,
   "metadata": {},
   "outputs": [
    {
     "name": "stdout",
     "output_type": "stream",
     "text": [
      "Creating Test Files_2.zip...\n",
      "Adding files in C:\\Users\\Zac\\OneDrive\\Python\\Practice\\ATBS\\Files\\Test Files...\n",
      "Adding files in C:\\Users\\Zac\\OneDrive\\Python\\Practice\\ATBS\\Files\\Test Files\\eggs...\n",
      "Adding files in C:\\Users\\Zac\\OneDrive\\Python\\Practice\\ATBS\\Files\\Test Files\\empty_folder...\n",
      "Adding files in C:\\Users\\Zac\\OneDrive\\Python\\Practice\\ATBS\\Files\\Test Files\\full_folder...\n",
      "Done.\n"
     ]
    }
   ],
   "source": [
    "#! python 3\n",
    "# backupToZip.py - Copies an entire folder and its contents into a ZIP file whose filename increments\n",
    "\n",
    "import zipfile, os\n",
    "\n",
    "# path of the folder to backup\n",
    "p = r\"C:\\Users\\Zac\\OneDrive\\Python\\Practice\\ATBS\\Files\\Test Files\"\n",
    "\n",
    "def backupToZip(folder):\n",
    "    # Backup the entire contents of \"folder\" into a ZIP file.\n",
    "    folder = os.path.abspath(folder) # make sure folder is absolute\n",
    "\n",
    "    # Figure out the filename this code should be use based on what files already exist.\n",
    "    number = 1\n",
    "    while True:\n",
    "        zipFilename = os.path.basename(folder) + '_' + str(number) + '.zip'\n",
    "        if not os.path.exists(zipFilename): # the first non-existent filenam to be found causes the loop to break out\n",
    "            break\n",
    "        number = number + 1\n",
    "\n",
    "    # Create the zip file.\n",
    "    print(f'Creating {zipFilename}...')\n",
    "    backupZip = zipfile.ZipFile(zipFilename, 'w')\n",
    "\n",
    "    # walk the entire folder tree and compress the files in each folder.\n",
    "    for foldername, subfolders, filenames in os.walk(folder):\n",
    "        print(f'Adding files in {foldername}...')\n",
    "\n",
    "        # Add the current folder to the zip file\n",
    "        backupZip.write (foldername)\n",
    "\n",
    "        # Add all the files in this folder to the ZIP file.\n",
    "        for filename in filenames:\n",
    "            newBase = os.path.basename(folder) + '_'\n",
    "            if filename.startswith(newBase) and filename.endswith('.zip'):\n",
    "                continue # dont back up the backup ZIP files\n",
    "            backupZip.write(os.path.join(foldername, filename))\n",
    "    \n",
    "    backupZip.close    \n",
    "    \n",
    "    print('Done.')\n",
    "\n",
    "backupToZip(p)\n"
   ]
  },
  {
   "cell_type": "markdown",
   "metadata": {},
   "source": [
    "You can use os.walk() in a for loop ➊, and on each iteration it will return the iteration’s current folder name, the subfolders in that folder, and the filenames in that folder.\n",
    "\n",
    "In the for loop, the folder is added to the ZIP file ➋. The nested for loop can go through each filename in the filenames list ➌. Each of these is added to the ZIP file, except for previously made backup ZIPs."
   ]
  }
 ],
 "metadata": {
  "kernelspec": {
   "display_name": "Python 3",
   "language": "python",
   "name": "python3"
  },
  "language_info": {
   "codemirror_mode": {
    "name": "ipython",
    "version": 3
   },
   "file_extension": ".py",
   "mimetype": "text/x-python",
   "name": "python",
   "nbconvert_exporter": "python",
   "pygments_lexer": "ipython3",
   "version": "3.13.1"
  }
 },
 "nbformat": 4,
 "nbformat_minor": 2
}
