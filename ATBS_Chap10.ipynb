{
 "cells": [
  {
   "cell_type": "markdown",
   "metadata": {},
   "source": [
    "# Chapter 10: Organizing Files\n",
    "\n",
    "In the previous chapter, you learned how to create and write to new files in Python. Your programs can also organize preexisting files on the hard drive. Maybe you’ve had the experience of going through a folder full of dozens, hundreds, or even thousands of files and copying, renaming, moving, or compressing them all by hand. Or consider tasks such as these:\n",
    "\n",
    "    Making copies of all PDF files (and only the PDF files) in every subfolder of a folder\n",
    "    Removing the leading zeros in the filenames for every file in a folder of hundreds of files named spam001.txt, spam002.txt, spam003.txt, and so on\n",
    "    Compressing the contents of several folders into one ZIP file (which could be a simple backup system)\n",
    "\n",
    "All this boring stuff is just begging to be automated in Python. By programming your computer to do these tasks, you can transform it into a quick-working file clerk who never makes mistakes.\n",
    "\n",
    "As you begin working with files, you may find it helpful to be able to quickly see what the extension (.txt, .pdf, .jpg, and so on) of a file is. With macOS and Linux, your file browser most likely shows extensions automatically. With Windows, file extensions may be hidden by default. To show extensions, go to Start ▸ Control Panel ▸ Appearance and Personalization ▸ Folder Options. On the View tab, under Advanced Settings, uncheck the Hide extensions for known file types checkbox."
   ]
  },
  {
   "cell_type": "markdown",
   "metadata": {},
   "source": [
    "## The shutil Module\n",
    "\n",
    "The shutil (or shell utilities) module has functions to let you copy, move, rename, and delete files in your Python programs. To use the shutil functions, you will first need to use import shutil."
   ]
  },
  {
   "cell_type": "markdown",
   "metadata": {},
   "source": [
    "### Copying Files and Folders\n",
    "\n",
    "The shutil module provides functions for copying files, as well as entire folders.\n",
    "\n",
    "Calling shutil.copy(source, destination) will copy the file at the path source to the folder at the path destination. (Both source and destination can be strings or Path objects.) If destination is a filename, it will be used as the new name of the copied file. This function returns a string or Path object of the copied file."
   ]
  },
  {
   "cell_type": "code",
   "execution_count": null,
   "metadata": {},
   "outputs": [],
   "source": [
    "import shutil, os\n",
    "\n",
    "from pathlib import Path # import the Path class from the pathlib module\n",
    "p = Path.home()\n",
    "shutil.copy(p / 'spam.txt', p / 'some_folder') # copy the spam.txt file in the home directory to a folder called some_folder (note folder must already exist)\n",
    "\n",
    "shutil.copy(p / 'eggs.txt', p / 'some_folder/eggs2.txt') # make a copy of eggs.text into some_folder with a new file name eggs2\n"
   ]
  },
  {
   "cell_type": "markdown",
   "metadata": {},
   "source": [
    "The first shutil.copy() call copies the file at C:\\Users\\Al\\spam.txt to the folder C:\\Users\\Al\\some_folder. The return value is the path of the newly copied file. Note that since a folder was specified as the destination ➊, the original spam.txt filename is used for the new, copied file’s filename. The second shutil.copy() call ➋ also copies the file at C:\\Users\\Al\\eggs.txt to the folder C:\\Users\\Al\\some_folder but gives the copied file the name eggs2.txt.\n",
    "\n",
    "While shutil.copy() will copy a single file, shutil.copytree() will copy an entire folder and every folder and file contained in it. Calling shutil.copytree(source, destination) will copy the folder at the path source, along with all of its files and subfolders, to the folder at the path destination. The source and destination parameters are both strings. The function returns a string of the path of the copied folder."
   ]
  },
  {
   "cell_type": "code",
   "execution_count": null,
   "metadata": {},
   "outputs": [],
   "source": [
    "import shutil, os\n",
    "\n",
    "from pathlib import Path\n",
    "\n",
    "p = Path.home()\n",
    "\n",
    "shutil.copytree(p / 'some_folder', p / 'some_folder_backup') # copy the some_folder including all contents to a new folder called some_folder_backup"
   ]
  },
  {
   "cell_type": "markdown",
   "metadata": {},
   "source": [
    "### Moving and renaming Files and Folders\n",
    "Calling shutil.move(source, destination) will move the file or folder at the path source to the path destination and will return a string of the absolute path of the new location.\n",
    "\n",
    "If destination points to a folder, the source file gets moved into destination and keeps its current filename."
   ]
  },
  {
   "cell_type": "code",
   "execution_count": null,
   "metadata": {},
   "outputs": [],
   "source": [
    "import shutil\n",
    "p = Path(r'C:\\Users\\Zac\\OneDrive\\Python\\Practice\\ATBS\\Files\\Test Files')\n",
    "shutil.move(p / 'bacon.txt', p / 'eggs') # move file to the 'eggs' folder. Note eggs folder must already exist"
   ]
  },
  {
   "cell_type": "markdown",
   "metadata": {},
   "source": [
    "Assuming a folder named eggs already exists in the C:\\ directory, this shutil.move() call says, “Move C:\\bacon.txt into the folder C:\\eggs.”\n",
    "\n",
    "If there had been a bacon.txt file already in C:\\eggs, it would have been overwritten. Since it’s easy to accidentally overwrite files in this way, you should take some care when using move().\n",
    "\n",
    "The destination path can also specify a filename. In the following example, the source file is moved and renamed."
   ]
  },
  {
   "cell_type": "code",
   "execution_count": null,
   "metadata": {},
   "outputs": [],
   "source": [
    "p = Path(r'C:\\Users\\Zac\\OneDrive\\Python\\Practice\\ATBS\\Files\\Test Files')\n",
    "shutil.move(p / 'bacon.txt', p / 'eggs\\\\new_bacon.txt') # move file to the 'eggs' folder and rename. Note eggs folder must already exist"
   ]
  },
  {
   "cell_type": "markdown",
   "metadata": {},
   "source": [
    "This line says, “Move C:\\bacon.txt into the folder C:\\eggs, and while you’re at it, rename that bacon.txt file to new_bacon.txt.”\n",
    "\n",
    "Both of the previous examples worked under the assumption that there was a folder eggs in the C:\\ directory. But if there is no eggs folder, then move() will rename bacon.txt to a file named eggs."
   ]
  },
  {
   "cell_type": "code",
   "execution_count": null,
   "metadata": {},
   "outputs": [],
   "source": [
    "p = Path(r'C:\\Users\\Zac\\OneDrive\\Python\\Practice\\ATBS\\Files\\Test Files')\n",
    "shutil.move(p / 'bacon.txt', p / 'ham') # ham folder doesnt exist, so it will move the bacon.txt to a file named egs."
   ]
  },
  {
   "cell_type": "markdown",
   "metadata": {},
   "source": [
    "Here, move() can’t find a folder named ham in the directory and so assumes that destination must be specifying a filename, not a folder. So the bacon.txt text file is renamed to eggs (a text file without the .txt file extension)—probably not what you wanted! This can be a tough-to-spot bug in your programs since the move() call can happily do something that might be quite different from what you were expecting. This is yet another reason to be careful when using move().\n",
    "\n",
    "Finally, the folders that make up the destination must already exist, or else Python will throw an exception. Enter the following into the interactive shell:"
   ]
  },
  {
   "cell_type": "code",
   "execution_count": null,
   "metadata": {},
   "outputs": [],
   "source": [
    "# this will throw an exception because the destination does not exist\n",
    "shutil.move('spam.txt', 'c:\\\\does_not_exist\\\\eggs\\\\ham')"
   ]
  },
  {
   "cell_type": "markdown",
   "metadata": {},
   "source": [
    "Python looks for eggs and ham inside the directory does_not_exist. It doesn’t find the nonexistent directory, so it can’t move spam.txt to the path you specified."
   ]
  },
  {
   "cell_type": "markdown",
   "metadata": {},
   "source": [
    "### Permanently Deleting Files and Folders\n",
    "You can delete a single file or a single empty folder with functions in the os module, whereas to delete a folder and all of its contents, you use the shutil module.\n",
    "\n",
    "    Calling os.unlink(path) will delete the file at path.\n",
    "    Calling os.rmdir(path) will delete the folder at path. This folder must be empty of any files or folders.\n",
    "    Calling shutil.rmtree(path) will remove the folder at path, and all files and folders it contains will also be deleted.\n",
    "\n",
    "Be careful when using these functions in your programs! It’s often a good idea to first run your program with these calls commented out and with print() calls added to show the files that would be deleted. Here is a Python program that was intended to delete files that have the .txt file extension but has a typo (highlighted in bold) that causes it to delete .rxt files instead:"
   ]
  },
  {
   "cell_type": "code",
   "execution_count": null,
   "metadata": {},
   "outputs": [],
   "source": [
    "# The following would delete all files ending in rtx\n",
    "import os\n",
    "from pathlib import Path\n",
    "for filename in Path.home().glob('*.rxt'):\n",
    "    os.unlink(filename)"
   ]
  },
  {
   "cell_type": "markdown",
   "metadata": {},
   "source": [
    "If you had any important files ending with .rxt, they would have been accidentally, permanently deleted. Instead, you should have first run the program like this:"
   ]
  },
  {
   "cell_type": "code",
   "execution_count": null,
   "metadata": {},
   "outputs": [],
   "source": [
    "# Use comment and print to print the files to be deleted before delting them\n",
    "import os\n",
    "from pathlib import Path\n",
    "for filename in Path.home().glob('*.txt'):\n",
    "    #os.unlink(filename)\n",
    "    print(filename)"
   ]
  },
  {
   "cell_type": "markdown",
   "metadata": {},
   "source": [
    "Now the os.unlink() call is commented, so Python ignores it. Instead, you will print the filename of the file that would have been deleted. Running this version of the program first will show you that you’ve accidentally told the program to delete .rxt files instead of .txt files.\n",
    "\n",
    "Once you are certain the program works as intended, delete the print(filename) line and uncomment the os.unlink(filename) line. Then run the program again to actually delete the files."
   ]
  },
  {
   "cell_type": "markdown",
   "metadata": {},
   "source": [
    "### Safe Deletes with the send2trash Module\n",
    "\n",
    "Since Python’s built-in shutil.rmtree() function irreversibly deletes files and folders, it can be dangerous to use. A much better way to delete files and folders is with the third-party send2trash module. You can install this module by running pip install --user send2trash from a Terminal window. (See Appendix A for a more in-depth explanation of how to install third-party modules.)\n",
    "\n",
    "Using send2trash is much safer than Python’s regular delete functions, because it will send folders and files to your computer’s trash or recycle bin instead of permanently deleting them. If a bug in your program deletes something with send2trash you didn’t intend to delete, you can later restore it from the recycle bin.\n",
    "\n",
    "After you have installed send2trash, enter the following into the interactive shell:"
   ]
  },
  {
   "cell_type": "code",
   "execution_count": null,
   "metadata": {},
   "outputs": [],
   "source": [
    "import send2trash\n",
    "p = Path(r'C:\\Users\\Zac\\OneDrive\\Python\\Practice\\ATBS\\Files\\Test Files')\n",
    "\n",
    "baconFile = open(p / 'bacon.txt', 'a') # creates a file called bacon\n",
    "baconFile.write('Bacon is not a vegetable\\n') # writes text to the bacon file\n",
    "\n",
    "baconFile.close()\n",
    "\n",
    "send2trash.send2trash(r'C:\\Users\\Zac\\OneDrive\\Python\\Practice\\ATBS\\Files\\Test Files\\bacon.txt') # doesnt seem to work with path objects\n"
   ]
  },
  {
   "cell_type": "markdown",
   "metadata": {},
   "source": [
    "In general, you should always use the send2trash.send2trash() function to delete files and folders. But while sending files to the recycle bin lets you recover them later, it will not free up disk space like permanently deleting them does. If you want your program to free up disk space, use the os and shutil functions for deleting files and folders. Note that the send2trash() function can only send files to the recycle bin; it cannot pull files out of it."
   ]
  },
  {
   "cell_type": "markdown",
   "metadata": {},
   "source": [
    "## Walking a Directory tree\n",
    "Say you want to rename every file in some folder and also every file in every subfolder of that folder. That is, you want to walk through the directory tree, touching each file as you go. Writing a program to do this could get tricky; fortunately, Python provides a function to handle this process for you."
   ]
  },
  {
   "cell_type": "code",
   "execution_count": null,
   "metadata": {},
   "outputs": [],
   "source": [
    "# Example program that walks an example file tree\n",
    "import os\n",
    "\n",
    "for folderName, subfolders, filenames in os.walk('C:\\\\delicious'):\n",
    "    print('The current folder is ' + folderName)\n",
    "\n",
    "    for subfolder in subfolders:\n",
    "        print('SUBFOLDER OF ' + folderName + ': ' + subfolder)\n",
    "\n",
    "    for filename in filenames:\n",
    "        print('FILE INSIDE ' + folderName + ': '+ filename)\n",
    "\n",
    "    print('')"
   ]
  },
  {
   "cell_type": "markdown",
   "metadata": {},
   "source": [
    "The os.walk() function is passed a single string value: the path of a folder. You can use os.walk() in a for loop statement to walk a directory tree, much like how you can use the range() function to walk over a range of numbers. Unlike range(), the os.walk() function will return three values on each iteration through the loop:\n",
    "\n",
    "    A string of the current folder’s name\n",
    "    A list of strings of the folders in the current folder\n",
    "    A list of strings of the files in the current folder\n",
    "\n",
    "(By current folder, I mean the folder for the current iteration of the for loop. The current working directory of the program is not changed by os.walk().)\n",
    "\n",
    "Just like you can choose the variable name i in the code for i in range(10):, you can also choose the variable names for the three values listed earlier. I usually use the names foldername, subfolders, and filenames."
   ]
  },
  {
   "cell_type": "markdown",
   "metadata": {},
   "source": [
    "Since os.walk() returns lists of strings for the subfolder and filename variables, you can use these lists in their own for loops. Replace the print() function calls with your own custom code. (Or if you don’t need one or both of them, remove the for loops.)"
   ]
  },
  {
   "cell_type": "code",
   "execution_count": null,
   "metadata": {},
   "outputs": [],
   "source": [
    "# lets try this with my python folder\n",
    "import os\n",
    "\n",
    "for folderName, subfolders, filenames in os.walk(r'C:\\Users\\Zac\\OneDrive\\Python'):\n",
    "    print('The current folder is ' + folderName)\n",
    "\n",
    "    for subfolder in subfolders:\n",
    "        print('SUBFOLDER OF ' + folderName + ': ' + subfolder)\n",
    "\n",
    "    for filename in filenames:\n",
    "        print('FILE INSIDE ' + folderName + ': '+ filename)\n",
    "\n",
    "    print('')"
   ]
  },
  {
   "cell_type": "markdown",
   "metadata": {},
   "source": [
    "## Compressing Files with the zipfile Module\n",
    "\n",
    "You may be familiar with ZIP files (with the .zip file extension), which can hold the compressed contents of many other files. Compressing a file reduces its size, which is useful when transferring it over the internet. And since a ZIP file can also contain multiple files and subfolders, it’s a handy way to package several files into one. This single file, called an archive file, can then be, say, attached to an email.\n",
    "\n",
    "Your Python programs can create and open (or extract) ZIP files using functions in the zipfile module. \n",
    "\n",
    "Lets use the example.zip file to try it out."
   ]
  },
  {
   "cell_type": "markdown",
   "metadata": {},
   "source": [
    "### Reading ZIP Files\n",
    "\n",
    "To read the contents of a ZIP file, first you must create a ZipFile object (note the capital letters Z and F). ZipFile objects are conceptually similar to the File objects you saw returned by the open() function in the previous chapter: they are values through which the program interacts with the file. To create a ZipFile object, call the zipfile.ZipFile() function, passing it a string of the .ZIP file’s filename. Note that zipfile is the name of the Python module, and ZipFile() is the name of the function."
   ]
  },
  {
   "cell_type": "code",
   "execution_count": 35,
   "metadata": {},
   "outputs": [
    {
     "data": {
      "text/plain": [
       "['spam.txt', 'cats/', 'cats/catnames.txt', 'cats/zophie.jpg']"
      ]
     },
     "execution_count": 35,
     "metadata": {},
     "output_type": "execute_result"
    }
   ],
   "source": [
    "import zipfile, os\n",
    "\n",
    "from pathlib import Path\n",
    "\n",
    "p = Path(r\"C:\\Users\\Zac\\OneDrive\\Python\\Practice\\ATBS\")\n",
    "\n",
    "exampleZip = zipfile.ZipFile(p / 'automate_online-materials/example.zip')\n",
    "exampleZip.namelist() # return a list of strings for all the files and folders in the zip"
   ]
  },
  {
   "cell_type": "code",
   "execution_count": 36,
   "metadata": {},
   "outputs": [
    {
     "data": {
      "text/plain": [
       "13908"
      ]
     },
     "execution_count": 36,
     "metadata": {},
     "output_type": "execute_result"
    }
   ],
   "source": [
    "spamInfo = exampleZip.getinfo('spam.txt') # pass the spam.txt file to getinfo method to return a zipinfo object about this file\n",
    "spamInfo.file_size # get the file size from the zipinfo object"
   ]
  },
  {
   "cell_type": "code",
   "execution_count": 37,
   "metadata": {},
   "outputs": [
    {
     "data": {
      "text/plain": [
       "3828"
      ]
     },
     "execution_count": 37,
     "metadata": {},
     "output_type": "execute_result"
    }
   ],
   "source": [
    "spamInfo.compress_size # get the compressed file size from the zipinfo object"
   ]
  },
  {
   "cell_type": "code",
   "execution_count": 38,
   "metadata": {},
   "outputs": [
    {
     "data": {
      "text/plain": [
       "'Compressed file is 3.63x smaller!'"
      ]
     },
     "execution_count": 38,
     "metadata": {},
     "output_type": "execute_result"
    }
   ],
   "source": [
    "#print a statement of compression ratio rounded to 2 decimals\n",
    "f'Compressed file is {round(spamInfo.file_size / spamInfo.compress_size, 2)}x smaller!'"
   ]
  },
  {
   "cell_type": "markdown",
   "metadata": {},
   "source": [
    "A ZipFile object has a namelist() method that returns a list of strings for all the files and folders contained in the ZIP file. These strings can be passed to the getinfo() ZipFile method to return a ZipInfo object about that particular file. ZipInfo objects have their own attributes, such as file_size and compress_size in bytes, which hold integers of the original file size and compressed file size, respectively. While a ZipFile object represents an entire archive file, a ZipInfo object holds useful information about a single file in the archive.\n",
    "\n",
    "The command at ➊ calculates how efficiently example.zip is compressed by dividing the original file size by the compressed file size and prints this information."
   ]
  },
  {
   "cell_type": "markdown",
   "metadata": {},
   "source": [
    "### Extracting from ZIP Files\n",
    "\n",
    "The extractall() method for ZipFile objects extracts all the files and folders from a ZIP file into the current working directory."
   ]
  },
  {
   "cell_type": "code",
   "execution_count": 45,
   "metadata": {},
   "outputs": [],
   "source": [
    "import zipfile, os\n",
    "\n",
    "from pathlib import Path\n",
    "\n",
    "p = Path(r\"C:\\Users\\Zac\\OneDrive\\Python\\Practice\\ATBS\")\n",
    "\n",
    "exampleZip = zipfile.ZipFile(p / 'automate_online-materials/example.zip')\n",
    "exampleZip.extractall() # extracts to current working directory by default\n",
    "exampleZip.close()"
   ]
  },
  {
   "cell_type": "code",
   "execution_count": 41,
   "metadata": {},
   "outputs": [],
   "source": [
    "import zipfile, os\n",
    "\n",
    "from pathlib import Path\n",
    "\n",
    "p = Path(r\"C:\\Users\\Zac\\OneDrive\\Python\\Practice\\ATBS\")\n",
    "\n",
    "exampleZip = zipfile.ZipFile(p / 'automate_online-materials/example.zip')\n",
    "exampleZip.extractall(r'C:\\delicious') # extracts to a new folder named delicious\n",
    "exampleZip.close()"
   ]
  },
  {
   "cell_type": "markdown",
   "metadata": {},
   "source": [
    "After running this code, the contents of example.zip will be extracted to C:\\. Optionally, you can pass a folder name to extractall() to have it extract the files into a folder other than the current working directory. If the folder passed to the extractall() method does not exist, it will be created. For instance, if you replaced the call at ➊ with exampleZip.extractall('C:\\\\delicious'), the code would extract the files from example.zip into a newly created C:\\delicious folder.\n",
    "\n",
    "The extract() method for ZipFile objects will extract a single file from the ZIP file. Continue the interactive shell example:"
   ]
  },
  {
   "cell_type": "code",
   "execution_count": 42,
   "metadata": {},
   "outputs": [],
   "source": [
    "import zipfile, os\n",
    "\n",
    "from pathlib import Path\n",
    "\n",
    "p = Path(r\"C:\\Users\\Zac\\OneDrive\\Python\\Practice\\ATBS\")\n",
    "\n",
    "exampleZip = zipfile.ZipFile(p / 'automate_online-materials/example.zip')\n",
    "exampleZip.extract('spam.txt', 'C:\\\\some\\\\new\\\\folders') # extracts just the spam file to this new directory\n",
    "exampleZip.close()"
   ]
  },
  {
   "cell_type": "markdown",
   "metadata": {},
   "source": [
    "The string you pass to extract() must match one of the strings in the list returned by namelist(). Optionally, you can pass a second argument to extract() to extract the file into a folder other than the current working directory. If this second argument is a folder that doesn’t yet exist, Python will create the folder. The value that extract() returns is the absolute path to which the file was extracted."
   ]
  },
  {
   "cell_type": "markdown",
   "metadata": {},
   "source": [
    "### Creating and Adding to ZIP Files\n",
    "\n",
    "To create your own compressed ZIP files, you must open the ZipFile object in write mode by passing 'w' as the second argument. (This is similar to opening a text file in write mode by passing 'w' to the open() function.)\n",
    "\n",
    "When you pass a path to the write() method of a ZipFile object, Python will compress the file at that path and add it into the ZIP file. The write() method’s first argument is a string of the filename to add. The second argument is the compression type parameter, which tells the computer what algorithm it should use to compress the files; you can always just set this value to zipfile.ZIP_DEFLATED. (This specifies the deflate compression algorithm, which works well on all types of data.) Enter the following into the interactive shell:"
   ]
  },
  {
   "cell_type": "code",
   "execution_count": null,
   "metadata": {},
   "outputs": [],
   "source": [
    "import zipfile\n",
    "newZip = zipfile.ZipFile('new.zip', 'w') # note 'w' will overwrite an existing file 'a' will append\n",
    "newZip.write('spam.txt', compress_type=zipfile.ZIP_DEFLATED) # note the specified file must already exist\n",
    "newZip.close()"
   ]
  },
  {
   "cell_type": "markdown",
   "metadata": {},
   "source": [
    "This code will create a new ZIP file named new.zip that has the compressed contents of spam.txt.\n",
    "\n",
    "Keep in mind that, just as with writing to files, write mode will erase all existing contents of a ZIP file. If you want to simply add files to an existing ZIP file, pass 'a' as the second argument to zipfile.ZipFile() to open the ZIP file in append mode."
   ]
  }
 ],
 "metadata": {
  "kernelspec": {
   "display_name": "Python 3",
   "language": "python",
   "name": "python3"
  },
  "language_info": {
   "codemirror_mode": {
    "name": "ipython",
    "version": 3
   },
   "file_extension": ".py",
   "mimetype": "text/x-python",
   "name": "python",
   "nbconvert_exporter": "python",
   "pygments_lexer": "ipython3",
   "version": "3.13.1"
  }
 },
 "nbformat": 4,
 "nbformat_minor": 2
}
