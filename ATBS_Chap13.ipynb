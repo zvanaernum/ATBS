{
 "cells": [
  {
   "cell_type": "markdown",
   "metadata": {},
   "source": [
    "# Chapter 13: Working with Excel Spreadsheets\n",
    "Although we don’t often think of spreadsheets as programming tools, almost everyone uses them to organize information into two-dimensional data structures, perform calculations with formulas, and produce output as charts. In the next two chapters, we’ll integrate Python into two popular spreadsheet applications: Microsoft Excel and Google Sheets.\n",
    "\n",
    "Excel is a popular and powerful spreadsheet application for Windows. The openpyxl module allows your Python programs to read and modify Excel spreadsheet files. For example, you might have the boring task of copying certain data from one spreadsheet and pasting it into another one. Or you might have to go through thousands of rows and pick out just a handful of them to make small edits based on some criteria. Or you might have to look through hundreds of spreadsheets of department budgets, searching for any that are in the red. These are exactly the sort of boring, mindless spreadsheet tasks that Python can do for you.\n",
    "\n",
    "Although Excel is proprietary software from Microsoft, there are free alternatives that run on Windows, macOS, and Linux. Both LibreOffice Calc and OpenOffice Calc work with Excel’s .xlsx file format for spreadsheets, which means the openpyxl module can work on spreadsheets from these applications as well. You can download the software from https://www.libreoffice.org/ and https://www.openoffice.org/, respectively. Even if you already have Excel installed on your computer, you may find these programs easier to use. The screenshots in this chapter, however, are all from Excel 2010 on Windows 10."
   ]
  },
  {
   "cell_type": "markdown",
   "metadata": {},
   "source": [
    "## Excel Documents\n",
    "\n",
    "First, let’s go over some basic definitions: an Excel spreadsheet document is called a workbook. A single workbook is saved in a file with the .xlsx extension. Each workbook can contain multiple sheets (also called worksheets). The sheet the user is currently viewing (or last viewed before closing Excel) is called the active sheet.\n",
    "\n",
    "Each sheet has columns (addressed by letters starting at A) and rows (addressed by numbers starting at 1). A box at a particular column and row is called a cell. Each cell can contain a number or text value. The grid of cells with data makes up a sheet."
   ]
  },
  {
   "cell_type": "markdown",
   "metadata": {},
   "source": [
    "## Installing the openpyxl Module\n",
    "\n",
    "Python does not come with OpenPyXL, so you’ll have to install it. Follow the instructions for installing third-party modules in Appendix A; the name of the module is openpyxl.\n",
    "\n",
    "This book uses version 2.6.2 of OpenPyXL. It’s important that you install this version by running pip install --user -U openpyxl==2.6.2 because newer versions of OpenPyXL are incompatible with the information in this book. To test whether it is installed correctly, enter the following into the interactive shell:"
   ]
  },
  {
   "cell_type": "code",
   "execution_count": null,
   "metadata": {},
   "outputs": [],
   "source": [
    "import openpyxl"
   ]
  },
  {
   "cell_type": "markdown",
   "metadata": {},
   "source": [
    "## Reading Excel Documents\n",
    "\n",
    "The examples in this chapter will use a spreadsheet named example.xlsx stored in the root folder. You can either create the spreadsheet yourself or download it from https://nostarch.com/automatestuff2/. Figure 13-1 shows the tabs for the three default sheets named Sheet1, Sheet2, and Sheet3 that Excel automatically provides for new workbooks. (The number of default sheets created may vary between operating systems and spreadsheet programs.)"
   ]
  },
  {
   "cell_type": "markdown",
   "metadata": {},
   "source": [
    "### Opening Excel Documents with OpenPyXL\n",
    "\n",
    "Once you’ve imported the openpyxl module, you’ll be able to use the openpyxl.load_workbook()"
   ]
  },
  {
   "cell_type": "code",
   "execution_count": null,
   "metadata": {},
   "outputs": [],
   "source": [
    "import openpyxl, os\n",
    "workbookPath = os.path.join('automate_online-materials', 'example.xlsx')\n",
    "\n",
    "wb = openpyxl.load_workbook(workbookPath)\n",
    "type(wb)\n"
   ]
  },
  {
   "cell_type": "markdown",
   "metadata": {},
   "source": [
    "The openpyxl.load_workbook() function takes in the filename and returns a value of the workbook data type. This Workbook object represents the Excel file, a bit like how a File object represents an opened text file.\n",
    "\n",
    "Remember that example.xlsx needs to be in the current working directory in order for you to work with it. You can find out what the current working directory is by importing os and using os.getcwd(), and you can change the current working directory using os.chdir()."
   ]
  },
  {
   "cell_type": "markdown",
   "metadata": {},
   "source": [
    "### Getting Sheets from the Workbook\n",
    "\n",
    "You can get a list of all the sheet names in the workbook by accessing the sheetnames attribute.\n",
    "\n",
    "Each sheet is represented by a Worksheet object, which you can obtain by using the square brackets with the sheet name string like a dictionary key. Finally, you can use the active attribute of a Workbook object to get the workbook’s active sheet. The active sheet is the sheet that’s on top when the workbook is opened in Excel. Once you have the Worksheet object, you can get its name from the title attribute."
   ]
  },
  {
   "cell_type": "code",
   "execution_count": null,
   "metadata": {},
   "outputs": [],
   "source": [
    "import openpyxl, os\n",
    "workbookPath = os.path.join('automate_online-materials', 'example.xlsx')\n",
    "\n",
    "wb = openpyxl.load_workbook(workbookPath)\n",
    "wb.sheetnames # The workbooks sheets' names."
   ]
  },
  {
   "cell_type": "code",
   "execution_count": null,
   "metadata": {},
   "outputs": [],
   "source": [
    "sheet = wb['Sheet3'] # get the third sheet from the workbook\n",
    "sheet"
   ]
  },
  {
   "cell_type": "code",
   "execution_count": null,
   "metadata": {},
   "outputs": [],
   "source": [
    "type(sheet)"
   ]
  },
  {
   "cell_type": "code",
   "execution_count": null,
   "metadata": {},
   "outputs": [],
   "source": [
    "sheet.title # get the sheet's title as a string"
   ]
  },
  {
   "cell_type": "code",
   "execution_count": null,
   "metadata": {},
   "outputs": [],
   "source": [
    "anotherSheet = wb.active # assign the active sheet to variable anotherSheet\n",
    "anotherSheet"
   ]
  },
  {
   "cell_type": "markdown",
   "metadata": {},
   "source": [
    "### Getting Cells from the Sheets\n",
    "\n",
    "Once you have a Worksheet object, you can access a Cell object by its name. Enter the"
   ]
  },
  {
   "cell_type": "code",
   "execution_count": null,
   "metadata": {},
   "outputs": [],
   "source": [
    "import openpyxl, os\n",
    "workbookPath = os.path.join('automate_online-materials', 'example.xlsx')\n",
    "\n",
    "wb = openpyxl.load_workbook(workbookPath)\n",
    "sheet = wb['Sheet1'] # Get a sheet from the workbook\n",
    "sheet['A1'] # Get a cell from the sheet"
   ]
  },
  {
   "cell_type": "code",
   "execution_count": null,
   "metadata": {},
   "outputs": [],
   "source": [
    "sheet['A1'].value # Get the value from the cell"
   ]
  },
  {
   "cell_type": "code",
   "execution_count": null,
   "metadata": {},
   "outputs": [],
   "source": [
    "c = sheet['B1'] # Get another cell from the sheet\n",
    "c.value"
   ]
  },
  {
   "cell_type": "code",
   "execution_count": null,
   "metadata": {},
   "outputs": [],
   "source": [
    "# Get the row, column, and value from the cell.\n",
    "print('Row %s, (Column %s/Column %s) is %s' % (c.row, c.column, c.column_letter, c.value))"
   ]
  },
  {
   "cell_type": "code",
   "execution_count": null,
   "metadata": {},
   "outputs": [],
   "source": [
    "print('Cell %s is %s' % (c.coordinate, c.value))"
   ]
  },
  {
   "cell_type": "code",
   "execution_count": null,
   "metadata": {},
   "outputs": [],
   "source": [
    "sheet['C1'].value"
   ]
  },
  {
   "cell_type": "markdown",
   "metadata": {},
   "source": [
    "The Cell object has a value attribute that contains, unsurprisingly, the value stored in that cell. Cell objects also have row, column, and coordinate attributes that provide location information for the cell.\n",
    "\n",
    "Here, accessing the value attribute of our Cell object for cell B1 gives us the string 'Apples'. The row attribute gives us the integer 1, the column attribute gives us 'B', and the coordinate attribute gives us 'B1'.\n",
    "\n",
    "OpenPyXL will automatically interpret the dates in column A and return them as datetime values rather than strings. The datetime data type is explained further in Chapter 17.\n",
    "\n",
    "Specifying a column by letter can be tricky to program, especially because after column Z, the columns start by using two letters: AA, AB, AC, and so on. As an alternative, you can also get a cell using the sheet’s cell() method and passing integers for its row and column keyword arguments. The first row or column integer is 1, not 0. Continue the interactive shell example by entering the following:"
   ]
  },
  {
   "cell_type": "code",
   "execution_count": null,
   "metadata": {},
   "outputs": [],
   "source": [
    "sheet.cell(row=1, column=2)"
   ]
  },
  {
   "cell_type": "code",
   "execution_count": null,
   "metadata": {},
   "outputs": [],
   "source": [
    "sheet.cell(row=1, column=2).row"
   ]
  },
  {
   "cell_type": "code",
   "execution_count": null,
   "metadata": {},
   "outputs": [],
   "source": [
    "for i in range(1, 8, 2): # Go through every other row in column 2\n",
    "    print('Row ' + str(i) + ' contains', sheet.cell(row=i, column=2).value)"
   ]
  },
  {
   "cell_type": "code",
   "execution_count": null,
   "metadata": {},
   "outputs": [],
   "source": [
    "# trying to use a nested for loops to print the spreadsheet cell by cell\n",
    "import openpyxl, os\n",
    "workbookPath = os.path.join('automate_online-materials', 'example.xlsx')\n",
    "\n",
    "wb = openpyxl.load_workbook(workbookPath)\n",
    "sheet = wb['Sheet1'] # Get a sheet from the workbook\n",
    "maxr = sheet.max_row # get the highest row \n",
    "maxc = sheet.max_column # get the highest column\n",
    "\n",
    "for i in range(1, maxc + 1):\n",
    "    for j in range(1, maxr + 1):\n",
    "        c = sheet.cell(column=i, row=j).column_letter\n",
    "        r = sheet.cell(column=i, row=j).row\n",
    "        print('Cell %s%s\\'s value is' % (c, r), sheet.cell(column=i, row=j).value)\n"
   ]
  },
  {
   "cell_type": "markdown",
   "metadata": {},
   "source": [
    "As you can see, using the sheet’s cell() method and passing it row=1 and column=2 gets you a Cell object for cell B1, just like specifying sheet['B1'] did. Then, using the cell() method and its keyword arguments, you can write a for loop to print the values of a series of cells.\n",
    "\n",
    "Say you want to go down column B and print the value in every cell with an odd row number. By passing 2 for the range() function’s “step” parameter, you can get cells from every second row (in this case, all the odd-numbered rows). The for loop’s i variable is passed for the row keyword argument to the cell() method, while 2 is always passed for the column keyword argument. Note that the integer 2, not the string 'B', is passed.\n",
    "\n",
    "You can determine the size of the sheet with the Worksheet object’s max_row and max_column attributes. Enter the following into the interactive shell:"
   ]
  },
  {
   "cell_type": "code",
   "execution_count": null,
   "metadata": {},
   "outputs": [],
   "source": [
    "print(sheet.max_row)\n",
    "print(sheet.max_column)"
   ]
  },
  {
   "cell_type": "markdown",
   "metadata": {},
   "source": [
    "### Converting Between Column Letters and Numbers\n",
    "\n",
    "To convert from letters to numbers, call the openpyxl.utils.column_index_from_string() function. To convert from numbers to letters, call the openpyxl.utils.get_column_letter() function. "
   ]
  },
  {
   "cell_type": "code",
   "execution_count": null,
   "metadata": {},
   "outputs": [],
   "source": [
    "import openpyxl\n",
    "from openpyxl.utils import get_column_letter, column_index_from_string\n",
    "\n",
    "print(get_column_letter(1))\n",
    "print(get_column_letter(2))\n",
    "print(get_column_letter(27))\n",
    "print(get_column_letter(900))"
   ]
  },
  {
   "cell_type": "code",
   "execution_count": null,
   "metadata": {},
   "outputs": [],
   "source": [
    "import openpyxl, os\n",
    "workbookPath = os.path.join('automate_online-materials', 'example.xlsx')\n",
    "\n",
    "wb = openpyxl.load_workbook(workbookPath)\n",
    "sheet = wb['Sheet1']\n",
    "\n",
    "print(get_column_letter(sheet.max_column)) # get the letter of last column\n",
    "print(column_index_from_string('A')) # Get A's number\n",
    "print(column_index_from_string('AA'))"
   ]
  },
  {
   "cell_type": "markdown",
   "metadata": {},
   "source": [
    "After you import these two functions from the openpyxl.utils module, you can call get_column_letter() and pass it an integer like 27 to figure out what the letter name of the 27th column is. The function column_index_string() does the reverse: you pass it the letter name of a column, and it tells you what number that column is. You don’t need to have a workbook loaded to use these functions. If you want, you can load a workbook, get a Worksheet object, and use a Worksheet attribute like max_column to get an integer. Then, you can pass that integer to get_column_letter()."
   ]
  },
  {
   "cell_type": "markdown",
   "metadata": {},
   "source": [
    "### Getting Rows and Columns from the Sheets\n",
    "\n",
    "You can slice Worksheet objects to get all the Cell objects in a row, column, or rectangular area of the spreadsheet. Then you can loop over all the cells in the slice."
   ]
  },
  {
   "cell_type": "code",
   "execution_count": null,
   "metadata": {},
   "outputs": [],
   "source": [
    "import openpyxl, os\n",
    "workbookPath = os.path.join('automate_online-materials', 'example.xlsx')\n",
    "\n",
    "wb = openpyxl.load_workbook(workbookPath)\n",
    "sheet = wb['Sheet1']\n",
    "\n",
    "tuple(sheet['A1':'C8']) # create a generator object containing the cell objects of cells A1 to C8"
   ]
  },
  {
   "cell_type": "code",
   "execution_count": null,
   "metadata": {},
   "outputs": [],
   "source": [
    "for rowOfCellObjects in sheet['A1':'C8']: # iterates through the rows in the slice\n",
    "    for cellObj in rowOfCellObjects: # iterates through each cell in the row\n",
    "        print(cellObj.coordinate, cellObj.value)\n",
    "    print('-----End of Row-----')\n"
   ]
  },
  {
   "cell_type": "markdown",
   "metadata": {},
   "source": [
    "Here, we specify that we want the Cell objects in the rectangular area from A1 to C3, and we get a Generator object containing the Cell objects in that area. To help us visualize this Generator object, we can use tuple() on it to display its Cell objects in a tuple.\n",
    "\n",
    "This tuple contains three tuples: one for each row, from the top of the desired area to the bottom. Each of these three inner tuples contains the Cell objects in one row of our desired area, from the leftmost cell to the right. So overall, our slice of the sheet contains all the Cell objects in the area from A1 to C3, starting from the top-left cell and ending with the bottom-right cell.\n",
    "\n",
    "To print the values of each cell in the area, we use two for loops. The outer for loop goes over each row in the slice ➊. Then, for each row, the nested for loop goes through each cell in that row ➋.\n",
    "\n",
    "To access the values of cells in a particular row or column, you can also use a Worksheet object’s rows and columns attribute. These attributes must be converted to lists with the list() function before you can use the square brackets and an index with them."
   ]
  },
  {
   "cell_type": "code",
   "execution_count": null,
   "metadata": {},
   "outputs": [],
   "source": [
    "# note I had to make some changes to the syntax due to package updates\n",
    "import openpyxl, os\n",
    "workbookPath = os.path.join('automate_online-materials', 'example.xlsx')\n",
    "\n",
    "wb = openpyxl.load_workbook(workbookPath)\n",
    "sheet = wb.active\n",
    "\n",
    "print(sheet['B']) # get the B column's cells\n",
    "\n",
    "for cellObj in sheet['B']: # get the B column's cells\n",
    "    print(cellObj.value)"
   ]
  },
  {
   "cell_type": "markdown",
   "metadata": {},
   "source": [
    "Using the rows attribute on a Worksheet object will give you a tuple of tuples. Each of these inner tuples represents a row, and contains the Cell objects in that row. The columns attribute also gives you a tuple of tuples, with each of the inner tuples containing the Cell objects in a particular column. For example.xlsx, since there are 7 rows and 3 columns, rows gives us a tuple of 7 tuples (each containing 3 Cell objects), and columns gives us a tuple of 3 tuples (each containing 7 Cell objects).\n",
    "\n",
    "To access one particular tuple, you can refer to it by its index in the larger tuple. For example, to get the tuple that represents column B, you use list(sheet.columns)[1]. To get the tuple containing the Cell objects in column A, you’d use list(sheet.columns)[0]. Once you have a tuple representing one row or column, you can loop through its Cell objects and print their values."
   ]
  },
  {
   "cell_type": "markdown",
   "metadata": {},
   "source": [
    "### Workbooks, Sheets, Cells\n",
    "\n",
    "As a quick review, here’s a rundown of all the functions, methods, and data types involved in reading a cell out of a spreadsheet file:\n",
    "\n",
    "    Import the openpyxl module.\n",
    "    Call the openpyxl.load_workbook() function.\n",
    "    Get a Workbook object.\n",
    "    Use the active or sheetnames attributes.\n",
    "    Get a Worksheet object.\n",
    "    Use indexing or the cell() sheet method with row and column keyword arguments.\n",
    "    Get a Cell object.\n",
    "    Read the Cell object’s value attribute.\n"
   ]
  },
  {
   "cell_type": "markdown",
   "metadata": {},
   "source": [
    "## Project: Reading Data from a Spreadsheet (using nested dictinaries)\n",
    "Say you have a spreadsheet of data from the 2010 US Census and you have the boring task of going through its thousands of rows to count both the total population and the number of census tracts for each county. (A census tract is simply a geographic area defined for the purposes of the census.) Each row represents a single census tract. We’ll name the spreadsheet file censuspopdata.xlsx, and you can download it from https://nostarch.com/automatestuff2/. Its contents look like Figure 13-2."
   ]
  },
  {
   "cell_type": "markdown",
   "metadata": {},
   "source": [
    "Even though Excel can calculate the sum of multiple selected cells, you’d still have to select the cells for each of the 3,000-plus counties. Even if it takes just a few seconds to calculate a county’s population by hand, this would take hours to do for the whole spreadsheet.\n",
    "\n",
    "In this project, you’ll write a script that can read from the census spreadsheet file and calculate statistics for each county in a matter of seconds.\n",
    "\n",
    "This is what your program does:\n",
    "\n",
    "    Reads the data from the Excel spreadsheet\n",
    "    Counts the number of census tracts in each county\n",
    "    Counts the total population of each county\n",
    "    Prints the results\n",
    "\n",
    "This means your code will need to do the following:\n",
    "\n",
    "    Open and read the cells of an Excel document with the openpyxl module.\n",
    "    Calculate all the tract and population data and store it in a data structure.\n",
    "    Write the data structure to a text file with the .py extension using the pprint module."
   ]
  },
  {
   "cell_type": "markdown",
   "metadata": {},
   "source": [
    "### Step 1: Read the Spreadsheet Data\n",
    "\n",
    "There is just one sheet in the censuspopdata.xlsx spreadsheet, named 'Population by Census Tract', and each row holds the data for a single census tract. The columns are the tract number (A), the state abbreviation (B), the county name (C), and the population of the tract (D)."
   ]
  },
  {
   "cell_type": "code",
   "execution_count": null,
   "metadata": {},
   "outputs": [
    {
     "name": "stdout",
     "output_type": "stream",
     "text": [
      "Opening workbook....\n"
     ]
    }
   ],
   "source": [
    "#! python3\n",
    "# readcensusExcel.py - Tabulates population and number of census tracts for each county.\n",
    "\n",
    "import openpyxl, pprint, os\n",
    "\n",
    "workbookPath = os.path.join('automate_online-materials', 'censuspopdata.xlsx')\n",
    "\n",
    "print('Opening workbook....')\n",
    "wb = openpyxl.load_workbook(workbookPath)\n",
    "sheet = wb.active\n",
    "\n",
    "countyData = {}\n",
    "# TODO: Fill in countyData with each county's population and tracts\n",
    "print('Reading rows...')\n",
    "for row in range (2, sheet.max.row + 1):\n",
    "    # Each row in the spreadsheet has data for one census tract\n",
    "    state = sheet['B' + str(row)].value\n",
    "    county = sheet['C' + str(row)].value\n",
    "    pop = sheet['D' + str(row)].value\n",
    "\n",
    "# TODO: Open a new text file and write the contents of countyData to it."
   ]
  },
  {
   "cell_type": "markdown",
   "metadata": {},
   "source": [
    "This code imports the openpyxl module, as well as the pprint module that you’ll use to print the final county data ➊. Then it opens the censuspopdata.xlsx file ➋, gets the sheet with the census data ➌, and begins iterating over its rows ➍.\n",
    "\n",
    "Note that you’ve also created a variable named countyData, which will contain the populations and number of tracts you calculate for each county. Before you can store anything in it, though, you should determine exactly how you’ll structure the data inside it."
   ]
  },
  {
   "cell_type": "markdown",
   "metadata": {},
   "source": [
    "### Step 2: Populate the Data Structure\n",
    "\n",
    "The data structure stored in countyData will be a dictionary with state abbreviations as its keys. Each state abbreviation will map to another dictionary, whose keys are strings of the county names in that state. Each county name will in turn map to a dictionary with just two keys, 'tracts' and 'pop'. These keys map to the number of census tracts and population for the county. For example, the dictionary will look similar to this:\n",
    "\n",
    "{'AK': {'Aleutians East': {'pop': 3141, 'tracts': 1},\n",
    "        'Aleutians West': {'pop': 5561, 'tracts': 2},\n",
    "        'Anchorage': {'pop': 291826, 'tracts': 55},\n",
    "        'Bethel': {'pop': 17013, 'tracts': 3},\n",
    "        'Bristol Bay': {'pop': 997, 'tracts': 1},\n",
    "        --snip--\n",
    "\n",
    "If the previous dictionary were stored in countyData, the following expressions would evaluate like this:\n",
    "\n",
    ">>> countyData['AK']['Anchorage']['pop']\n",
    "291826\n",
    ">>> countyData['AK']['Anchorage']['tracts']\n",
    "55\n",
    "\n",
    "More generally, the countyData dictionary’s keys will look like this:\n",
    "\n",
    "countyData[state abbrev][county]['tracts']\n",
    "countyData[state abbrev][county]['pop']\n",
    "\n",
    "Now that you know how countyData will be structured, you can write the code that will fill it with the county data. Add the following code to the bottom of your program:"
   ]
  },
  {
   "cell_type": "code",
   "execution_count": null,
   "metadata": {},
   "outputs": [],
   "source": [
    "#! python3\n",
    "# readcensusExcel.py - Tabulates population and number of census tracts for each county.\n",
    "\n",
    "import openpyxl, pprint, os\n",
    "\n",
    "workbookPath = os.path.join('automate_online-materials', 'censuspopdata.xlsx')\n",
    "resultPath = os.path.join('Files', 'census2010.py')\n",
    "print('Opening workbook....')\n",
    "wb = openpyxl.load_workbook(workbookPath)\n",
    "sheet = wb.active\n",
    "\n",
    "countyData = {}\n",
    "# Fill in countyData with each county's population and tracts\n",
    "print('Reading rows...')\n",
    "for row in range (2, sheet.max.row + 1):\n",
    "    # Each row in the spreadsheet has data for one census tract\n",
    "    state = sheet['B' + str(row)].value\n",
    "    county = sheet['C' + str(row)].value\n",
    "    pop = sheet['D' + str(row)].value\n",
    "    countyData.setdefault(state, {}) # write the state to the dictionary keys if it does not exists\n",
    "    # If county for current state does not exist, write the key with placeholder tracts and pop values\n",
    "    countyData[state].setdefault(county, {'tracts': 0, 'pop': 0})\n",
    "    # Each row represents one census tract, so increment it by 1\n",
    "    countyData[state][county]['tracts'] += 1\n",
    "    # Increase the county pop by the pop in the given census tract.\n",
    "    countyData[state][county]['pop'] += int(pop)\n",
    "\n",
    "# TODO: Open a new text file and write the contents of countyData to it.\n"
   ]
  },
  {
   "cell_type": "markdown",
   "metadata": {},
   "source": [
    "The last two lines of code perform the actual calculation work, incrementing the value for tracts ➌ and increasing the value for pop ➍ for the current county on each iteration of the for loop.\n",
    "\n",
    "The other code is there because you cannot add a county dictionary as the value for a state abbreviation key until the key itself exists in countyData. (That is, countyData['AK']['Anchorage']['tracts'] += 1 will cause an error if the 'AK' key doesn’t exist yet.) To make sure the state abbreviation key exists in your data structure, you need to call the setdefault() method to set a value if one does not already exist for state ➊.\n",
    "\n",
    "Just as the countyData dictionary needs a dictionary as the value for each state abbreviation key, each of those dictionaries will need its own dictionary as the value for each county key ➋. And each of those dictionaries in turn will need keys 'tracts' and 'pop' that start with the integer value 0. (If you ever lose track of the dictionary structure, look back at the example dictionary at the start of this section.)\n",
    "\n",
    "Since setdefault() will do nothing if the key already exists, you can call it on every iteration of the for loop without a problem."
   ]
  },
  {
   "cell_type": "markdown",
   "metadata": {},
   "source": [
    "### Step 3: Write the Results to a File\n",
    "\n",
    "After the for loop has finished, the countyData dictionary will contain all of the population and tract information keyed by county and state. At this point, you could program more code to write this to a text file or another Excel spreadsheet. For now, let’s just use the pprint.pformat() function to write the countyData dictionary value as a massive string to a file named census2010.py. Add the following code to the bottom of your program (making sure to keep it unindented so that it stays outside the for loop):"
   ]
  },
  {
   "cell_type": "code",
   "execution_count": 5,
   "metadata": {},
   "outputs": [
    {
     "name": "stdout",
     "output_type": "stream",
     "text": [
      "Opening workbook....\n",
      "Reading rows...\n",
      "Writing results...\n"
     ]
    }
   ],
   "source": [
    "#! python3\n",
    "# readcensusExcel.py - Tabulates population and number of census tracts for each county.\n",
    "\n",
    "import openpyxl, pprint, os\n",
    "\n",
    "workbookPath = os.path.join('automate_online-materials', 'censuspopdata.xlsx')\n",
    "resultPath = os.path.join('Files', 'census2010.py')\n",
    "print('Opening workbook....')\n",
    "wb = openpyxl.load_workbook(workbookPath)\n",
    "sheet = wb.active\n",
    "\n",
    "countyData = {}\n",
    "# Fill in countyData with each county's population and tracts\n",
    "print('Reading rows...')\n",
    "for row in range (2, sheet.max_row + 1):\n",
    "    # Each row in the spreadsheet has data for one census tract\n",
    "    state = sheet['B' + str(row)].value\n",
    "    county = sheet['C' + str(row)].value\n",
    "    pop = sheet['D' + str(row)].value\n",
    "    countyData.setdefault(state, {}) # write the state to the dictionary keys if it does not exists\n",
    "    # If county for current state does not exist, write the key with placeholder tracts and pop values\n",
    "    countyData[state].setdefault(county, {'tracts': 0, 'pop': 0})\n",
    "    # Each row represents one census tract, so increment it by 1\n",
    "    countyData[state][county]['tracts'] += 1\n",
    "    # Increase the county pop by the pop in the given census tract.\n",
    "    countyData[state][county]['pop'] += int(pop)\n",
    "\n",
    "# Open a new text file and write the contents of countyData to it.\n",
    "print('Writing results...')\n",
    "resultFile = open(resultPath, 'w')\n",
    "resultFile.write('allData = ' + pprint.pformat(countyData))\n",
    "resultFile.close()"
   ]
  },
  {
   "cell_type": "markdown",
   "metadata": {},
   "source": [
    "The pprint.pformat() function produces a string that itself is formatted as valid Python code. By outputting it to a text file named census2010.py, you’ve generated a Python program from your Python program! This may seem complicated, but the advantage is that you can now import census2010.py just like any other Python module. In the interactive shell, change the current working directory to the folder with your newly created census2010.py file and then import it:"
   ]
  },
  {
   "cell_type": "markdown",
   "metadata": {},
   "source": [
    "The readCensusExcel.py program was throwaway code: once you have its results saved to census2010.py, you won’t need to run the program again. Whenever you need the county data, you can just run import census2010.\n",
    "\n",
    "Calculating this data by hand would have taken hours; this program did it in a few seconds. Using OpenPyXL, you will have no trouble extracting information that is saved to an Excel spreadsheet and performing calculations on it. You can download the complete program from https://nostarch.com/automatestuff2/."
   ]
  },
  {
   "cell_type": "markdown",
   "metadata": {},
   "source": [
    "### Ideas for Similar Programs\n",
    "\n",
    "Many businesses and offices use Excel to store various types of data, and it’s not uncommon for spreadsheets to become large and unwieldy. Any program that parses an Excel spreadsheet has a similar structure: it loads the spreadsheet file, preps some variables or data structures, and then loops through each of the rows in the spreadsheet. Such a program could do the following:\n",
    "\n",
    "    Compare data across multiple rows in a spreadsheet.\n",
    "    Open multiple Excel files and compare data between spreadsheets.\n",
    "    Check whether a spreadsheet has blank rows or invalid data in any cells and alert the user if it does.\n",
    "    Read data from a spreadsheet and use it as the input for your Python programs.\n"
   ]
  },
  {
   "cell_type": "markdown",
   "metadata": {},
   "source": [
    "## Writing Excel Documents\n",
    "\n",
    "OpenPyXL also provides ways of writing data, meaning that your programs can create and edit spreadsheet files. With Python, it’s simple to create spreadsheets with thousands of rows of data."
   ]
  },
  {
   "cell_type": "markdown",
   "metadata": {},
   "source": [
    "### Creating and Saving Excel Documents\n",
    "\n",
    "Call the openpyxl.Workbook() function to create a new, blank Workbook object. Enter the following into the interactive shell:"
   ]
  },
  {
   "cell_type": "code",
   "execution_count": 6,
   "metadata": {},
   "outputs": [
    {
     "data": {
      "text/plain": [
       "['Sheet']"
      ]
     },
     "execution_count": 6,
     "metadata": {},
     "output_type": "execute_result"
    }
   ],
   "source": [
    "import openpyxl\n",
    "\n",
    "wb = openpyxl.Workbook() # create a blank workbook.\n",
    "wb.sheetnames # it starts with one sheet"
   ]
  },
  {
   "cell_type": "code",
   "execution_count": 7,
   "metadata": {},
   "outputs": [
    {
     "data": {
      "text/plain": [
       "'Sheet'"
      ]
     },
     "execution_count": 7,
     "metadata": {},
     "output_type": "execute_result"
    }
   ],
   "source": [
    "sheet = wb.active\n",
    "sheet.title # the title is 'Sheet\" by default"
   ]
  },
  {
   "cell_type": "code",
   "execution_count": 8,
   "metadata": {},
   "outputs": [
    {
     "data": {
      "text/plain": [
       "['Spam Bacon Eggs Sheet']"
      ]
     },
     "execution_count": 8,
     "metadata": {},
     "output_type": "execute_result"
    }
   ],
   "source": [
    "sheet.title = 'Spam Bacon Eggs Sheet' # change the title of the sheet\n",
    "wb.sheetnames"
   ]
  },
  {
   "cell_type": "markdown",
   "metadata": {},
   "source": [
    "The workbook will start off with a single sheet named Sheet. You can change the name of the sheet by storing a new string in its title attribute.\n",
    "\n",
    "Any time you modify the Workbook object or its sheets and cells, the spreadsheet file will not be saved until you call the save() workbook method. "
   ]
  },
  {
   "cell_type": "code",
   "execution_count": 13,
   "metadata": {},
   "outputs": [],
   "source": [
    "import openpyxl, os\n",
    "\n",
    "loadPath = os.path.join('automate_online-materials', 'example.xlsx')\n",
    "savePath= os.path.join('Files', 'example_copy.xlsx')\n",
    "wb = openpyxl.load_workbook(loadPath) # load the example workbook\n",
    "sheet = wb.active\n",
    "sheet.title = 'Spam Spam Spam' # rename the sheet\n",
    "wb.save(savePath) # save a copy of the workbook"
   ]
  },
  {
   "cell_type": "markdown",
   "metadata": {},
   "source": [
    "Here, we change the name of our sheet. To save our changes, we pass a filename as a string to the save() method. Passing a different filename than the original, such as 'example_copy.xlsx', saves the changes to a copy of the spreadsheet.\n",
    "\n",
    "Whenever you edit a spreadsheet you’ve loaded from a file, you should always save the new, edited spreadsheet to a different filename than the original. That way, you’ll still have the original spreadsheet file to work with in case a bug in your code caused the new, saved file to have incorrect or corrupt data"
   ]
  },
  {
   "cell_type": "markdown",
   "metadata": {},
   "source": [
    "### Creating and Removing Sheets\n",
    "\n",
    "Sheets can be added to and removed from a workbook with the create_sheet() method and del operator. "
   ]
  },
  {
   "cell_type": "code",
   "execution_count": 14,
   "metadata": {},
   "outputs": [
    {
     "data": {
      "text/plain": [
       "['Sheet']"
      ]
     },
     "execution_count": 14,
     "metadata": {},
     "output_type": "execute_result"
    }
   ],
   "source": [
    "import openpyxl\n",
    "wb = openpyxl.Workbook()\n",
    "wb.sheetnames"
   ]
  },
  {
   "cell_type": "code",
   "execution_count": 15,
   "metadata": {},
   "outputs": [
    {
     "data": {
      "text/plain": [
       "<Worksheet \"Sheet1\">"
      ]
     },
     "execution_count": 15,
     "metadata": {},
     "output_type": "execute_result"
    }
   ],
   "source": [
    "wb.create_sheet() # add a new sheet"
   ]
  },
  {
   "cell_type": "code",
   "execution_count": 16,
   "metadata": {},
   "outputs": [
    {
     "data": {
      "text/plain": [
       "['Sheet', 'Sheet1']"
      ]
     },
     "execution_count": 16,
     "metadata": {},
     "output_type": "execute_result"
    }
   ],
   "source": [
    "wb.sheetnames"
   ]
  },
  {
   "cell_type": "code",
   "execution_count": 17,
   "metadata": {},
   "outputs": [
    {
     "data": {
      "text/plain": [
       "<Worksheet \"First Sheet\">"
      ]
     },
     "execution_count": 17,
     "metadata": {},
     "output_type": "execute_result"
    }
   ],
   "source": [
    "# create a new sheet at index 0\n",
    "wb.create_sheet(index=0, title='First Sheet')"
   ]
  },
  {
   "cell_type": "code",
   "execution_count": 18,
   "metadata": {},
   "outputs": [
    {
     "data": {
      "text/plain": [
       "['First Sheet', 'Sheet', 'Sheet1']"
      ]
     },
     "execution_count": 18,
     "metadata": {},
     "output_type": "execute_result"
    }
   ],
   "source": [
    "wb.sheetnames"
   ]
  },
  {
   "cell_type": "code",
   "execution_count": 19,
   "metadata": {},
   "outputs": [
    {
     "data": {
      "text/plain": [
       "<Worksheet \"Middle Sheet\">"
      ]
     },
     "execution_count": 19,
     "metadata": {},
     "output_type": "execute_result"
    }
   ],
   "source": [
    "wb.create_sheet(index=2, title='Middle Sheet')"
   ]
  },
  {
   "cell_type": "code",
   "execution_count": 21,
   "metadata": {},
   "outputs": [
    {
     "data": {
      "text/plain": [
       "['First Sheet', 'Sheet', 'Middle Sheet', 'Sheet1']"
      ]
     },
     "execution_count": 21,
     "metadata": {},
     "output_type": "execute_result"
    }
   ],
   "source": [
    "wb.sheetnames"
   ]
  },
  {
   "cell_type": "markdown",
   "metadata": {},
   "source": [
    "The create_sheet() method returns a new Worksheet object named SheetX, which by default is set to be the last sheet in the workbook. Optionally, the index and name of the new sheet can be specified with the index and title keyword arguments.\n",
    "\n",
    "Continue the previous example by entering the following:"
   ]
  },
  {
   "cell_type": "code",
   "execution_count": 22,
   "metadata": {},
   "outputs": [
    {
     "data": {
      "text/plain": [
       "['First Sheet', 'Sheet', 'Middle Sheet', 'Sheet1']"
      ]
     },
     "execution_count": 22,
     "metadata": {},
     "output_type": "execute_result"
    }
   ],
   "source": [
    "wb.sheetnames"
   ]
  },
  {
   "cell_type": "code",
   "execution_count": 23,
   "metadata": {},
   "outputs": [
    {
     "data": {
      "text/plain": [
       "['First Sheet', 'Sheet']"
      ]
     },
     "execution_count": 23,
     "metadata": {},
     "output_type": "execute_result"
    }
   ],
   "source": [
    "del wb['Middle Sheet']\n",
    "del wb['Sheet1']\n",
    "wb.sheetnames"
   ]
  },
  {
   "cell_type": "markdown",
   "metadata": {},
   "source": [
    "ou can use the del operator to delete a sheet from a workbook, just like you can use it to delete a key-value pair from a dictionary.\n",
    "\n",
    "Remember to call the save() method to save the changes after adding sheets to or removing sheets from the workbook."
   ]
  },
  {
   "cell_type": "markdown",
   "metadata": {},
   "source": [
    "Writing Values to Cells\n",
    "\n",
    "Writing values to cells is much like writing values to keys in a dictionary. Enter this into the interactive shell:"
   ]
  },
  {
   "cell_type": "code",
   "execution_count": 25,
   "metadata": {},
   "outputs": [
    {
     "data": {
      "text/plain": [
       "'Hello, world!'"
      ]
     },
     "execution_count": 25,
     "metadata": {},
     "output_type": "execute_result"
    }
   ],
   "source": [
    "import openpyxl\n",
    "wb = openpyxl.Workbook()\n",
    "sheet = wb['Sheet']\n",
    "sheet['A1'] = 'Hello, world!' # Edit the cell's values\n",
    "sheet['A1'].value"
   ]
  },
  {
   "cell_type": "markdown",
   "metadata": {},
   "source": [
    "## Project: Updating a Spreadsheet\n",
    "\n",
    "In this project, you’ll write a program to update cells in a spreadsheet of produce sales. Your program will look through the spreadsheet, find specific kinds of produce, and update their prices. \n",
    "\n",
    "Each row represents an individual sale. The columns are the type of produce sold (A), the cost per pound of that produce (B), the number of pounds sold (C), and the total revenue from the sale (D). The TOTAL column is set to the Excel formula =ROUND(B3*C3, 2), which multiplies the cost per pound by the number of pounds sold and rounds the result to the nearest cent. With this formula, the cells in the TOTAL column will automatically update themselves if there is a change in column B or C.\n",
    "\n",
    "Now imagine that the prices of garlic, celery, and lemons were entered incorrectly, leaving you with the boring task of going through thousands of rows in this spreadsheet to update the cost per pound for any garlic, celery, and lemon rows. You can’t do a simple find-and-replace for the price, because there might be other items with the same price that you don’t want to mistakenly “correct.” For thousands of rows, this would take hours to do by hand. But you can write a program that can accomplish this in seconds.\n",
    "\n",
    "Your program does the following:\n",
    "\n",
    "    Loops over all the rows\n",
    "    If the row is for garlic, celery, or lemons, changes the price\n",
    "\n",
    "This means your code will need to do the following:\n",
    "\n",
    "    Open the spreadsheet file.\n",
    "    For each row, check whether the value in column A is Celery, Garlic, or Lemon.\n",
    "    If it is, update the price in column B.\n",
    "    Save the spreadsheet to a new file (so that you don’t lose the old spreadsheet, just in case).\n"
   ]
  },
  {
   "cell_type": "markdown",
   "metadata": {},
   "source": [
    "Step 1: Set Up a Data Structure with the Update Information\n",
    "\n",
    "The prices that you need to update are as follows:\n",
    "\n",
    "Celery         1.19\n",
    "\n",
    "Garlic          3.07\n",
    "\n",
    "Lemon         1.27\n",
    "\n",
    "You could write code like this:"
   ]
  },
  {
   "cell_type": "markdown",
   "metadata": {},
   "source": [
    "if produceName == 'Celery':\n",
    "    cellObj = 1.19\n",
    "if produceName == 'Garlic':\n",
    "    cellObj = 3.07\n",
    "if produceName == 'Lemon':\n",
    "    cellObj = 1.27"
   ]
  },
  {
   "cell_type": "markdown",
   "metadata": {},
   "source": [
    "Having the produce and updated price data hardcoded like this is a bit inelegant. If you needed to update the spreadsheet again with different prices or different produce, you would have to change a lot of the code. Every time you change code, you risk introducing bugs.\n",
    "\n",
    "A more flexible solution is to store the corrected price information in a dictionary and write your code to use this data structure. In a new file editor tab, enter the following code:"
   ]
  },
  {
   "cell_type": "code",
   "execution_count": null,
   "metadata": {},
   "outputs": [],
   "source": [
    "#! python3\n",
    "# updateProduce.py - Corrects costs in produce sales spreadsheet\n",
    "\n",
    "import openpyxl\n",
    "\n",
    "loadPath = os.path.join('automate_online-materials', 'produceSales.xlsx')\n",
    "savePath= os.path.join('Files', 'updatedProduceSales.xlsx')\n",
    "\n",
    "wb = openpyxl.load_workbook(loadPath)\n",
    "sheet = wb['Sheet']\n",
    "\n",
    "# The produce types and their updated prices\n",
    "PRICE_UPDATES = {'Garlic': 3.07, \n",
    "                 'Celery': 1.19,\n",
    "                 'Lemon': 1.27}\n",
    "\n",
    "# TODO: loop through the rows and update the prices"
   ]
  },
  {
   "cell_type": "markdown",
   "metadata": {},
   "source": [
    "### Step 2: Check All Rows and Update Incorrect Prices\n",
    "\n",
    "The next part of the program will loop through all the rows in the spreadsheet.\n",
    "\n",
    "We loop through the rows starting at row 2, since row 1 is just the header ➊. The cell in column 1 (that is, column A) will be stored in the variable produceName ➋. If produceName exists as a key in the PRICE_UPDATES dictionary ➌, then you know this is a row that must have its price corrected. The correct price will be in PRICE_UPDATES[produceName].\n",
    "\n",
    "Notice how clean using PRICE_UPDATES makes the code. Only one if statement, rather than code like if produceName == 'Garlic': , is necessary for every type of produce to update. And since the code uses the PRICE_UPDATES dictionary instead of hardcoding the produce names and updated costs into the for loop, you modify only the PRICE_UPDATES dictionary and not the code if the produce sales spreadsheet needs additional changes.\n",
    "\n",
    "After going through the entire spreadsheet and making changes, the code saves the Workbook object to updatedProduceSales.xlsx ➍. It doesn’t overwrite the old spreadsheet just in case there’s a bug in your program and the updated spreadsheet is wrong. After checking that the updated spreadsheet looks right, you can delete the old spreadsheet.\n",
    "\n",
    "You can download the complete source code for this program from https://nostarch.com/automatestuff2/."
   ]
  },
  {
   "cell_type": "code",
   "execution_count": 27,
   "metadata": {},
   "outputs": [],
   "source": [
    "#! python3\n",
    "# updateProduce.py - Corrects costs in produce sales spreadsheet\n",
    "\n",
    "import openpyxl\n",
    "\n",
    "loadPath = os.path.join('automate_online-materials', 'produceSales.xlsx')\n",
    "savePath= os.path.join('Files', 'updatedProduceSales.xlsx')\n",
    "\n",
    "wb = openpyxl.load_workbook(loadPath)\n",
    "sheet = wb['Sheet']\n",
    "\n",
    "# The produce types and their updated prices\n",
    "PRICE_UPDATES = {'Garlic': 3.07, \n",
    "                 'Celery': 1.19,\n",
    "                 'Lemon': 1.27}\n",
    "\n",
    "# loop through the rows and update the prices\n",
    "for rowNum in range(2, sheet.max_row): # skip the first row\n",
    "    produceName = sheet.cell(row = rowNum, column=1).value # value in column 1 gets stored to produceName\n",
    "    if produceName in PRICE_UPDATES:\n",
    "        sheet.cell(row=rowNum, column=2).value = PRICE_UPDATES[produceName] # set value to new price\n",
    "\n",
    "wb.save(savePath)"
   ]
  },
  {
   "cell_type": "markdown",
   "metadata": {},
   "source": [
    "Ideas for Similar Programs\n",
    "\n",
    "Since many office workers use Excel spreadsheets all the time, a program that can automatically edit and write Excel files could be really useful. Such a program could do the following:\n",
    "\n",
    "    Read data from one spreadsheet and write it to parts of other spreadsheets.\n",
    "    Read data from websites, text files, or the clipboard and write it to a spreadsheet.\n",
    "    Automatically “clean up” data in spreadsheets. For example, it could use regular expressions to read multiple formats of phone numbers and edit them to a single, standard format.\n"
   ]
  },
  {
   "cell_type": "markdown",
   "metadata": {},
   "source": [
    "## Setting the Font Style of Cells\n",
    "\n",
    "Styling certain cells, rows, or columns can help you emphasize important areas in your spreadsheet. In the produce spreadsheet, for example, your program could apply bold text to the potato, garlic, and parsnip rows. Or perhaps you want to italicize every row with a cost per pound greater than $5. Styling parts of a large spreadsheet by hand would be tedious, but your programs can do it instantly.\n",
    "\n",
    "To customize font styles in cells, important, import the Font() function from the openpyxl.styles module. This allows you to type Font() instead of openpyxl.styles.Font(). (See “Importing Modules” on page 47 to review this style of import statement.)\n",
    "\n",
    "Here’s an example that creates a new workbook and sets cell A1 to have a 24-point, italicized font. Enter the following into the interactive shell:"
   ]
  },
  {
   "cell_type": "code",
   "execution_count": 28,
   "metadata": {},
   "outputs": [],
   "source": [
    "import openpyxl\n",
    "from openpyxl.styles import Font\n",
    "\n",
    "savePath= os.path.join('Files', 'Styles.xlsx')\n",
    "\n",
    "wb = openpyxl.Workbook()\n",
    "sheet = wb['Sheet']\n",
    "italic24Font = Font(size=24, italic=True) # Create a font\n",
    "sheet['A1'].font = italic24Font # Apply the font to A1\n",
    "sheet['A1'] = 'Hello World'\n",
    "wb.save(savePath)"
   ]
  },
  {
   "cell_type": "markdown",
   "metadata": {},
   "source": [
    "In this example, Font(size=24, italic=True) returns a Font object, which is stored in italic24Font ➊. The keyword arguments to Font(), size and italic, configure the Font object’s styling information. And when sheet['A1'].font is assigned the italic24Font object ➋, all that font styling information gets applied to cell A1."
   ]
  },
  {
   "cell_type": "markdown",
   "metadata": {},
   "source": [
    "## Font Objects\n",
    "\n",
    "To set font attributes, you pass keyword arguments to Font(). Table 13-2 shows the possible keyword arguments for the Font() function.\n",
    "\n",
    "Keyword argument\n",
    "\t\n",
    "\n",
    "Data type\n",
    "\t\n",
    "\n",
    "Description\n",
    "\n",
    "name\n",
    "\t\n",
    "\n",
    "String\n",
    "\t\n",
    "\n",
    "The font name, such as 'Calibri' or 'Times New Roman'\n",
    "\n",
    "size\n",
    "\t\n",
    "\n",
    "Integer\n",
    "\t\n",
    "\n",
    "The point size\n",
    "\n",
    "bold\n",
    "\t\n",
    "\n",
    "Boolean\n",
    "\t\n",
    "\n",
    "True, for bold font\n",
    "\n",
    "italic\n",
    "\t\n",
    "\n",
    "Boolean\n",
    "\t\n",
    "\n",
    "True, for italic font"
   ]
  },
  {
   "cell_type": "markdown",
   "metadata": {},
   "source": [
    "You can call Font() to create a Font object and store that Font object in a variable. You then assign that variable to a Cell object’s font attribute. For example, this code creates various font styles:"
   ]
  },
  {
   "cell_type": "code",
   "execution_count": 29,
   "metadata": {},
   "outputs": [],
   "source": [
    "import openpyxl\n",
    "from openpyxl.styles import Font\n",
    "\n",
    "savePath= os.path.join('Files', 'Styles.xlsx')\n",
    "\n",
    "wb = openpyxl.Workbook()\n",
    "sheet = wb['Sheet']\n",
    "\n",
    "fontObj1 = Font(name='Times New Roman', bold=True)\n",
    "sheet['A1'].font = fontObj1\n",
    "sheet['A1'] = 'Bold Times New Roman'\n",
    "\n",
    "fontObj2 = Font(size=24, italic=True)\n",
    "sheet['B3'].font = fontObj2\n",
    "sheet['B3'] = '24 pt Italic'\n",
    "wb.save(savePath)"
   ]
  },
  {
   "cell_type": "markdown",
   "metadata": {},
   "source": [
    "Here, we store a Font object in fontObj1 and then set the A1 Cell object’s font attribute to fontObj1. We repeat the process with another Font object to set the font of a second cell. For cell A1, we set the font name to 'Times New Roman' and set bold to true, so our text appears in bold Times New Roman. We didn’t specify a size, so the openpyxl default, 11, is used. In cell B3, our text is italic, with a size of 24; we didn’t specify a font name, so the openpyxl default, Calibri, is used."
   ]
  },
  {
   "cell_type": "markdown",
   "metadata": {},
   "source": [
    "## Formulas\n",
    "\n",
    "Excel formulas, which begin with an equal sign, can configure cells to contain values calculated from other cells. In this section, you’ll use the openpyxl module to programmatically add formulas to cells, just like any normal value. For example:\n",
    "\n",
    ">>> sheet['B9'] = '=SUM(B1:B8)'\n",
    "\n",
    "This will store =SUM(B1:B8) as the value in cell B9. This sets the B9 cell to a formula that calculates the sum of values in cells B1 to B8."
   ]
  },
  {
   "cell_type": "code",
   "execution_count": 30,
   "metadata": {},
   "outputs": [],
   "source": [
    "import openpyxl\n",
    "\n",
    "savePath= os.path.join('Files', 'writeFormula.xlsx')\n",
    "\n",
    "wb = openpyxl.Workbook()\n",
    "sheet = wb.active\n",
    "\n",
    "sheet['A1'] = 200\n",
    "sheet['A2'] = 300\n",
    "sheet['A3'] = '=SUM(A1:A2)' # set the formula\n",
    "wb.save(savePath)"
   ]
  },
  {
   "cell_type": "markdown",
   "metadata": {},
   "source": [
    "The cells in A1 and A2 are set to 200 and 300, respectively. The value in cell A3 is set to a formula that sums the values in A1 and A2. When the spreadsheet is opened in Excel, A3 will display its value as 500.\n",
    "\n",
    "Excel formulas offer a level of programmability for spreadsheets but can quickly become unmanageable for complicated tasks. For example, even if you’re deeply familiar with Excel formulas, it’s a headache to try to decipher what =IFERROR(TRIM(IF(LEN(VLOOKUP(F7, Sheet2!$A$1:$B$10000, 2, FALSE))>0,SUBSTITUTE(VLOOKUP(F7, Sheet2!$A$1:$B$10000, 2, FALSE), \" \", \"\"),\"\")), \"\") actually does. Python code is much more readable."
   ]
  },
  {
   "cell_type": "markdown",
   "metadata": {},
   "source": [
    "## Adjusting Rows and Columns\n",
    "\n",
    "In Excel, adjusting the sizes of rows and columns is as easy as clicking and dragging the edges of a row or column header. But if you need to set a row or column’s size based on its cells’ contents or if you want to set sizes in a large number of spreadsheet files, it will be much quicker to write a Python program to do it.\n",
    "\n",
    "Rows and columns can also be hidden entirely from view. Or they can be “frozen” in place so that they are always visible on the screen and appear on every page when the spreadsheet is printed (which is handy for headers)."
   ]
  },
  {
   "cell_type": "markdown",
   "metadata": {},
   "source": [
    "### Setting Row Height and Column Width\n",
    "\n",
    "Worksheet objects have row_dimensions and column_dimensions attributes that control row heights and column widths.\n",
    "\n",
    "A sheet’s row_dimensions and column_dimensions are dictionary-like values; row_dimensions contains RowDimension objects and column_dimensions contains ColumnDimension objects. In row_dimensions, you can access one of the objects using the number of the row (in this case, 1 or 2). In column_dimensions, you can access one of the objects using the letter of the column (in this case, A or B).\n"
   ]
  },
  {
   "cell_type": "code",
   "execution_count": 2,
   "metadata": {},
   "outputs": [],
   "source": [
    "import openpyxl, os\n",
    "\n",
    "savePath= os.path.join('Files', 'dimensions.xlsx')\n",
    "\n",
    "wb = openpyxl.Workbook()\n",
    "sheet = wb.active\n",
    "\n",
    "sheet['A1'] = 'Tall Row'\n",
    "sheet['B2'] = 'Wide Column'\n",
    "\n",
    "# Set the height and width\n",
    "sheet.row_dimensions[1].height = 70\n",
    "sheet.column_dimensions['B'].width = 20\n",
    "\n",
    "wb.save(savePath)"
   ]
  },
  {
   "cell_type": "markdown",
   "metadata": {},
   "source": [
    "Once you have the RowDimension object, you can set its height. Once you have the ColumnDimension object, you can set its width. The row height can be set to an integer or float value between 0 and 409. This value represents the height measured in points, where one point equals 1/72 of an inch. The default row height is 12.75. The column width can be set to an integer or float value between 0 and 255. This value represents the number of characters at the default font size (11 point) that can be displayed in the cell. The default column width is 8.43 characters. Columns with widths of 0 or rows with heights of 0 are hidden from the user."
   ]
  },
  {
   "cell_type": "markdown",
   "metadata": {},
   "source": [
    "### Merging and Unmerging Cells\n",
    "\n",
    "A rectangular area of cells can be merged into a single cell with the merge_cells() sheet method. The argument to merge_cells() is a single string of the top-left and bottom-right cells of the rectangular area to be merged: 'A1:D3' merges 12 cells into a single cell. To set the value of these merged cells, simply set the value of the top-left cell of the merged group."
   ]
  },
  {
   "cell_type": "code",
   "execution_count": 6,
   "metadata": {},
   "outputs": [],
   "source": [
    "import openpyxl, os\n",
    "\n",
    "savePath= os.path.join('Files', 'merged.xlsx')\n",
    "\n",
    "wb = openpyxl.Workbook()\n",
    "sheet = wb.active\n",
    "\n",
    "sheet.merge_cells('A1:D3') # Merge cells A1 through D3\n",
    "sheet['A1'] = 'Twelve cells merged together'\n",
    "\n",
    "sheet.merge_cells('C5:D5') # Merge these two cells together\n",
    "sheet['C5'] = 'Two merged cells'\n",
    "\n",
    "wb.save(savePath)"
   ]
  },
  {
   "cell_type": "markdown",
   "metadata": {},
   "source": [
    "To unmerge cells, call the unmerge_cells() sheet method. Enter this into the interactive shell:"
   ]
  },
  {
   "cell_type": "code",
   "execution_count": 8,
   "metadata": {},
   "outputs": [],
   "source": [
    "import openpyxl, os\n",
    "\n",
    "loadPath = os.path.join('Files', 'merged.xlsx')\n",
    "savePath = os.path.join('Files', 'unmerged.xlsx')\n",
    "\n",
    "wb = openpyxl.load_workbook(loadPath)\n",
    "sheet = wb.active\n",
    "\n",
    "sheet.unmerge_cells('A1:D3') # split these cells up\n",
    "sheet.unmerge_cells('C5:D5')\n",
    "wb.save(savePath)"
   ]
  },
  {
   "cell_type": "markdown",
   "metadata": {},
   "source": [
    "### Freezing Panes\n",
    "\n",
    "For spreadsheets too large to be displayed all at once, it’s helpful to “freeze” a few of the top rows or leftmost columns onscreen. Frozen column or row headers, for example, are always visible to the user even as they scroll through the spreadsheet. These are known as freeze panes. In OpenPyXL, each Worksheet object has a freeze_panes attribute that can be set to a Cell object or a string of a cell’s coordinates. Note that all rows above and all columns to the left of this cell will be frozen, but the row and column of the cell itself will not be frozen.\n",
    "\n",
    "To unfreeze all panes, set freeze_panes to None or 'A1'. Table 13-3 shows which rows and columns will be frozen for some example settings of freeze_panes."
   ]
  },
  {
   "cell_type": "markdown",
   "metadata": {},
   "source": [
    "Make sure you have the produce sales spreadsheet from https://nostarch.com/automatestuff2/. Then enter the following into the interactive shell:"
   ]
  },
  {
   "cell_type": "code",
   "execution_count": 9,
   "metadata": {},
   "outputs": [],
   "source": [
    "import openpyxl, os\n",
    "\n",
    "loadPath = os.path.join('automate_online-materials', 'produceSales.xlsx')\n",
    "savePath = os.path.join('Files', 'freezeExample.xlsx')\n",
    "\n",
    "wb = openpyxl.load_workbook(loadPath)\n",
    "sheet = wb.active\n",
    "\n",
    "sheet.freeze_panes = 'A2' # Freeze the rows above A2\n",
    "wb.save(savePath)"
   ]
  },
  {
   "cell_type": "markdown",
   "metadata": {},
   "source": [
    "## Charts\n",
    "\n",
    "OpenPyXL supports creating bar, line, scatter, and pie charts using the data in a sheet’s cells. To make a chart, you need to do the following:\n",
    "\n",
    "    Create a Reference object from a rectangular selection of cells.\n",
    "    Create a Series object by passing in the Reference object.\n",
    "    Create a Chart object.\n",
    "    Append the Series object to the Chart object.\n",
    "    Add the Chart object to the Worksheet object, optionally specifying which cell should be the top-left corner of the chart.\n",
    "\n",
    "The Reference object requires some explaining. You create Reference objects by calling the openpyxl.chart.Reference() function and passing three arguments:\n",
    "\n",
    "    The Worksheet object containing your chart data.\n",
    "    A tuple of two integers, representing the top-left cell of the rectangular selection of cells containing your chart data: the first integer in the tuple is the row, and the second is the column. Note that 1 is the first row, not 0.\n",
    "    A tuple of two integers, representing the bottom-right cell of the rectangular selection of cells containing your chart data: the first integer in the tuple is the row, and the second is the column.\n"
   ]
  },
  {
   "cell_type": "code",
   "execution_count": 10,
   "metadata": {},
   "outputs": [],
   "source": [
    "import openpyxl, os\n",
    "\n",
    "import openpyxl.chart\n",
    "\n",
    "savePath = os.path.join('Files', 'sampleChart.xlsx')\n",
    "\n",
    "wb = openpyxl.Workbook()\n",
    "sheet = wb.active\n",
    "\n",
    "for i in range(1, 11): # create some data in column A\n",
    "    sheet['A' + str(i)] = i\n",
    "\n",
    "# create a refrence object for the area containing the data to plot\n",
    "refObj = openpyxl.chart.Reference(sheet, min_col=1, min_row=1, max_col=1, max_row=10)\n",
    "# create a series object from the reference object data (this is the first series on the excel chart)\n",
    "seriesObj = openpyxl.chart.Series(refObj, title='First series')\n",
    "chartObj = openpyxl.chart.BarChart()\n",
    "chartObj.title = 'My Chart'\n",
    "chartObj.append(seriesObj) # add the series to the chart object\n",
    "sheet.add_chart(chartObj, 'C5') # add the chart to the sheet\n",
    "wb.save(savePath)"
   ]
  },
  {
   "cell_type": "markdown",
   "metadata": {},
   "source": [
    "# Practice Project: Multiplication Table Maker\n",
    "Multiplication Table Maker\n",
    "\n",
    "Create a program multiplicationTable.py that takes a number N from the command line and creates an N×N multiplication table in an Excel spreadsheet"
   ]
  },
  {
   "cell_type": "code",
   "execution_count": 20,
   "metadata": {},
   "outputs": [],
   "source": [
    "# import necessary libraries and set save paths, and initialize the workbook\n",
    "import openpyxl, os\n",
    "from openpyxl.utils import get_column_letter\n",
    "from openpyxl.styles import Font\n",
    "\n",
    "savePath= os.path.join('Files', 'multiplicationTable.xlsx')\n",
    "\n",
    "wb = openpyxl.Workbook()\n",
    "sheet = wb.active\n",
    "\n",
    "# set the size of the multiplication table\n",
    "size = 10\n",
    "\n",
    "# create a function that calculates each cell in the table\n",
    "for i in range(1, size + 1):\n",
    "    for j in range(1, size + 1):\n",
    "        colLet = get_column_letter(i)\n",
    "        sheet[colLet + str(j)] = i * j\n",
    "\n",
    "# Make the first column and row bold\n",
    "boldFont = Font(bold=True)\n",
    "for cell in sheet[1]: # for all cells in row 1\n",
    "    cell.font = boldFont\n",
    "for cell in sheet['A']:\n",
    "    cell.font = boldFont\n",
    "\n",
    "# save the excel sheet\n",
    "wb.save(savePath)"
   ]
  },
  {
   "cell_type": "code",
   "execution_count": null,
   "metadata": {},
   "outputs": [],
   "source": [
    "import openpyxl\n",
    "from openpyxl.styles import Font\n",
    "\n",
    "savePath= os.path.join('Files', 'Styles.xlsx')\n",
    "\n",
    "wb = openpyxl.Workbook()\n",
    "sheet = wb['Sheet']\n",
    "italic24Font = Font(size=24, italic=True) # Create a font"
   ]
  }
 ],
 "metadata": {
  "kernelspec": {
   "display_name": "Python 3",
   "language": "python",
   "name": "python3"
  },
  "language_info": {
   "codemirror_mode": {
    "name": "ipython",
    "version": 3
   },
   "file_extension": ".py",
   "mimetype": "text/x-python",
   "name": "python",
   "nbconvert_exporter": "python",
   "pygments_lexer": "ipython3",
   "version": "3.13.1"
  }
 },
 "nbformat": 4,
 "nbformat_minor": 2
}
