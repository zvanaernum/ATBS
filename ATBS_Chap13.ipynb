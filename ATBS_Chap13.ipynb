{
 "cells": [
  {
   "cell_type": "markdown",
   "metadata": {},
   "source": [
    "# Chapter 13: Working with Excel Spreadsheets\n",
    "Although we don’t often think of spreadsheets as programming tools, almost everyone uses them to organize information into two-dimensional data structures, perform calculations with formulas, and produce output as charts. In the next two chapters, we’ll integrate Python into two popular spreadsheet applications: Microsoft Excel and Google Sheets.\n",
    "\n",
    "Excel is a popular and powerful spreadsheet application for Windows. The openpyxl module allows your Python programs to read and modify Excel spreadsheet files. For example, you might have the boring task of copying certain data from one spreadsheet and pasting it into another one. Or you might have to go through thousands of rows and pick out just a handful of them to make small edits based on some criteria. Or you might have to look through hundreds of spreadsheets of department budgets, searching for any that are in the red. These are exactly the sort of boring, mindless spreadsheet tasks that Python can do for you.\n",
    "\n",
    "Although Excel is proprietary software from Microsoft, there are free alternatives that run on Windows, macOS, and Linux. Both LibreOffice Calc and OpenOffice Calc work with Excel’s .xlsx file format for spreadsheets, which means the openpyxl module can work on spreadsheets from these applications as well. You can download the software from https://www.libreoffice.org/ and https://www.openoffice.org/, respectively. Even if you already have Excel installed on your computer, you may find these programs easier to use. The screenshots in this chapter, however, are all from Excel 2010 on Windows 10."
   ]
  },
  {
   "cell_type": "markdown",
   "metadata": {},
   "source": [
    "## Excel Documents\n",
    "\n",
    "First, let’s go over some basic definitions: an Excel spreadsheet document is called a workbook. A single workbook is saved in a file with the .xlsx extension. Each workbook can contain multiple sheets (also called worksheets). The sheet the user is currently viewing (or last viewed before closing Excel) is called the active sheet.\n",
    "\n",
    "Each sheet has columns (addressed by letters starting at A) and rows (addressed by numbers starting at 1). A box at a particular column and row is called a cell. Each cell can contain a number or text value. The grid of cells with data makes up a sheet."
   ]
  },
  {
   "cell_type": "markdown",
   "metadata": {},
   "source": [
    "## Installing the openpyxl Module\n",
    "\n",
    "Python does not come with OpenPyXL, so you’ll have to install it. Follow the instructions for installing third-party modules in Appendix A; the name of the module is openpyxl.\n",
    "\n",
    "This book uses version 2.6.2 of OpenPyXL. It’s important that you install this version by running pip install --user -U openpyxl==2.6.2 because newer versions of OpenPyXL are incompatible with the information in this book. To test whether it is installed correctly, enter the following into the interactive shell:"
   ]
  },
  {
   "cell_type": "code",
   "execution_count": 4,
   "metadata": {},
   "outputs": [],
   "source": [
    "import openpyxl"
   ]
  },
  {
   "cell_type": "markdown",
   "metadata": {},
   "source": [
    "## Reading Excel Documents\n",
    "\n",
    "The examples in this chapter will use a spreadsheet named example.xlsx stored in the root folder. You can either create the spreadsheet yourself or download it from https://nostarch.com/automatestuff2/. Figure 13-1 shows the tabs for the three default sheets named Sheet1, Sheet2, and Sheet3 that Excel automatically provides for new workbooks. (The number of default sheets created may vary between operating systems and spreadsheet programs.)"
   ]
  },
  {
   "cell_type": "markdown",
   "metadata": {},
   "source": [
    "### Opening Excel Documents with OpenPyXL\n",
    "\n",
    "Once you’ve imported the openpyxl module, you’ll be able to use the openpyxl.load_workbook()"
   ]
  },
  {
   "cell_type": "code",
   "execution_count": 19,
   "metadata": {},
   "outputs": [
    {
     "data": {
      "text/plain": [
       "openpyxl.workbook.workbook.Workbook"
      ]
     },
     "execution_count": 19,
     "metadata": {},
     "output_type": "execute_result"
    }
   ],
   "source": [
    "import openpyxl, os\n",
    "workbookPath = os.path.join('automate_online-materials', 'example.xlsx')\n",
    "\n",
    "wb = openpyxl.load_workbook(workbookPath)\n",
    "type(wb)\n"
   ]
  },
  {
   "cell_type": "markdown",
   "metadata": {},
   "source": [
    "The openpyxl.load_workbook() function takes in the filename and returns a value of the workbook data type. This Workbook object represents the Excel file, a bit like how a File object represents an opened text file.\n",
    "\n",
    "Remember that example.xlsx needs to be in the current working directory in order for you to work with it. You can find out what the current working directory is by importing os and using os.getcwd(), and you can change the current working directory using os.chdir()."
   ]
  },
  {
   "cell_type": "markdown",
   "metadata": {},
   "source": [
    "### Getting Sheets from the Workbook\n",
    "\n",
    "You can get a list of all the sheet names in the workbook by accessing the sheetnames attribute.\n",
    "\n",
    "Each sheet is represented by a Worksheet object, which you can obtain by using the square brackets with the sheet name string like a dictionary key. Finally, you can use the active attribute of a Workbook object to get the workbook’s active sheet. The active sheet is the sheet that’s on top when the workbook is opened in Excel. Once you have the Worksheet object, you can get its name from the title attribute."
   ]
  },
  {
   "cell_type": "code",
   "execution_count": 12,
   "metadata": {},
   "outputs": [
    {
     "data": {
      "text/plain": [
       "['Sheet1', 'Sheet2', 'Sheet3']"
      ]
     },
     "execution_count": 12,
     "metadata": {},
     "output_type": "execute_result"
    }
   ],
   "source": [
    "import openpyxl, os\n",
    "workbookPath = os.path.join('automate_online-materials', 'example.xlsx')\n",
    "\n",
    "wb = openpyxl.load_workbook(workbookPath)\n",
    "wb.sheetnames # The workbooks sheets' names."
   ]
  },
  {
   "cell_type": "code",
   "execution_count": 14,
   "metadata": {},
   "outputs": [
    {
     "data": {
      "text/plain": [
       "<Worksheet \"Sheet3\">"
      ]
     },
     "execution_count": 14,
     "metadata": {},
     "output_type": "execute_result"
    }
   ],
   "source": [
    "sheet = wb['Sheet3'] # get the third sheet from the workbook\n",
    "sheet"
   ]
  },
  {
   "cell_type": "code",
   "execution_count": 15,
   "metadata": {},
   "outputs": [
    {
     "data": {
      "text/plain": [
       "openpyxl.worksheet.worksheet.Worksheet"
      ]
     },
     "execution_count": 15,
     "metadata": {},
     "output_type": "execute_result"
    }
   ],
   "source": [
    "type(sheet)"
   ]
  },
  {
   "cell_type": "code",
   "execution_count": 16,
   "metadata": {},
   "outputs": [
    {
     "data": {
      "text/plain": [
       "'Sheet3'"
      ]
     },
     "execution_count": 16,
     "metadata": {},
     "output_type": "execute_result"
    }
   ],
   "source": [
    "sheet.title # get the sheet's title as a string"
   ]
  },
  {
   "cell_type": "code",
   "execution_count": 17,
   "metadata": {},
   "outputs": [
    {
     "data": {
      "text/plain": [
       "<Worksheet \"Sheet1\">"
      ]
     },
     "execution_count": 17,
     "metadata": {},
     "output_type": "execute_result"
    }
   ],
   "source": [
    "anotherSheet = wb.active # assign the active sheet to variable anotherSheet\n",
    "anotherSheet"
   ]
  },
  {
   "cell_type": "markdown",
   "metadata": {},
   "source": [
    "### Getting Cells from the Sheets\n",
    "\n",
    "Once you have a Worksheet object, you can access a Cell object by its name. Enter the"
   ]
  },
  {
   "cell_type": "code",
   "execution_count": 22,
   "metadata": {},
   "outputs": [
    {
     "data": {
      "text/plain": [
       "<Cell 'Sheet1'.A1>"
      ]
     },
     "execution_count": 22,
     "metadata": {},
     "output_type": "execute_result"
    }
   ],
   "source": [
    "import openpyxl, os\n",
    "workbookPath = os.path.join('automate_online-materials', 'example.xlsx')\n",
    "\n",
    "wb = openpyxl.load_workbook(workbookPath)\n",
    "sheet = wb['Sheet1'] # Get a sheet from the workbook\n",
    "sheet['A1'] # Get a cell from the sheet"
   ]
  },
  {
   "cell_type": "code",
   "execution_count": 23,
   "metadata": {},
   "outputs": [
    {
     "data": {
      "text/plain": [
       "datetime.datetime(2015, 4, 5, 13, 34, 2)"
      ]
     },
     "execution_count": 23,
     "metadata": {},
     "output_type": "execute_result"
    }
   ],
   "source": [
    "sheet['A1'].value # Get the value from the cell"
   ]
  },
  {
   "cell_type": "code",
   "execution_count": 28,
   "metadata": {},
   "outputs": [
    {
     "data": {
      "text/plain": [
       "'Apples'"
      ]
     },
     "execution_count": 28,
     "metadata": {},
     "output_type": "execute_result"
    }
   ],
   "source": [
    "c = sheet['B1'] # Get another cell from the sheet\n",
    "c.value"
   ]
  },
  {
   "cell_type": "code",
   "execution_count": 31,
   "metadata": {},
   "outputs": [
    {
     "name": "stdout",
     "output_type": "stream",
     "text": [
      "Row 1, (Column 2/Column B) is Apples\n"
     ]
    }
   ],
   "source": [
    "# Get the row, column, and value from the cell.\n",
    "print('Row %s, (Column %s/Column %s) is %s' % (c.row, c.column, c.column_letter, c.value))"
   ]
  },
  {
   "cell_type": "code",
   "execution_count": 26,
   "metadata": {},
   "outputs": [
    {
     "name": "stdout",
     "output_type": "stream",
     "text": [
      "Cell B1 is Apples\n"
     ]
    }
   ],
   "source": [
    "print('Cell %s is %s' % (c.coordinate, c.value))"
   ]
  },
  {
   "cell_type": "code",
   "execution_count": 29,
   "metadata": {},
   "outputs": [
    {
     "data": {
      "text/plain": [
       "73"
      ]
     },
     "execution_count": 29,
     "metadata": {},
     "output_type": "execute_result"
    }
   ],
   "source": [
    "sheet['C1'].value"
   ]
  },
  {
   "cell_type": "markdown",
   "metadata": {},
   "source": [
    "The Cell object has a value attribute that contains, unsurprisingly, the value stored in that cell. Cell objects also have row, column, and coordinate attributes that provide location information for the cell.\n",
    "\n",
    "Here, accessing the value attribute of our Cell object for cell B1 gives us the string 'Apples'. The row attribute gives us the integer 1, the column attribute gives us 'B', and the coordinate attribute gives us 'B1'.\n",
    "\n",
    "OpenPyXL will automatically interpret the dates in column A and return them as datetime values rather than strings. The datetime data type is explained further in Chapter 17.\n",
    "\n",
    "Specifying a column by letter can be tricky to program, especially because after column Z, the columns start by using two letters: AA, AB, AC, and so on. As an alternative, you can also get a cell using the sheet’s cell() method and passing integers for its row and column keyword arguments. The first row or column integer is 1, not 0. Continue the interactive shell example by entering the following:"
   ]
  },
  {
   "cell_type": "code",
   "execution_count": 32,
   "metadata": {},
   "outputs": [
    {
     "data": {
      "text/plain": [
       "<Cell 'Sheet1'.B1>"
      ]
     },
     "execution_count": 32,
     "metadata": {},
     "output_type": "execute_result"
    }
   ],
   "source": [
    "sheet.cell(row=1, column=2)"
   ]
  },
  {
   "cell_type": "code",
   "execution_count": 43,
   "metadata": {},
   "outputs": [
    {
     "data": {
      "text/plain": [
       "1"
      ]
     },
     "execution_count": 43,
     "metadata": {},
     "output_type": "execute_result"
    }
   ],
   "source": [
    "sheet.cell(row=1, column=2).row"
   ]
  },
  {
   "cell_type": "code",
   "execution_count": 37,
   "metadata": {},
   "outputs": [
    {
     "name": "stdout",
     "output_type": "stream",
     "text": [
      "Row 1 contains Apples\n",
      "Row 3 contains Pears\n",
      "Row 5 contains Apples\n",
      "Row 7 contains Strawberries\n"
     ]
    }
   ],
   "source": [
    "for i in range(1, 8, 2): # Go through every other row in column 2\n",
    "    print('Row ' + str(i) + ' contains', sheet.cell(row=i, column=2).value)"
   ]
  },
  {
   "cell_type": "code",
   "execution_count": null,
   "metadata": {},
   "outputs": [
    {
     "name": "stdout",
     "output_type": "stream",
     "text": [
      "Cell A1's value is 2015-04-05 13:34:02\n",
      "Cell A2's value is 2015-04-05 03:41:23\n",
      "Cell A3's value is 2015-04-06 12:46:51\n",
      "Cell A4's value is 2015-04-08 08:59:43\n",
      "Cell A5's value is 2015-04-10 02:07:00\n",
      "Cell A6's value is 2015-04-10 18:10:37\n",
      "Cell A7's value is 2015-04-10 02:40:46\n",
      "Cell B1's value is Apples\n",
      "Cell B2's value is Cherries\n",
      "Cell B3's value is Pears\n",
      "Cell B4's value is Oranges\n",
      "Cell B5's value is Apples\n",
      "Cell B6's value is Bananas\n",
      "Cell B7's value is Strawberries\n",
      "Cell C1's value is 73\n",
      "Cell C2's value is 85\n",
      "Cell C3's value is 14\n",
      "Cell C4's value is 52\n",
      "Cell C5's value is 152\n",
      "Cell C6's value is 23\n",
      "Cell C7's value is 98\n"
     ]
    }
   ],
   "source": [
    "# trying to use a nested for loops to print the spreadsheet cell by cell\n",
    "import openpyxl, os\n",
    "workbookPath = os.path.join('automate_online-materials', 'example.xlsx')\n",
    "\n",
    "wb = openpyxl.load_workbook(workbookPath)\n",
    "sheet = wb['Sheet1'] # Get a sheet from the workbook\n",
    "maxr = sheet.max_row # get the highest row \n",
    "maxc = sheet.max_column # get the highest column\n",
    "\n",
    "for i in range(1, maxc + 1):\n",
    "    for j in range(1, maxr + 1):\n",
    "        c = sheet.cell(column=i, row=j).column_letter\n",
    "        r = sheet.cell(column=i, row=j).row\n",
    "        print('Cell %s%s\\'s value is' % (c, r), sheet.cell(column=i, row=j).value)\n"
   ]
  },
  {
   "cell_type": "markdown",
   "metadata": {},
   "source": [
    "As you can see, using the sheet’s cell() method and passing it row=1 and column=2 gets you a Cell object for cell B1, just like specifying sheet['B1'] did. Then, using the cell() method and its keyword arguments, you can write a for loop to print the values of a series of cells.\n",
    "\n",
    "Say you want to go down column B and print the value in every cell with an odd row number. By passing 2 for the range() function’s “step” parameter, you can get cells from every second row (in this case, all the odd-numbered rows). The for loop’s i variable is passed for the row keyword argument to the cell() method, while 2 is always passed for the column keyword argument. Note that the integer 2, not the string 'B', is passed.\n",
    "\n",
    "You can determine the size of the sheet with the Worksheet object’s max_row and max_column attributes. Enter the following into the interactive shell:"
   ]
  },
  {
   "cell_type": "code",
   "execution_count": 75,
   "metadata": {},
   "outputs": [
    {
     "name": "stdout",
     "output_type": "stream",
     "text": [
      "7\n",
      "3\n"
     ]
    }
   ],
   "source": [
    "print(sheet.max_row)\n",
    "print(sheet.max_column)"
   ]
  },
  {
   "cell_type": "markdown",
   "metadata": {},
   "source": [
    "### Converting Between Column Letters and Numbers\n",
    "\n",
    "To convert from letters to numbers, call the openpyxl.utils.column_index_from_string() function. To convert from numbers to letters, call the openpyxl.utils.get_column_letter() function. "
   ]
  },
  {
   "cell_type": "code",
   "execution_count": 78,
   "metadata": {},
   "outputs": [
    {
     "name": "stdout",
     "output_type": "stream",
     "text": [
      "A\n",
      "B\n",
      "AA\n",
      "AHP\n"
     ]
    }
   ],
   "source": [
    "import openpyxl\n",
    "from openpyxl.utils import get_column_letter, column_index_from_string\n",
    "\n",
    "print(get_column_letter(1))\n",
    "print(get_column_letter(2))\n",
    "print(get_column_letter(27))\n",
    "print(get_column_letter(900))"
   ]
  },
  {
   "cell_type": "code",
   "execution_count": 81,
   "metadata": {},
   "outputs": [
    {
     "name": "stdout",
     "output_type": "stream",
     "text": [
      "C\n",
      "1\n",
      "27\n"
     ]
    }
   ],
   "source": [
    "import openpyxl, os\n",
    "workbookPath = os.path.join('automate_online-materials', 'example.xlsx')\n",
    "\n",
    "wb = openpyxl.load_workbook(workbookPath)\n",
    "sheet = wb['Sheet1']\n",
    "\n",
    "print(get_column_letter(sheet.max_column)) # get the letter of last column\n",
    "print(column_index_from_string('A')) # Get A's number\n",
    "print(column_index_from_string('AA'))"
   ]
  },
  {
   "cell_type": "markdown",
   "metadata": {},
   "source": [
    "After you import these two functions from the openpyxl.utils module, you can call get_column_letter() and pass it an integer like 27 to figure out what the letter name of the 27th column is. The function column_index_string() does the reverse: you pass it the letter name of a column, and it tells you what number that column is. You don’t need to have a workbook loaded to use these functions. If you want, you can load a workbook, get a Worksheet object, and use a Worksheet attribute like max_column to get an integer. Then, you can pass that integer to get_column_letter()."
   ]
  },
  {
   "cell_type": "markdown",
   "metadata": {},
   "source": [
    "### Getting Rows and Columns from the Sheets\n",
    "\n",
    "You can slice Worksheet objects to get all the Cell objects in a row, column, or rectangular area of the spreadsheet. Then you can loop over all the cells in the slice."
   ]
  },
  {
   "cell_type": "code",
   "execution_count": 94,
   "metadata": {},
   "outputs": [
    {
     "data": {
      "text/plain": [
       "((<Cell 'Sheet1'.A1>, <Cell 'Sheet1'.B1>, <Cell 'Sheet1'.C1>),\n",
       " (<Cell 'Sheet1'.A2>, <Cell 'Sheet1'.B2>, <Cell 'Sheet1'.C2>),\n",
       " (<Cell 'Sheet1'.A3>, <Cell 'Sheet1'.B3>, <Cell 'Sheet1'.C3>),\n",
       " (<Cell 'Sheet1'.A4>, <Cell 'Sheet1'.B4>, <Cell 'Sheet1'.C4>),\n",
       " (<Cell 'Sheet1'.A5>, <Cell 'Sheet1'.B5>, <Cell 'Sheet1'.C5>),\n",
       " (<Cell 'Sheet1'.A6>, <Cell 'Sheet1'.B6>, <Cell 'Sheet1'.C6>),\n",
       " (<Cell 'Sheet1'.A7>, <Cell 'Sheet1'.B7>, <Cell 'Sheet1'.C7>),\n",
       " (<Cell 'Sheet1'.A8>, <Cell 'Sheet1'.B8>, <Cell 'Sheet1'.C8>))"
      ]
     },
     "execution_count": 94,
     "metadata": {},
     "output_type": "execute_result"
    }
   ],
   "source": [
    "import openpyxl, os\n",
    "workbookPath = os.path.join('automate_online-materials', 'example.xlsx')\n",
    "\n",
    "wb = openpyxl.load_workbook(workbookPath)\n",
    "sheet = wb['Sheet1']\n",
    "\n",
    "tuple(sheet['A1':'C8']) # create a generator object containing the cell objects of cells A1 to C8"
   ]
  },
  {
   "cell_type": "code",
   "execution_count": 95,
   "metadata": {},
   "outputs": [
    {
     "name": "stdout",
     "output_type": "stream",
     "text": [
      "A1 2015-04-05 13:34:02\n",
      "B1 Apples\n",
      "C1 73\n",
      "D1 None\n",
      "-----End of Row-----\n",
      "A2 2015-04-05 03:41:23\n",
      "B2 Cherries\n",
      "C2 85\n",
      "D2 None\n",
      "-----End of Row-----\n",
      "A3 2015-04-06 12:46:51\n",
      "B3 Pears\n",
      "C3 14\n",
      "D3 None\n",
      "-----End of Row-----\n",
      "A4 2015-04-08 08:59:43\n",
      "B4 Oranges\n",
      "C4 52\n",
      "D4 None\n",
      "-----End of Row-----\n",
      "A5 2015-04-10 02:07:00\n",
      "B5 Apples\n",
      "C5 152\n",
      "D5 None\n",
      "-----End of Row-----\n",
      "A6 2015-04-10 18:10:37\n",
      "B6 Bananas\n",
      "C6 23\n",
      "D6 None\n",
      "-----End of Row-----\n",
      "A7 2015-04-10 02:40:46\n",
      "B7 Strawberries\n",
      "C7 98\n",
      "D7 None\n",
      "-----End of Row-----\n",
      "A8 None\n",
      "B8 None\n",
      "C8 None\n",
      "D8 None\n",
      "-----End of Row-----\n"
     ]
    }
   ],
   "source": [
    "for rowOfCellObjects in sheet['A1':'C8']: # iterates through the rows in the slice\n",
    "    for cellObj in rowOfCellObjects: # iterates through each cell in the row\n",
    "        print(cellObj.coordinate, cellObj.value)\n",
    "    print('-----End of Row-----')\n"
   ]
  },
  {
   "cell_type": "markdown",
   "metadata": {},
   "source": [
    "Here, we specify that we want the Cell objects in the rectangular area from A1 to C3, and we get a Generator object containing the Cell objects in that area. To help us visualize this Generator object, we can use tuple() on it to display its Cell objects in a tuple.\n",
    "\n",
    "This tuple contains three tuples: one for each row, from the top of the desired area to the bottom. Each of these three inner tuples contains the Cell objects in one row of our desired area, from the leftmost cell to the right. So overall, our slice of the sheet contains all the Cell objects in the area from A1 to C3, starting from the top-left cell and ending with the bottom-right cell.\n",
    "\n",
    "To print the values of each cell in the area, we use two for loops. The outer for loop goes over each row in the slice ➊. Then, for each row, the nested for loop goes through each cell in that row ➋.\n",
    "\n",
    "To access the values of cells in a particular row or column, you can also use a Worksheet object’s rows and columns attribute. These attributes must be converted to lists with the list() function before you can use the square brackets and an index with them."
   ]
  },
  {
   "cell_type": "code",
   "execution_count": 107,
   "metadata": {},
   "outputs": [
    {
     "name": "stdout",
     "output_type": "stream",
     "text": [
      "(<Cell 'Sheet1'.B1>, <Cell 'Sheet1'.B2>, <Cell 'Sheet1'.B3>, <Cell 'Sheet1'.B4>, <Cell 'Sheet1'.B5>, <Cell 'Sheet1'.B6>, <Cell 'Sheet1'.B7>)\n",
      "Apples\n",
      "Cherries\n",
      "Pears\n",
      "Oranges\n",
      "Apples\n",
      "Bananas\n",
      "Strawberries\n"
     ]
    }
   ],
   "source": [
    "# note I had to make some changes to the syntax due to package updates\n",
    "import openpyxl, os\n",
    "workbookPath = os.path.join('automate_online-materials', 'example.xlsx')\n",
    "\n",
    "wb = openpyxl.load_workbook(workbookPath)\n",
    "sheet = wb.active\n",
    "\n",
    "print(sheet['B']) # get the B column's cells\n",
    "\n",
    "for cellObj in sheet['B']: # get the B column's cells\n",
    "    print(cellObj.value)"
   ]
  },
  {
   "cell_type": "markdown",
   "metadata": {},
   "source": [
    "Using the rows attribute on a Worksheet object will give you a tuple of tuples. Each of these inner tuples represents a row, and contains the Cell objects in that row. The columns attribute also gives you a tuple of tuples, with each of the inner tuples containing the Cell objects in a particular column. For example.xlsx, since there are 7 rows and 3 columns, rows gives us a tuple of 7 tuples (each containing 3 Cell objects), and columns gives us a tuple of 3 tuples (each containing 7 Cell objects).\n",
    "\n",
    "To access one particular tuple, you can refer to it by its index in the larger tuple. For example, to get the tuple that represents column B, you use list(sheet.columns)[1]. To get the tuple containing the Cell objects in column A, you’d use list(sheet.columns)[0]. Once you have a tuple representing one row or column, you can loop through its Cell objects and print their values."
   ]
  },
  {
   "cell_type": "markdown",
   "metadata": {},
   "source": [
    "### Workbooks, Sheets, Cells\n",
    "\n",
    "As a quick review, here’s a rundown of all the functions, methods, and data types involved in reading a cell out of a spreadsheet file:\n",
    "\n",
    "    Import the openpyxl module.\n",
    "    Call the openpyxl.load_workbook() function.\n",
    "    Get a Workbook object.\n",
    "    Use the active or sheetnames attributes.\n",
    "    Get a Worksheet object.\n",
    "    Use indexing or the cell() sheet method with row and column keyword arguments.\n",
    "    Get a Cell object.\n",
    "    Read the Cell object’s value attribute.\n"
   ]
  }
 ],
 "metadata": {
  "kernelspec": {
   "display_name": "Python 3",
   "language": "python",
   "name": "python3"
  },
  "language_info": {
   "codemirror_mode": {
    "name": "ipython",
    "version": 3
   },
   "file_extension": ".py",
   "mimetype": "text/x-python",
   "name": "python",
   "nbconvert_exporter": "python",
   "pygments_lexer": "ipython3",
   "version": "3.13.1"
  }
 },
 "nbformat": 4,
 "nbformat_minor": 2
}
