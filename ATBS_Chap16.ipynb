{
 "cells": [
  {
   "cell_type": "markdown",
   "metadata": {},
   "source": [
    "# Chapter 16: Working with CSV files and JSON data\n",
    "In Chapter 15, you learned how to extract text from PDF and Word documents. These files were in a binary format, which required special Python modules to access their data. CSV and JSON files, on the other hand, are just plaintext files. You can view them in a text editor, such as Mu. But Python also comes with the special csv and json modules, each providing functions to help you work with these file formats.\n",
    "\n",
    "CSV stands for “comma-separated values,” and CSV files are simplified spreadsheets stored as plaintext files. Python’s csv module makes it easy to parse CSV files.\n",
    "\n",
    "JSON (pronounced “JAY-sawn” or “Jason”—it doesn’t matter how because either way people will say you’re pronouncing it wrong) is a format that stores information as JavaScript source code in plaintext files. (JSON is short for JavaScript Object Notation.) You don’t need to know the JavaScript programming language to use JSON files, but the JSON format is useful to know because it’s used in many web applications."
   ]
  },
  {
   "cell_type": "markdown",
   "metadata": {},
   "source": [
    "## The csv Module\n",
    "\n",
    "Each line in a CSV file represents a row in the spreadsheet, and commas separate the cells in the row. For example, the spreadsheet example.xlsx from https://nostarch.com/automatestuff2/ would look like this in a CSV file:\n",
    "\n",
    "I will use this file for this chapter’s interactive shell examples. You can download example.csv from https://nostarch.com/automatestuff2/ or enter the text into a text editor and save it as example.csv.\n",
    "\n",
    "CSV files are simple, lacking many of the features of an Excel spreadsheet. For example, CSV files:\n",
    "\n",
    "    Don’t have types for their values—everything is a string\n",
    "    Don’t have settings for font size or color\n",
    "    Don’t have multiple worksheets\n",
    "    Can’t specify cell widths and heights\n",
    "    Can’t have merged cells\n",
    "    Can’t have images or charts embedded in them\n",
    "\n",
    "The advantage of CSV files is simplicity. CSV files are widely supported by many types of programs, can be viewed in text editors (including Mu), and are a straightforward way to represent spreadsheet data. The CSV format is exactly as advertised: it’s just a text file of comma-separated values.\n",
    "\n",
    "Since CSV files are just text files, you might be tempted to read them in as a string and then process that string using the techniques you learned in Chapter 9. For example, since each cell in a CSV file is separated by a comma, maybe you could just call split(',') on each line of text to get the comma-separated values as a list of strings. But not every comma in a CSV file represents the boundary between two cells. CSV files also have their own set of escape characters to allow commas and other characters to be included as part of the values. The split() method doesn’t handle these escape characters. Because of these potential pitfalls, you should always use the csv module for reading and writing CSV files."
   ]
  },
  {
   "cell_type": "markdown",
   "metadata": {},
   "source": [
    "### reader Objects\n",
    "\n",
    "To read data from a CSV file with the csv module, you need to create a reader object. A reader object lets you iterate over lines in the CSV file. Enter the following into the interactive shell, with example.csv in the current working directory:"
   ]
  },
  {
   "cell_type": "code",
   "execution_count": null,
   "metadata": {},
   "outputs": [
    {
     "name": "stdout",
     "output_type": "stream",
     "text": [
      "[['4/5/2014 13:34', 'Apples', '73'], ['4/5/2014 3:41', 'Cherries', '85'], ['4/6/2014 12:46', 'Pears', '14'], ['4/8/2014 8:59', 'Oranges', '52'], ['4/10/2014 2:07', 'Apples', '152'], ['4/10/2014 18:10', 'Bananas', '23'], ['4/10/2014 2:40', 'Strawberries', '98']]\n"
     ]
    }
   ],
   "source": [
    "import os, csv\n",
    "\n",
    "loadPath = os.path.join('automate_online-materials', 'example.csv')\n",
    "\n",
    "exampleFile = open(loadPath) # open the csv file\n",
    "exampleReader = csv.reader(exampleFile) # pass the file to csv.reader which will return a reader object\n",
    "exampleData = list(exampleReader) # convert the values to plain text using the list function\n",
    "print(exampleData) # returns a nested list with each row as inner lists "
   ]
  },
  {
   "cell_type": "markdown",
   "metadata": {},
   "source": [
    "The csv module comes with Python, so we can import it ➊ without having to install it first.\n",
    "\n",
    "To read a CSV file with the csv module, first open it using the open() function ➋, just as you would any other text file. But instead of calling the read() or readlines() method on the File object that open() returns, pass it to the csv.reader() function ➌. This will return a reader object for you to use. Note that you don’t pass a filename string directly to the csv.reader() function.\n",
    "\n",
    "The most direct way to access the values in the reader object is to convert it to a plain Python list by passing it to list() ➍. Using list() on this reader object returns a list of lists, which you can store in a variable like exampleData. Entering exampleData in the shell displays the list of lists ➎.\n",
    "\n",
    "Now that you have the CSV file as a list of lists, you can access the value at a particular row and column with the expression exampleData[row][col], where row is the index of one of the lists in exampleData, and col is the index of the item you want from that list. Enter the following into the interactive shell:"
   ]
  },
  {
   "cell_type": "code",
   "execution_count": 4,
   "metadata": {},
   "outputs": [
    {
     "name": "stdout",
     "output_type": "stream",
     "text": [
      "4/5/2014 13:34\n",
      "Apples\n",
      "73\n",
      "Cherries\n",
      "Strawberries\n"
     ]
    }
   ],
   "source": [
    "# access the data of a particular row and column by calling data[row][col]\n",
    "print(exampleData[0][0])\n",
    "print(exampleData[0][1]) # first row, second column\n",
    "print(exampleData[0][2]) # first row third column\n",
    "print(exampleData[1][1])\n",
    "print(exampleData[6][1])"
   ]
  },
  {
   "cell_type": "markdown",
   "metadata": {},
   "source": [
    "As you can see from the output, exampleData[0][0] goes into the first list and gives us the first string, exampleData[0][2] goes into the first list and gives us the third string, and so on."
   ]
  },
  {
   "cell_type": "markdown",
   "metadata": {},
   "source": [
    "### Reading Data from reader Objects in a for Loop\n",
    "\n",
    "For large CSV files, you’ll want to use the reader object in a for loop. This avoids loading the entire file into memory at once. For example, enter the following into the interactive shell:"
   ]
  },
  {
   "cell_type": "code",
   "execution_count": 6,
   "metadata": {},
   "outputs": [
    {
     "name": "stdout",
     "output_type": "stream",
     "text": [
      "Row # 1 ['4/5/2014 13:34', 'Apples', '73']\n",
      "Row # 2 ['4/5/2014 3:41', 'Cherries', '85']\n",
      "Row # 3 ['4/6/2014 12:46', 'Pears', '14']\n",
      "Row # 4 ['4/8/2014 8:59', 'Oranges', '52']\n",
      "Row # 5 ['4/10/2014 2:07', 'Apples', '152']\n",
      "Row # 6 ['4/10/2014 18:10', 'Bananas', '23']\n",
      "Row # 7 ['4/10/2014 2:40', 'Strawberries', '98']\n"
     ]
    }
   ],
   "source": [
    "import os, csv\n",
    "\n",
    "loadPath = os.path.join('automate_online-materials', 'example.csv')\n",
    "\n",
    "exampleFile = open(loadPath)\n",
    "exampleReader = csv.reader(exampleFile)\n",
    "\n",
    "\n",
    "# The reader object's line_num variable contains the number of the current line\n",
    "for row in exampleReader:\n",
    "    print('Row # ' + str(exampleReader.line_num) + ' ' + str(row))"
   ]
  },
  {
   "cell_type": "markdown",
   "metadata": {},
   "source": [
    "After you import the csv module and make a reader object from the CSV file, you can loop through the rows in the reader object. Each row is a list of values, with each value representing a cell.\n",
    "\n",
    "The print() function call prints the number of the current row and the contents of the row. To get the row number, use the reader object’s line_num variable, which contains the number of the current line.\n",
    "\n",
    "The reader object can be looped over only once. To reread the CSV file, you must call csv.reader to create a reader object."
   ]
  },
  {
   "cell_type": "markdown",
   "metadata": {},
   "source": [
    "writer Objects\n",
    "\n",
    "A writer object lets you write data to a CSV file. To create a writer object, you use the csv.writer() function. Enter the following into the interactive shell:"
   ]
  },
  {
   "cell_type": "code",
   "execution_count": 7,
   "metadata": {},
   "outputs": [
    {
     "data": {
      "text/plain": [
       "21"
      ]
     },
     "execution_count": 7,
     "metadata": {},
     "output_type": "execute_result"
    }
   ],
   "source": [
    "import os, csv\n",
    "\n",
    "savePath = os.path.join('Files', 'output.csv')\n",
    "\n",
    "outputFile = open(savePath, 'w', newline='')\n",
    "outputWriter = csv.writer(outputFile)\n",
    "outputWriter.writerow(['spam', 'eggs', 'bacon', 'ham'])"
   ]
  },
  {
   "cell_type": "code",
   "execution_count": 8,
   "metadata": {},
   "outputs": [
    {
     "data": {
      "text/plain": [
       "32"
      ]
     },
     "execution_count": 8,
     "metadata": {},
     "output_type": "execute_result"
    }
   ],
   "source": [
    "# each write row adds a new row and returns the number of characters writter\n",
    "outputWriter.writerow(['Hello, world!', 'eggs', 'bacon', 'ham']) "
   ]
  },
  {
   "cell_type": "code",
   "execution_count": 9,
   "metadata": {},
   "outputs": [
    {
     "data": {
      "text/plain": [
       "16"
      ]
     },
     "execution_count": 9,
     "metadata": {},
     "output_type": "execute_result"
    }
   ],
   "source": [
    "outputWriter.writerow([1, 2, 3.141592, 4])"
   ]
  },
  {
   "cell_type": "code",
   "execution_count": 10,
   "metadata": {},
   "outputs": [],
   "source": [
    "outputFile.close()"
   ]
  },
  {
   "cell_type": "markdown",
   "metadata": {},
   "source": [
    "First, call open() and pass it 'w' to open a file in write mode ➊. This will create the object you can then pass to csv.writer() ➋ to create a writer object.\n",
    "\n",
    "On Windows, you’ll also need to pass a blank string for the open() function’s newline keyword argument. For technical reasons beyond the scope of this book, if you forget to set the newline argument, the rows in output.csv will be double-spaced, as shown in Figure 16-1."
   ]
  },
  {
   "cell_type": "markdown",
   "metadata": {},
   "source": [
    "The writerow() method for writer objects takes a list argument. Each value in the list is placed in its own cell in the output CSV file. The return value of writerow() is the number of characters written to the file for that row (including newline characters).\n",
    "\n",
    "Notice how the writer object automatically escapes the comma in the value 'Hello, world!' with double quotes in the CSV file. The csv module saves you from having to handle these special cases yourself."
   ]
  },
  {
   "cell_type": "markdown",
   "metadata": {},
   "source": [
    "### The delimiter and lineterminator Keyword Arguments\n",
    "Say you want to separate cells with a tab character instead of a comma and you want the rows to be double-spaced. You could enter something like the following into the interactive shell:"
   ]
  },
  {
   "cell_type": "code",
   "execution_count": 16,
   "metadata": {},
   "outputs": [],
   "source": [
    "import os, csv\n",
    "\n",
    "savePath = os.path.join('Files', 'example.tsv')\n",
    "\n",
    "#open a file in write mode. on windows you need to set newline to an empty string\n",
    "csvFile = open(savePath, 'w', newline='')\n",
    "\n",
    "# change the delimiter between cells to a tab, and the lineterminator to two new lines\n",
    "csvWriter = csv.writer(csvFile, delimiter='\\t', lineterminator='\\n\\n')\n",
    "csvWriter.writerow(['apples', 'oranges', 'grapes'])\n",
    "csvWriter.writerow(['eggs', 'bacon', 'ham'])\n",
    "csvWriter.writerow(['spam', 'spam', 'spam', 'spam', 'spam', 'spam',])\n",
    "csvFile.close()"
   ]
  },
  {
   "cell_type": "markdown",
   "metadata": {},
   "source": [
    "This changes the delimiter and line terminator characters in your file. The delimiter is the character that appears between cells on a row. By default, the delimiter for a CSV file is a comma. The line terminator is the character that comes at the end of a row. By default, the line terminator is a newline. You can change characters to different values by using the delimiter and lineterminator keyword arguments with csv.writer().\n",
    "\n",
    "Passing delimiter='\\t' and lineterminator='\\n\\n' ➊ changes the character between cells to a tab and the character between rows to two newlines. We then call writerow() three times to give us three rows."
   ]
  },
  {
   "cell_type": "markdown",
   "metadata": {},
   "source": [
    "### DictReader and DictWriter CSV Objects\n",
    "\n",
    "For CSV files that contain header rows, it’s often more convenient to work with the DictReader and DictWriter objects, rather than the reader and writer objects.\n",
    "\n",
    "The reader and writer objects read and write to CSV file rows by using lists. The DictReader and DictWriter CSV objects perform the same functions but use dictionaries instead, and they use the first row of the CSV file as the keys of these dictionaries.\n",
    "\n",
    "Go to https://nostarch.com/automatestuff2/ and download the exampleWithHeader.csv file. This file is the same as example.csv except it has Timestamp, Fruit, and Quantity as the column headers in the first row."
   ]
  },
  {
   "cell_type": "code",
   "execution_count": 17,
   "metadata": {},
   "outputs": [
    {
     "name": "stdout",
     "output_type": "stream",
     "text": [
      "4/5/2014 13:34 Apples 73\n",
      "4/5/2014 3:41 Cherries 85\n",
      "4/6/2014 12:46 Pears 14\n",
      "4/8/2014 8:59 Oranges 52\n",
      "4/10/2014 2:07 Apples 152\n",
      "4/10/2014 18:10 Bananas 23\n",
      "4/10/2014 2:40 Strawberries 98\n"
     ]
    }
   ],
   "source": [
    "import os, csv\n",
    "\n",
    "loadPath = os.path.join('automate_online-materials', 'exampleWithHeader.csv')\n",
    "\n",
    "exampleFile = open(loadPath)\n",
    "exampleDictReader = csv.DictReader(exampleFile)\n",
    "\n",
    "for row in exampleDictReader: # iterate through the row numbers and call for the value in each key (header)\n",
    "    print(row['Timestamp'], row['Fruit'], row['Quantity'])"
   ]
  },
  {
   "cell_type": "markdown",
   "metadata": {},
   "source": [
    "Inside the loop, DictReader object sets row to a dictionary object with keys derived from the headers in the first row. (Well, technically, it sets row to an OrderedDict object, which you can use in the same way as a dictionary; the difference between them is beyond the scope of this book.) Using a DictReader object means you don’t need additional code to skip the first row’s header information, since the DictReader object does this for you.\n",
    "\n",
    "If you tried to use DictReader objects with example.csv, which doesn’t have column headers in the first row, the DictReader object would use '4/5/2015 13:34', 'Apples', and '73' as the dictionary keys. To avoid this, you can supply the DictReader() function with a second argument containing made-up header names:"
   ]
  },
  {
   "cell_type": "code",
   "execution_count": 19,
   "metadata": {},
   "outputs": [
    {
     "name": "stdout",
     "output_type": "stream",
     "text": [
      "4/5/2014 13:34 Apples 73\n",
      "4/5/2014 3:41 Cherries 85\n",
      "4/6/2014 12:46 Pears 14\n",
      "4/8/2014 8:59 Oranges 52\n",
      "4/10/2014 2:07 Apples 152\n",
      "4/10/2014 18:10 Bananas 23\n",
      "4/10/2014 2:40 Strawberries 98\n"
     ]
    }
   ],
   "source": [
    "import os, csv\n",
    "\n",
    "loadPath = os.path.join('automate_online-materials', 'example.csv')\n",
    "\n",
    "exampleFile = open(loadPath)\n",
    "\n",
    "# the csv does not contain headers, so we can supply the dunction with an argument containing made up headers\n",
    "exampleDictReader = csv.DictReader(exampleFile, ['time', 'name', 'amount'])\n",
    "\n",
    "for row in exampleDictReader:\n",
    "    print(row['time'], row['name'], row['amount'])"
   ]
  },
  {
   "cell_type": "markdown",
   "metadata": {},
   "source": [
    "Because example.csv’s first row doesn’t have any text for the heading of each column, we created our own: 'time', 'name', and 'amount'."
   ]
  },
  {
   "cell_type": "markdown",
   "metadata": {},
   "source": [
    "DictWriter objects use dictionaries to create CSV files."
   ]
  },
  {
   "cell_type": "code",
   "execution_count": null,
   "metadata": {},
   "outputs": [],
   "source": [
    "import csv\n",
    "\n",
    "savePath = os.path.join('Files', 'output.csv')\n",
    "\n",
    "outputFile = open(savePath, 'w', newline='') # open a new file\n",
    "outputDictWriter = csv.DictWriter(outputFile, ['Name', 'Pet', 'Phone']) # write the header row\n",
    "outputDictWriter.writeheader()\n",
    "\n",
    "# add a new row by passing a dictionary that uses the headers as keys\n",
    "outputDictWriter.writerow({'Name': 'Alice', 'Pet': 'cat', 'Phone': '555-1234'})\n",
    "outputDictWriter.writerow({'Name': 'Bob', 'Phone': '555-9999'}) # blank cell for pet column\n",
    "outputDictWriter.writerow({'Phone': '555-5555', 'Name': 'Carol', 'Pet':'dog'})\n",
    "outputFile.close()"
   ]
  },
  {
   "cell_type": "markdown",
   "metadata": {},
   "source": [
    "If you want your file to contain a header row, write that row by calling writeheader(). Otherwise, skip calling writeheader() to omit a header row from the file. You then write each row of the CSV file with a writerow() method call, passing a dictionary that uses the headers as keys and contains the data to write to the file.\n",
    "\n",
    "Notice that the order of the key-value pairs in the dictionaries you passed to writerow() doesn’t matter: they’re written in the order of the keys given to DictWriter(). For example, even though you passed the Phone key and value before the Name and Pet keys and values in the fourth row, the phone number still appeared last in the output.\n",
    "\n",
    "Notice also that any missing keys, such as 'Pet' in {'Name': 'Bob', 'Phone': '555-9999'}, will simply be empty in the CSV file.\n"
   ]
  },
  {
   "cell_type": "markdown",
   "metadata": {},
   "source": [
    "## Project: Removing the Header from CSV Files\n",
    "\n",
    "Say you have the boring job of removing the first line from several hundred CSV files. Maybe you’ll be feeding them into an automated process that requires just the data and not the headers at the top of the columns. You could open each file in Excel, delete the first row, and resave the file—but that would take hours. Let’s write a program to do it instead.\n",
    "\n",
    "The program will need to open every file with the .csv extension in the current working directory, read in the contents of the CSV file, and rewrite the contents without the first row to a file of the same name. This will replace the old contents of the CSV file with the new, headless contents.\n",
    "\n",
    "At a high level, the program must do the following:\n",
    "\n",
    "    Find all the CSV files in the current working directory.\n",
    "    Read in the full contents of each file.\n",
    "    Write out the contents, skipping the first line, to a new CSV file.\n",
    "\n",
    "At the code level, this means the program will need to do the following:\n",
    "\n",
    "    Loop over a list of files from os.listdir(), skipping the non-CSV files.\n",
    "    Create a CSV reader object and read in the contents of the file, using the line_num attribute to figure out which line to skip.\n",
    "    Create a CSV writer object and write out the read-in data to the new file.\n",
    "\n",
    "For this project, open a new file editor window and save it as removeCsvHeader.py"
   ]
  },
  {
   "cell_type": "markdown",
   "metadata": {},
   "source": [
    "### Step 1: Loop Through Each CSV File\n",
    "\n",
    "The first thing your program needs to do is loop over a list of all CSV filenames for the current working directory. Make your removeCsvHeader.py look like this:"
   ]
  },
  {
   "cell_type": "code",
   "execution_count": null,
   "metadata": {},
   "outputs": [],
   "source": [
    "#! python3\n",
    "# removeCsvHeader.py - Removes the header from all CSV files in the current working directory.\n",
    "\n",
    "import csv, os\n",
    "\n",
    "os.makedirs('headerRemoved', exist_ok=True) # create a header removed folder where files will be saved\n",
    "\n",
    "# Loop through every file in the current working directory.\n",
    "for csvFilename in os.listdir('.'):\n",
    "    if not csvFilename.endswith('.csv'):\n",
    "        continue    # skip non-csv files\n",
    "\n",
    "    print('Removing header from ' + csvFilename + '...')\n",
    "\n",
    "     # TODO: Read the CSV file in (skipping first row).\n",
    "\n",
    "     # TODO: Write out the CSV file."
   ]
  },
  {
   "cell_type": "markdown",
   "metadata": {},
   "source": [
    "The os.makedirs() call will create a headerRemoved folder where all the headless CSV files will be written. A for loop on os.listdir('.') gets you partway there, but it will loop over all files in the working directory, so you’ll need to add some code at the start of the loop that skips filenames that don’t end with .csv. The continue statement ➊ makes the for loop move on to the next filename when it comes across a non-CSV file.\n",
    "\n",
    "Just so there’s some output as the program runs, print out a message saying which CSV file the program is working on. Then, add some TODO comments for what the rest of the program should do."
   ]
  },
  {
   "cell_type": "markdown",
   "metadata": {},
   "source": [
    "### Step 2: Read in the CSV File\n",
    "\n",
    "The program doesn’t remove the first line from the CSV file. Rather, it creates a new copy of the CSV file without the first line. Since the copy’s filename is the same as the original filename, the copy will overwrite the original.\n",
    "\n",
    "The program will need a way to track whether it is currently looping on the first row. Add the following to removeCsvHeader.py."
   ]
  },
  {
   "cell_type": "code",
   "execution_count": null,
   "metadata": {},
   "outputs": [],
   "source": [
    "#! python3\n",
    "# removeCsvHeader.py - Removes the header from all CSV files in the current working directory.\n",
    "\n",
    "import csv, os\n",
    "\n",
    "os.makedirs('headerRemoved', exist_ok=True) # create a header removed folder where files will be saved\n",
    "\n",
    "# Loop through every file in the current working directory.\n",
    "for csvFilename in os.listdir('.'):\n",
    "    if not csvFilename.endswith('.csv'):\n",
    "        continue    # skip non-csv files\n",
    "\n",
    "    print('Removing header from ' + csvFilename + '...')\n",
    "\n",
    "    # Read the CSV file into a reader object (skipping first row).\n",
    "    csvRows = [] # open an empty list for the rows data\n",
    "    csvFileObj = open(csvFilename)\n",
    "    readerObj = csv.reader(csvFileObj)\n",
    "    for row in readerObj:\n",
    "        if readerObj.line_num == 1:\n",
    "            continue    # skip first row in the csv file\n",
    "        csvRows.append(row) # add csv rows to the empty list\n",
    "    csvFileObj.close()\n",
    "\n",
    "     # TODO: Write out the CSV file."
   ]
  },
  {
   "cell_type": "markdown",
   "metadata": {},
   "source": [
    "The reader object’s line_num attribute can be used to determine which line in the CSV file it is currently reading. Another for loop will loop over the rows returned from the CSV reader object, and all rows but the first will be appended to csvRows.\n",
    "\n",
    "As the for loop iterates over each row, the code checks whether readerObj.line_num is set to 1. If so, it executes a continue to move on to the next row without appending it to csvRows. For every row afterward, the condition will be always be False, and the row will be appended to csvRows."
   ]
  },
  {
   "cell_type": "markdown",
   "metadata": {},
   "source": [
    "### Step 3: Write Out the CSV File Without the First Row\n",
    "\n",
    "Now that csvRows contains all rows but the first row, the list needs to be written out to a CSV file in the headerRemoved folder. Add the following to removeCsvHeader.py:"
   ]
  },
  {
   "cell_type": "code",
   "execution_count": 25,
   "metadata": {},
   "outputs": [
    {
     "name": "stdout",
     "output_type": "stream",
     "text": [
      "Removing header from NAICS_data_1048.csv...\n",
      "Removing header from NAICS_data_1218.csv...\n",
      "Removing header from NAICS_data_1657.csv...\n",
      "Removing header from NAICS_data_1751.csv...\n",
      "Removing header from NAICS_data_1814.csv...\n",
      "Removing header from NAICS_data_1817.csv...\n",
      "Removing header from NAICS_data_1889.csv...\n",
      "Removing header from NAICS_data_1952.csv...\n",
      "Removing header from NAICS_data_1973.csv...\n",
      "Removing header from NAICS_data_2066.csv...\n",
      "Removing header from NAICS_data_2092.csv...\n",
      "Removing header from NAICS_data_2183.csv...\n",
      "Removing header from NAICS_data_2346.csv...\n",
      "Removing header from NAICS_data_2427.csv...\n",
      "Removing header from NAICS_data_2648.csv...\n",
      "Removing header from NAICS_data_2799.csv...\n",
      "Removing header from NAICS_data_2828.csv...\n",
      "Removing header from NAICS_data_2959.csv...\n",
      "Removing header from NAICS_data_2988.csv...\n",
      "Removing header from NAICS_data_2993.csv...\n",
      "Removing header from NAICS_data_2994.csv...\n",
      "Removing header from NAICS_data_3044.csv...\n",
      "Removing header from NAICS_data_3073.csv...\n",
      "Removing header from NAICS_data_3075.csv...\n",
      "Removing header from NAICS_data_3144.csv...\n",
      "Removing header from NAICS_data_3197.csv...\n",
      "Removing header from NAICS_data_3237.csv...\n",
      "Removing header from NAICS_data_3494.csv...\n",
      "Removing header from NAICS_data_3495.csv...\n",
      "Removing header from NAICS_data_3731.csv...\n",
      "Removing header from NAICS_data_4031.csv...\n",
      "Removing header from NAICS_data_4125.csv...\n",
      "Removing header from NAICS_data_4213.csv...\n",
      "Removing header from NAICS_data_4215.csv...\n",
      "Removing header from NAICS_data_4329.csv...\n",
      "Removing header from NAICS_data_4436.csv...\n",
      "Removing header from NAICS_data_4525.csv...\n",
      "Removing header from NAICS_data_4610.csv...\n",
      "Removing header from NAICS_data_4618.csv...\n",
      "Removing header from NAICS_data_4699.csv...\n",
      "Removing header from NAICS_data_4896.csv...\n",
      "Removing header from NAICS_data_4938.csv...\n",
      "Removing header from NAICS_data_5060.csv...\n",
      "Removing header from NAICS_data_5092.csv...\n",
      "Removing header from NAICS_data_5305.csv...\n",
      "Removing header from NAICS_data_5341.csv...\n",
      "Removing header from NAICS_data_5364.csv...\n",
      "Removing header from NAICS_data_5631.csv...\n",
      "Removing header from NAICS_data_5890.csv...\n",
      "Removing header from NAICS_data_5899.csv...\n",
      "Removing header from NAICS_data_5992.csv...\n",
      "Removing header from NAICS_data_6161.csv...\n",
      "Removing header from NAICS_data_6181.csv...\n",
      "Removing header from NAICS_data_6329.csv...\n",
      "Removing header from NAICS_data_6335.csv...\n",
      "Removing header from NAICS_data_6397.csv...\n",
      "Removing header from NAICS_data_6493.csv...\n",
      "Removing header from NAICS_data_6637.csv...\n",
      "Removing header from NAICS_data_6700.csv...\n",
      "Removing header from NAICS_data_6842.csv...\n",
      "Removing header from NAICS_data_6904.csv...\n",
      "Removing header from NAICS_data_7028.csv...\n",
      "Removing header from NAICS_data_7102.csv...\n",
      "Removing header from NAICS_data_7138.csv...\n",
      "Removing header from NAICS_data_7226.csv...\n",
      "Removing header from NAICS_data_7338.csv...\n",
      "Removing header from NAICS_data_7383.csv...\n",
      "Removing header from NAICS_data_7388.csv...\n",
      "Removing header from NAICS_data_7427.csv...\n",
      "Removing header from NAICS_data_7535.csv...\n",
      "Removing header from NAICS_data_7642.csv...\n",
      "Removing header from NAICS_data_7677.csv...\n",
      "Removing header from NAICS_data_7765.csv...\n",
      "Removing header from NAICS_data_7830.csv...\n",
      "Removing header from NAICS_data_7833.csv...\n",
      "Removing header from NAICS_data_7845.csv...\n",
      "Removing header from NAICS_data_7913.csv...\n",
      "Removing header from NAICS_data_8015.csv...\n",
      "Removing header from NAICS_data_8085.csv...\n",
      "Removing header from NAICS_data_8131.csv...\n",
      "Removing header from NAICS_data_8196.csv...\n",
      "Removing header from NAICS_data_8397.csv...\n",
      "Removing header from NAICS_data_8403.csv...\n",
      "Removing header from NAICS_data_8499.csv...\n",
      "Removing header from NAICS_data_8522.csv...\n",
      "Removing header from NAICS_data_8545.csv...\n",
      "Removing header from NAICS_data_8700.csv...\n",
      "Removing header from NAICS_data_8749.csv...\n",
      "Removing header from NAICS_data_8760.csv...\n",
      "Removing header from NAICS_data_8832.csv...\n",
      "Removing header from NAICS_data_9012.csv...\n",
      "Removing header from NAICS_data_9066.csv...\n",
      "Removing header from NAICS_data_9103.csv...\n",
      "Removing header from NAICS_data_9139.csv...\n",
      "Removing header from NAICS_data_9165.csv...\n",
      "Removing header from NAICS_data_9250.csv...\n",
      "Removing header from NAICS_data_9448.csv...\n",
      "Removing header from NAICS_data_9825.csv...\n",
      "Removing header from NAICS_data_9834.csv...\n",
      "Removing header from NAICS_data_9986.csv...\n"
     ]
    }
   ],
   "source": [
    "#! python3\n",
    "# removeCsvHeader.py - Removes the header from all CSV files in the current working directory.\n",
    "\n",
    "import csv, os\n",
    "\n",
    "directoryPath = os.path.join('Files', 'removeCsvHeader_copy')\n",
    "os.chdir(directoryPath) # change the working directory to the directory path with the files\n",
    "\n",
    "os.makedirs('headerRemoved', exist_ok=True) # create a header removed folder where files will be saved\n",
    "\n",
    "# Loop through every file in the current working directory.\n",
    "for csvFilename in os.listdir('.'):\n",
    "    if not csvFilename.endswith('.csv'):\n",
    "        continue    # skip non-csv files\n",
    "\n",
    "    print('Removing header from ' + csvFilename + '...')\n",
    "\n",
    "    # Read the CSV file into a reader object (skipping first row).\n",
    "    csvRows = [] # open an empty list for the rows data\n",
    "    csvFileObj = open(csvFilename)\n",
    "    readerObj = csv.reader(csvFileObj)\n",
    "    for row in readerObj:\n",
    "        if readerObj.line_num == 1:\n",
    "            continue    # skip first row in the csv file\n",
    "        csvRows.append(row) # add csv rows to the empty list\n",
    "    csvFileObj.close()\n",
    "\n",
    "    # Write out the CSV file.\n",
    "    csvFileObj = open(os.path.join('headerRemoved', csvFilename), 'w', newline='') # open a new file with the sanme name\n",
    "    csvWriter = csv.writer(csvFileObj)\n",
    "    for row in csvRows:\n",
    "        csvWriter.writerow(row)\n",
    "    csvFileObj.close()\n",
    "\n",
    "os.chdir(r\"C:\\Users\\Zac\\OneDrive\\Python\\Practice\\ATBS\") # change the directory back to where it started\n"
   ]
  },
  {
   "cell_type": "markdown",
   "metadata": {},
   "source": [
    "The CSV writer object will write the list to a CSV file in headerRemoved using csvFilename (which we also used in the CSV reader). This will overwrite the original file.\n",
    "\n",
    "Once we create the writer object, we loop over the sublists stored in csvRows and write each sublist to the file.\n",
    "\n",
    "After the code is executed, the outer for loop ➊ will loop to the next filename from os.listdir('.'). When that loop is finished, the program will be complete.\n",
    "\n",
    "To test your program, download removeCsvHeader.zip from https://nostarch.com/automatestuff2/ and unzip it to a folder. Run the removeCsvHeader.py program in that folder. The output will look like this:"
   ]
  }
 ],
 "metadata": {
  "kernelspec": {
   "display_name": "Python 3",
   "language": "python",
   "name": "python3"
  },
  "language_info": {
   "codemirror_mode": {
    "name": "ipython",
    "version": 3
   },
   "file_extension": ".py",
   "mimetype": "text/x-python",
   "name": "python",
   "nbconvert_exporter": "python",
   "pygments_lexer": "ipython3",
   "version": "3.13.1"
  }
 },
 "nbformat": 4,
 "nbformat_minor": 2
}
