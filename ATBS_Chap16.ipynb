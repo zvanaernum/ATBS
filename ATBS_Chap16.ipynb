{
 "cells": [
  {
   "cell_type": "markdown",
   "metadata": {},
   "source": [
    "# Chapter 16: Working with CSV files and JSON data\n",
    "In Chapter 15, you learned how to extract text from PDF and Word documents. These files were in a binary format, which required special Python modules to access their data. CSV and JSON files, on the other hand, are just plaintext files. You can view them in a text editor, such as Mu. But Python also comes with the special csv and json modules, each providing functions to help you work with these file formats.\n",
    "\n",
    "CSV stands for “comma-separated values,” and CSV files are simplified spreadsheets stored as plaintext files. Python’s csv module makes it easy to parse CSV files.\n",
    "\n",
    "JSON (pronounced “JAY-sawn” or “Jason”—it doesn’t matter how because either way people will say you’re pronouncing it wrong) is a format that stores information as JavaScript source code in plaintext files. (JSON is short for JavaScript Object Notation.) You don’t need to know the JavaScript programming language to use JSON files, but the JSON format is useful to know because it’s used in many web applications."
   ]
  },
  {
   "cell_type": "markdown",
   "metadata": {},
   "source": [
    "## The csv Module\n",
    "\n",
    "Each line in a CSV file represents a row in the spreadsheet, and commas separate the cells in the row. For example, the spreadsheet example.xlsx from https://nostarch.com/automatestuff2/ would look like this in a CSV file:\n",
    "\n",
    "I will use this file for this chapter’s interactive shell examples. You can download example.csv from https://nostarch.com/automatestuff2/ or enter the text into a text editor and save it as example.csv.\n",
    "\n",
    "CSV files are simple, lacking many of the features of an Excel spreadsheet. For example, CSV files:\n",
    "\n",
    "    Don’t have types for their values—everything is a string\n",
    "    Don’t have settings for font size or color\n",
    "    Don’t have multiple worksheets\n",
    "    Can’t specify cell widths and heights\n",
    "    Can’t have merged cells\n",
    "    Can’t have images or charts embedded in them\n",
    "\n",
    "The advantage of CSV files is simplicity. CSV files are widely supported by many types of programs, can be viewed in text editors (including Mu), and are a straightforward way to represent spreadsheet data. The CSV format is exactly as advertised: it’s just a text file of comma-separated values.\n",
    "\n",
    "Since CSV files are just text files, you might be tempted to read them in as a string and then process that string using the techniques you learned in Chapter 9. For example, since each cell in a CSV file is separated by a comma, maybe you could just call split(',') on each line of text to get the comma-separated values as a list of strings. But not every comma in a CSV file represents the boundary between two cells. CSV files also have their own set of escape characters to allow commas and other characters to be included as part of the values. The split() method doesn’t handle these escape characters. Because of these potential pitfalls, you should always use the csv module for reading and writing CSV files."
   ]
  },
  {
   "cell_type": "markdown",
   "metadata": {},
   "source": [
    "### reader Objects\n",
    "\n",
    "To read data from a CSV file with the csv module, you need to create a reader object. A reader object lets you iterate over lines in the CSV file. Enter the following into the interactive shell, with example.csv in the current working directory:"
   ]
  },
  {
   "cell_type": "code",
   "execution_count": null,
   "metadata": {},
   "outputs": [
    {
     "name": "stdout",
     "output_type": "stream",
     "text": [
      "[['4/5/2014 13:34', 'Apples', '73'], ['4/5/2014 3:41', 'Cherries', '85'], ['4/6/2014 12:46', 'Pears', '14'], ['4/8/2014 8:59', 'Oranges', '52'], ['4/10/2014 2:07', 'Apples', '152'], ['4/10/2014 18:10', 'Bananas', '23'], ['4/10/2014 2:40', 'Strawberries', '98']]\n"
     ]
    }
   ],
   "source": [
    "import os, csv\n",
    "\n",
    "loadPath = os.path.join('automate_online-materials', 'example.csv')\n",
    "\n",
    "exampleFile = open(loadPath) # open the csv file\n",
    "exampleReader = csv.reader(exampleFile) # pass the file to csv.reader which will return a reader object\n",
    "exampleData = list(exampleReader) # convert the values to plain text using the list function\n",
    "print(exampleData) # returns a nested list with each row as inner lists "
   ]
  },
  {
   "cell_type": "markdown",
   "metadata": {},
   "source": [
    "The csv module comes with Python, so we can import it ➊ without having to install it first.\n",
    "\n",
    "To read a CSV file with the csv module, first open it using the open() function ➋, just as you would any other text file. But instead of calling the read() or readlines() method on the File object that open() returns, pass it to the csv.reader() function ➌. This will return a reader object for you to use. Note that you don’t pass a filename string directly to the csv.reader() function.\n",
    "\n",
    "The most direct way to access the values in the reader object is to convert it to a plain Python list by passing it to list() ➍. Using list() on this reader object returns a list of lists, which you can store in a variable like exampleData. Entering exampleData in the shell displays the list of lists ➎.\n",
    "\n",
    "Now that you have the CSV file as a list of lists, you can access the value at a particular row and column with the expression exampleData[row][col], where row is the index of one of the lists in exampleData, and col is the index of the item you want from that list. Enter the following into the interactive shell:"
   ]
  },
  {
   "cell_type": "code",
   "execution_count": 4,
   "metadata": {},
   "outputs": [
    {
     "name": "stdout",
     "output_type": "stream",
     "text": [
      "4/5/2014 13:34\n",
      "Apples\n",
      "73\n",
      "Cherries\n",
      "Strawberries\n"
     ]
    }
   ],
   "source": [
    "# access the data of a particular row and column by calling data[row][col]\n",
    "print(exampleData[0][0])\n",
    "print(exampleData[0][1]) # first row, second column\n",
    "print(exampleData[0][2]) # first row third column\n",
    "print(exampleData[1][1])\n",
    "print(exampleData[6][1])"
   ]
  },
  {
   "cell_type": "markdown",
   "metadata": {},
   "source": [
    "As you can see from the output, exampleData[0][0] goes into the first list and gives us the first string, exampleData[0][2] goes into the first list and gives us the third string, and so on."
   ]
  },
  {
   "cell_type": "markdown",
   "metadata": {},
   "source": [
    "### Reading Data from reader Objects in a for Loop\n",
    "\n",
    "For large CSV files, you’ll want to use the reader object in a for loop. This avoids loading the entire file into memory at once. For example, enter the following into the interactive shell:"
   ]
  },
  {
   "cell_type": "code",
   "execution_count": 6,
   "metadata": {},
   "outputs": [
    {
     "name": "stdout",
     "output_type": "stream",
     "text": [
      "Row # 1 ['4/5/2014 13:34', 'Apples', '73']\n",
      "Row # 2 ['4/5/2014 3:41', 'Cherries', '85']\n",
      "Row # 3 ['4/6/2014 12:46', 'Pears', '14']\n",
      "Row # 4 ['4/8/2014 8:59', 'Oranges', '52']\n",
      "Row # 5 ['4/10/2014 2:07', 'Apples', '152']\n",
      "Row # 6 ['4/10/2014 18:10', 'Bananas', '23']\n",
      "Row # 7 ['4/10/2014 2:40', 'Strawberries', '98']\n"
     ]
    }
   ],
   "source": [
    "import os, csv\n",
    "\n",
    "loadPath = os.path.join('automate_online-materials', 'example.csv')\n",
    "\n",
    "exampleFile = open(loadPath)\n",
    "exampleReader = csv.reader(exampleFile)\n",
    "\n",
    "\n",
    "# The reader object's line_num variable contains the number of the current line\n",
    "for row in exampleReader:\n",
    "    print('Row # ' + str(exampleReader.line_num) + ' ' + str(row))"
   ]
  },
  {
   "cell_type": "markdown",
   "metadata": {},
   "source": [
    "After you import the csv module and make a reader object from the CSV file, you can loop through the rows in the reader object. Each row is a list of values, with each value representing a cell.\n",
    "\n",
    "The print() function call prints the number of the current row and the contents of the row. To get the row number, use the reader object’s line_num variable, which contains the number of the current line.\n",
    "\n",
    "The reader object can be looped over only once. To reread the CSV file, you must call csv.reader to create a reader object."
   ]
  },
  {
   "cell_type": "markdown",
   "metadata": {},
   "source": [
    "writer Objects\n",
    "\n",
    "A writer object lets you write data to a CSV file. To create a writer object, you use the csv.writer() function. Enter the following into the interactive shell:"
   ]
  },
  {
   "cell_type": "code",
   "execution_count": 7,
   "metadata": {},
   "outputs": [
    {
     "data": {
      "text/plain": [
       "21"
      ]
     },
     "execution_count": 7,
     "metadata": {},
     "output_type": "execute_result"
    }
   ],
   "source": [
    "import os, csv\n",
    "\n",
    "savePath = os.path.join('Files', 'output.csv')\n",
    "\n",
    "outputFile = open(savePath, 'w', newline='')\n",
    "outputWriter = csv.writer(outputFile)\n",
    "outputWriter.writerow(['spam', 'eggs', 'bacon', 'ham'])"
   ]
  },
  {
   "cell_type": "code",
   "execution_count": 8,
   "metadata": {},
   "outputs": [
    {
     "data": {
      "text/plain": [
       "32"
      ]
     },
     "execution_count": 8,
     "metadata": {},
     "output_type": "execute_result"
    }
   ],
   "source": [
    "# each write row adds a new row and returns the number of characters writter\n",
    "outputWriter.writerow(['Hello, world!', 'eggs', 'bacon', 'ham']) "
   ]
  },
  {
   "cell_type": "code",
   "execution_count": 9,
   "metadata": {},
   "outputs": [
    {
     "data": {
      "text/plain": [
       "16"
      ]
     },
     "execution_count": 9,
     "metadata": {},
     "output_type": "execute_result"
    }
   ],
   "source": [
    "outputWriter.writerow([1, 2, 3.141592, 4])"
   ]
  },
  {
   "cell_type": "code",
   "execution_count": 10,
   "metadata": {},
   "outputs": [],
   "source": [
    "outputFile.close()"
   ]
  },
  {
   "cell_type": "markdown",
   "metadata": {},
   "source": [
    "First, call open() and pass it 'w' to open a file in write mode ➊. This will create the object you can then pass to csv.writer() ➋ to create a writer object.\n",
    "\n",
    "On Windows, you’ll also need to pass a blank string for the open() function’s newline keyword argument. For technical reasons beyond the scope of this book, if you forget to set the newline argument, the rows in output.csv will be double-spaced, as shown in Figure 16-1."
   ]
  },
  {
   "cell_type": "markdown",
   "metadata": {},
   "source": [
    "The writerow() method for writer objects takes a list argument. Each value in the list is placed in its own cell in the output CSV file. The return value of writerow() is the number of characters written to the file for that row (including newline characters).\n",
    "\n",
    "Notice how the writer object automatically escapes the comma in the value 'Hello, world!' with double quotes in the CSV file. The csv module saves you from having to handle these special cases yourself."
   ]
  }
 ],
 "metadata": {
  "kernelspec": {
   "display_name": "Python 3",
   "language": "python",
   "name": "python3"
  },
  "language_info": {
   "codemirror_mode": {
    "name": "ipython",
    "version": 3
   },
   "file_extension": ".py",
   "mimetype": "text/x-python",
   "name": "python",
   "nbconvert_exporter": "python",
   "pygments_lexer": "ipython3",
   "version": "3.13.1"
  }
 },
 "nbformat": 4,
 "nbformat_minor": 2
}
