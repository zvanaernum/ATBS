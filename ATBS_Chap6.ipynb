{
 "cells": [
  {
   "cell_type": "markdown",
   "metadata": {},
   "source": [
    "# Chapter 6: Manipulating Strings\n",
    "Text is one of the most common forms of data your programs will handle. You already know how to concatenate two string values together with the + operator, but you can do much more than that. You can extract partial strings from string values, add or remove spacing, convert letters to lowercase or uppercase, and check that strings are formatted correctly. You can even write Python code to access the clipboard for copying and pasting text.\n",
    "\n",
    "In this chapter, you’ll learn all this and more. Then you’ll work through two different programming projects: a simple clipboard that stores multiple strings of text and a program to automate the boring chore of formatting pieces of text."
   ]
  },
  {
   "cell_type": "markdown",
   "metadata": {},
   "source": [
    "## Working with Strings\n",
    "\n",
    "Let’s look at some of the ways Python lets you write, print, and access strings in your code."
   ]
  },
  {
   "cell_type": "markdown",
   "metadata": {},
   "source": [
    "### String Literals\n",
    "\n",
    "Typing string values in Python code is fairly straightforward: they begin and end with a single quote. But then how can you use a quote inside a string? Typing 'That is Alice's cat.' won’t work, because Python thinks the string ends after Alice, and the rest (s cat.') is invalid Python code. Fortunately, there are multiple ways to type strings."
   ]
  },
  {
   "cell_type": "markdown",
   "metadata": {},
   "source": [
    "### Double Quotes\n",
    "\n",
    "Strings can begin and end with double quotes, just as they do with single quotes. One benefit of using double quotes is that the string can have a single quote character in it."
   ]
  },
  {
   "cell_type": "code",
   "execution_count": 3,
   "metadata": {},
   "outputs": [
    {
     "name": "stdout",
     "output_type": "stream",
     "text": [
      "That's Alice's cat\n"
     ]
    }
   ],
   "source": [
    "spam = \"That's Alice's cat\"\n",
    "print(spam)"
   ]
  },
  {
   "cell_type": "markdown",
   "metadata": {},
   "source": [
    "Since the string begins with a double quote, Python knows that the single quote is part of the string and not marking the end of the string. However, if you need to use both single quotes and double quotes in the string, you’ll need to use escape characters."
   ]
  },
  {
   "cell_type": "markdown",
   "metadata": {},
   "source": [
    "### Escape Characters\n",
    "\n",
    "An escape character lets you use characters that are otherwise impossible to put into a string. An escape character consists of a backslash (\\) followed by the character you want to add to the string. (Despite consisting of two characters, it is commonly referred to as a singular escape character.) For example, the escape character for a single quote is \\'. You can use this inside a string that begins and ends with single quotes."
   ]
  },
  {
   "cell_type": "code",
   "execution_count": 4,
   "metadata": {},
   "outputs": [
    {
     "name": "stdout",
     "output_type": "stream",
     "text": [
      "Say hi to Bob's mother\n"
     ]
    }
   ],
   "source": [
    "spam = 'Say hi to Bob\\'s mother'\n",
    "print(spam)"
   ]
  },
  {
   "cell_type": "markdown",
   "metadata": {},
   "source": [
    "Python knows that since the single quote in Bob\\'s has a backslash, it is not a single quote meant to end the string value. The escape characters \\' and \\\" let you put single quotes and double quotes inside your strings, respectively."
   ]
  },
  {
   "cell_type": "code",
   "execution_count": null,
   "metadata": {},
   "outputs": [],
   "source": [
    "# \\' Single quote\n",
    "# \\\" Double Quote\n",
    "# \\t Tab\n",
    "# \\n new line\n",
    "# \\\\ Backslash"
   ]
  },
  {
   "cell_type": "code",
   "execution_count": 5,
   "metadata": {},
   "outputs": [
    {
     "name": "stdout",
     "output_type": "stream",
     "text": [
      "Hello there!\n",
      "How are you?\n",
      "I'm doing fine.\n"
     ]
    }
   ],
   "source": [
    "print(\"Hello there!\\nHow are you?\\nI\\'m doing fine.\")"
   ]
  },
  {
   "cell_type": "markdown",
   "metadata": {},
   "source": [
    "### Raw Strings\n",
    "You can place an r before the beginning quotation mark of a string to make it a raw string. A raw string completely ignores all escape characters and prints any backslash that appears in the string. Because this is a raw string, Python considers the backslash as part of the string and not as the start of an escape character. Raw strings are helpful if you are typing string values that contain many backslashes, such as the strings used for Windows file paths like r'C:\\Users\\Al\\Desktop' or regular expressions described in the next chapter."
   ]
  },
  {
   "cell_type": "code",
   "execution_count": 6,
   "metadata": {},
   "outputs": [
    {
     "name": "stdout",
     "output_type": "stream",
     "text": [
      "That is Carol\\'s cat.\n"
     ]
    }
   ],
   "source": [
    "print(r'That is Carol\\'s cat.')"
   ]
  },
  {
   "cell_type": "markdown",
   "metadata": {},
   "source": [
    "### Multiline Strings with Triple Quotes\n",
    "While you can use the \\n escape character to put a newline into a string, it is often easier to use multiline strings. A multiline string in Python begins and ends with either three single quotes or three double quotes. Any quotes, tabs, or newlines in between the “triple quotes” are considered part of the string. Python’s indentation rules for blocks do not apply to lines inside a multiline string."
   ]
  },
  {
   "cell_type": "code",
   "execution_count": 7,
   "metadata": {},
   "outputs": [
    {
     "name": "stdout",
     "output_type": "stream",
     "text": [
      "Dear Alice,\n",
      "\n",
      "Eve's cat has been arrested for catnapping, cat burglary, and extortion.\n",
      "\n",
      "Sincerely,\n",
      "Bob\n"
     ]
    }
   ],
   "source": [
    "print('''Dear Alice,\n",
    "\n",
    "Eve's cat has been arrested for catnapping, cat burglary, and extortion.\n",
    "\n",
    "Sincerely,\n",
    "Bob''')"
   ]
  },
  {
   "cell_type": "markdown",
   "metadata": {},
   "source": [
    "### Multiline Comments\n",
    "\n",
    "While the hash character (#) marks the beginning of a comment for the rest of the line, a multiline string is often used for comments that span multiple lines. The following is perfectly valid Python code:"
   ]
  },
  {
   "cell_type": "code",
   "execution_count": 8,
   "metadata": {},
   "outputs": [],
   "source": [
    "\"\"\"This is a test Python program.\n",
    "Written by Al Sweigart al@inventwithpython.com\n",
    "\n",
    "This program was designed for Python 3, not Python 2.\n",
    "\"\"\"\n",
    "\n",
    "def spam():\n",
    "    \"\"\"This is a multiline comment to help\n",
    "    explain what the spam() function does.\"\"\"\n",
    "    print('Hello!')"
   ]
  },
  {
   "cell_type": "markdown",
   "metadata": {},
   "source": [
    "### Indexing and Slicing Strings\n",
    "\n",
    "Strings use indexes and slices the same way lists do. You can think of the string 'Hello, world!' as a list and each character in the string as an item with a corresponding index.\n",
    "\n",
    "'   H   e   l   l   o   ,       w   o   r   l    d    !   '\n",
    "    0   1   2   3   4   5   6   7   8   9   10   11   12\n",
    "\n",
    "The space and exclamation point are included in the character count, so 'Hello, world!' is 13 characters long, from H at index 0 to ! at index 12."
   ]
  },
  {
   "cell_type": "code",
   "execution_count": 9,
   "metadata": {},
   "outputs": [
    {
     "name": "stdout",
     "output_type": "stream",
     "text": [
      "H\n",
      "o\n",
      "!\n",
      "Hello\n",
      "Hello\n",
      "world!\n"
     ]
    }
   ],
   "source": [
    "spam = 'Hello, world!'\n",
    "print(spam[0])\n",
    "print(spam[4])\n",
    "print(spam[-1])\n",
    "print(spam[0:5])\n",
    "print(spam[:5])\n",
    "print(spam[7:])"
   ]
  },
  {
   "cell_type": "markdown",
   "metadata": {},
   "source": [
    "Note that slicing a string does not modify the original string. You can capture a slice from one variable in a separate variable."
   ]
  },
  {
   "cell_type": "code",
   "execution_count": 10,
   "metadata": {},
   "outputs": [
    {
     "name": "stdout",
     "output_type": "stream",
     "text": [
      "Hello\n"
     ]
    }
   ],
   "source": [
    "spam = 'Hello, world!'\n",
    "fizz = spam[0:5]\n",
    "print(fizz)"
   ]
  },
  {
   "cell_type": "markdown",
   "metadata": {},
   "source": [
    "### The in and not in Operators with Strings\n",
    "\n",
    "The in and not in operators can be used with strings just like with list values. An expression with two strings joined using in or not in will evaluate to a Boolean True or False. These expressions test whether the first string (the exact string, case-sensitive) can be found within the second string"
   ]
  },
  {
   "cell_type": "code",
   "execution_count": 12,
   "metadata": {},
   "outputs": [
    {
     "name": "stdout",
     "output_type": "stream",
     "text": [
      "True\n",
      "False\n",
      "True\n",
      "False\n"
     ]
    }
   ],
   "source": [
    "print('Hello' in 'Hello, World')\n",
    "print('HELLO' in 'Hello, World')\n",
    "print('' in 'spam')\n",
    "print('cats' not in 'cats and dogs')"
   ]
  },
  {
   "cell_type": "markdown",
   "metadata": {},
   "source": [
    "### Putting Strings Inside Other Strings (f-strings and interpolation)\n",
    "\n",
    "Putting strings inside other strings is a common operation in programming. So far, we’ve been using the + operator and string concatenation to do this:"
   ]
  },
  {
   "cell_type": "code",
   "execution_count": 13,
   "metadata": {},
   "outputs": [
    {
     "name": "stdout",
     "output_type": "stream",
     "text": [
      "Hello, my name is Al. I am 4000 years old.\n"
     ]
    }
   ],
   "source": [
    "name = 'Al'\n",
    "age = 4000\n",
    "print('Hello, my name is ' + name + '. I am ' + str(age) + ' years old.')"
   ]
  },
  {
   "cell_type": "markdown",
   "metadata": {},
   "source": [
    "However, this requires a lot of tedious typing. A simpler approach is to use string interpolation, in which the %s operator inside the string acts as a marker to be replaced by values following the string. One benefit of string interpolation is that str() doesn’t have to be called to convert values to strings."
   ]
  },
  {
   "cell_type": "code",
   "execution_count": 14,
   "metadata": {},
   "outputs": [
    {
     "name": "stdout",
     "output_type": "stream",
     "text": [
      "My name is Al. I am 4000 years old.\n"
     ]
    }
   ],
   "source": [
    "name = 'Al'\n",
    "age = 4000\n",
    "print('My name is %s. I am %s years old.' % (name, age))# note doesnt require str() for age"
   ]
  },
  {
   "cell_type": "markdown",
   "metadata": {},
   "source": [
    "Python 3.6 introduced f-strings, which is similar to string interpolation except that braces are used instead of %s, with the expressions placed directly inside the braces. Like raw strings, f-strings have an f prefix before the starting quotation mark."
   ]
  },
  {
   "cell_type": "code",
   "execution_count": 16,
   "metadata": {},
   "outputs": [
    {
     "name": "stdout",
     "output_type": "stream",
     "text": [
      "My name is Al. Next year I will be 4001.\n"
     ]
    }
   ],
   "source": [
    "name = 'Al'\n",
    "age = 4000\n",
    "print(f'My name is {name}. Next year I will be {age + 1}.') # don't forget the f prefix in front"
   ]
  },
  {
   "cell_type": "markdown",
   "metadata": {},
   "source": [
    "## Useful String Methods\n",
    "Several string methods analyze strings or create transformed string values. This section describes the methods you’ll be using most often."
   ]
  },
  {
   "cell_type": "markdown",
   "metadata": {},
   "source": [
    "### The upper(), lower(), isupper(), and islower() Methods\n",
    "\n",
    "The upper() and lower() string methods return a new string where all the letters in the original string have been converted to uppercase or lowercase, respectively. Nonletter characters in the string remain unchanged."
   ]
  },
  {
   "cell_type": "code",
   "execution_count": 20,
   "metadata": {},
   "outputs": [
    {
     "name": "stdout",
     "output_type": "stream",
     "text": [
      "HELLO, WORLD!\n",
      "hello, world!\n"
     ]
    }
   ],
   "source": [
    "spam = 'Hello, world!'\n",
    "spam = spam.upper()\n",
    "print(spam)\n",
    "\n",
    "spam = spam.lower()\n",
    "print(spam)"
   ]
  },
  {
   "cell_type": "markdown",
   "metadata": {},
   "source": [
    "Note that these methods do not change the string itself but return new string values. If you want to change the original string, you have to call upper() or lower() on the string and then assign the new string to the variable where the original was stored. This is why you must use spam = spam.upper() to change the string in spam instead of simply spam.upper(). (This is just like if a variable eggs contains the value 10. Writing eggs + 3 does not change the value of eggs, but eggs = eggs + 3 does.)\n",
    "\n",
    "The upper() and lower() methods are helpful if you need to make a case-insensitive comparison. For example, the strings 'great' and 'GREat' are not equal to each other. But in the following small program, it does not matter whether the user types Great, GREAT, or grEAT, because the string is first converted to lowercase.\n",
    "\n",
    "When you run this program, the question is displayed, and entering a variation on great, such as GREat, will still give the output I feel great too. Adding code to your program to handle variations or mistakes in user input, such as inconsistent capitalization, will make your programs easier to use and less likely to fail."
   ]
  },
  {
   "cell_type": "code",
   "execution_count": 21,
   "metadata": {},
   "outputs": [
    {
     "name": "stdout",
     "output_type": "stream",
     "text": [
      "How are you?\n",
      "I feel great too.\n"
     ]
    }
   ],
   "source": [
    "print('How are you?')\n",
    "feeling = input()\n",
    "if feeling.lower() == 'great':\n",
    "    print('I feel great too.')\n",
    "else:\n",
    "    print('I hope the rest of your day is good.')"
   ]
  },
  {
   "cell_type": "markdown",
   "metadata": {},
   "source": [
    "The isupper() and islower() methods will return a Boolean True value if the string has at least one letter and all the letters are uppercase or lowercase, respectively. Otherwise, the method returns False."
   ]
  },
  {
   "cell_type": "code",
   "execution_count": 27,
   "metadata": {},
   "outputs": [
    {
     "name": "stdout",
     "output_type": "stream",
     "text": [
      "False\n",
      "False\n",
      "True\n",
      "True\n",
      "False\n"
     ]
    }
   ],
   "source": [
    "spam = 'Hello world!'\n",
    "print(spam.islower()) # Will return False\n",
    "print(spam.isupper()) # Will return False\n",
    "\n",
    "print('HELLO'.isupper()) # Will return True\n",
    "print('abc12345'.islower()) # Will return True (all letters are lowercase)\n",
    "print('12345'.isupper()) # Will return False (no lowercase letters present)\n"
   ]
  },
  {
   "cell_type": "markdown",
   "metadata": {},
   "source": [
    "Since the upper() and lower() string methods themselves return strings, you can call string methods on those returned string values as well. Expressions that do this will look like a chain of method calls."
   ]
  },
  {
   "cell_type": "code",
   "execution_count": 31,
   "metadata": {},
   "outputs": [
    {
     "name": "stdout",
     "output_type": "stream",
     "text": [
      "HELLO\n",
      "hello\n",
      "HELLO\n",
      "True\n"
     ]
    }
   ],
   "source": [
    "print('Hello'.upper())\n",
    "print('Hello'.upper().lower())\n",
    "print('Hello'.upper().lower().upper())\n",
    "print('HELLO'.lower().islower())"
   ]
  },
  {
   "cell_type": "markdown",
   "metadata": {},
   "source": [
    "### The isX() methods\n",
    "Along with islower() and isupper(), there are several other string methods that have names beginning with the word is. These methods return a Boolean value that describes the nature of the string. Here are some common isX string methods:\n",
    "\n",
    "isalpha() Returns True if the string consists only of letters and isn’t blank\n",
    "\n",
    "isalnum() Returns True if the string consists only of letters and numbers and is not blank\n",
    "\n",
    "isdecimal() Returns True if the string consists only of numeric characters and is not blank\n",
    "\n",
    "isspace() Returns True if the string consists only of spaces, tabs, and newlines and is not blank\n",
    "\n",
    "istitle() Returns True if the string consists only of words that begin with an uppercase letter followed by only lowercase letters\n"
   ]
  },
  {
   "cell_type": "code",
   "execution_count": 33,
   "metadata": {},
   "outputs": [
    {
     "name": "stdout",
     "output_type": "stream",
     "text": [
      "True\n",
      "False\n",
      "True\n",
      "True\n",
      "True\n",
      "True\n",
      "True\n",
      "True\n",
      "False\n",
      "False\n"
     ]
    }
   ],
   "source": [
    "print('hello'.isalpha()) # True because consists of only letters and isn't blank\n",
    "\n",
    "print('hello123'.isalpha()) # False because is not only letters\n",
    "\n",
    "print('hello123'.isalnum()) # True\n",
    "\n",
    "print('hello'.isalnum()) # True because only consists of letters and numbers\n",
    "\n",
    "print('123'.isdecimal()) # True\n",
    "\n",
    "print('    '.isspace()) # True\n",
    "\n",
    "print('This Is Title Case'.istitle()) # True\n",
    "\n",
    "print('This Is Title Case 123'.istitle()) # True\n",
    "\n",
    "print('This Is not Title Case'.istitle()) # False\n",
    "\n",
    "print('This Is NOT Title Case Either'.istitle()) # False"
   ]
  },
  {
   "cell_type": "markdown",
   "metadata": {},
   "source": [
    "### Validating user input\n",
    "The isX() string methods are helpful when you need to validate user input. For example, the following program repeatedly asks users for their age and a password until they provide valid input."
   ]
  },
  {
   "cell_type": "code",
   "execution_count": 34,
   "metadata": {},
   "outputs": [
    {
     "name": "stdout",
     "output_type": "stream",
     "text": [
      "Enter your age:\n",
      "Please enter a number for your age.\n",
      "Enter your age:\n",
      "Select a new password (letters and numbers only):\n",
      "Passwords can only have letters and numbers.\n",
      "Select a new password (letters and numbers only):\n"
     ]
    }
   ],
   "source": [
    "while True:\n",
    "    print('Enter your age:')\n",
    "    age = input()\n",
    "    if age.isdecimal(): # if returned as False, the loop will continue again\n",
    "        break\n",
    "    print('Please enter a number for your age.')\n",
    "\n",
    "while True:\n",
    "    print('Select a new password (letters and numbers only):')\n",
    "    password = input()\n",
    "    if password.isalnum(): # if returned as False, the loop will continue again\n",
    "        break\n",
    "    print('Passwords can only have letters and numbers.')"
   ]
  },
  {
   "cell_type": "markdown",
   "metadata": {},
   "source": [
    "### The startswith() and endwith() Methods\n",
    "The startswith() and endswith() methods return True if the string value they are called on begins or ends (respectively) with the string passed to the method; otherwise, they return False.\n",
    "\n",
    "These methods are useful alternatives to the == equals operator if you need to check only whether the first or last part of the string, rather than the whole thing, is equal to another string."
   ]
  },
  {
   "cell_type": "code",
   "execution_count": 36,
   "metadata": {},
   "outputs": [
    {
     "name": "stdout",
     "output_type": "stream",
     "text": [
      "True\n",
      "True\n",
      "False\n",
      "False\n",
      "True\n",
      "True\n"
     ]
    }
   ],
   "source": [
    "print('Hello, world!'.startswith('Hello')) # True\n",
    "\n",
    "print('Hello, world!'.endswith('world!')) # True\n",
    "\n",
    "print('abc123'.startswith('abcdef')) # False\n",
    "\n",
    "print('abc123'.endswith('12')) # False\n",
    "\n",
    "print('Hello, world!'.startswith('Hello, world!')) # True\n",
    "\n",
    "print('Hello, world!'.endswith('Hello, world!')) # True"
   ]
  },
  {
   "cell_type": "markdown",
   "metadata": {},
   "source": [
    "### The join() and split() Methods\n",
    "\n",
    "The join() method is useful when you have a list of strings that need to be joined together into a single string value. The join() method is called on a string, gets passed a list of strings, and returns a string. The returned string is the concatenation of each string in the passed-in list. "
   ]
  },
  {
   "cell_type": "code",
   "execution_count": 37,
   "metadata": {},
   "outputs": [
    {
     "name": "stdout",
     "output_type": "stream",
     "text": [
      "cats, rats, bats\n",
      "My name is Simon\n",
      "MyABCnameABCisABCSimon\n"
     ]
    }
   ],
   "source": [
    "print(', '.join(['cats', 'rats', 'bats'])) # join with a comma and space between strings.\n",
    "\n",
    "print(' '.join(['My', 'name', 'is', 'Simon'])) # join with a space\n",
    "\n",
    "print('ABC'.join(['My', 'name', 'is', 'Simon'])) "
   ]
  },
  {
   "cell_type": "markdown",
   "metadata": {},
   "source": [
    "Notice that the string join() calls on is inserted between each string of the list argument. For example, when join(['cats', 'rats', 'bats']) is called on the ', ' string, the returned string is 'cats, rats, bats'.\n",
    "\n",
    "Remember that join() is called on a string value and is passed a list value. (It’s easy to accidentally call it the other way around.) The split() method does the opposite: It’s called on a string value and returns a list of strings."
   ]
  },
  {
   "cell_type": "code",
   "execution_count": 38,
   "metadata": {},
   "outputs": [
    {
     "name": "stdout",
     "output_type": "stream",
     "text": [
      "['My', 'name', 'is', 'Simon']\n"
     ]
    }
   ],
   "source": [
    "print('My name is Simon'.split()) # By default split by whitespace characters."
   ]
  },
  {
   "cell_type": "markdown",
   "metadata": {},
   "source": [
    "By default, the string 'My name is Simon' is split wherever whitespace characters such as the space, tab, or newline characters are found. These whitespace characters are not included in the strings in the returned list. You can pass a delimiter string to the split() method to specify a different string to split upon."
   ]
  },
  {
   "cell_type": "code",
   "execution_count": 39,
   "metadata": {},
   "outputs": [
    {
     "name": "stdout",
     "output_type": "stream",
     "text": [
      "['My', 'name', 'is', 'Simon']\n",
      "['My na', 'e is Si', 'on']\n"
     ]
    }
   ],
   "source": [
    "print('MyABCnameABCisABCSimon'.split('ABC')) # split by ABC\n",
    "\n",
    "print('My name is Simon'.split('m')) # split by M"
   ]
  },
  {
   "cell_type": "markdown",
   "metadata": {},
   "source": [
    "A common use of split() is to split a multiline string along the newline characters."
   ]
  },
  {
   "cell_type": "code",
   "execution_count": 40,
   "metadata": {},
   "outputs": [
    {
     "name": "stdout",
     "output_type": "stream",
     "text": [
      "['Dear Alice,', 'How have you been? I am fine.', 'There is a container in the fridge', 'that is labeled \"Milk Experiment.\"', '', 'Please do not drink it.', 'Sincerely,', 'Bob']\n"
     ]
    }
   ],
   "source": [
    "spam = '''Dear Alice,\n",
    "How have you been? I am fine.\n",
    "There is a container in the fridge\n",
    "that is labeled \"Milk Experiment.\"\n",
    "\n",
    "Please do not drink it.\n",
    "Sincerely,\n",
    "Bob'''\n",
    "print(spam.split('\\n')) # split by new line"
   ]
  },
  {
   "cell_type": "markdown",
   "metadata": {},
   "source": [
    "### Splitting Strings with the partition() Method\n",
    "\n",
    "The partition() string method can split a string into the text before and after a separator string. This method searches the string it is called on for the separator string it is passed, and returns a tuple of three substrings for the “before,” “separator,” and “after” substrings."
   ]
  },
  {
   "cell_type": "code",
   "execution_count": 41,
   "metadata": {},
   "outputs": [
    {
     "name": "stdout",
     "output_type": "stream",
     "text": [
      "('Hello, ', 'w', 'orld!')\n",
      "('Hello, ', 'world', '!')\n"
     ]
    }
   ],
   "source": [
    "print('Hello, world!'.partition('w'))\n",
    "\n",
    "print('Hello, world!'.partition('world'))"
   ]
  },
  {
   "cell_type": "markdown",
   "metadata": {},
   "source": [
    "If the separator string you pass to partition() occurs multiple times in the string that partition() calls on, the method splits the string only on the first occurrence:"
   ]
  },
  {
   "cell_type": "code",
   "execution_count": 42,
   "metadata": {},
   "outputs": [
    {
     "name": "stdout",
     "output_type": "stream",
     "text": [
      "('Hell', 'o', ', world!')\n"
     ]
    }
   ],
   "source": [
    "print('Hello, world!'.partition('o'))"
   ]
  },
  {
   "cell_type": "markdown",
   "metadata": {},
   "source": [
    "If the separator string can’t be found, the first string returned in the tuple will be the entire string, and the other two strings will be empty:"
   ]
  },
  {
   "cell_type": "code",
   "execution_count": 43,
   "metadata": {},
   "outputs": [
    {
     "name": "stdout",
     "output_type": "stream",
     "text": [
      "('Hello, world!', '', '')\n"
     ]
    }
   ],
   "source": [
    "print('Hello, world!'.partition('XYZ'))"
   ]
  },
  {
   "cell_type": "markdown",
   "metadata": {},
   "source": [
    "You can use the multiple assignment trick to assign the three returned strings to three variables:"
   ]
  },
  {
   "cell_type": "code",
   "execution_count": 44,
   "metadata": {},
   "outputs": [
    {
     "name": "stdout",
     "output_type": "stream",
     "text": [
      "Hello,\n",
      "world!\n"
     ]
    }
   ],
   "source": [
    "before, sep, after = 'Hello, world!'.partition(' ') # use multple assignmen to assign the returned tuple to different variables\n",
    "\n",
    "print(before)\n",
    "\n",
    "print(after)"
   ]
  },
  {
   "cell_type": "markdown",
   "metadata": {},
   "source": [
    "### Justifying Text with the rjust(), ljust(), and center() Methods\n",
    "\n",
    "The rjust() and ljust() string methods return a padded version of the string they are called on, with spaces inserted to justify the text. The first argument to both methods is an integer length for the justified string."
   ]
  },
  {
   "cell_type": "code",
   "execution_count": 45,
   "metadata": {},
   "outputs": [
    {
     "name": "stdout",
     "output_type": "stream",
     "text": [
      "     Hello\n",
      "               Hello\n",
      "        Hello, World\n",
      "Hello     \n"
     ]
    }
   ],
   "source": [
    "print('Hello'.rjust(10))\n",
    "\n",
    "print('Hello'.rjust(20))\n",
    "\n",
    "print('Hello, World'.rjust(20))\n",
    "\n",
    "print('Hello'.ljust(10))"
   ]
  },
  {
   "cell_type": "markdown",
   "metadata": {},
   "source": [
    "'Hello'.rjust(10) says that we want to right-justify 'Hello' in a string of total length 10. 'Hello' is five characters, so five spaces will be added to its left, giving us a string of 10 characters with 'Hello' justified right.\n",
    "\n",
    "An optional second argument to rjust() and ljust() will specify a fill character other than a space character."
   ]
  },
  {
   "cell_type": "code",
   "execution_count": 46,
   "metadata": {},
   "outputs": [
    {
     "name": "stdout",
     "output_type": "stream",
     "text": [
      "***************Hello\n",
      "Hello---------------\n"
     ]
    }
   ],
   "source": [
    "print('Hello'.rjust(20, '*')) # Right just with * fill\n",
    "\n",
    "print('Hello'.ljust(20, '-')) # Left just with - fill"
   ]
  },
  {
   "cell_type": "markdown",
   "metadata": {},
   "source": [
    "The center() string method works like ljust() and rjust() but centers the text rather than justifying it to the left or right. "
   ]
  },
  {
   "cell_type": "code",
   "execution_count": 47,
   "metadata": {},
   "outputs": [
    {
     "name": "stdout",
     "output_type": "stream",
     "text": [
      "       Hello        \n",
      "=======Hello========\n"
     ]
    }
   ],
   "source": [
    "print('Hello'.center(20))\n",
    "\n",
    "print('Hello'.center(20, '='))"
   ]
  },
  {
   "cell_type": "markdown",
   "metadata": {},
   "source": [
    "These methods are especially useful when you need to print tabular data that has correct spacing.\n",
    "\n",
    "In this program, we define a printPicnic() method that will take in a dictionary of information and use center(), ljust(), and rjust() to display that information in a neatly aligned table-like format.\n",
    "\n",
    "The dictionary that we’ll pass to printPicnic() is picnicItems. In picnicItems, we have 4 sandwiches, 12 apples, 4 cups, and 8,000 cookies. We want to organize this information into two columns, with the name of the item on the left and the quantity on the right.\n",
    "\n",
    "To do this, we decide how wide we want the left and right columns to be. Along with our dictionary, we’ll pass these values to printPicnic().\n",
    "\n",
    "The printPicnic() function takes in a dictionary, a leftWidth for the left column of a table, and a rightWidth for the right column. It prints a title, PICNIC ITEMS, centered above the table. Then, it loops through the dictionary, printing each key-value pair on a line with the key justified left and padded by periods, and the value justified right and padded by spaces.\n",
    "\n",
    "After defining printPicnic(), we define the dictionary picnicItems and call printPicnic() twice, passing it different widths for the left and right table columns.\n",
    "\n",
    "When you run this program, the picnic items are displayed twice. The first time the left column is 12 characters wide, and the right column is 5 characters wide. The second time they are 20 and 6 characters wide, respectively."
   ]
  },
  {
   "cell_type": "code",
   "execution_count": 51,
   "metadata": {},
   "outputs": [
    {
     "name": "stdout",
     "output_type": "stream",
     "text": [
      "---PICNIC ITEMS--\n",
      "sandwiches..    4\n",
      "apples......   12\n",
      "cups........    4\n",
      "cookies..... 8000\n",
      "---------PICNIC ITEMS---------\n",
      "sandwiches..........         4\n",
      "apples..............        12\n",
      "cups................         4\n",
      "cookies.............      8000\n"
     ]
    }
   ],
   "source": [
    "def printPicnic(itemsDict, leftWidth, rightWidth):\n",
    "    print('PICNIC ITEMS'.center(leftWidth + rightWidth, '-')) # First print the centered title total width of left + right. Fill extra space with a hyphen\n",
    "    for k, v in itemsDict.items(): \n",
    "        print(k.ljust(leftWidth, '.') + str(v).rjust(rightWidth)) # for each item in the list print the key with left width and . fill and value with right width (no fill)\n",
    "\n",
    "picnicItems = {'sandwiches': 4, 'apples': 12, 'cups': 4, 'cookies': 8000}\n",
    "printPicnic(picnicItems, 12, 5)\n",
    "printPicnic(picnicItems, 20, 6)"
   ]
  },
  {
   "cell_type": "markdown",
   "metadata": {},
   "source": [
    "### Removing Whitespace with the strip(), rstrip(), and lstrip() Methods\n",
    "\n",
    "Sometimes you may want to strip off whitespace characters (space, tab, and newline) from the left side, right side, or both sides of a string. The strip() string method will return a new string without any whitespace characters at the beginning or end. The lstrip() and rstrip() methods will remove whitespace characters from the left and right ends, respectively."
   ]
  },
  {
   "cell_type": "code",
   "execution_count": 53,
   "metadata": {},
   "outputs": [
    {
     "name": "stdout",
     "output_type": "stream",
     "text": [
      "    Hello, World     \n",
      "Hello, World     \n",
      "    Hello, World\n"
     ]
    }
   ],
   "source": [
    "spam = '    Hello, World     '\n",
    "print(spam)\n",
    "\n",
    "print(spam.lstrip())\n",
    "\n",
    "print(spam.rstrip())\n"
   ]
  },
  {
   "cell_type": "markdown",
   "metadata": {},
   "source": [
    "Optionally, a string argument will specify which characters on the ends should be stripped."
   ]
  },
  {
   "cell_type": "code",
   "execution_count": 56,
   "metadata": {},
   "outputs": [
    {
     "name": "stdout",
     "output_type": "stream",
     "text": [
      "BaconSpamEggs\n"
     ]
    }
   ],
   "source": [
    "spam = 'SpamSpamBaconSpamEggsSpamSpam'\n",
    "print(spam.strip('ampS'))"
   ]
  },
  {
   "cell_type": "markdown",
   "metadata": {},
   "source": [
    "Passing strip() the argument 'ampS' will tell it to strip occurrences of a, m, p, and capital S from the ends of the string stored in spam. The order of the characters in the string passed to strip() does not matter: strip('ampS') will do the same thing as strip('mapS') or strip('Spam')."
   ]
  },
  {
   "cell_type": "markdown",
   "metadata": {},
   "source": [
    "### Numeric Values of Characters with the ord() and chr() Functions\n",
    "\n",
    "Computers store information as bytes—strings of binary numbers, which means we need to be able to convert text to numbers. Because of this, every text character has a corresponding numeric value called a Unicode code point. For example, the numeric code point is 65 for 'A', 52 for '4', and 33 for '!'. You can use the ord() function to get the code point of a one-character string, and the chr() function to get the one-character string of an integer code point."
   ]
  },
  {
   "cell_type": "code",
   "execution_count": 58,
   "metadata": {},
   "outputs": [
    {
     "name": "stdout",
     "output_type": "stream",
     "text": [
      "65\n",
      "52\n",
      "33\n",
      "A\n"
     ]
    }
   ],
   "source": [
    "print(ord('A')) # Numeric Unicode code point for A\n",
    "\n",
    "print(ord('4'))\n",
    "\n",
    "print(ord('!'))\n",
    "\n",
    "print(chr(65)) # use chr to convert from Unidoce number back to character"
   ]
  },
  {
   "cell_type": "markdown",
   "metadata": {},
   "source": [
    "These functions are useful when you need to do an ordering or mathematical operation on characters:"
   ]
  },
  {
   "cell_type": "code",
   "execution_count": 59,
   "metadata": {},
   "outputs": [
    {
     "name": "stdout",
     "output_type": "stream",
     "text": [
      "66\n",
      "True\n",
      "A\n",
      "B\n"
     ]
    }
   ],
   "source": [
    "print(ord('B'))\n",
    "\n",
    "print(ord('A') < ord('B'))\n",
    "\n",
    "print(chr(ord('A')))\n",
    "\n",
    "print(chr(ord('A') + 1))"
   ]
  },
  {
   "cell_type": "markdown",
   "metadata": {},
   "source": [
    "## Copying and Pasting Strings with the Pyperclip Module\n",
    "The pyperclip module has copy() and paste() functions that can send text to and receive text from your computer’s clipboard. Sending the output of your program to the clipboard will make it easy to paste it into an email, word processor, or some other software."
   ]
  },
  {
   "cell_type": "code",
   "execution_count": 66,
   "metadata": {},
   "outputs": [
    {
     "data": {
      "text/plain": [
       "'Of course, if something outside of your program changes the clipboard contents, the paste() function will return it.'"
      ]
     },
     "execution_count": 66,
     "metadata": {},
     "output_type": "execute_result"
    }
   ],
   "source": [
    "# %pip install pyperclip\n",
    "\n",
    "import pyperclip\n",
    "\n",
    "#pyperclip.copy('Hello World!')\n",
    "pyperclip.paste()"
   ]
  },
  {
   "cell_type": "markdown",
   "metadata": {},
   "source": [
    "# Project: Multi-Clipboard Automatic Messages\n",
    "If you’ve responded to a large number of emails with similar phrasing, you’ve probably had to do a lot of repetitive typing. Maybe you keep a text document with these phrases so you can easily copy and paste them using the clipboard. But your clipboard can only store one message at a time, which isn’t very convenient. Let’s make this process a bit easier with a program that stores multiple phrases\n"
   ]
  },
  {
   "cell_type": "markdown",
   "metadata": {},
   "source": [
    "## Step 1: Program Design and Data Structures\n",
    "\n",
    "You want to be able to run this program with a command line argument that is a short key phrase—for instance, agree or busy. The message associated with that key phrase will be copied to the clipboard so that the user can paste it into an email. This way, the user can have long, detailed messages without having to retype them.\n",
    "\n",
    "Since you want to associate each piece of text with its key phrase, you can store these as strings in a dictionary. The dictionary will be the data structure that organizes your key phrases and text. Make your program look like the following:"
   ]
  },
  {
   "cell_type": "code",
   "execution_count": 1,
   "metadata": {},
   "outputs": [],
   "source": [
    "#! python3\n",
    "# mclip.py - A multi-clipboard program.\n",
    "\n",
    "TEXT = {'agree': \"\"\"Yes, I agree. That sounds fine to me.\"\"\",\n",
    "        'busy': \"\"\"Sorry, can we do this later this week or next week?\"\"\",\n",
    "        'upsell': \"\"\"Would you consider making this a monthly donation?\"\"\"}"
   ]
  },
  {
   "cell_type": "markdown",
   "metadata": {},
   "source": [
    "## Step 2: Handle Command Line Arguments\n",
    "\n",
    "The command line arguments will be stored in the variable sys.argv. (See Appendix B for more information on how to use command line arguments in your programs.) The first item in the sys.argv list should always be a string containing the program’s filename ('mclip.py'), and the second item should be the first command line argument. For this program, this argument is the key phrase of the message you want. Since the command line argument is mandatory, you display a usage message to the user if they forget to add it (that is, if the sys.argv list has fewer than two values in it). Make your program look like the following:"
   ]
  },
  {
   "cell_type": "code",
   "execution_count": null,
   "metadata": {},
   "outputs": [],
   "source": [
    "#! python3\n",
    "# mclip.py - A multi-clipboard program.\n",
    "\n",
    "TEXT = {'agree': \"\"\"Yes, I agree. That sounds fine to me.\"\"\",\n",
    "        'busy': \"\"\"Sorry, can we do this later this week or next week?\"\"\",\n",
    "        'upsell': \"\"\"Would you consider making this a monthly donation?\"\"\"}\n",
    "\n",
    "import sys\n",
    "if len(sys.argv) < 2: # Read up more on sys.argv\n",
    "    print('Usage: python mclip.py [keyphrase] - copy phrase text')\n",
    "    sys.exit()\n",
    "\n",
    "keyphrase = sys.argv[1]    # first command line arg is the keyphrase"
   ]
  },
  {
   "cell_type": "markdown",
   "metadata": {},
   "source": [
    "## Step 3: Copy the Right Phrase\n",
    "\n",
    "Now that the key phrase is stored as a string in the variable keyphrase, you need to see whether it exists in the TEXT dictionary as a key. If so, you want to copy the key’s value to the clipboard using pyperclip.copy(). (Since you’re using the pyperclip module, you need to import it.) Note that you don’t actually need the keyphrase variable; you could just use sys.argv[1] everywhere keyphrase is used in this program. But a variable named keyphrase is much more readable than something cryptic like sys.argv[1].\n",
    "\n",
    "Make your program look like the following:"
   ]
  },
  {
   "cell_type": "code",
   "execution_count": 3,
   "metadata": {},
   "outputs": [
    {
     "name": "stdout",
     "output_type": "stream",
     "text": [
      "There is no text for --f=c:\\Users\\Zac\\AppData\\Roaming\\jupyter\\runtime\\kernel-v3b8af3b1b85c7da599cd6d53205af0edd7305c3fa.json\n"
     ]
    }
   ],
   "source": [
    "#! python3\n",
    "# mclip.py - A multi-clipboard program.\n",
    "\n",
    "TEXT = {'agree': \"\"\"Yes, I agree. That sounds fine to me.\"\"\",\n",
    "        'busy': \"\"\"Sorry, can we do this later this week or next week?\"\"\",\n",
    "        'upsell': \"\"\"Would you consider making this a monthly donation?\"\"\"}\n",
    "\n",
    "import sys, pyperclip\n",
    "if len(sys.argv) < 2:\n",
    "    print('Usage: py mclip.py [keyphrase] - copy phrase text')\n",
    "    sys.exit()\n",
    "\n",
    "keyphrase = sys.argv[1]    # first command line arg is the keyphrase\n",
    "\n",
    "if keyphrase in TEXT:\n",
    "    pyperclip.copy(TEXT[keyphrase])\n",
    "    print('Text for ' + keyphrase + ' copied to clipboard.')\n",
    "else:\n",
    "    print('There is no text for ' + keyphrase)"
   ]
  },
  {
   "cell_type": "markdown",
   "metadata": {},
   "source": [
    "This new code looks in the TEXT dictionary for the key phrase. If the key phrase is a key in the dictionary, we get the value corresponding to that key, copy it to the clipboard, and print a message saying that we copied the value. Otherwise, we print a message saying there’s no key phrase with that name.\n",
    "\n",
    "That’s the complete script. Using the instructions in Appendix B for launching command line programs easily, you now have a fast way to copy messages to the clipboard. You will have to modify the TEXT dictionary value in the source whenever you want to update the program with a new message."
   ]
  },
  {
   "cell_type": "markdown",
   "metadata": {},
   "source": [
    "# Project: Adding Bullets to Wiki Markup\n",
    "When editing a Wikipedia article, you can create a bulleted list by putting each list item on its own line and placing a star in front. But say you have a really large list that you want to add bullet points to. You could just type those stars at the beginning of each line, one by one. Or you could automate this task with a short Python script.\n",
    "\n",
    "The bulletPointAdder.py script will get the text from the clipboard, add a star and space to the beginning of each line, and then paste this new text to the clipboard. For example, if I copied the following text (for the Wikipedia article “List of Lists of Lists”) to the clipboard:\n",
    "\n",
    "Lists of animals\n",
    "Lists of aquarium life\n",
    "Lists of biologists by author abbreviation\n",
    "Lists of cultivars\n",
    "\n",
    "and then ran the bulletPointAdder.py program, the clipboard would then contain the following:\n",
    "\n",
    "* Lists of animals\n",
    "* Lists of aquarium life\n",
    "* Lists of biologists by author abbreviation\n",
    "* Lists of cultivars\n",
    "\n",
    "This star-prefixed text is ready to be pasted into a Wikipedia article as a bulleted list."
   ]
  },
  {
   "cell_type": "markdown",
   "metadata": {},
   "source": [
    "## Step 1: Copy and Paste from the Clipboard\n",
    "\n",
    "You want the bulletPointAdder.py program to do the following:\n",
    "\n",
    "    Paste text from the clipboard.\n",
    "    Do something to it.\n",
    "    Copy the new text to the clipboard.\n",
    "\n",
    "That second step is a little tricky, but steps 1 and 3 are pretty straightforward: they just involve the pyperclip.copy() and pyperclip.paste() functions. For now, let’s just write the part of the program that covers steps 1 and 3. Enter the following, saving the program as bulletPointAdder.py. The TODO comment is a reminder that you should complete this part of the program eventually. The next step is to actually implement that piece of the program."
   ]
  },
  {
   "cell_type": "code",
   "execution_count": 2,
   "metadata": {},
   "outputs": [
    {
     "name": "stdout",
     "output_type": "stream",
     "text": [
      "Lists of animals\n",
      "Lists of aquarium life\n",
      "Lists of biologists by author abbreviation\n",
      "Lists of cultivars\n"
     ]
    }
   ],
   "source": [
    "#! python3\n",
    "# bulletPointAdder.py - Adds Wikipedia bullet points to the start\n",
    "# of each line of text on the clipboard.\n",
    "\n",
    "import pyperclip\n",
    "text = pyperclip.paste()\n",
    "\n",
    "# TODO: Separate lines and add stars.\n",
    "\n",
    "pyperclip.copy(text)"
   ]
  },
  {
   "cell_type": "markdown",
   "metadata": {},
   "source": [
    "## Step 2: Separate the Lines of Text and Add the Star\n",
    "\n",
    "The call to pyperclip.paste() returns all the text on the clipboard as one big string. If we used the “List of Lists of Lists” example, the string stored in text would look like this:\n",
    "\n",
    "'Lists of animals\\nLists of aquarium life\\nLists of biologists by author\n",
    "abbreviation\\nLists of cultivars'\n",
    "\n",
    "The \\n newline characters in this string cause it to be displayed with multiple lines when it is printed or pasted from the clipboard. There are many “lines” in this one string value. You want to add a star to the start of each of these lines.\n",
    "\n",
    "You could write code that searches for each \\n newline character in the string and then adds the star just after that. But it would be easier to use the split() method to return a list of strings, one for each line in the original string, and then add the star to the front of each string in the list.\n",
    "\n",
    "Make your program look like the following:"
   ]
  },
  {
   "cell_type": "code",
   "execution_count": 3,
   "metadata": {},
   "outputs": [],
   "source": [
    "#! python3\n",
    "# bulletPointAdder.py - Adds Wikipedia bullet points to the start\n",
    "# of each line of text on the clipboard.\n",
    "\n",
    "import pyperclip\n",
    "text = pyperclip.paste()\n",
    "\n",
    "# Separate lines and add stars.\n",
    "lines = text.split('\\n') # split the string at each new line\n",
    "for i in range(len(lines)):    # loop through all indexes in the \"lines\" list\n",
    "    lines[i] = '* ' + lines[i] # add star to each string in \"lines\" list\n",
    "\n",
    "pyperclip.copy(text)"
   ]
  },
  {
   "cell_type": "markdown",
   "metadata": {},
   "source": [
    "We split the text along its newlines to get a list in which each item is one line of the text. We store the list in lines and then loop through the items in lines. For each line, we add a star and a space to the start of the line. Now each string in lines begins with a star."
   ]
  },
  {
   "cell_type": "markdown",
   "metadata": {},
   "source": [
    "## Step 3: Join the Modified Lines\n",
    "\n",
    "The lines list now contains modified lines that start with stars. But pyperclip.copy() is expecting a single string value, however, not a list of string values. To make this single string value, pass lines into the join() method to get a single string joined from the list’s strings. Make your program look like the following:"
   ]
  },
  {
   "cell_type": "code",
   "execution_count": null,
   "metadata": {},
   "outputs": [],
   "source": [
    "#! python3\n",
    "# bulletPointAdder.py - Adds Wikipedia bullet points to the start\n",
    "# of each line of text on the clipboard.\n",
    "\n",
    "import pyperclip\n",
    "text = pyperclip.paste()\n",
    "\n",
    "# Separate lines and add stars.\n",
    "lines = text.split('\\n') #spit at new line character\n",
    "for i in range(len(lines)):    # loop through all indexes for \"lines\" list\n",
    "    lines[i] = '* ' + lines[i] # add star to each string in \"lines\" list\n",
    "text = '\\n'.join(lines) #re-join into a string at the new line character\n",
    "pyperclip.copy(text)"
   ]
  },
  {
   "cell_type": "markdown",
   "metadata": {},
   "source": [
    "When this program is run, it replaces the text on the clipboard with text that has stars at the start of each line. Now the program is complete, and you can try running it with text copied to the clipboard.\n",
    "\n",
    "Even if you don’t need to automate this specific task, you might want to automate some other kind of text manipulation, such as removing trailing spaces from the end of lines or converting text to uppercase or lowercase. Whatever your needs, you can use the clipboard for input and output."
   ]
  },
  {
   "cell_type": "markdown",
   "metadata": {},
   "source": [
    "# A Short Program: Pig Latin\n",
    "\n",
    "Pig Latin is a silly made-up language that alters English words. If a word begins with a vowel, the word yay is added to the end of it. If a word begins with a consonant or consonant cluster (like ch or gr), that consonant or cluster is moved to the end of the word followed by ay.\n",
    "\n",
    "Let’s write a Pig Latin program that will output something like this:\n",
    "\n",
    "Enter the English message to translate into Pig Latin:\n",
    "My name is AL SWEIGART and I am 4,000 years old.\n",
    "Ymay amenay isyay ALYAY EIGARTSWAY andyay Iyay amyay 4,000 yearsyay oldyay.\n",
    "\n",
    "This program works by altering a string using the methods introduced in this chapter. Type the following source code into the file editor, and save the file as pigLat.py:"
   ]
  },
  {
   "cell_type": "code",
   "execution_count": 4,
   "metadata": {},
   "outputs": [
    {
     "name": "stdout",
     "output_type": "stream",
     "text": [
      "Enter the English message to translate into Pig Latin:\n"
     ]
    },
    {
     "name": "stdout",
     "output_type": "stream",
     "text": [
      "!Esttay\n"
     ]
    }
   ],
   "source": [
    "# English to Pig Latin\n",
    "print('Enter the English message to translate into Pig Latin:')\n",
    "message = input()\n",
    "\n",
    "VOWELS = ('a', 'e', 'i', 'o', 'u', 'y') # tuple of strings\n",
    "\n",
    "pigLatin = [] # Open a list variable to store the pig latin words\n",
    "for word in message.split(): # split the phrase into individual words (a list of strings)\n",
    "    # Separate the non-letters at the start of this word (i.e. punctuation marks):\n",
    "    prefixNonLetters = ''\n",
    "    while len(word) > 0 and not word[0].isalpha(): # While character is not alpha\n",
    "        prefixNonLetters += word[0] # add the non letters to a variable\n",
    "        word = word[1:]\n",
    "    if len(word) == 0:\n",
    "        pigLatin.append(prefixNonLetters) \n",
    "        continue\n",
    "\n",
    "    # Separate the non-letters at the end of this word:\n",
    "    suffixNonLetters = ''\n",
    "    while not word[-1].isalpha(): # while the last character in the word is not alpha\n",
    "        suffixNonLetters = word[-1] + suffixNonLetters # add the non letter to a variable\n",
    "        word = word[:-1]\n",
    "\n",
    "    # Remember if the word was in uppercase or title case.\n",
    "    wasUpper = word.isupper() # evalautes to true or false\n",
    "    wasTitle = word.istitle()\n",
    "\n",
    "    word = word.lower() # Make the word lowercase for translation.\n",
    "\n",
    "    # Separate the consonants at the start of this word:\n",
    "    prefixConsonants = '' # open a new variable for prefix consonants\n",
    "    while len(word) > 0 and not word[0] in VOWELS: # if letter is not in vowels\n",
    "        prefixConsonants += word[0] # append to the veriable\n",
    "        word = word[1:] # move on to the next letter in the word.\n",
    "\n",
    "    # Add the Pig Latin ending to the word:\n",
    "    if prefixConsonants != '': # if prefixConsonants is not blank\n",
    "        word += prefixConsonants + 'ay' # append the consonants and ay at the end of the word.\n",
    "    else:\n",
    "        word += 'yay' # else it starts with a vowel and yay shold be added to the end.\n",
    "\n",
    "    # Set the word back to uppercase or title case:\n",
    "    if wasUpper:\n",
    "        word = word.upper()\n",
    "    if wasTitle:\n",
    "        word = word.title()\n",
    "\n",
    "    # Add the non-letters back to the start or end of the word.\n",
    "    pigLatin.append(prefixNonLetters + word + suffixNonLetters)\n",
    "\n",
    "# Join all the words back together into a single string:\n",
    "print(' '.join(pigLatin))"
   ]
  },
  {
   "cell_type": "markdown",
   "metadata": {},
   "source": [
    "# Practice Projects"
   ]
  },
  {
   "cell_type": "markdown",
   "metadata": {},
   "source": [
    "## Table Printer\n",
    "Write a function named printTable() that takes a list of lists of strings and displays it in a well-organized table with each column right-justified. Assume that all the inner lists will contain the same number of strings. For example, the value could look like this:"
   ]
  },
  {
   "cell_type": "code",
   "execution_count": null,
   "metadata": {},
   "outputs": [
    {
     "name": "stdout",
     "output_type": "stream",
     "text": [
      "['apples', 'oranges', 'cherries', 'banana']\n",
      "apples\n",
      "[6, 0, 0, 0]\n",
      "oranges\n",
      "[6, 7, 0, 0]\n",
      "cherries\n",
      "[6, 7, 8, 0]\n",
      "banana\n",
      "[6, 7, 8, 6]\n",
      "['Alice', 'Bob', 'Carol', 'David']\n",
      "Alice\n",
      "[6, 7, 8, 6]\n",
      "Bob\n",
      "[6, 7, 8, 6]\n",
      "Carol\n",
      "[6, 7, 8, 6]\n",
      "David\n",
      "[6, 7, 8, 6]\n",
      "['dogs', 'cats', 'moose', 'goose']\n",
      "dogs\n",
      "[6, 7, 8, 6]\n",
      "cats\n",
      "[6, 7, 8, 6]\n",
      "moose\n",
      "[6, 7, 8, 6]\n",
      "goose\n",
      "[6, 7, 8, 6]\n",
      "  apples  oranges  cherries  banana\n",
      "   Alice      Bob     Carol   David\n",
      "    dogs     cats     moose   goose\n"
     ]
    }
   ],
   "source": [
    "tableData = [['apples', 'oranges', 'cherries', 'banana'],\n",
    "             ['Alice', 'Bob', 'Carol', 'David'],\n",
    "             ['dogs', 'cats', 'moose', 'goose']]\n",
    "\n",
    "def printTable(data):\n",
    "    # Step 1: Determine the width for each column\n",
    "    \n",
    "    # Initialize a list to hold the maximum width for each column\n",
    "    colWidths = [0] * len(data[0])  # Create a list with the same number of items as columns in the data (each holds 0 for now)\n",
    "    pad = 2  # Add extra space between columns for better readability\n",
    "    \n",
    "    # Iterate over each row in the data\n",
    "    for row in data: # read through the inner lists iteratively (we are calling each inner list a row)\n",
    "        print(row)\n",
    "        for i, item in enumerate(row): # iterate through each string in the list\n",
    "            print(item)\n",
    "            # Update colWidths to the maximum width of items in each column\n",
    "            colWidths[i] = max(colWidths[i], len(item)) # the colWidth at the same index as the item is updated to the current colWidth or len(item), whichever is greater.\n",
    "            print(colWidths)\n",
    "    \n",
    "    # Step 2: Print the table with proper formatting\n",
    "    for row in data:\n",
    "        for i, item in enumerate(row):\n",
    "            # Print each item in the row, right-aligned to the column width plus padding\n",
    "            print(item.rjust(colWidths[i] + pad), end='')  # rjust to right-align the text\n",
    "        print()  # Print a new line after each row to move to the next row\n",
    "\n",
    "# Call the printTable function with tableData to print the formatted table\n",
    "printTable(tableData)\n"
   ]
  }
 ],
 "metadata": {
  "kernelspec": {
   "display_name": "Python 3",
   "language": "python",
   "name": "python3"
  },
  "language_info": {
   "codemirror_mode": {
    "name": "ipython",
    "version": 3
   },
   "file_extension": ".py",
   "mimetype": "text/x-python",
   "name": "python",
   "nbconvert_exporter": "python",
   "pygments_lexer": "ipython3",
   "version": "3.13.1"
  }
 },
 "nbformat": 4,
 "nbformat_minor": 2
}
