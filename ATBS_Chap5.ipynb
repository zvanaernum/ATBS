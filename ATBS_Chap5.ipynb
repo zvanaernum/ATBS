{
 "cells": [
  {
   "cell_type": "markdown",
   "metadata": {},
   "source": [
    "# Chapter 5: Dictionaries and Structuring data"
   ]
  },
  {
   "cell_type": "markdown",
   "metadata": {},
   "source": [
    "## The dictionary data type\n",
    "Like a list, a dictionary is a mutable collection of many values. But unlike indexes for lists, indexes for dictionaries can use many different data types, not just integers. Indexes for dictionaries are called keys, and a key with its associated value is called a key-value pair."
   ]
  },
  {
   "cell_type": "markdown",
   "metadata": {},
   "source": [
    "In code, a dictionary is typed with braces, {}."
   ]
  },
  {
   "cell_type": "code",
   "execution_count": null,
   "metadata": {},
   "outputs": [],
   "source": [
    "myCat = {'size': 'fat', 'color': 'gray', 'disposition': 'loud'}"
   ]
  },
  {
   "cell_type": "markdown",
   "metadata": {},
   "source": [
    "In the above dictionary (myCat), the keys are size, color, and disposition. The values for those keys are fat, gray, and loud.\n",
    "\n",
    "You can access these values by calling the key:"
   ]
  },
  {
   "cell_type": "code",
   "execution_count": null,
   "metadata": {},
   "outputs": [],
   "source": [
    "print (myCat['size'])\n",
    "print('My cat has ' +myCat['color'] + ' fur')"
   ]
  },
  {
   "cell_type": "markdown",
   "metadata": {},
   "source": [
    "Dictionaries can still use integer values as keys, just like lists use integers for indexes, but they do not have to start at 0 and can be any number."
   ]
  },
  {
   "cell_type": "code",
   "execution_count": null,
   "metadata": {},
   "outputs": [],
   "source": [
    "spam = {12345: 'Luggage Combination', 42: 'The Answer'}\n",
    "print(spam[12345])"
   ]
  },
  {
   "cell_type": "markdown",
   "metadata": {},
   "source": [
    "### Dictionaries vs. Lists\n",
    "Unlike lists, items in dictionaries are unordered. The first item in a list named spam would be spam[0]. But there is no “first” item in a dictionary. While the order of items matters for determining whether two lists are the same, it does not matter in what order the key-value pairs are typed in a dictionary. The lists below are not considered the same (evaluates to False), but the two dictionaries are (evaluate to True)"
   ]
  },
  {
   "cell_type": "code",
   "execution_count": null,
   "metadata": {},
   "outputs": [],
   "source": [
    "spam = ['cats', 'dogs', 'moose']\n",
    "bacon = ['dogs', 'moose', 'cats']\n",
    "print(spam == bacon)\n",
    "\n",
    "eggs = {'name': 'Zophie', 'species': 'cat', 'age': '8'}\n",
    "ham = {'species': 'cat', 'age': '8', 'name': 'Zophie'}\n",
    "print(eggs == ham)"
   ]
  },
  {
   "cell_type": "markdown",
   "metadata": {},
   "source": [
    "Because dictionaries are not ordered, they can’t be sliced like lists.\n",
    "\n",
    "Trying to access a key that does not exist in a dictionary will result in a KeyError error message, much like a list’s “out-of-range” IndexError error message. Enter the following into the interactive shell, and notice the error message that shows up because there is no 'color' key:"
   ]
  },
  {
   "cell_type": "code",
   "execution_count": null,
   "metadata": {},
   "outputs": [],
   "source": [
    "spam = {'name': 'Zophie', 'age': 7}\n",
    "print(spam['color'])"
   ]
  },
  {
   "cell_type": "markdown",
   "metadata": {},
   "source": [
    "Though dictionaries are not ordered, the fact that you can have arbitrary values for the keys allows you to organize your data in powerful ways. Say you wanted your program to store data about your friends’ birthdays. You can use a dictionary with the names as keys and the birthdays as values."
   ]
  },
  {
   "cell_type": "code",
   "execution_count": null,
   "metadata": {},
   "outputs": [],
   "source": [
    "birthdays = {'Alice': 'Apr 1', 'Bob': 'Dec 12', 'Carol': 'Mar 4'}\n",
    "\n",
    "while True:\n",
    "    print('Enter a name: (blank to quit)')\n",
    "    name = input()\n",
    "    if name == '':\n",
    "           break\n",
    "\n",
    "    if name in birthdays:\n",
    "        print(birthdays[name] + ' is the birthday of ' + name)\n",
    "    else:\n",
    "        print('I do not have birthday information for ' + name)\n",
    "        print('What is their birthday?')\n",
    "        bday = input()\n",
    "        birthdays[name] = bday\n",
    "        print('Birthday database updated.')"
   ]
  },
  {
   "cell_type": "markdown",
   "metadata": {},
   "source": [
    "You create an initial dictionary and store it in birthdays ➊. You can see if the entered name exists as a key in the dictionary with the in keyword ➋, just as you did for lists. If the name is in the dictionary, you access the associated value using square brackets ➌; if not, you can add it using the same square bracket syntax combined with the assignment operator ➍\n",
    "\n",
    "Not sure I understand how the new values and keys are being added to the list. Why does the assignmnent operator work like this for dictionaries?"
   ]
  },
  {
   "cell_type": "markdown",
   "metadata": {},
   "source": [
    "### Ordered Dictionaries in Python 3.7 +\n",
    "While they’re still not ordered and have no “first” key-value pair, dictionaries in Python 3.7 and later will remember the insertion order of their key-value pairs if you create a sequence value from them. For example, notice the order of items in the lists made from the eggs and ham dictionaries matches the order in which they were entered\n",
    "\n",
    "It seems when you convert these to lists they only print the key?"
   ]
  },
  {
   "cell_type": "code",
   "execution_count": null,
   "metadata": {},
   "outputs": [],
   "source": [
    "eggs = {'name': 'Zophie', 'species': 'cat', 'age': '8'}\n",
    "print(list(eggs))\n",
    "\n",
    "ham = {'species': 'cat', 'age': '8', 'name': 'Zophie'}\n",
    "print(list(ham))"
   ]
  },
  {
   "cell_type": "markdown",
   "metadata": {},
   "source": [
    "### The keys(), values(), and items() Methods\n",
    "There are three dictionary methods that will return list-like values of the dictionary’s keys, values, or both keys and values: keys(), values(), and items(). The values returned by these methods are not true lists: they cannot be modified and do not have an append() method. But these data types (dict_keys, dict_values, and dict_items, respectively) can be used in for loops. Here, a for loop iterates over each of the values in the spam dictionary. A for loop can also iterate over the keys or both keys, values and items (both keys nad values)."
   ]
  },
  {
   "cell_type": "code",
   "execution_count": null,
   "metadata": {},
   "outputs": [],
   "source": [
    "spam = {'color': 'red', 'age': 42}\n",
    "for v in spam.values():\n",
    "    print(v)\n",
    "print('\\n')\n",
    "\n",
    "for k in spam.keys():\n",
    "    print(k)\n",
    "print('\\n')\n",
    "\n",
    "for i in spam.items():\n",
    "    print(i)"
   ]
  },
  {
   "cell_type": "markdown",
   "metadata": {},
   "source": [
    "When you use the keys(), values(), and items() methods, a for loop can iterate over the keys, values, or key-value pairs in a dictionary, respectively. Notice that the values in the dict_items value returned by the items() method are tuples of the key and value."
   ]
  },
  {
   "cell_type": "markdown",
   "metadata": {},
   "source": [
    "If you want a true list from one of these methods, pass its list-like return values (dict_keys, dict_values, and dict_items) to the list() function.\n",
    "\n",
    "The list(spam.keys()) line takes the dict_keys value returned from the keys() method and passes it to list(), which then returns a list value of ['color', 'age']."
   ]
  },
  {
   "cell_type": "code",
   "execution_count": null,
   "metadata": {},
   "outputs": [],
   "source": [
    "spam = {'color': 'red', 'age': 42}\n",
    "print(spam.keys())  ## this is the list-like return value from the keys() method but its not actually a list\n",
    "\n",
    "print(list(spam.keys())) # The lists() function can convert the return value to a true list."
   ]
  },
  {
   "cell_type": "markdown",
   "metadata": {},
   "source": [
    "You can also use the multiple assignment trick in a for loop to assign the key and value to separate variables."
   ]
  },
  {
   "cell_type": "code",
   "execution_count": null,
   "metadata": {},
   "outputs": [],
   "source": [
    "spam = {'color': 'red', 'age': 42}\n",
    "for k, v in spam.items(): #using multiple assignment in the for loop assigns the key and value separately.\n",
    "    print('Key: ' + k + ' Value: ' + str(v))\n",
    "\n",
    "print('\\n')\n",
    "\n",
    "for i in spam.items(): # Using only one assignment in a for loop prints the key value pair\n",
    "    print(i)\n",
    "\n"
   ]
  },
  {
   "cell_type": "markdown",
   "metadata": {},
   "source": [
    "### Checking whether a Key or Value Exist in a Dictionary\n",
    "Recall from the previous chapter that the in and not in operators can check whether a value exists in a list. You can also use these operators to see whether a certain key or value exists in a dictionary."
   ]
  },
  {
   "cell_type": "code",
   "execution_count": null,
   "metadata": {},
   "outputs": [],
   "source": [
    "spam = {'name': 'Zophie', 'age': 7}\n",
    "\n",
    "print('name' in spam.keys())\n",
    "\n",
    "print('Zophie' in spam.values())\n",
    "\n",
    "print('color' in spam.keys())\n",
    "\n",
    "print('color' not in spam.keys())\n",
    "\n",
    "print('name' in spam) #Note this shorthand only works for keys not values."
   ]
  },
  {
   "cell_type": "markdown",
   "metadata": {},
   "source": [
    "### The get() Method\n",
    "It’s tedious to check whether a key exists in a dictionary before accessing that key’s value. Fortunately, dictionaries have a get() method that takes two arguments: the key of the value to retrieve and a fallback value to return if that key does not exist."
   ]
  },
  {
   "cell_type": "code",
   "execution_count": null,
   "metadata": {},
   "outputs": [],
   "source": [
    "picnicItems = {'apples': 5, 'cups': 2}\n",
    "\n",
    "print(picnicItems.get('cups', 0)) # returns 2\n",
    "print(picnicItems.get('eggs', 0)) # returns fallback 0 because it does not exists in dictionary\n",
    "\n",
    "print('I am bringing ' + str(picnicItems.get('cups', 0)) + ' cups.')"
   ]
  },
  {
   "cell_type": "markdown",
   "metadata": {},
   "source": [
    "### The setdefault() Method\n",
    "You’ll often have to set a value in a dictionary for a certain key only if that key does not already have a value. This is the line way to do it:"
   ]
  },
  {
   "cell_type": "code",
   "execution_count": null,
   "metadata": {},
   "outputs": [],
   "source": [
    "spam = {'name': 'Pooka', 'age': 5}\n",
    "if 'color' not in spam:\n",
    "    spam['color'] = 'black'\n",
    "\n",
    "print(spam)"
   ]
  },
  {
   "cell_type": "markdown",
   "metadata": {},
   "source": [
    "The setdefault() method offers a way to do this in one line of code. The first argument passed to the method is the key to check for, and the second argument is the value to set at that key if the key does not exist. If the key does exist, the setdefault() method returns the key’s value. "
   ]
  },
  {
   "cell_type": "code",
   "execution_count": null,
   "metadata": {},
   "outputs": [],
   "source": [
    "spam = {'name': 'Pooka', 'age': 5}\n",
    "spam.setdefault('color', 'black')\n",
    "print(spam)\n",
    "\n",
    "spam.setdefault('color', 'white') # already exists so wont overwrite, but will return existing value."
   ]
  },
  {
   "cell_type": "markdown",
   "metadata": {},
   "source": [
    "The setdefault() method is a nice shortcut to ensure that a key exists. Here is a short program that counts the number of occurrences of each letter in a string."
   ]
  },
  {
   "cell_type": "code",
   "execution_count": null,
   "metadata": {},
   "outputs": [],
   "source": [
    "message = 'It was a bright cold day in April, and the clocks were striking thirteen.' # remember a string is like a list and can be indexed/iterated through\n",
    "count = {}\n",
    "\n",
    "for character in message:\n",
    "    count.setdefault(character, 0) # Check if character is in count dictionary, if not add a zero (fallback value)\n",
    "    count[character] = count[character] + 1 # Update the value for that specific letter index to +1\n",
    "\n",
    "print(count)  "
   ]
  },
  {
   "cell_type": "markdown",
   "metadata": {},
   "source": [
    "## Pretty Printing\n",
    "If you import the pprint module into your programs, you’ll have access to the pprint() and pformat() functions that will “pretty print” a dictionary’s values. This is helpful when you want a cleaner display of the items in a dictionary than what print() provides."
   ]
  },
  {
   "cell_type": "code",
   "execution_count": null,
   "metadata": {},
   "outputs": [],
   "source": [
    "import pprint\n",
    "message = 'It was a bright cold day in April, and the clocks were striking thirteen.'\n",
    "count = {}\n",
    "\n",
    "for character in message:\n",
    "    count.setdefault(character, 0)\n",
    "    count[character] = count[character] + 1\n",
    "\n",
    "pprint.pprint(count)"
   ]
  },
  {
   "cell_type": "markdown",
   "metadata": {},
   "source": [
    "## Using Data Structures to Model Real-World Things\n",
    "Even before the internet, it was possible to play a game of chess with someone on the other side of the world. Each player would set up a chessboard at their home and then take turns mailing a postcard to each other describing each move. To do this, the players needed a way to unambiguously describe the state of the board and their moves.\n",
    "\n",
    "In algebraic chess notation, the spaces on the chessboard are identified by a number and letter coordinate\n",
    "\n",
    "The chess pieces are identified by letters: K for king, Q for queen, R for rook, B for bishop, and N for knight. Describing a move uses the letter of the piece and the coordinates of its destination. A pair of these moves describes what happens in a single turn (with white going first); for instance, the notation 2. Nf3 Nc6 indicates that white moved a knight to f3 and black moved a knight to c6 on the second turn of the game.\n",
    "\n",
    "There’s a bit more to algebraic notation than this, but the point is that you can unambiguously describe a game of chess without needing to be in front of a chessboard. Your opponent can even be on the other side of the world! In fact, you don’t even need a physical chess set if you have a good memory: you can just read the mailed chess moves and update boards you have in your imagination.\n",
    "\n",
    "Computers have good memories. A program on a modern computer can easily store billions of strings like '2. Nf3 Nc6'. This is how computers can play chess without having a physical chessboard. They model data to represent a chessboard, and you can write code to work with this model.\n",
    "\n",
    "This is where lists and dictionaries can come in. For example, the dictionary {'1h': 'bking', '6c': 'wqueen', '2g': 'bbishop', '5h': 'bqueen', '3e': 'wking'} could represent the chess board in Figure 5-2. But for another example, you’ll use a game that’s a little simpler than chess: tic-tac-toe."
   ]
  },
  {
   "cell_type": "markdown",
   "metadata": {},
   "source": [
    "### A Tic-Tac-Toe Board\n",
    "A tic-tac-toe board looks like a large hash symbol (#) with nine slots that can each contain an X, an O, or a blank. To represent the board with a dictionary, you can assign each slot a string-value key, as shown in Figure 5-3\n",
    "\n",
    "You can use string values to represent what’s in each slot on the board: 'X', 'O', or ' ' (a space). Thus, you’ll need to store nine strings. You can use a dictionary of values for this. The string value with the key 'top-R' can represent the top-right corner, the string value with the key 'low-L' can represent the bottom-left corner, the string value with the key 'mid-M' can represent the middle, and so on.\n",
    "\n",
    "This dictionary is a data structure that represents a tic-tac-toe board. Store this board-as-a-dictionary in a variable named theBoard. Open a new file editor window, and enter the following source code"
   ]
  },
  {
   "cell_type": "code",
   "execution_count": null,
   "metadata": {},
   "outputs": [],
   "source": [
    "# Initializin the empty board as a dictionary of string keys with empty values\n",
    "theBoard = {'top-L': ' ', 'top-M': ' ', 'top-R': ' ',\n",
    "            'mid-L': ' ', 'mid-M': ' ', 'mid-R': ' ',\n",
    "            'low-L': ' ', 'low-M': ' ', 'low-R': ' '}"
   ]
  },
  {
   "cell_type": "markdown",
   "metadata": {},
   "source": [
    "Since the value for every key in theBoard is a single-space string, this dictionary represents a completely clear board. If player X went first and chose the middle space, you could represent that board with this dictionary:"
   ]
  },
  {
   "cell_type": "code",
   "execution_count": null,
   "metadata": {},
   "outputs": [],
   "source": [
    "theBoard = {'top-L': ' ', 'top-M': ' ', 'top-R': ' ',\n",
    "            'mid-L': ' ', 'mid-M': 'X', 'mid-R': ' ',\n",
    "            'low-L': ' ', 'low-M': ' ', 'low-R': ' '}"
   ]
  },
  {
   "cell_type": "markdown",
   "metadata": {},
   "source": [
    "A board where player O has won by placing Os across the top might look like this:"
   ]
  },
  {
   "cell_type": "code",
   "execution_count": null,
   "metadata": {},
   "outputs": [],
   "source": [
    "theBoard = {'top-L': 'O', 'top-M': 'O', 'top-R': 'O',\n",
    "            'mid-L': 'X', 'mid-M': 'X', 'mid-R': ' ',\n",
    "            'low-L': ' ', 'low-M': ' ', 'low-R': 'X'}"
   ]
  },
  {
   "cell_type": "markdown",
   "metadata": {},
   "source": [
    "Of course, the player sees only what is printed to the screen, not the contents of variables. Let’s create a function to print the board dictionary onto the screen. "
   ]
  },
  {
   "cell_type": "code",
   "execution_count": null,
   "metadata": {},
   "outputs": [],
   "source": [
    "# Setting and printing out a blank board:\n",
    "theBoard = {'top-L': ' ', 'top-M': ' ', 'top-R': ' ',\n",
    "            'mid-L': ' ', 'mid-M': ' ', 'mid-R': ' ',\n",
    "            'low-L': ' ', 'low-M': ' ', 'low-R': ' '}\n",
    "def printBoard(board):\n",
    "    print(board['top-L'] + '|' + board['top-M'] + '|' + board['top-R'])\n",
    "    print('-+-+-')\n",
    "    print(board['mid-L'] + '|' + board['mid-M'] + '|' + board['mid-R'])\n",
    "    print('-+-+-')\n",
    "    print(board['low-L'] + '|' + board['low-M'] + '|' + board['low-R'])\n",
    "printBoard(theBoard)"
   ]
  },
  {
   "cell_type": "markdown",
   "metadata": {},
   "source": [
    "The printBoard() function can handle any tic-tac-toe data structure you pass it"
   ]
  },
  {
   "cell_type": "code",
   "execution_count": null,
   "metadata": {},
   "outputs": [],
   "source": [
    "theBoard = {'top-L': 'O', 'top-M': 'O', 'top-R': 'O', 'mid-L': 'X', 'mid-M':\n",
    "'X', 'mid-R': ' ', 'low-L': ' ', 'low-M': ' ', 'low-R': 'X'}\n",
    "\n",
    "def printBoard(board):\n",
    "    print(board['top-L'] + '|' + board['top-M'] + '|' + board['top-R'])\n",
    "    print('-+-+-')\n",
    "    print(board['mid-L'] + '|' + board['mid-M'] + '|' + board['mid-R'])\n",
    "    print('-+-+-')\n",
    "    print(board['low-L'] + '|' + board['low-M'] + '|' + board['low-R'])\n",
    "printBoard(theBoard)"
   ]
  },
  {
   "cell_type": "markdown",
   "metadata": {},
   "source": [
    "Now let’s add code that allows the players to enter their moves."
   ]
  },
  {
   "cell_type": "code",
   "execution_count": null,
   "metadata": {},
   "outputs": [],
   "source": [
    "theBoard = {'top-L': ' ', 'top-M': ' ', 'top-R': ' ', 'mid-L': ' ', 'mid-M':\n",
    "' ', 'mid-R': ' ', 'low-L': ' ', 'low-M': ' ', 'low-R': ' '}\n",
    "\n",
    "def printBoard(board):\n",
    "    print(board['top-L'] + '|' + board['top-M'] + '|' + board['top-R'])\n",
    "    print('-+-+-')\n",
    "    print(board['mid-L'] + '|' + board['mid-M'] + '|' + board['mid-R'])\n",
    "    print('-+-+-')\n",
    "    print(board['low-L'] + '|' + board['low-M'] + '|' + board['low-R'])\n",
    "\n",
    "turn = 'X'\n",
    "\n",
    "for i in range(9):\n",
    "    printBoard(theBoard)\n",
    "    print('Turn for ' + turn + '. Move on which space?')\n",
    "    move = input()\n",
    "    theBoard[move] = turn\n",
    "    if turn == 'X':\n",
    "         turn = 'O'\n",
    "    else:\n",
    "         turn = 'X'\n",
    "printBoard(theBoard)"
   ]
  },
  {
   "cell_type": "markdown",
   "metadata": {},
   "source": [
    "### Nested Dictionaries and Lists\n",
    "Modeling a tic-tac-toe board was fairly simple: the board needed only a single dictionary value with nine key-value pairs. As you model more complicated things, you may find you need dictionaries and lists that contain other dictionaries and lists. Lists are useful to contain an ordered series of values, and dictionaries are useful for associating keys with values. For example, here’s a program that uses a dictionary that contains other dictionaries of what items guests are bringing to a picnic. The totalBrought() function can read this data structure and calculate the total number of an item being brought by all the guests."
   ]
  },
  {
   "cell_type": "code",
   "execution_count": null,
   "metadata": {},
   "outputs": [
    {
     "name": "stdout",
     "output_type": "stream",
     "text": [
      "dict_items([('Alice', {'apples': 5, 'pretzels': 12}), ('Bob', {'ham sandwiches': 3, 'apples': 2}), ('Carol', {'cups': 3, 'apple pies': 1})])\n",
      "Number of things being brought:\n",
      " - Apples         7\n",
      " - Cups           3\n",
      " - Cakes          0\n",
      " - Ham Sandwiches 3\n",
      " - Apple Pies     1\n"
     ]
    }
   ],
   "source": [
    "allGuests = {'Alice': {'apples': 5, 'pretzels': 12},\n",
    "             'Bob': {'ham sandwiches': 3, 'apples': 2},\n",
    "             'Carol': {'cups': 3, 'apple pies': 1}}\n",
    "\n",
    "def totalBrought(guests, item): # Define a function with arguments guests and items\n",
    "    numBrought = 0 # Initialize a counter\n",
    "    for k, v in guests.items(): # loop through the dicitonary, k = name, v = dictionary of picnic items\n",
    "        numBrought = numBrought + v.get(item, 0) # checks if item exists in picnic dictionary and count with a fallback of zero.\n",
    "    return numBrought\n",
    "\n",
    "\n",
    "print('Number of things being brought:')\n",
    "print(' - Apples         ' + str(totalBrought(allGuests, 'apples'))) # Run function to iterate through the name dictionaries for item apples.\n",
    "print(' - Cups           ' + str(totalBrought(allGuests, 'cups')))\n",
    "print(' - Cakes          ' + str(totalBrought(allGuests, 'cakes')))\n",
    "print(' - Ham Sandwiches ' + str(totalBrought(allGuests, 'ham sandwiches')))\n",
    "print(' - Apple Pies     ' + str(totalBrought(allGuests, 'apple pies')))"
   ]
  },
  {
   "cell_type": "markdown",
   "metadata": {},
   "source": [
    "## Practice Projects"
   ]
  },
  {
   "cell_type": "markdown",
   "metadata": {},
   "source": [
    "## Chess Dictionary Validator\n",
    "In this chapter, we used the dictionary value {'1h': 'bking', '6c': 'wqueen', '2g': 'bbishop', '5h': 'bqueen', '3e': 'wking'} to represent a chess board. Write a function named isValidChessBoard() that takes a dictionary argument and returns True or False depending on if the board is valid.\n",
    "\n",
    "A valid board will have exactly one black king and exactly one white king. Each player can only have at most 16 pieces, at most 8 pawns, and all pieces must be on a valid space from '1a' to '8h'; that is, a piece can’t be on space '9z'. The piece names begin with either a 'w' or 'b' to represent white or black, followed by 'pawn', 'knight', 'bishop', 'rook', 'queen', or 'king'. This function should detect when a bug has resulted in an improper chess board."
   ]
  },
  {
   "cell_type": "code",
   "execution_count": null,
   "metadata": {},
   "outputs": [
    {
     "data": {
      "text/plain": [
       "'Invalid number of white kings on the board'"
      ]
     },
     "execution_count": 17,
     "metadata": {},
     "output_type": "execute_result"
    }
   ],
   "source": [
    "validBoard = {\n",
    "    '1a': 'brook', '1b': 'bknight', '1c': 'bbishop', '1d': 'bqueen', \n",
    "    '1e': 'bking', '1f': 'bbishop', '1g': 'bknight', '1h': 'brook',\n",
    "    '2a': 'bpawn', '2b': 'bpawn', '2c': 'bpawn', '2d': 'bpawn', \n",
    "    '2e': 'bpawn', '2f': 'bpawn', '2g': 'bpawn', '2h': 'bpawn',\n",
    "    '8a': 'wrook', '8b': 'wknight', '8c': 'wbishop', '8d': 'wqueen', \n",
    "    '8e': 'wking', '8f': 'wbishop', '8g': 'wknight', '8h': 'wrook',\n",
    "    '7a': 'wpawn', '7b': 'wpawn', '7c': 'wpawn', '7d': 'wpawn', \n",
    "    '7e': 'wpawn', '7f': 'wpawn', '7g': 'wpawn', '7h': 'wpawn'\n",
    "}\n",
    "\n",
    "tooManyWhite = {\n",
    "    '1h': 'wking', '6c': 'wqueen', '2g': 'wbishop', '5h': 'wqueen', \n",
    "    '3e': 'wbishop', '1a': 'wrook', '1b': 'wrook', '1c': 'wrook', \n",
    "    '2a': 'wpawn', '2b': 'wpawn', '2c': 'wpawn', '2d': 'wpawn', \n",
    "    '2e': 'wpawn', '2f': 'wpawn', '2h': 'wpawn', '3a': 'wpawn',\n",
    "    '3b': 'wpawn'  # This extra pawn makes it more than the allowed 16 white pieces.\n",
    "}\n",
    "\n",
    "tooManyBlack = {\n",
    "    '1h': 'bking', '6c': 'bqueen', '2g': 'bbishop', '5h': 'bqueen', \n",
    "    '3e': 'bbishop', '8a': 'brook', '8b': 'brook', '8c': 'brook', \n",
    "    '7a': 'bpawn', '7b': 'bpawn', '7c': 'bpawn', '7d': 'bpawn', \n",
    "    '7e': 'bpawn', '7f': 'bpawn', '7g': 'bpawn', '7h': 'bpawn',\n",
    "    '6a': 'bpawn'  # This extra pawn makes it more than the allowed 16 black pieces.\n",
    "}\n",
    "\n",
    "invalidPosition = {\n",
    "    '1a': 'brook', '1b': 'bknight', '1c': 'bbishop', '1d': 'bqueen', \n",
    "    '1e': 'bking', '1f': 'bbishop', '1g': 'bknight', '1h': 'brook',\n",
    "    '2a': 'bpawn', '2b': 'bpawn', '2c': 'bpawn', '2d': 'bpawn', \n",
    "    '2e': 'bpawn', '2f': 'bpawn', '2g': 'bpawn', '2h': 'bpawn',\n",
    "    '9a': 'wpawn'  # Invalid position '9a'\n",
    "}\n",
    "\n",
    "invalidWhiteKings = {\n",
    "    '1a': 'brook', '1b': 'bknight', '1c': 'bbishop', '1d': 'bqueen', \n",
    "    '1e': 'bking', '1f': 'bbishop', '1g': 'bknight', '1h': 'brook',\n",
    "    '2a': 'bpawn', '2b': 'bpawn', '2c': 'bpawn', '2d': 'bpawn', \n",
    "    '2e': 'bpawn', '2f': 'bpawn', '2g': 'bpawn', '2h': 'bpawn',\n",
    "    '8e': 'wking', '8d': 'wking'  # Two white kings\n",
    "}\n",
    "\n",
    "invalidPieceType = {\n",
    "    '1a': 'brook', '1b': 'bknight', '1c': 'bbishop', '1d': 'bqueen', \n",
    "    '1e': 'bking', '1f': 'bbishop', '1g': 'bknight', '1h': 'brook',\n",
    "    '2a': 'bpawn', '2b': 'bpawn', '2c': 'bpawn', '2d': 'bpawn', \n",
    "    '2e': 'bpawn', '2f': 'bpawn', '2g': 'bpawn', '2h': 'bpawn',\n",
    "    '7a': 'wpawn', '8b': 'wprince'  # 'wprince' is an invalid piece type\n",
    "}\n",
    "\n",
    "invalidWhitePawns = {\n",
    "    '1a': 'brook', '1b': 'bknight', '1c': 'bbishop', '1d': 'bqueen', \n",
    "    '1e': 'bking', '1f': 'bbishop', '1g': 'bknight', '1h': 'brook',\n",
    "    '2a': 'bpawn', '2b': 'bpawn', '2c': 'bpawn', '2d': 'bpawn', \n",
    "    '2e': 'bpawn', '2f': 'bpawn', '2g': 'bpawn', '2h': 'bpawn',\n",
    "    '7a': 'wpawn', '7b': 'wpawn', '7c': 'wpawn', '7d': 'wpawn', \n",
    "    '7e': 'wpawn', '7f': 'wpawn', '7g': 'wpawn', '7h': 'wpawn',\n",
    "    '6a': 'wpawn'  # This extra pawn makes it 9 white pawns\n",
    "}\n",
    "\n",
    "\n",
    "def validPieceNames(board):\n",
    "    # Define a list of valid piece names\n",
    "    validPieces = ['king', 'queen', 'rook', 'bishop', 'knight', 'pawn']\n",
    "\n",
    "    # Iterate over each piece on the board\n",
    "    for piece in board.values():\n",
    "        # Check if the piece starts with 'w' or 'b'\n",
    "        if piece [0] in ['w', 'b']:\n",
    "            # Extract the piece type (everything after the first character)\n",
    "            pieceType = piece[1:]\n",
    "            # Check if the piece type is in the list of valid pieces\n",
    "            if pieceType in validPieces:\n",
    "                continue # Piece name is valid, move to next phase\n",
    "            else:\n",
    "                return 'Invalid piece type found: ' + piece\n",
    "        else:\n",
    "            return 'Invalid piece type found: ' + piece\n",
    "    return True # All pieces are valid\n",
    "\n",
    "def posValid(board):\n",
    "    for position in board.keys():\n",
    "        row = position[0] # index 0 in the key represents the numeric row\n",
    "        column = position[1] # index 1 in the key represents the alphabetical column\n",
    "\n",
    "        # Check if row is within 1-8 and column is within a-h\n",
    "        if row in '12345678' and column in 'abcdefgh':\n",
    "            continue\n",
    "        else:\n",
    "            return position + ' Is not a valid position'\n",
    "    return True\n",
    "\n",
    "def tooManyPieces(board):\n",
    "    b = 0\n",
    "    w = 0\n",
    "    for piece in board.values():\n",
    "        if piece[0] == 'b':\n",
    "            b +=1\n",
    "        elif piece[0] == 'w':\n",
    "            w +=1\n",
    "    if b > 16:\n",
    "        return 'Too many black pieces on the board'\n",
    "    if w > 16:\n",
    "        return 'Too many white pieces on the board' \n",
    "    return True   \n",
    "\n",
    "def tooManyKings(board):\n",
    "    b = 0\n",
    "    w = 0\n",
    "    for piece in board.values():\n",
    "        if piece[0] =='b' and 'king' in piece:\n",
    "            b +=1\n",
    "        elif piece[0] == 'w' and 'king' in piece:\n",
    "            w += 1\n",
    "    if b != 1:\n",
    "        return 'Invalid number of black kings on the board'\n",
    "    if w != 1:\n",
    "        return 'Invalid number of white kings on the board'\n",
    "    return True\n",
    "\n",
    "def tooManyQueens(board):\n",
    "    b = 0\n",
    "    w = 0\n",
    "    for piece in board.values():\n",
    "        if piece[0] =='b' and 'queen' in piece:\n",
    "            b +=1\n",
    "        elif piece[0] == 'w' and 'queen' in piece:\n",
    "            w += 1\n",
    "    if b > 1:\n",
    "        return 'Too many black queens on the board'\n",
    "    if w > 1:\n",
    "        return 'Too many white queens on the board'\n",
    "    return True\n",
    "\n",
    "def tooManyRooks(board):\n",
    "    b = 0\n",
    "    w = 0\n",
    "    for piece in board.values():\n",
    "        if piece[0] =='b' and 'rook' in piece:\n",
    "            b +=1\n",
    "        elif piece[0] == 'w' and 'rook' in piece:\n",
    "            w += 1\n",
    "    if b > 2:\n",
    "        return 'Too many black rooks on the board'\n",
    "    if w > 2:\n",
    "        return 'Too many white rooks on the board'\n",
    "    return True\n",
    "\n",
    "def tooManyBishops(board):\n",
    "    b = 0\n",
    "    w = 0\n",
    "    for piece in board.values():\n",
    "        if piece[0] =='b' and 'bishop' in piece:\n",
    "            b +=1\n",
    "        elif piece[0] == 'w' and 'bishop' in piece:\n",
    "            w += 1\n",
    "    if b > 2:\n",
    "        return 'Too many black bishops on the board'\n",
    "    if w > 2:\n",
    "        return 'Too many white bishops on the board'\n",
    "    return True\n",
    "\n",
    "def tooManyKnights(board):\n",
    "    b = 0\n",
    "    w = 0\n",
    "    for piece in board.values():\n",
    "        if piece[0] =='b' and 'knight' in piece:\n",
    "            b +=1\n",
    "        elif piece[0] == 'w' and 'knight' in piece:\n",
    "            w += 1\n",
    "    if b > 2:\n",
    "        return 'Too many black knights on the board'\n",
    "    if w > 2:\n",
    "        return 'Too many white knights on the board'\n",
    "    return True\n",
    "\n",
    "def tooManyPawns(board):\n",
    "    b = 0\n",
    "    w = 0\n",
    "    for piece in board.values():\n",
    "        if piece[0] =='b' and 'pawn' in piece:\n",
    "            b +=1\n",
    "        elif piece[0] == 'w' and 'pawn' in piece:\n",
    "            w += 1\n",
    "    if b > 8:\n",
    "        return 'Too many black pawns on the board'\n",
    "    if w > 8:\n",
    "        return 'Too many white pawns on the board'\n",
    "    return True\n",
    "\n",
    "def isValidChessBoard(board):\n",
    "    # Call each validation function and capture the result\n",
    "    result = validPieceNames(board)\n",
    "    if result != True:\n",
    "        return result\n",
    "    \n",
    "    result = posValid(board)\n",
    "    if result != True:\n",
    "        return result\n",
    "    \n",
    "    result = tooManyPieces(board)\n",
    "    if result != True:\n",
    "        return result\n",
    "    \n",
    "    result = tooManyKings(board)\n",
    "    if result != True:\n",
    "        return result\n",
    "    \n",
    "    result = tooManyQueens(board)\n",
    "    if result != True:\n",
    "        return result\n",
    "    \n",
    "    result = tooManyRooks(board)\n",
    "    if result != True:\n",
    "        return result\n",
    "    \n",
    "    result = tooManyBishops(board)\n",
    "    if result != True:\n",
    "        return result\n",
    "    \n",
    "    result = tooManyKnights(board)\n",
    "    if result != True:\n",
    "        return result\n",
    "    \n",
    "    result = tooManyPawns(board)\n",
    "    if result != True:\n",
    "        return result\n",
    "    \n",
    "    # If all checks pass, the board is valid\n",
    "    return \"The chessboard is valid\"\n",
    "\n",
    "isValidChessBoard(invalidWhitePawns)\n"
   ]
  },
  {
   "cell_type": "markdown",
   "metadata": {},
   "source": [
    "### Fantasy Game Inventory\n",
    "You are creating a fantasy video game. The data structure to model the player’s inventory will be a dictionary where the keys are string values describing the item in the inventory and the value is an integer value detailing how many of that item the player has. For example, the dictionary value {'rope': 1, 'torch': 6, 'gold coin': 42, 'dagger': 1, 'arrow': 12} means the player has 1 rope, 6 torches, 42 gold coins, and so on.\n",
    "\n",
    "Write a function named displayInventory() that would take any possible “inventory” and display it like the following:\n",
    "\n",
    "Inventory:\n",
    "12 arrow\n",
    "42 gold coin\n",
    "1 rope\n",
    "6 torch\n",
    "1 dagger\n",
    "Total number of items: 62"
   ]
  }
 ],
 "metadata": {
  "kernelspec": {
   "display_name": "Python 3",
   "language": "python",
   "name": "python3"
  },
  "language_info": {
   "codemirror_mode": {
    "name": "ipython",
    "version": 3
   },
   "file_extension": ".py",
   "mimetype": "text/x-python",
   "name": "python",
   "nbconvert_exporter": "python",
   "pygments_lexer": "ipython3",
   "version": "3.13.1"
  }
 },
 "nbformat": 4,
 "nbformat_minor": 2
}
